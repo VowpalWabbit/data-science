{
 "cells": [
  {
   "cell_type": "code",
   "execution_count": 1,
   "metadata": {},
   "outputs": [],
   "source": [
    "files = ['/Users/alextaim/data/ccb/original/01.json']"
   ]
  },
  {
   "cell_type": "code",
   "execution_count": 2,
   "metadata": {},
   "outputs": [
    {
     "output_type": "display_data",
     "data": {
      "text/plain": "HBox(children=(HTML(value='Total'), FloatProgress(value=0.0, max=1.0), HTML(value='')))",
      "application/vnd.jupyter.widget-view+json": {
       "version_major": 2,
       "version_minor": 0,
       "model_id": "c492948474f1492892f7d2e2d5ab1bfa"
      }
     },
     "metadata": {}
    },
    {
     "output_type": "display_data",
     "data": {
      "text/plain": "HBox(children=(HTML(value=''), FloatProgress(value=0.0, max=1.0), HTML(value='')))",
      "application/vnd.jupyter.widget-view+json": {
       "version_major": 2,
       "version_minor": 0,
       "model_id": "3ce9ffa6c4fc453a976f44831d6fbf27"
      }
     },
     "metadata": {}
    },
    {
     "output_type": "execute_result",
     "data": {
      "text/plain": [
       "['/Users/alextaim/data/.vw_cache/cache-p/f70c85ace19b22cd7f9b7d447761ecf0']"
      ]
     },
     "metadata": {},
     "execution_count": 2
    }
   ],
   "source": [
    "from VwPipeline import Loggers, Handlers\n",
    "from VwPipeline.VwCache import VwCache\n",
    "from VwPipeline.Vw import Vw\n",
    "from VwPipeline.VwOpts import dimension, product\n",
    "import pandas as pd\n",
    "\n",
    "#your vw path\n",
    "vw_path = r'vw'\n",
    "\n",
    "cache = VwCache(r'/Users/alextaim/data/.vw_cache')\n",
    "vw = Vw(\n",
    "    vw_path,\n",
    "    cache,\n",
    "    handlers=[Handlers.WidgetHandler()],\n",
    "    )\n",
    "\n",
    "opts = pd.DataFrame(product(\n",
    "    dimension('#base', ['--ccb_explore_adf --dsjson --compressed --synthcover --power_t 0  -P 1 --preserve_performance_counters --save_resume']),\n",
    "))\n",
    "preds = vw.train(files, opts, ['-p'])\n",
    "prediction_files = preds.iloc[0]['!Outputs']['-p']\n",
    "prediction_files"
   ]
  },
  {
   "cell_type": "code",
   "execution_count": 3,
   "metadata": {},
   "outputs": [
    {
     "output_type": "error",
     "ename": "IndentationError",
     "evalue": "expected an indented block (<ipython-input-3-18f64898fe11>, line 6)",
     "traceback": [
      "\u001b[0;36m  File \u001b[0;32m\"<ipython-input-3-18f64898fe11>\"\u001b[0;36m, line \u001b[0;32m6\u001b[0m\n\u001b[0;31m    class CcbPredictions:\u001b[0m\n\u001b[0m                         ^\u001b[0m\n\u001b[0;31mIndentationError\u001b[0m\u001b[0;31m:\u001b[0m expected an indented block\n"
     ]
    }
   ],
   "source": [
    "def ccb_predictions(files, index = 't'):\n",
    "    for f in files:\n",
    "        for l in open(f):\n",
    "\n",
    "\n",
    "class CcbPredictions:\n",
    "    def __init__(self, files, index='t'):\n",
    "        self.files = files\n",
    "        self.index = index\n",
    "        \n",
    "    def iter_slots(self):\n",
    "        result = {}\n",
    "        for f in files:\n",
    "            for l in open(f):\n",
    "                o = json.loads(l)\n",
    "                for \n",
    "                    yield result"
   ]
  },
  {
   "cell_type": "markdown",
   "metadata": {},
   "source": [
    "# Usage"
   ]
  },
  {
   "cell_type": "markdown",
   "metadata": {},
   "source": [
    "## Generate slim dsjson"
   ]
  },
  {
   "cell_type": "code",
   "execution_count": null,
   "metadata": {},
   "outputs": [],
   "source": [
    "from Pipeline.ccb.dsjson import processor"
   ]
  },
  {
   "cell_type": "code",
   "execution_count": 5,
   "metadata": {},
   "outputs": [
    {
     "output_type": "execute_result",
     "data": {
      "text/plain": [
       "['/Users/alextaim/data/ccb/slim/01.json']"
      ]
     },
     "metadata": {},
     "execution_count": 5
    }
   ],
   "source": [
    "from Pipeline.dataflow import FilesPipeline\n",
    "from Pipeline.ccb.dsjson.processor import Processor\n",
    "\n",
    "processor = Processor()\n",
    "pipeline = FilesPipeline()\n",
    "\n",
    "slim = pipeline.lines_2_lines(files, processor.process, path_gen=lambda p: p.replace('original', 'slim'), process=True)\n",
    "slim"
   ]
  },
  {
   "cell_type": "markdown",
   "metadata": {},
   "source": [
    "## Sample"
   ]
  },
  {
   "cell_type": "code",
   "execution_count": 6,
   "metadata": {},
   "outputs": [
    {
     "output_type": "execute_result",
     "data": {
      "text/plain": [
       "['/Users/alextaim/data/ccb/sample/01.json']"
      ]
     },
     "metadata": {},
     "execution_count": 6
    }
   ],
   "source": [
    "from Pipeline.dataflow import FilesPipeline\n",
    "from Pipeline.ccb.dsjson.processor import Processor\n",
    "from Pipeline.filters import UniformSampler\n",
    "\n",
    "sampler = UniformSampler(0.5)\n",
    "\n",
    "processor = Processor(filters=[lambda l: sampler.do(l)])\n",
    "result = pipeline.lines_2_lines(files, processor.process, path_gen=lambda p: p.replace('original', 'sample'), process=True)\n",
    "result"
   ]
  },
  {
   "cell_type": "markdown",
   "metadata": {},
   "source": [
    "## Predict"
   ]
  },
  {
   "cell_type": "code",
   "execution_count": 7,
   "metadata": {},
   "outputs": [
    {
     "output_type": "execute_result",
     "data": {
      "text/plain": [
       "['/Users/alextaim/data/ccb/predict/01.json']"
      ]
     },
     "metadata": {},
     "execution_count": 7
    }
   ],
   "source": [
    "from Pipeline.dataflow import FilesPipeline\n",
    "from Pipeline.ccb.dsjson.predictions import Predictor\n",
    "\n",
    "predictor = Predictor(filters=[lambda l: True])\n",
    "pipeline = FilesPipeline()\n",
    "cfe = pipeline.lines_2_lines(slim, predictor.predict, path_gen=lambda p: p.replace('slim', 'predict'), process=True)\n",
    "cfe"
   ]
  },
  {
   "source": [
    "# Preestimate"
   ],
   "cell_type": "markdown",
   "metadata": {}
  },
  {
   "cell_type": "code",
   "execution_count": 20,
   "metadata": {},
   "outputs": [],
   "source": [
    "from Pipeline.dataflow import FilesPipeline\n",
    "from Pipeline.estimators import Estimator, evaluate\n",
    "import Pipeline.ccb.estimators\n",
    "import json\n",
    "\n",
    "pipeline = FilesPipeline()\n",
    "estimator = Estimator(factory = Pipeline.ccb.estimators.create, estimators = {'baseline1_old': ['ccb|snips|0'], 'random': ['ccb|snips|0']}, online_estimator = 'ccb|ips|0')\n",
    "preestimates = pipeline.ndjson_2_csv(cfe, lambda objects: estimator.preestimate(objects, '1min'), path_gen=lambda p: p.replace('predict', 'estimate'), process=True)\n"
   ]
  },
  {
   "source": [
    "# Evaluate"
   ],
   "cell_type": "markdown",
   "metadata": {}
  },
  {
   "cell_type": "code",
   "execution_count": 21,
   "metadata": {},
   "outputs": [
    {
     "output_type": "execute_result",
     "data": {
      "text/plain": [
       "                           (online, ccb|ips|0, e)  \\\n",
       "t                                                   \n",
       "2021-03-27 17:09:00+00:00                0.333333   \n",
       "2021-03-27 17:10:00+00:00                0.090909   \n",
       "2021-03-27 17:11:00+00:00                0.091787   \n",
       "2021-03-27 17:12:00+00:00                0.099622   \n",
       "2021-03-27 17:13:00+00:00                0.103704   \n",
       "\n",
       "                           (baseline1_old, ccb|snips|0, e)  \\\n",
       "t                                                            \n",
       "2021-03-27 17:09:00+00:00                         0.333333   \n",
       "2021-03-27 17:10:00+00:00                         0.090909   \n",
       "2021-03-27 17:11:00+00:00                         0.071429   \n",
       "2021-03-27 17:12:00+00:00                         0.141935   \n",
       "2021-03-27 17:13:00+00:00                         0.086580   \n",
       "\n",
       "                           (random, ccb|snips|0, e)  \n",
       "t                                                    \n",
       "2021-03-27 17:09:00+00:00                  0.319149  \n",
       "2021-03-27 17:10:00+00:00                  0.088975  \n",
       "2021-03-27 17:11:00+00:00                  0.090767  \n",
       "2021-03-27 17:12:00+00:00                  0.084033  \n",
       "2021-03-27 17:13:00+00:00                  0.082170  "
      ],
      "text/html": "<div>\n<style scoped>\n    .dataframe tbody tr th:only-of-type {\n        vertical-align: middle;\n    }\n\n    .dataframe tbody tr th {\n        vertical-align: top;\n    }\n\n    .dataframe thead th {\n        text-align: right;\n    }\n</style>\n<table border=\"1\" class=\"dataframe\">\n  <thead>\n    <tr style=\"text-align: right;\">\n      <th></th>\n      <th>(online, ccb|ips|0, e)</th>\n      <th>(baseline1_old, ccb|snips|0, e)</th>\n      <th>(random, ccb|snips|0, e)</th>\n    </tr>\n    <tr>\n      <th>t</th>\n      <th></th>\n      <th></th>\n      <th></th>\n    </tr>\n  </thead>\n  <tbody>\n    <tr>\n      <th>2021-03-27 17:09:00+00:00</th>\n      <td>0.333333</td>\n      <td>0.333333</td>\n      <td>0.319149</td>\n    </tr>\n    <tr>\n      <th>2021-03-27 17:10:00+00:00</th>\n      <td>0.090909</td>\n      <td>0.090909</td>\n      <td>0.088975</td>\n    </tr>\n    <tr>\n      <th>2021-03-27 17:11:00+00:00</th>\n      <td>0.091787</td>\n      <td>0.071429</td>\n      <td>0.090767</td>\n    </tr>\n    <tr>\n      <th>2021-03-27 17:12:00+00:00</th>\n      <td>0.099622</td>\n      <td>0.141935</td>\n      <td>0.084033</td>\n    </tr>\n    <tr>\n      <th>2021-03-27 17:13:00+00:00</th>\n      <td>0.103704</td>\n      <td>0.086580</td>\n      <td>0.082170</td>\n    </tr>\n  </tbody>\n</table>\n</div>"
     },
     "metadata": {},
     "execution_count": 21
    }
   ],
   "source": [
    "baseline_preestimates = pd.concat([estimator.read_preestimate(p) for p in preestimates])\n",
    "baseline_stats = evaluate(baseline_preestimates.resample('1min').sum())\n",
    "baseline_stats"
   ]
  },
  {
   "source": [
    "# Evaluate predictions from vw"
   ],
   "cell_type": "markdown",
   "metadata": {}
  },
  {
   "cell_type": "code",
   "execution_count": 22,
   "metadata": {},
   "outputs": [],
   "source": [
    "from Pipeline.ccb.vw import predictions\n",
    "vw_pred_openers = [lambda f: predictions.lines_2_predictions(open(p), open(f), 'cfe') for p in prediction_files]"
   ]
  },
  {
   "cell_type": "code",
   "execution_count": 23,
   "metadata": {},
   "outputs": [],
   "source": [
    "pipeline = FilesPipeline()\n",
    "estimator = Estimator(factory = Pipeline.ccb.estimators.create, estimators = {'cfe': ['ccb|snips|0'] })\n",
    "preestimates = pipeline.ndjson_2_csv(cfe, lambda objects: estimator.preestimate(objects, '1min'), path_gen=lambda p: p.replace('predict', 'cfe'), process=True, openers=vw_pred_openers)\n"
   ]
  },
  {
   "cell_type": "code",
   "execution_count": 24,
   "metadata": {},
   "outputs": [
    {
     "output_type": "execute_result",
     "data": {
      "text/plain": [
       "                           (cfe, ccb|snips|0, e)\n",
       "t                                               \n",
       "2021-03-27 17:09:00+00:00               0.320513\n",
       "2021-03-27 17:10:00+00:00               0.108569\n",
       "2021-03-27 17:11:00+00:00               0.086635\n",
       "2021-03-27 17:12:00+00:00               0.131921\n",
       "2021-03-27 17:13:00+00:00               0.161565"
      ],
      "text/html": "<div>\n<style scoped>\n    .dataframe tbody tr th:only-of-type {\n        vertical-align: middle;\n    }\n\n    .dataframe tbody tr th {\n        vertical-align: top;\n    }\n\n    .dataframe thead th {\n        text-align: right;\n    }\n</style>\n<table border=\"1\" class=\"dataframe\">\n  <thead>\n    <tr style=\"text-align: right;\">\n      <th></th>\n      <th>(cfe, ccb|snips|0, e)</th>\n    </tr>\n    <tr>\n      <th>t</th>\n      <th></th>\n    </tr>\n  </thead>\n  <tbody>\n    <tr>\n      <th>2021-03-27 17:09:00+00:00</th>\n      <td>0.320513</td>\n    </tr>\n    <tr>\n      <th>2021-03-27 17:10:00+00:00</th>\n      <td>0.108569</td>\n    </tr>\n    <tr>\n      <th>2021-03-27 17:11:00+00:00</th>\n      <td>0.086635</td>\n    </tr>\n    <tr>\n      <th>2021-03-27 17:12:00+00:00</th>\n      <td>0.131921</td>\n    </tr>\n    <tr>\n      <th>2021-03-27 17:13:00+00:00</th>\n      <td>0.161565</td>\n    </tr>\n  </tbody>\n</table>\n</div>"
     },
     "metadata": {},
     "execution_count": 24
    }
   ],
   "source": [
    "baseline_preestimates = pd.concat([estimator.read_preestimate(p) for p in preestimates])\n",
    "cfe_stats = evaluate(baseline_preestimates.resample('1min').sum())\n",
    "cfe_stats"
   ]
  },
  {
   "cell_type": "code",
   "execution_count": 25,
   "metadata": {},
   "outputs": [
    {
     "output_type": "execute_result",
     "data": {
      "text/plain": [
       "                           (online, ccb|ips|0, e)  \\\n",
       "t                                                   \n",
       "2021-03-27 17:09:00+00:00                0.333333   \n",
       "2021-03-27 17:10:00+00:00                0.090909   \n",
       "2021-03-27 17:11:00+00:00                0.091787   \n",
       "2021-03-27 17:12:00+00:00                0.099622   \n",
       "2021-03-27 17:13:00+00:00                0.103704   \n",
       "\n",
       "                           (baseline1_old, ccb|snips|0, e)  \\\n",
       "t                                                            \n",
       "2021-03-27 17:09:00+00:00                         0.333333   \n",
       "2021-03-27 17:10:00+00:00                         0.090909   \n",
       "2021-03-27 17:11:00+00:00                         0.071429   \n",
       "2021-03-27 17:12:00+00:00                         0.141935   \n",
       "2021-03-27 17:13:00+00:00                         0.086580   \n",
       "\n",
       "                           (random, ccb|snips|0, e)  (cfe, ccb|snips|0, e)  \n",
       "t                                                                           \n",
       "2021-03-27 17:09:00+00:00                  0.319149               0.320513  \n",
       "2021-03-27 17:10:00+00:00                  0.088975               0.108569  \n",
       "2021-03-27 17:11:00+00:00                  0.090767               0.086635  \n",
       "2021-03-27 17:12:00+00:00                  0.084033               0.131921  \n",
       "2021-03-27 17:13:00+00:00                  0.082170               0.161565  "
      ],
      "text/html": "<div>\n<style scoped>\n    .dataframe tbody tr th:only-of-type {\n        vertical-align: middle;\n    }\n\n    .dataframe tbody tr th {\n        vertical-align: top;\n    }\n\n    .dataframe thead th {\n        text-align: right;\n    }\n</style>\n<table border=\"1\" class=\"dataframe\">\n  <thead>\n    <tr style=\"text-align: right;\">\n      <th></th>\n      <th>(online, ccb|ips|0, e)</th>\n      <th>(baseline1_old, ccb|snips|0, e)</th>\n      <th>(random, ccb|snips|0, e)</th>\n      <th>(cfe, ccb|snips|0, e)</th>\n    </tr>\n    <tr>\n      <th>t</th>\n      <th></th>\n      <th></th>\n      <th></th>\n      <th></th>\n    </tr>\n  </thead>\n  <tbody>\n    <tr>\n      <th>2021-03-27 17:09:00+00:00</th>\n      <td>0.333333</td>\n      <td>0.333333</td>\n      <td>0.319149</td>\n      <td>0.320513</td>\n    </tr>\n    <tr>\n      <th>2021-03-27 17:10:00+00:00</th>\n      <td>0.090909</td>\n      <td>0.090909</td>\n      <td>0.088975</td>\n      <td>0.108569</td>\n    </tr>\n    <tr>\n      <th>2021-03-27 17:11:00+00:00</th>\n      <td>0.091787</td>\n      <td>0.071429</td>\n      <td>0.090767</td>\n      <td>0.086635</td>\n    </tr>\n    <tr>\n      <th>2021-03-27 17:12:00+00:00</th>\n      <td>0.099622</td>\n      <td>0.141935</td>\n      <td>0.084033</td>\n      <td>0.131921</td>\n    </tr>\n    <tr>\n      <th>2021-03-27 17:13:00+00:00</th>\n      <td>0.103704</td>\n      <td>0.086580</td>\n      <td>0.082170</td>\n      <td>0.161565</td>\n    </tr>\n  </tbody>\n</table>\n</div>"
     },
     "metadata": {},
     "execution_count": 25
    }
   ],
   "source": [
    "all_stats = baseline_stats.join(cfe_stats)"
   ]
  },
  {
   "cell_type": "code",
   "execution_count": null,
   "metadata": {},
   "outputs": [],
   "source": []
  }
 ],
 "metadata": {
  "kernelspec": {
   "name": "python385jvsc74a57bd0fcc4d9e2a8350f4b426fa88136c80c744ccaacb1fcccdec649c503ae8c1bacf1",
   "display_name": "Python 3.8.5 64-bit ('base': conda)"
  },
  "language_info": {
   "codemirror_mode": {
    "name": "ipython",
    "version": 3
   },
   "file_extension": ".py",
   "mimetype": "text/x-python",
   "name": "python",
   "nbconvert_exporter": "python",
   "pygments_lexer": "ipython3",
   "version": "3.8.5-final"
  }
 },
 "nbformat": 4,
 "nbformat_minor": 2
}