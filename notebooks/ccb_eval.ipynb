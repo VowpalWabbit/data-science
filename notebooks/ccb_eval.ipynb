{
 "cells": [
  {
   "cell_type": "code",
   "execution_count": null,
   "metadata": {},
   "outputs": [],
   "source": [
    "small = ['/Users/alextaim/data/ccb/27_0000000000.json']\n",
    "large = ['01_0.json']\n",
    "\n",
    "files = small"
   ]
  },
  {
   "cell_type": "code",
   "execution_count": null,
   "metadata": {},
   "outputs": [],
   "source": [
    "from VwPipeline import Loggers, Handlers\n",
    "from VwPipeline.VwCache import VwCache\n",
    "from VwPipeline.Vw import Vw\n",
    "from VwPipeline.VwOpts import dimension, product\n",
    "import pandas as pd\n",
    "\n",
    "#your vw path\n",
    "vw_path = r'vw'\n",
    "\n",
    "cache = VwCache(r'_cache')\n",
    "vw = Vw(\n",
    "    vw_path,\n",
    "    cache,\n",
    "    handlers=[Handlers.WidgetHandler()],\n",
    "    )\n",
    "\n",
    "opts = pd.DataFrame(product(\n",
    "    dimension('#base', ['--ccb_explore_adf --dsjson --compressed --synthcover --power_t 0  -P 1 --preserve_performance_counters --save_resume']),\n",
    "))\n",
    "preds = vw.train(files, opts, ['-p'])\n",
    "prediction_files = preds.iloc[0]['!Outputs']['-p']\n",
    "prediction_files"
   ]
  },
  {
   "cell_type": "code",
   "execution_count": null,
   "metadata": {},
   "outputs": [],
   "source": [
    "def ccb_predictions(files, index = 't'):\n",
    "    for f in files:\n",
    "        for l in open(f):\n",
    "\n",
    "\n",
    "class CcbPredictions:\n",
    "    def __init__(self, files, index='t'):\n",
    "        self.files = files\n",
    "        self.index = index\n",
    "        \n",
    "    def iter_slots(self):\n",
    "        result = {}\n",
    "        for f in files:\n",
    "            for l in open(f):\n",
    "                o = json.loads(l)\n",
    "                for \n",
    "                    yield result"
   ]
  },
  {
   "source": [
    "# Estimators"
   ],
   "cell_type": "markdown",
   "metadata": {}
  },
  {
   "cell_type": "code",
   "execution_count": null,
   "metadata": {},
   "outputs": [],
   "source": [
    "class ips:\n",
    "    slots = None\n",
    "    def __init__(self, slots = None):\n",
    "        self.slots = slots\n",
    "        self.r = 0\n",
    "        self.n = 0\n",
    "\n",
    "    def add(self, r, p_log, p, n = 1):\n",
    "        slots = self.slots if self.slots else range(len(r))\n",
    "        for s in slots:\n",
    "            self.r += n * r[s] * p[s] / p_log[s]\n",
    "            self.n += n\n",
    "\n",
    "    def get(self):\n",
    "        return {'e': 0 if self.n == 0 else self.r / self.n}\n",
    "\n",
    "class snips:\n",
    "    slots = None\n",
    "    def __init__(self, slots = None):\n",
    "        self.slots = slots\n",
    "        self.r = 0\n",
    "        self.n = 0\n",
    "\n",
    "    def add(self, r, p_log, p, n = 1):\n",
    "        slots = self.slots if self.slots else range(len(r))\n",
    "        for s in slots:\n",
    "            self.r += n * r[s] * p[s] / p_log[s]\n",
    "            self.n += n * p[s] / p_log[s]\n",
    "\n",
    "    def get(self):\n",
    "        return {'e': 0 if self.n == 0 else self.r / self.n}"
   ]
  },
  {
   "cell_type": "code",
   "execution_count": null,
   "metadata": {},
   "outputs": [],
   "source": []
  },
  {
   "cell_type": "code",
   "execution_count": null,
   "metadata": {},
   "outputs": [],
   "source": [
    "df.to_csv('test.csv', index=False)\n",
    "pd.read_csv('test.csv', header=[0,1])"
   ]
  },
  {
   "cell_type": "markdown",
   "metadata": {},
   "source": [
    "# Usage"
   ]
  },
  {
   "source": [
    "## Generate slim dsjson"
   ],
   "cell_type": "markdown",
   "metadata": {}
  },
  {
   "cell_type": "code",
   "execution_count": null,
   "metadata": {},
   "outputs": [],
   "source": [
    "from Pipeline.dataflow import FilesPipeline\n",
    "from Pipeline.Dsjson import ccb\n",
    "\n",
    "processor = ccb.Processor()\n",
    "pipeline = FilesPipeline()\n",
    "\n",
    "slim = pipeline.process(small, processor.process, path_gen=lambda p: fr'slim/{p}', process=True)\n",
    "slim"
   ]
  },
  {
   "source": [
    "## Sample"
   ],
   "cell_type": "markdown",
   "metadata": {}
  },
  {
   "cell_type": "code",
   "execution_count": null,
   "metadata": {},
   "outputs": [],
   "source": [
    "from Pipeline.dataflow import FilesPipeline\n",
    "from Pipeline.Dsjson import ccb, filters\n",
    "\n",
    "sampler = filters.UniformSampler(0.5)\n",
    "\n",
    "processor = ccb.Processor(filters=[lambda l: sampler.do(l)])\n",
    "result = pipeline.process(small, processor.process, path_gen=lambda p: fr'sample/{p}', process=True)\n",
    "result"
   ]
  },
  {
   "source": [
    "## Predict"
   ],
   "cell_type": "markdown",
   "metadata": {}
  },
  {
   "cell_type": "code",
   "execution_count": null,
   "metadata": {},
   "outputs": [],
   "source": [
    "from Pipeline.dataflow import FilesPipeline\n",
    "from Pipeline.Dsjson import ccb\n",
    "\n",
    "predictor = ccb.Predictor(filters=[lambda l: True])\n",
    "cfe = pipeline.process(slim, predictor.predict, path_gen=lambda p: fr'cfe/{p}', process=True)\n",
    "cfe"
   ]
  },
  {
   "cell_type": "code",
   "execution_count": null,
   "metadata": {},
   "outputs": [],
   "source": [
    "import itertools\n",
    "import json\n",
    "predictions = map(lambda l: json.loads(l), itertools.chain.from_iterable([open(f) for f in cfe]))"
   ]
  },
  {
   "cell_type": "code",
   "execution_count": null,
   "metadata": {},
   "outputs": [],
   "source": [
    "agg_factories = {'random': {'ips': lambda: ips()}, 'baseline1_old': {'ips': lambda: ips()}}\n",
    "pd.DataFrame(aggregate(predictions, agg_factories, 100))"
   ]
  },
  {
   "cell_type": "code",
   "execution_count": null,
   "metadata": {},
   "outputs": [],
   "source": [
    "sampler = UniformSampler(0.5)\n",
    "\n",
    "parser = DsJsonCcb(filters=[lambda l: sampler.do(l)])\n",
    "result = pipeline.process(small, parser.process, process=True)\n",
    "result"
   ]
  },
  {
   "cell_type": "code",
   "execution_count": null,
   "metadata": {},
   "outputs": [],
   "source": [
    "pd.DataFrame(filter(lambda s: s['SkipLearn']==False,\n",
    "    csvs_2_rows(slot_files, processors = [\n",
    "        timestamp\n",
    "    ])))"
   ]
  },
  {
   "cell_type": "code",
   "execution_count": null,
   "metadata": {},
   "outputs": [],
   "source": []
  },
  {
   "cell_type": "code",
   "execution_count": null,
   "metadata": {},
   "outputs": [],
   "source": [
    "files = small\n",
    "\n",
    "parser = DsJsonCcb()\n",
    "slot_files= files_2_csvs(files, parser.lines_2_slots, path_gen=lambda p: fr'processed\\{p}.txt')"
   ]
  },
  {
   "cell_type": "code",
   "execution_count": null,
   "metadata": {},
   "outputs": [],
   "source": [
    "slots = filter(lambda s: s['SkipLearn']==False, csvs_2_rows(slot_files))\n",
    "preds = VwPredictionsCcb.files_2_slots(prediction_files)\n",
    "\n",
    "ds = map(lambda kv: ChainMap(kv[0], kv[1]), zip(slots, preds))"
   ]
  },
  {
   "cell_type": "code",
   "execution_count": null,
   "metadata": {},
   "outputs": [],
   "source": [
    "pd.DataFrame(ds)"
   ]
  },
  {
   "cell_type": "code",
   "execution_count": null,
   "metadata": {},
   "outputs": [],
   "source": [
    "pd.DataFrame(VwPredictionsCcb.files_2_slots(prediction_files))"
   ]
  },
  {
   "cell_type": "code",
   "execution_count": null,
   "metadata": {},
   "outputs": [],
   "source": [
    "pd.DataFrame(map(lambda kv: ChainMap(kv[0], kv[1]), zip(slots, preds)))"
   ]
  },
  {
   "cell_type": "code",
   "execution_count": null,
   "metadata": {},
   "outputs": [],
   "source": [
    "parser = DsJsonCcb()\n",
    "list(parser.lines_2_slots(open(small[0])))"
   ]
  },
  {
   "cell_type": "code",
   "execution_count": null,
   "metadata": {},
   "outputs": [],
   "source": [
    "large_result = parser.lines_2_slots(open(large[0]))"
   ]
  },
  {
   "cell_type": "code",
   "execution_count": null,
   "metadata": {},
   "outputs": [],
   "source": [
    "next(large_result)"
   ]
  },
  {
   "cell_type": "code",
   "execution_count": null,
   "metadata": {},
   "outputs": [],
   "source": [
    "list(zip(DsJsonCcb.files_2_slots(inputs,context_processors = [cp]), VwPredictionsCcb.lines_2_slots(open(prediction_file))))"
   ]
  },
  {
   "cell_type": "code",
   "execution_count": null,
   "metadata": {},
   "outputs": [],
   "source": [
    "list(DsJsonCcb.files_2_slots(inputs,context_processors = [cp]))"
   ]
  },
  {
   "cell_type": "code",
   "execution_count": null,
   "metadata": {},
   "outputs": [],
   "source": []
  },
  {
   "cell_type": "code",
   "execution_count": null,
   "metadata": {},
   "outputs": [],
   "source": [
    "import pandas as pd\n",
    "import json\n",
    "import uuid\n",
    "import itertools\n",
    "import pytz\n",
    "\n",
    "class DsJson:\n",
    "    @staticmethod\n",
    "    def is_ccb_event(line):\n",
    "        try:\n",
    "            o = json.loads(line)\n",
    "        except:\n",
    "            return False\n",
    "        return line.startswith('{\"Timestamp\"')\n",
    "\n",
    "    @staticmethod\n",
    "    def is_cb_event(line):\n",
    "        return line.startswith('{\"_label_cost\"')\n",
    "\n",
    "    @staticmethod\n",
    "    def is_dangling_reward(line):\n",
    "        return line.startswith('{\"RewardValue')\n",
    "\n",
    "    @staticmethod\n",
    "    def get_timestamp(line):\n",
    "        obj = NaiveJson(line)\n",
    "        if line.startswith('{\"RewardValue'):\n",
    "            return pd.to_datetime(obj.get_string(\"EnqueuedTimeUtc\"))\n",
    "        return pd.to_datetime(obj.get_string(\"Timestamp\"))\n",
    "\n",
    "    @staticmethod\n",
    "    def context(line):\n",
    "        parsed = json.loads(line)\n",
    "        return json.dumps(parsed['c']) + '\\n'\n",
    "\n",
    "    @staticmethod\n",
    "    def dangling_reward(line):\n",
    "        parsed = json.loads(line)\n",
    "        return {'Timestamp': pd.to_datetime(parsed['EnqueuedTimeUtc']), 'EventId': parsed['EventId'], 'Reward': parsed['RewardValue']}\n",
    "\n",
    "    @staticmethod\n",
    "    def analyze_observations(obj):\n",
    "        rewards = 0\n",
    "        activations =0\n",
    "        for o in obj:\n",
    "            if 'ActionTaken' in o and o['ActionTaken']==True:\n",
    "                activations = activations + 1\n",
    "            else:\n",
    "                rewards = rewards + 1\n",
    "\n",
    "        return rewards, activations\n",
    "\n",
    "    def get_title_from_obj(action):\n",
    "        c = action['c']\n",
    "        if 'Title' in c:\n",
    "            return c['Title']\n",
    "        elif 'ProductTitle' in c:\n",
    "            return c['ProductTitle']\n",
    "        return None\n",
    "\n",
    "    @staticmethod\n",
    "    def ccb_event(line):\n",
    "        parsed = json.loads(line)\n",
    "        session = {'Session': str(uuid.uuid4()),\n",
    "                 'Timestamp': pd.to_datetime(parsed['Timestamp']),\n",
    "                 'NumActions': len(parsed['c']['_multi']),\n",
    "                 'NumSlots': len(parsed['c']['_slots']),\n",
    "                 'VWState': parsed['VWState']['m'],\n",
    "                 'SkipLearn': False if '_skipLearn' not in parsed else parsed['_skipLearn'],\n",
    "                 'StringLen': len(line),\n",
    "                 'Pdrop': 0.0 if 'pdrop' not in parsed else parsed['pdrop']}\n",
    "\n",
    "        multi = [None] * len(parsed['c']['_multi'])\n",
    "        for i, o in enumerate(parsed['c']['_multi']):\n",
    "            multi[i] = {'Id': o['c']['Id'],\n",
    "                        'Len': len(json.dumps(o))}\n",
    "\n",
    "        slots = [None] * len(parsed['_outcomes'])\n",
    "        for i, o in enumerate(parsed['_outcomes']):\n",
    "            r, a = DsJson.analyze_observations(o['_o'])\n",
    "            slots[i] = {'SlotIdx': i,\n",
    "                    'Cost': o['_label_cost'],\n",
    "                    'EventId': o['_id'],\n",
    "                    'ActionsPerSlot': len(o['_a']),\n",
    "                    'Chosen': o['_a'][0],\n",
    "                    'Prob': o['_p'][0],\n",
    "                    'Rewards': r,\n",
    "                    'Activations': a,\n",
    "                    'Product': multi[o['_a'][0]]['Id'],\n",
    "                    'ChosenActionLen': multi[o['_a'][0]]['Len']}\n",
    "        \n",
    "        return [dict(session, **m) for m in multi] \n",
    "\n",
    "    @staticmethod\n",
    "    def ccb_2_cb(session, slots, multi):\n",
    "        return [dict(session, **s) for s in slots]\n",
    "\n",
    "    @staticmethod\n",
    "    def ccb_as_cb_to_stats(df):\n",
    "        result = df\n",
    "        result['TimestampFloor'] = result.index.floor('1min')\n",
    "        result['TimestampFloor'] = result['TimestampFloor'].dt.tz_localize(None)\n",
    "        result['Observations'] = result['HasObservation'].astype(int).div(1 - result['Pdrop'])\n",
    "        result['Rewards'] = -result['Cost'].div(1 - result['Pdrop'])\n",
    "        result['Events'] = 1\n",
    "        result['EventsLogged'] = result['Events']\n",
    "        result['Events'] = result['Events'].div(1 - result['Pdrop'])\n",
    "        result['RewardsSlot1'] = result['Rewards'].mul((result['SlotIdx']==0).astype(int))\n",
    "        result['EventsSlot1'] = result['Events'].mul((result['SlotIdx']==0).astype(int))\n",
    "        result['RewardsIps1'] = result['Rewards'].mul((result['SlotIdx']==result['Chosen']).astype(int)).div(result['Prob'])\n",
    "        result['EventsIps1'] = result['Events'].mul((result['SlotIdx']==result['Chosen']).astype(int)).div(result['Prob'])\n",
    "        result['RewardsIps1Slot1'] = result['RewardsIps1'].mul((result['SlotIdx']==0).astype(int))\n",
    "        result['EventsIps1Slot1'] = result['EventsIps1'].mul((result['SlotIdx']==0).astype(int))\n",
    "        result['RewardsIpsR'] = result['Rewards'].mul(result['ActionsPerSlot']).div(result['Prob'])\n",
    "        result['EventsIpsR'] = result['Events'].mul(result['ActionsPerSlot']).div(result['Prob'])\n",
    "        result['RewardsIpsRSlot1'] = result['RewardsIpsR'].mul((result['SlotIdx']==0).astype(int))\n",
    "        result['EventsIpsRSlot1'] = result['EventsIpsR'].mul((result['SlotIdx']==0).astype(int))\n",
    "\n",
    "        return result[['TimestampFloor', 'Observations', 'Rewards', 'Events', 'RewardsSlot1', 'EventsSlot1', 'RewardsIps1', 'EventsIps1', 'RewardsIps1Slot1', 'EventsIps1Slot1', 'RewardsIpsR', 'EventsIpsR', 'RewardsIpsRSlot1', 'EventsIpsRSlot1', 'EventsLogged']].reset_index().drop('Timestamp', axis=1).rename(columns = {'TimestampFloor': 'Timestamp'}).groupby('Timestamp').sum()\n",
    "\n",
    "    @staticmethod\n",
    "    def get_title_from_obj(action):\n",
    "        c = action['c']\n",
    "        if 'Title' in c:\n",
    "            return c['Title']\n",
    "        elif 'ProductTitle' in c:\n",
    "            return c['ProductTitle']\n",
    "        return None\n",
    "    \n",
    "    @staticmethod\n",
    "    def ccb_action(line):\n",
    "        parsed = json.loads(line)\n",
    "        session = {'Session': parsed['_outcomes'][0]['_id'], 'Timestamp': pd.to_datetime(parsed['Timestamp'])}\n",
    "        multi = [None] * len(parsed['c']['_multi'])\n",
    "        for i, o in enumerate(parsed['c']['_multi']):\n",
    "            multi[i] = {'Id': o['c']['Id'],\n",
    "                        'Index': i,\n",
    "                        'ChannelId': o['c']['Id'],\n",
    "                        'Title': DsJson.get_title_from_obj(o),\n",
    "                        'SlotIdx': -1,\n",
    "                        'Cost': 0,\n",
    "                        'Prob': 0,\n",
    "                        'ActionLen': len(str(o)),\n",
    "                        'CLen': len(o['c']),\n",
    "                        'DLen': len(o['d']),\n",
    "                        'ELen': len(o['e']),\n",
    "                        'HLen': len(o['h']),                        \n",
    "       #                 'plc0': o['c']['plc0'],\n",
    "       #                 'plc1': o['c']['plc1'],\n",
    "       #                 'plc2': o['c']['plc2'],\n",
    "       #                 'plc3': o['c']['plc3'],\n",
    "       #                 'plc4': o['c']['plc4'],\n",
    "                       }\n",
    "      #      for key in o['c']:\n",
    "      #          multi[i][f'c/{key}'] = o['c'][key]\n",
    "        for i, o in enumerate(parsed['_outcomes']):\n",
    "            multi[o['_a'][0]]['SlotIdx'] = i\n",
    "            multi[o['_a'][0]]['Cost'] = o['_label_cost']\n",
    "            multi[o['_a'][0]]['Prob'] = o['_p'][0]\n",
    "        return [dict(session, **m) for m in multi]      \n",
    "\n",
    "    @staticmethod\n",
    "    def dangling_reward_lines(lines):\n",
    "        return filter(lambda l: DsJson.is_dangling_reward(l), lines)\n",
    "\n",
    "    @staticmethod\n",
    "    def ccb_decision_lines(lines):\n",
    "        return filter(lambda l: DsJson.is_ccb_event(l), lines)\n",
    "    \n",
    "    @staticmethod\n",
    "    def dangling_rewards(lines):\n",
    "        df = pd.DataFrame(\n",
    "            map(lambda l: DsJson.dangling_reward(l), DsJson.dangling_reward_lines(lines)))\n",
    "        return df.set_index('Timestamp') if len(df) > 0 else df\n",
    "\n",
    "    @staticmethod\n",
    "    def ccb_events(lines):\n",
    "        events = map(lambda l: DsJson.ccb_2_cb(*DsJson.ccb_event(l)), DsJson.ccb_decision_lines(lines))\n",
    "        df = pd.DataFrame(itertools.chain(*events))\n",
    "        return df#.set_index('Timestamp')\n",
    "\n",
    "    @staticmethod\n",
    "    def ccb_stats(lines):\n",
    "        events = map(lambda l: DsJson.ccb_2_cb(*DsJson.ccb_event(l)), DsJson.ccb_decision_lines(lines))\n",
    "        df = pd.DataFrame(itertools.chain(*events))\n",
    "        return DsJson.ccb_as_cb_to_stats(df.set_index('Timestamp'))\n",
    "\n",
    "    @staticmethod\n",
    "    def ccb_actions(lines):\n",
    "        actions = map(lambda l: DsJson.ccb_action(l), DsJson.ccb_decision_lines(lines))\n",
    "        df = pd.DataFrame(itertools.chain(*actions))\n",
    "        return df.set_index('Timestamp')\n",
    "\n",
    "    @staticmethod\n",
    "    def contexts(lines):\n",
    "        return map(lambda e: DsJson.context(e),\n",
    "            filter(lambda l: DsJson.is_ccb_event(l), lines))\n",
    "    \n",
    "    @staticmethod\n",
    "    def first_timestamp(lines):\n",
    "        line = next(lines)\n",
    "        return DsJson.get_timestamp(line)\n",
    "    \n",
    "def ccb_actions(file):\n",
    "    return DsJson.ccb_actions(open(file, 'r', encoding='utf-8'))\n",
    "\n",
    "def ccb_slots(file):\n",
    "    return DsJson.ccb_events(open(file, 'r', encoding='utf-8'))\n",
    "\n",
    "def dangling_rewards(file):\n",
    "    return DsJson.dangling_rewards(open(file, 'r', encoding='utf-8'))"
   ]
  },
  {
   "cell_type": "code",
   "execution_count": null,
   "metadata": {},
   "outputs": [],
   "source": [
    "import pandas as pd\n",
    "\n",
    "df = pd.DataFrame([{'i': i} for i in range(16)])"
   ]
  },
  {
   "cell_type": "code",
   "execution_count": null,
   "metadata": {},
   "outputs": [],
   "source": [
    "df"
   ]
  },
  {
   "cell_type": "code",
   "execution_count": null,
   "metadata": {},
   "outputs": [],
   "source": [
    "df.sample(frac = 0.5)"
   ]
  },
  {
   "cell_type": "code",
   "execution_count": null,
   "metadata": {},
   "outputs": [],
   "source": []
  }
 ],
 "metadata": {
  "kernelspec": {
   "name": "python385jvsc74a57bd0fcc4d9e2a8350f4b426fa88136c80c744ccaacb1fcccdec649c503ae8c1bacf1",
   "display_name": "Python 3.8.5 64-bit ('base': conda)"
  },
  "language_info": {
   "codemirror_mode": {
    "name": "ipython",
    "version": 3
   },
   "file_extension": ".py",
   "mimetype": "text/x-python",
   "name": "python",
   "nbconvert_exporter": "python",
   "pygments_lexer": "ipython3",
   "version": "3.8.5-final"
  }
 },
 "nbformat": 4,
 "nbformat_minor": 2
}