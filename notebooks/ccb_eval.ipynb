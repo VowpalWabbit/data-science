{
 "cells": [
  {
   "cell_type": "code",
   "execution_count": 1,
   "metadata": {},
   "outputs": [],
   "source": [
    "from Pipeline.dataflow import FilesPipeline\n",
    "from Pipeline.ccb.dsjson.processor import Processor\n",
    "from Pipeline.ccb.dsjson.predictions import Predictor\n",
    "from Pipeline.progress import tqdm_progress\n",
    "from Pipeline import azure_blob_logs\n",
    "from Pipeline.utils import Mapper\n",
    "\n",
    "from pathlib import Path"
   ]
  },
  {
   "cell_type": "code",
   "execution_count": 2,
   "metadata": {},
   "outputs": [],
   "source": [
    "local_data_root = Path('/Users/alextaim/data/ccb')\n",
    "\n",
    "raw_folder = local_data_root.joinpath('raw')\n",
    "slim_folder = local_data_root.joinpath('slim')\n",
    "sample_folder = local_data_root.joinpath('sample')\n",
    "predict_folder = local_data_root.joinpath('predict.pickle')\n",
    "estimate_folder = local_data_root.joinpath('estimate.pickle')"
   ]
  },
  {
   "cell_type": "code",
   "execution_count": 3,
   "metadata": {},
   "outputs": [],
   "source": [
    "files = ['/Users/alextaim/data/ccb/raw/01.json']"
   ]
  },
  {
   "cell_type": "markdown",
   "metadata": {},
   "source": [
    "# Generate predictions"
   ]
  },
  {
   "cell_type": "code",
   "execution_count": 4,
   "metadata": {},
   "outputs": [
    {
     "output_type": "display_data",
     "data": {
      "text/plain": "HBox(children=(HTML(value='Total'), FloatProgress(value=0.0, max=1.0), HTML(value='')))",
      "application/vnd.jupyter.widget-view+json": {
       "version_major": 2,
       "version_minor": 0,
       "model_id": "cab6c243109f4dfe8ded1083fc41680e"
      }
     },
     "metadata": {}
    },
    {
     "output_type": "display_data",
     "data": {
      "text/plain": "HBox(children=(HTML(value=''), FloatProgress(value=0.0, max=1.0), HTML(value='')))",
      "application/vnd.jupyter.widget-view+json": {
       "version_major": 2,
       "version_minor": 0,
       "model_id": "8a7ec434fee744dfafaa5fc2cd403fcd"
      }
     },
     "metadata": {}
    },
    {
     "output_type": "execute_result",
     "data": {
      "text/plain": [
       "['/Users/alextaim/data/.vw_cache/cache-p/b2cd6f5f6d8927dd04d7cd89dac431db']"
      ]
     },
     "metadata": {},
     "execution_count": 4
    }
   ],
   "source": [
    "from VwPipeline import Loggers, Handlers\n",
    "from VwPipeline.VwCache import VwCache\n",
    "from VwPipeline.Vw import Vw\n",
    "from VwPipeline.VwOpts import dimension, product\n",
    "import pandas as pd\n",
    "\n",
    "#your vw path\n",
    "vw_path = r'vw'\n",
    "\n",
    "cache = VwCache(r'/Users/alextaim/data/.vw_cache')\n",
    "vw = Vw(\n",
    "    vw_path,\n",
    "    cache,\n",
    "    handlers=[Handlers.WidgetHandler()],\n",
    "    )\n",
    "\n",
    "opts = pd.DataFrame(product(\n",
    "    dimension('#base', ['--ccb_explore_adf --dsjson --compressed --synthcover --power_t 0  -P 1 --preserve_performance_counters --save_resume']),\n",
    "))\n",
    "preds = vw.train(files, opts, ['-p'])\n",
    "prediction_files = preds.iloc[0]['!Outputs']['-p']\n",
    "prediction_files"
   ]
  },
  {
   "cell_type": "markdown",
   "metadata": {},
   "source": [
    "# Generate slim dsjson"
   ]
  },
  {
   "cell_type": "code",
   "execution_count": 5,
   "metadata": {},
   "outputs": [],
   "source": [
    "from Pipeline.ccb.dsjson import processor"
   ]
  },
  {
   "cell_type": "code",
   "execution_count": 6,
   "metadata": {},
   "outputs": [
    {
     "output_type": "execute_result",
     "data": {
      "text/plain": [
       "[PosixPath('/Users/alextaim/data/ccb/slim/01.json')]"
      ]
     },
     "metadata": {},
     "execution_count": 6
    }
   ],
   "source": [
    "from Pipeline.dataflow import FilesPipeline\n",
    "from Pipeline.ccb.dsjson.processor import Processor\n",
    "\n",
    "processor = Processor()\n",
    "pipeline = FilesPipeline()\n",
    "\n",
    "slim = pipeline.lines_2_lines(files, processor.process, path_gen=Mapper(raw_folder, slim_folder), process=True)\n",
    "slim"
   ]
  },
  {
   "cell_type": "markdown",
   "metadata": {},
   "source": [
    "# Sample"
   ]
  },
  {
   "cell_type": "code",
   "execution_count": 7,
   "metadata": {},
   "outputs": [
    {
     "output_type": "execute_result",
     "data": {
      "text/plain": [
       "[PosixPath('/Users/alextaim/data/ccb/sample/01.json')]"
      ]
     },
     "metadata": {},
     "execution_count": 7
    }
   ],
   "source": [
    "from Pipeline.dataflow import FilesPipeline\n",
    "from Pipeline.ccb.dsjson.processor import Processor\n",
    "from Pipeline.filters import UniformSampler\n",
    "\n",
    "sampler = UniformSampler(0.5)\n",
    "\n",
    "processor = Processor(filters=[lambda l: sampler.do(l)])\n",
    "result = pipeline.lines_2_lines(files, processor.process, path_gen=Mapper(raw_folder, sample_folder), process=True)\n",
    "result"
   ]
  },
  {
   "cell_type": "markdown",
   "metadata": {},
   "source": [
    "# Predict"
   ]
  },
  {
   "cell_type": "code",
   "execution_count": 8,
   "metadata": {},
   "outputs": [
    {
     "output_type": "execute_result",
     "data": {
      "text/plain": [
       "[PosixPath('/Users/alextaim/data/ccb/predict.pickle/01.json')]"
      ]
     },
     "metadata": {},
     "execution_count": 8
    }
   ],
   "source": [
    "from Pipeline.dataflow import FilesPipeline\n",
    "from Pipeline.ccb.dsjson.predictions import Predictor\n",
    "\n",
    "predictor = Predictor(filters=[lambda l: True])\n",
    "pipeline = FilesPipeline()\n",
    "cfe = pipeline.lines_2_df_pickle(slim, predictor.predict_df, path_gen=Mapper(slim_folder, predict_folder), process=True)\n",
    "cfe"
   ]
  },
  {
   "cell_type": "markdown",
   "metadata": {},
   "source": [
    "# Preestimate"
   ]
  },
  {
   "cell_type": "code",
   "execution_count": 9,
   "metadata": {},
   "outputs": [],
   "source": [
    "from Pipeline.dataflow import FilesPipeline\n",
    "from Pipeline.estimators import Estimator, evaluate\n",
    "import Pipeline.ccb.estimators\n",
    "import json\n",
    "\n",
    "pipeline = FilesPipeline()\n",
    "estimator = Estimator(factory = Pipeline.ccb.estimators.create, estimators = {'baseline1_old': ['ccb|snips|0'], 'random': ['ccb|snips|0']}, online_estimator = 'ccb|ips|0')\n",
    "preestimates = pipeline.df_pickle_2_df_pickle(cfe, lambda objects: estimator.preestimate_df(objects, '1min'), path_gen=Mapper(predict_folder, estimate_folder), process=True)\n"
   ]
  },
  {
   "cell_type": "markdown",
   "metadata": {},
   "source": [
    "# Evaluate"
   ]
  },
  {
   "cell_type": "code",
   "execution_count": 12,
   "metadata": {},
   "outputs": [
    {
     "output_type": "execute_result",
     "data": {
      "text/plain": [
       "                           (online, ccb|ips|0, e)  \\\n",
       "t                                                   \n",
       "2021-03-27 17:08:00+00:00                0.333333   \n",
       "2021-03-27 17:10:00+00:00                0.091575   \n",
       "2021-03-27 17:12:00+00:00                0.101002   \n",
       "\n",
       "                           (b, random, ccb|snips|0, e)  \\\n",
       "t                                                        \n",
       "2021-03-27 17:08:00+00:00                     0.319149   \n",
       "2021-03-27 17:10:00+00:00                     0.090595   \n",
       "2021-03-27 17:12:00+00:00                     0.083387   \n",
       "\n",
       "                           (b, baseline1_old, ccb|snips|0, e)  \n",
       "t                                                              \n",
       "2021-03-27 17:08:00+00:00                            0.333333  \n",
       "2021-03-27 17:10:00+00:00                            0.080000  \n",
       "2021-03-27 17:12:00+00:00                            0.108808  "
      ],
      "text/html": "<div>\n<style scoped>\n    .dataframe tbody tr th:only-of-type {\n        vertical-align: middle;\n    }\n\n    .dataframe tbody tr th {\n        vertical-align: top;\n    }\n\n    .dataframe thead th {\n        text-align: right;\n    }\n</style>\n<table border=\"1\" class=\"dataframe\">\n  <thead>\n    <tr style=\"text-align: right;\">\n      <th></th>\n      <th>(online, ccb|ips|0, e)</th>\n      <th>(b, random, ccb|snips|0, e)</th>\n      <th>(b, baseline1_old, ccb|snips|0, e)</th>\n    </tr>\n    <tr>\n      <th>t</th>\n      <th></th>\n      <th></th>\n      <th></th>\n    </tr>\n  </thead>\n  <tbody>\n    <tr>\n      <th>2021-03-27 17:08:00+00:00</th>\n      <td>0.333333</td>\n      <td>0.319149</td>\n      <td>0.333333</td>\n    </tr>\n    <tr>\n      <th>2021-03-27 17:10:00+00:00</th>\n      <td>0.091575</td>\n      <td>0.090595</td>\n      <td>0.080000</td>\n    </tr>\n    <tr>\n      <th>2021-03-27 17:12:00+00:00</th>\n      <td>0.101002</td>\n      <td>0.083387</td>\n      <td>0.108808</td>\n    </tr>\n  </tbody>\n</table>\n</div>"
     },
     "metadata": {},
     "execution_count": 12
    }
   ],
   "source": [
    "baseline_preestimates = pd.concat([pd.read_pickle(p) for p in preestimates])\n",
    "baseline_stats = evaluate(baseline_preestimates.resample('1min').sum())\n",
    "baseline_stats"
   ]
  },
  {
   "cell_type": "markdown",
   "metadata": {},
   "source": [
    "# Evaluate predictions from vw"
   ]
  },
  {
   "cell_type": "code",
   "execution_count": null,
   "metadata": {},
   "outputs": [],
   "source": [
    "from Pipeline.ccb.vw import predictions\n",
    "vw_pred_openers = list(map(lambda p: (lambda f: predictions.lines_2_predictions(open(p), open(f), 'cfe')), prediction_files))\n",
    "\n",
    "pipeline = FilesPipeline()\n",
    "estimator = Estimator(factory = Pipeline.ccb.estimators.create, estimators = {'cfe': ['ccb|snips|0'] })\n",
    "preestimates = pipeline.ndjson_2_csv(cfe, lambda objects: estimator.preestimate(objects, '1min'), path_gen=lambda p: p.replace('predict', 'cfe'), process=True, openers=vw_pred_openers)\n"
   ]
  },
  {
   "cell_type": "code",
   "execution_count": null,
   "metadata": {},
   "outputs": [],
   "source": [
    "baseline_preestimates = pd.concat([estimator.read_preestimate(p) for p in preestimates])\n",
    "cfe_stats = evaluate(baseline_preestimates.resample('1min').sum())\n",
    "cfe_stats"
   ]
  },
  {
   "cell_type": "markdown",
   "metadata": {},
   "source": [
    "# Merge evaluations"
   ]
  },
  {
   "cell_type": "code",
   "execution_count": null,
   "metadata": {
    "scrolled": true
   },
   "outputs": [],
   "source": [
    "all_stats = baseline_stats.join(cfe_stats)"
   ]
  }
 ],
 "metadata": {
  "kernelspec": {
   "name": "python38564bitfd59076926044bd899f4541e1d3f6749",
   "display_name": "Python 3.8.6 64-bit"
  },
  "language_info": {
   "codemirror_mode": {
    "name": "ipython",
    "version": 3
   },
   "file_extension": ".py",
   "mimetype": "text/x-python",
   "name": "python",
   "nbconvert_exporter": "python",
   "pygments_lexer": "ipython3",
   "version": "3.8.6-final"
  },
  "metadata": {
   "interpreter": {
    "hash": "aee8b7b246df8f9039afb4144a1f6fd8d2ca17a180786b69acc140d282b71a49"
   }
  }
 },
 "nbformat": 4,
 "nbformat_minor": 2
}