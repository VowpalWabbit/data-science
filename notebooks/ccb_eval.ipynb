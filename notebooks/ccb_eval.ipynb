{
 "cells": [
  {
   "cell_type": "code",
   "execution_count": null,
   "metadata": {},
   "outputs": [],
   "source": [
    "files = ['/Users/alextaim/data/ccb/original/01.json']"
   ]
  },
  {
   "cell_type": "code",
   "execution_count": null,
   "metadata": {},
   "outputs": [],
   "source": [
    "from VwPipeline import Loggers, Handlers\n",
    "from VwPipeline.VwCache import VwCache\n",
    "from VwPipeline.Vw import Vw\n",
    "from VwPipeline.VwOpts import dimension, product\n",
    "import pandas as pd\n",
    "\n",
    "#your vw path\n",
    "vw_path = r'vw'\n",
    "\n",
    "cache = VwCache(r'/Users/alextaim/data/.vw_cache')\n",
    "vw = Vw(\n",
    "    vw_path,\n",
    "    cache,\n",
    "    handlers=[Handlers.WidgetHandler()],\n",
    "    )\n",
    "\n",
    "opts = pd.DataFrame(product(\n",
    "    dimension('#base', ['--ccb_explore_adf --dsjson --compressed --synthcover --power_t 0  -P 1 --preserve_performance_counters --save_resume']),\n",
    "))\n",
    "preds = vw.train(files, opts, ['-p'])\n",
    "prediction_files = preds.iloc[0]['!Outputs']['-p']\n",
    "prediction_files"
   ]
  },
  {
   "cell_type": "code",
   "execution_count": null,
   "metadata": {},
   "outputs": [],
   "source": [
    "def ccb_predictions(files, index = 't'):\n",
    "    for f in files:\n",
    "        for l in open(f):\n",
    "\n",
    "\n",
    "class CcbPredictions:\n",
    "    def __init__(self, files, index='t'):\n",
    "        self.files = files\n",
    "        self.index = index\n",
    "        \n",
    "    def iter_slots(self):\n",
    "        result = {}\n",
    "        for f in files:\n",
    "            for l in open(f):\n",
    "                o = json.loads(l)\n",
    "                for \n",
    "                    yield result"
   ]
  },
  {
   "cell_type": "markdown",
   "metadata": {},
   "source": [
    "# Usage"
   ]
  },
  {
   "cell_type": "markdown",
   "metadata": {},
   "source": [
    "## Generate slim dsjson"
   ]
  },
  {
   "cell_type": "code",
   "execution_count": null,
   "metadata": {},
   "outputs": [],
   "source": [
    "from Pipeline.ccb.dsjson import processor"
   ]
  },
  {
   "cell_type": "code",
   "execution_count": null,
   "metadata": {},
   "outputs": [],
   "source": [
    "from Pipeline.dataflow import FilesPipeline\n",
    "from Pipeline.ccb.dsjson.processor import Processor\n",
    "\n",
    "processor = Processor()\n",
    "pipeline = FilesPipeline()\n",
    "\n",
    "slim = pipeline.lines_2_lines(files, processor.process, path_gen=lambda p: p.replace('original', 'slim'), process=True)\n",
    "slim"
   ]
  },
  {
   "cell_type": "markdown",
   "metadata": {},
   "source": [
    "## Sample"
   ]
  },
  {
   "cell_type": "code",
   "execution_count": null,
   "metadata": {},
   "outputs": [],
   "source": [
    "from Pipeline.dataflow import FilesPipeline\n",
    "from Pipeline.ccb.dsjson.processor import Processor\n",
    "from Pipeline.filters import UniformSampler\n",
    "\n",
    "sampler = UniformSampler(0.5)\n",
    "\n",
    "processor = Processor(filters=[lambda l: sampler.do(l)])\n",
    "result = pipeline.lines_2_lines(files, processor.process, path_gen=lambda p: p.replace('original', 'sample'), process=True)\n",
    "result"
   ]
  },
  {
   "cell_type": "markdown",
   "metadata": {},
   "source": [
    "## Predict"
   ]
  },
  {
   "cell_type": "code",
   "execution_count": null,
   "metadata": {},
   "outputs": [],
   "source": [
    "from Pipeline.dataflow import FilesPipeline\n",
    "from Pipeline.ccb.dsjson.predictions import Predictor\n",
    "\n",
    "predictor = Predictor(filters=[lambda l: True])\n",
    "cfe = pipeline.lines_2_lines(slim, predictor.predict, path_gen=lambda p: p.replace('slim', 'predict'), process=True)\n",
    "cfe"
   ]
  },
  {
   "source": [
    "# Preestimate"
   ],
   "cell_type": "markdown",
   "metadata": {}
  },
  {
   "cell_type": "code",
   "execution_count": null,
   "metadata": {},
   "outputs": [],
   "source": [
    "from Pipeline.estimators import Estimator, evaluate\n",
    "import Pipeline.ccb.estimators\n",
    "import json\n",
    "\n",
    "estimator = Estimator(factory = Pipeline.ccb.estimators.create, estimators = {'baseline1_old': ['ccb|snips|0'], 'random': ['ccb|snips|0']}, online_estimator = 'ccb|ips|0')\n",
    "result = estimator.preestimate(map(lambda l: json.loads(l), open(cfe[0])), '1min')"
   ]
  },
  {
   "source": [
    "# Evaluate"
   ],
   "cell_type": "markdown",
   "metadata": {}
  },
  {
   "cell_type": "code",
   "execution_count": null,
   "metadata": {},
   "outputs": [],
   "source": [
    "evaluate(estimator.read_preestimate('test.csv'))"
   ]
  },
  {
   "cell_type": "code",
   "execution_count": null,
   "metadata": {},
   "outputs": [],
   "source": [
    "import itertools\n",
    "import json\n",
    "predictions = map(lambda l: json.loads(l), itertools.chain.from_iterable([open(f) for f in cfe]))"
   ]
  },
  {
   "cell_type": "code",
   "execution_count": null,
   "metadata": {},
   "outputs": [],
   "source": []
  }
 ],
 "metadata": {
  "kernelspec": {
   "name": "python385jvsc74a57bd0fcc4d9e2a8350f4b426fa88136c80c744ccaacb1fcccdec649c503ae8c1bacf1",
   "display_name": "Python 3.8.5 64-bit ('base': conda)"
  },
  "language_info": {
   "codemirror_mode": {
    "name": "ipython",
    "version": 3
   },
   "file_extension": ".py",
   "mimetype": "text/x-python",
   "name": "python",
   "nbconvert_exporter": "python",
   "pygments_lexer": "ipython3",
   "version": "3.8.5-final"
  }
 },
 "nbformat": 4,
 "nbformat_minor": 2
}