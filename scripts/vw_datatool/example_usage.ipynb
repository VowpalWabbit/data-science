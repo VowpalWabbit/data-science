{
 "cells": [
  {
   "cell_type": "code",
   "execution_count": null,
   "metadata": {
    "hide_input": false
   },
   "outputs": [],
   "source": [
    "import CBSample, CBIO"
   ]
  },
  {
   "cell_type": "code",
   "execution_count": null,
   "metadata": {},
   "outputs": [],
   "source": [
    "# create an array to store CB impressions\n",
    "samples = []"
   ]
  },
  {
   "cell_type": "code",
   "execution_count": null,
   "metadata": {},
   "outputs": [],
   "source": [
    "# add a sample\n",
    "s = CBSample.Sample()\n",
    "\n",
    "s.add_shared_feature(\"username\", \"billy\")\n",
    "s.add_shared_feature(\"time_of_day\", \"morning\")\n",
    "s.add_shared_feature(\"a\", 1.2)\n",
    "\n",
    "s.add_action({\"type\":\"hot\",\"origin\":\"kenya\",\"organic\":\"yes\",\"roast\":\"dark\"}, action_tag = \"Cappucino\")\n",
    "s.add_action({\"type\":\"cold\",\"origin\":\"brazil\",\"organic\":\"yes\",\"roast\":\"light\"}, action_tag = \"Coldbrew\")\n",
    "s.add_action({\"type\":\"cold\",\"origin\":\"ethiopia\",\"organic\":\"no\",\"roast\":\"light\"}, action_tag = \"Icedmocha\")\n",
    "s.add_action({\"type\":\"hot\",\"origin\":\"brazil\",\"organic\":\"no\",\"roast\":\"dark\"}, action_tag = \"Latte\")\n",
    "\n",
    "s.add_label(1,0.5, action_index=1)\n",
    "\n",
    "samples.append(s)"
   ]
  },
  {
   "cell_type": "code",
   "execution_count": null,
   "metadata": {},
   "outputs": [],
   "source": [
    "# add another sample\n",
    "s.add_shared_feature(\"username\", \"joe\")\n",
    "s.add_shared_feature(\"time_of_day\", \"evening\")\n",
    "s.add_shared_feature(\"a\", 3.4)\n",
    "\n",
    "samples.append(s)"
   ]
  },
  {
   "cell_type": "code",
   "execution_count": null,
   "metadata": {},
   "outputs": [],
   "source": [
    "# save to json and vw files\n",
    "CBIO.samples_to_file(samples, '../test.json')\n",
    "CBIO.samples_to_file(samples, '../test.txt', format='vw')"
   ]
  },
  {
   "cell_type": "code",
   "execution_count": null,
   "metadata": {},
   "outputs": [],
   "source": [
    "print(s)"
   ]
  },
  {
   "cell_type": "code",
   "execution_count": null,
   "metadata": {},
   "outputs": [],
   "source": [
    "# convert to APS request\n",
    "for sample in samples:\n",
    "    print(sample.to_aps_request(1))"
   ]
  },
  {
   "cell_type": "code",
   "execution_count": null,
   "metadata": {},
   "outputs": [],
   "source": [
    "# import export dsjson\n",
    "samples2 = CBIO.samples_from_file('../test.json')\n",
    "print(samples2)\n",
    "CBIO.samples_to_file(samples2, '../test1.json')"
   ]
  },
  {
   "cell_type": "code",
   "execution_count": null,
   "metadata": {},
   "outputs": [],
   "source": [
    "# import export vw (assume no nested namespaces)\n",
    "samples = CBIO.samples_from_file('../test.txt', format='vw')\n",
    "CBIO.samples_to_file(samples, '../test1.txt', format='vw')"
   ]
  },
  {
   "cell_type": "code",
   "execution_count": null,
   "metadata": {},
   "outputs": [],
   "source": [
    "# convert vw and append to dsjson\n",
    "samples = CBIO.samples_from_file('../test.txt', format='vw')\n",
    "CBIO.samples_to_file(samples, '../test1.json', format='dsjson', append=True)"
   ]
  },
  {
   "cell_type": "code",
   "execution_count": null,
   "metadata": {},
   "outputs": [],
   "source": [
    "!vw --cb_adf -P 1 -d ../test.txt"
   ]
  },
  {
   "cell_type": "code",
   "execution_count": null,
   "metadata": {},
   "outputs": [],
   "source": [
    "!vw --cb_adf -P 1 -d ../test.json --json"
   ]
  }
 ],
 "metadata": {
  "kernelspec": {
   "display_name": "Python 3",
   "language": "python",
   "name": "python3"
  },
  "language_info": {
   "codemirror_mode": {
    "name": "ipython",
    "version": 3
   },
   "file_extension": ".py",
   "mimetype": "text/x-python",
   "name": "python",
   "nbconvert_exporter": "python",
   "pygments_lexer": "ipython3",
   "version": "3.6.9"
  }
 },
 "nbformat": 4,
 "nbformat_minor": 2
}
