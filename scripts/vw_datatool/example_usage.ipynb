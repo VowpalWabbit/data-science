{
 "cells": [
  {
   "cell_type": "code",
   "execution_count": 2,
   "metadata": {
    "ExecuteTime": {
     "end_time": "2020-01-28T21:45:27.971381Z",
     "start_time": "2020-01-28T21:45:27.969019Z"
    },
    "hide_input": false,
    "init_cell": true
   },
   "outputs": [],
   "source": [
    "import CBSample, CBIO"
   ]
  },
  {
   "cell_type": "code",
   "execution_count": 5,
   "metadata": {
    "ExecuteTime": {
     "end_time": "2020-01-28T23:44:37.020128Z",
     "start_time": "2020-01-28T23:44:37.017762Z"
    }
   },
   "outputs": [],
   "source": [
    "# create an array to store CB impressions\n",
    "samples = []"
   ]
  },
  {
   "cell_type": "code",
   "execution_count": 6,
   "metadata": {
    "ExecuteTime": {
     "end_time": "2020-01-28T23:46:17.626436Z",
     "start_time": "2020-01-28T23:46:17.618106Z"
    }
   },
   "outputs": [],
   "source": [
    "# add a sample\n",
    "s = CBSample.Sample()\n",
    "\n",
    "s.add_shared_feature(\"username\", \"billy\")\n",
    "s.add_shared_feature(\"time_of_day\", \"morning\")\n",
    "s.add_shared_feature(\"a\", 1.2)\n",
    "\n",
    "s.add_action({\"type\":\"hot\",\"origin\":\"kenya\",\"organic\":\"yes\",\"roast\":\"dark\"}, action_tag = \"Cappucino\")\n",
    "s.add_action({\"type\":\"cold\",\"origin\":\"brazil\",\"organic\":\"yes\",\"roast\":\"light\"}, action_tag = \"Coldbrew\")\n",
    "s.add_action({\"type\":\"cold\",\"origin\":\"ethiopia\",\"organic\":\"no\",\"roast\":\"light\"}, action_tag = \"Icedmocha\")\n",
    "s.add_action({\"type\":\"hot\",\"origin\":\"brazil\",\"organic\":\"no\",\"roast\":\"dark\"}, action_tag = \"Latte\")\n",
    "\n",
    "s.add_label(1,0.5, action_index=1)\n",
    "\n",
    "samples.append(s)"
   ]
  },
  {
   "cell_type": "code",
   "execution_count": 7,
   "metadata": {
    "ExecuteTime": {
     "end_time": "2020-01-28T23:46:39.826656Z",
     "start_time": "2020-01-28T23:46:39.823682Z"
    }
   },
   "outputs": [],
   "source": [
    "# add another sample\n",
    "s.add_shared_feature(\"username\", \"joe\")\n",
    "s.add_shared_feature(\"time_of_day\", \"evening\")\n",
    "s.add_shared_feature(\"a\", 3.4)\n",
    "\n",
    "samples.append(s)"
   ]
  },
  {
   "cell_type": "code",
   "execution_count": 8,
   "metadata": {
    "ExecuteTime": {
     "end_time": "2020-01-28T23:46:53.779185Z",
     "start_time": "2020-01-28T23:46:53.763138Z"
    }
   },
   "outputs": [],
   "source": [
    "# save to json and vw files\n",
    "CBIO.samples_to_file(samples, '../test.json')\n",
    "CBIO.samples_to_file(samples, '../test.txt', format='vw')"
   ]
  },
  {
   "cell_type": "code",
   "execution_count": 9,
   "metadata": {
    "ExecuteTime": {
     "end_time": "2020-01-28T23:47:13.888754Z",
     "start_time": "2020-01-28T23:47:13.885608Z"
    }
   },
   "outputs": [
    {
     "name": "stdout",
     "output_type": "stream",
     "text": [
      "{\n",
      "  \"_multi\": [\n",
      "    {\n",
      "      \"_tag\": \"Cappucino\",\n",
      "      \"i\": {\n",
      "        \"id\": \"Cappucino\"\n",
      "      },\n",
      "      \"j\": [\n",
      "        {\n",
      "          \"type\": \"hot\",\n",
      "          \"origin\": \"kenya\",\n",
      "          \"organic\": \"yes\",\n",
      "          \"roast\": \"dark\"\n",
      "        }\n",
      "      ]\n",
      "    },\n",
      "    {\n",
      "      \"_tag\": \"Coldbrew\",\n",
      "      \"i\": {\n",
      "        \"id\": \"Coldbrew\"\n",
      "      },\n",
      "      \"j\": [\n",
      "        {\n",
      "          \"type\": \"cold\",\n",
      "          \"origin\": \"brazil\",\n",
      "          \"organic\": \"yes\",\n",
      "          \"roast\": \"light\"\n",
      "        }\n",
      "      ]\n",
      "    },\n",
      "    {\n",
      "      \"_tag\": \"Icedmocha\",\n",
      "      \"i\": {\n",
      "        \"id\": \"Icedmocha\"\n",
      "      },\n",
      "      \"j\": [\n",
      "        {\n",
      "          \"type\": \"cold\",\n",
      "          \"origin\": \"ethiopia\",\n",
      "          \"organic\": \"no\",\n",
      "          \"roast\": \"light\"\n",
      "        }\n",
      "      ]\n",
      "    },\n",
      "    {\n",
      "      \"_tag\": \"Latte\",\n",
      "      \"i\": {\n",
      "        \"id\": \"Latte\"\n",
      "      },\n",
      "      \"j\": [\n",
      "        {\n",
      "          \"type\": \"hot\",\n",
      "          \"origin\": \"brazil\",\n",
      "          \"organic\": \"no\",\n",
      "          \"roast\": \"dark\"\n",
      "        }\n",
      "      ]\n",
      "    }\n",
      "  ],\n",
      "  \"f\": {\n",
      "    \"username\": \"joe\",\n",
      "    \"time_of_day\": \"evening\",\n",
      "    \"a\": 3.4\n",
      "  },\n",
      "  \"_label_cost\": 1,\n",
      "  \"_label_probability\": 0.5,\n",
      "  \"_label_Action\": 2,\n",
      "  \"_labelIndex\": 1\n",
      "}\n"
     ]
    }
   ],
   "source": [
    "print(s)"
   ]
  },
  {
   "cell_type": "code",
   "execution_count": 10,
   "metadata": {
    "ExecuteTime": {
     "end_time": "2020-01-28T23:47:56.298027Z",
     "start_time": "2020-01-28T23:47:56.294718Z"
    }
   },
   "outputs": [
    {
     "name": "stdout",
     "output_type": "stream",
     "text": [
      "{'context_features': [{'username': 'joe', 'time_of_day': 'evening', 'a': 3.4}], 'actions': [{'id': 'Cappucino', '_tag': 'Cappucino', 'features': [{'type': 'hot', 'origin': 'kenya', 'organic': 'yes', 'roast': 'dark'}]}, {'id': 'Coldbrew', '_tag': 'Coldbrew', 'features': [{'type': 'cold', 'origin': 'brazil', 'organic': 'yes', 'roast': 'light'}]}, {'id': 'Icedmocha', '_tag': 'Icedmocha', 'features': [{'type': 'cold', 'origin': 'ethiopia', 'organic': 'no', 'roast': 'light'}]}, {'id': 'Latte', '_tag': 'Latte', 'features': [{'type': 'hot', 'origin': 'brazil', 'organic': 'no', 'roast': 'dark'}]}], 'eventId': 1, 'excludedActions': [], 'deferActivation': False}\n",
      "{'context_features': [{'username': 'joe', 'time_of_day': 'evening', 'a': 3.4}], 'actions': [{'id': 'Cappucino', '_tag': 'Cappucino', 'features': [{'type': 'hot', 'origin': 'kenya', 'organic': 'yes', 'roast': 'dark'}]}, {'id': 'Coldbrew', '_tag': 'Coldbrew', 'features': [{'type': 'cold', 'origin': 'brazil', 'organic': 'yes', 'roast': 'light'}]}, {'id': 'Icedmocha', '_tag': 'Icedmocha', 'features': [{'type': 'cold', 'origin': 'ethiopia', 'organic': 'no', 'roast': 'light'}]}, {'id': 'Latte', '_tag': 'Latte', 'features': [{'type': 'hot', 'origin': 'brazil', 'organic': 'no', 'roast': 'dark'}]}], 'eventId': 1, 'excludedActions': [], 'deferActivation': False}\n"
     ]
    }
   ],
   "source": [
    "# convert to APS request\n",
    "for sample in samples:\n",
    "    print(sample.to_aps_request(1))"
   ]
  },
  {
   "cell_type": "code",
   "execution_count": 15,
   "metadata": {
    "ExecuteTime": {
     "end_time": "2020-01-28T23:49:17.540467Z",
     "start_time": "2020-01-28T23:49:17.534865Z"
    }
   },
   "outputs": [
    {
     "name": "stdout",
     "output_type": "stream",
     "text": [
      "[<CBSample.Sample object at 0x7f7516f1a6a0>, <CBSample.Sample object at 0x7f75166c47b8>]\n"
     ]
    }
   ],
   "source": [
    "# import export dsjson\n",
    "samples2 = CBIO.samples_from_file('../test.json')\n",
    "print(samples2)\n",
    "CBIO.samples_to_file(samples2, '../test1.json')"
   ]
  },
  {
   "cell_type": "code",
   "execution_count": 13,
   "metadata": {
    "ExecuteTime": {
     "end_time": "2020-01-28T23:48:52.139517Z",
     "start_time": "2020-01-28T23:48:52.127018Z"
    }
   },
   "outputs": [],
   "source": [
    "# import export vw (assume no nested namespaces)\n",
    "samples = CBIO.samples_from_file('../test.txt', format='vw')\n",
    "CBIO.samples_to_file(samples, '../test1.txt', format='vw')"
   ]
  },
  {
   "cell_type": "code",
   "execution_count": 14,
   "metadata": {
    "ExecuteTime": {
     "end_time": "2020-01-28T23:48:58.663881Z",
     "start_time": "2020-01-28T23:48:58.654847Z"
    }
   },
   "outputs": [],
   "source": [
    "# convert vw and append to dsjson\n",
    "samples = CBIO.samples_from_file('../test.txt', format='vw')\n",
    "CBIO.samples_to_file(samples, '../test1.json', format='dsjson', append=True)"
   ]
  },
  {
   "cell_type": "code",
   "execution_count": 16,
   "metadata": {
    "ExecuteTime": {
     "end_time": "2020-01-28T23:49:39.544502Z",
     "start_time": "2020-01-28T23:49:39.284786Z"
    }
   },
   "outputs": [
    {
     "name": "stdout",
     "output_type": "stream",
     "text": [
      "Num weight bits = 18\r\n",
      "learning rate = 0.5\r\n",
      "initial_t = 0\r\n",
      "power_t = 0.5\r\n",
      "using no cache\r\n",
      "Reading datafile = ../test.txt\r\n",
      "num sources = 1\r\n",
      "average  since         example        example  current  current  current\r\n",
      "loss     last          counter         weight    label  predict features\r\n",
      "0.000000 0.000000            1            1.0    known        0:0...       24\r\n",
      "0.000000 0.000000            2            2.0    known        0:0.363167...       24\r\n",
      "\r\n",
      "finished run\r\n",
      "number of examples = 2\r\n",
      "weighted example sum = 2.000000\r\n",
      "weighted label sum = 0.000000\r\n",
      "average loss = 0.000000\r\n",
      "total feature number = 56\r\n"
     ]
    }
   ],
   "source": [
    "!vw --cb_adf -P 1 -d ../test.txt"
   ]
  },
  {
   "cell_type": "code",
   "execution_count": 17,
   "metadata": {
    "ExecuteTime": {
     "end_time": "2020-01-28T23:49:43.967592Z",
     "start_time": "2020-01-28T23:49:43.807016Z"
    }
   },
   "outputs": [
    {
     "name": "stdout",
     "output_type": "stream",
     "text": [
      "Num weight bits = 18\r\n",
      "learning rate = 0.5\r\n",
      "initial_t = 0\r\n",
      "power_t = 0.5\r\n",
      "using no cache\r\n",
      "Reading datafile = ../test.json\r\n",
      "num sources = 1\r\n",
      "average  since         example        example  current  current  current\r\n",
      "loss     last          counter         weight    label  predict features\r\n",
      "0.000000 0.000000            1            1.0    known        0:0...       24\r\n",
      "0.000000 0.000000            2            2.0    known        0:0.363167...       24\r\n",
      "\r\n",
      "finished run\r\n",
      "number of examples = 2\r\n",
      "weighted example sum = 2.000000\r\n",
      "weighted label sum = 0.000000\r\n",
      "average loss = 0.000000\r\n",
      "total feature number = 56\r\n"
     ]
    }
   ],
   "source": [
    "!vw --cb_adf -P 1 -d ../test.json --json"
   ]
  }
 ],
 "metadata": {
  "kernelspec": {
   "display_name": "azureml_py36",
   "language": "python",
   "name": "azureml_py36"
  },
  "language_info": {
   "codemirror_mode": {
    "name": "ipython",
    "version": 3
   },
   "file_extension": ".py",
   "mimetype": "text/x-python",
   "name": "python",
   "nbconvert_exporter": "python",
   "pygments_lexer": "ipython3",
   "version": "3.6.8"
  },
  "varInspector": {
   "cols": {
    "lenName": 16,
    "lenType": 16,
    "lenVar": 40
   },
   "kernels_config": {
    "python": {
     "delete_cmd_postfix": "",
     "delete_cmd_prefix": "del ",
     "library": "var_list.py",
     "varRefreshCmd": "print(var_dic_list())"
    },
    "r": {
     "delete_cmd_postfix": ") ",
     "delete_cmd_prefix": "rm(",
     "library": "var_list.r",
     "varRefreshCmd": "cat(var_dic_list()) "
    }
   },
   "types_to_exclude": [
    "module",
    "function",
    "builtin_function_or_method",
    "instance",
    "_Feature"
   ],
   "window_display": true
  }
 },
 "nbformat": 4,
 "nbformat_minor": 2
}