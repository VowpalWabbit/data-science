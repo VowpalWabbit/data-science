{
 "metadata": {
  "language_info": {
   "codemirror_mode": {
    "name": "ipython",
    "version": 3
   },
   "file_extension": ".py",
   "mimetype": "text/x-python",
   "name": "python",
   "nbconvert_exporter": "python",
   "pygments_lexer": "ipython3",
   "version": "3.9.5"
  },
  "orig_nbformat": 2,
  "kernelspec": {
   "name": "python3",
   "display_name": "Python 3.9.5 64-bit ('base': conda)"
  },
  "metadata": {
   "interpreter": {
    "hash": "aee8b7b246df8f9039afb4144a1f6fd8d2ca17a180786b69acc140d282b71a49"
   }
  },
  "interpreter": {
   "hash": "e6d91e144c1e8b75ccdd4259c6213e15c7f5d1d664ef01abea10605a34f365c2"
  }
 },
 "nbformat": 4,
 "nbformat_minor": 2,
 "cells": [
  {
   "cell_type": "markdown",
   "source": [
    "# Initiailize VW executor"
   ],
   "metadata": {}
  },
  {
   "cell_type": "code",
   "execution_count": null,
   "source": [
    "from vw_executor.vw import Vw\r\n",
    "\r\n",
    "vw = Vw('vw', '.vw_cache')"
   ],
   "outputs": [],
   "metadata": {}
  },
  {
   "cell_type": "markdown",
   "source": [
    "# Get the data"
   ],
   "metadata": {}
  },
  {
   "cell_type": "code",
   "execution_count": null,
   "source": [
    "inputs = [\r\n",
    "    'vw_executor/tests/data/cb_100_0.json',\r\n",
    "    'vw_executor/tests/data/cb_100_1.json', \r\n",
    "    ]\r\n",
    "inputs"
   ],
   "outputs": [],
   "metadata": {}
  },
  {
   "cell_type": "markdown",
   "source": [
    "# Define options grid and train"
   ],
   "metadata": {}
  },
  {
   "cell_type": "code",
   "execution_count": null,
   "source": [
    "from vw_executor.vw_opts import dimension, product\r\n",
    "import pandas as pd\r\n",
    "\r\n",
    "opts = product(\r\n",
    "    dimension('#base', ['--cb_explore_adf -P 10000 --preserve_performance_counters --save_resume --dsjson']),\r\n",
    "    dimension('--cb_type', ['ips', 'mtr']),\r\n",
    ")\r\n",
    "opts"
   ],
   "outputs": [],
   "metadata": {}
  },
  {
   "cell_type": "code",
   "execution_count": null,
   "source": [
    "result = vw.train(inputs, opts)\r\n",
    "result"
   ],
   "outputs": [],
   "metadata": {}
  },
  {
   "cell_type": "markdown",
   "source": [
    "## Get access to losses and job artifacts"
   ],
   "metadata": {}
  },
  {
   "cell_type": "code",
   "execution_count": null,
   "source": [
    "print(f'loss[0]: {result[0].loss}')\r\n",
    "print(f'outputs: {result[0].outputs}')"
   ],
   "outputs": [],
   "metadata": {}
  },
  {
   "cell_type": "markdown",
   "source": [
    "# Pandas wrappers"
   ],
   "metadata": {}
  },
  {
   "cell_type": "code",
   "execution_count": null,
   "source": [
    "opts = pd.DataFrame(product(\r\n",
    "    dimension('#base', ['--ccb_explore_adf -P 10 --preserve_performance_counters --save_resume']),\r\n",
    "    dimension('--cb_type', ['ips', 'mtr']),\r\n",
    "    dimension('#format', ['', '--dsjson'])\r\n",
    "))\r\n",
    "opts"
   ],
   "outputs": [],
   "metadata": {}
  },
  {
   "cell_type": "code",
   "execution_count": null,
   "source": [
    "result = vw.train(inputs, opts)\r\n",
    "result"
   ],
   "outputs": [],
   "metadata": {}
  },
  {
   "cell_type": "markdown",
   "source": [
    "## Investigate failure"
   ],
   "metadata": {}
  },
  {
   "cell_type": "code",
   "execution_count": null,
   "source": [
    "result[~result['!Loss'].notnull()].iloc[0]['!Job'].failed.stdout.raw()"
   ],
   "outputs": [],
   "metadata": {}
  },
  {
   "cell_type": "markdown",
   "source": [
    "## Explore metrics "
   ],
   "metadata": {}
  },
  {
   "cell_type": "code",
   "execution_count": null,
   "source": [
    "result.iloc[1]['!Job'].loss_table"
   ],
   "outputs": [],
   "metadata": {}
  },
  {
   "cell_type": "code",
   "execution_count": null,
   "source": [
    "import matplotlib.pyplot as plt\r\n",
    "[(-r['!Job'].loss_table['loss']).plot(label=f\"{r['!Job'].name}\", figsize=(10,6)) for i, r in result[result['!Loss'].notnull()].iterrows()]\r\n",
    "plt.legend()"
   ],
   "outputs": [],
   "metadata": {}
  }
 ]
}