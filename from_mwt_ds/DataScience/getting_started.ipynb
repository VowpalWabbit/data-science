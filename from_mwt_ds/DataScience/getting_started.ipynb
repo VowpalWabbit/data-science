{
 "metadata": {
  "language_info": {
   "codemirror_mode": {
    "name": "ipython",
    "version": 3
   },
   "file_extension": ".py",
   "mimetype": "text/x-python",
   "name": "python",
   "nbconvert_exporter": "python",
   "pygments_lexer": "ipython3",
   "version": "3.8.6"
  },
  "orig_nbformat": 2,
  "kernelspec": {
   "name": "python38564bitfd59076926044bd899f4541e1d3f6749",
   "display_name": "Python 3.8.6 64-bit"
  },
  "metadata": {
   "interpreter": {
    "hash": "aee8b7b246df8f9039afb4144a1f6fd8d2ca17a180786b69acc140d282b71a49"
   }
  }
 },
 "nbformat": 4,
 "nbformat_minor": 2,
 "cells": [
  {
   "source": [
    "# Initiailize VW executor"
   ],
   "cell_type": "markdown",
   "metadata": {}
  },
  {
   "cell_type": "code",
   "execution_count": null,
   "metadata": {},
   "outputs": [],
   "source": [
    "from vw_pipeline.handlers import WidgetHandler\n",
    "from vw_pipeline.vw_cache import VwCache\n",
    "from vw_pipeline.vw import Vw\n",
    "from vw_pipeline.vw_opts import dimension, product\n",
    "import pandas as pd\n",
    "\n",
    "#your vw path\n",
    "vw_path = r'vw'\n",
    "\n",
    "cache = VwCache(r'_cache1')\n",
    "vw = Vw(vw_path,\n",
    "    cache,\n",
    "    handlers=[WidgetHandler()],\n",
    " #   loggers=[Loggers.ConsoleLogger('DEBUG')]\n",
    "    )"
   ]
  },
  {
   "source": [
    "# Get the data"
   ],
   "cell_type": "markdown",
   "metadata": {}
  },
  {
   "cell_type": "code",
   "execution_count": null,
   "metadata": {},
   "outputs": [],
   "source": [
    "inputs = [\n",
    "    #'file1.json',\n",
    "    #'file2.json',\n",
    "    ]\n",
    "inputs"
   ]
  },
  {
   "source": [
    "# Define options grid and train"
   ],
   "cell_type": "markdown",
   "metadata": {}
  },
  {
   "cell_type": "code",
   "execution_count": null,
   "metadata": {},
   "outputs": [],
   "source": [
    "opts = product(\n",
    "    dimension('#base', ['--ccb_explore_adf -P 10000 --preserve_performance_counters --save_resume --dsjson']),\n",
    "    dimension('--cb_type', ['ips', 'mtr']),\n",
    ")\n",
    "opts"
   ]
  },
  {
   "cell_type": "code",
   "execution_count": null,
   "metadata": {},
   "outputs": [],
   "source": [
    "result = vw.train(inputs, opts)\n",
    "result"
   ]
  },
  {
   "source": [
    "## Get access to losses and job artifacts"
   ],
   "cell_type": "markdown",
   "metadata": {}
  },
  {
   "cell_type": "code",
   "execution_count": null,
   "metadata": {},
   "outputs": [],
   "source": [
    "print(f'loss[0]: {result[0].loss}')\n",
    "print(f'outputs: {result[0].outputs}')"
   ]
  },
  {
   "source": [
    "# Pandas wrappers"
   ],
   "cell_type": "markdown",
   "metadata": {}
  },
  {
   "cell_type": "code",
   "execution_count": null,
   "metadata": {},
   "outputs": [],
   "source": [
    "opts = pd.DataFrame(product(\n",
    "    dimension('#base', ['--ccb_explore_adf -P 100 --preserve_performance_counters --save_resume']),\n",
    "    dimension('--cb_type', ['ips', 'mtr']),\n",
    "    dimension('#format', ['', '--dsjson'])\n",
    "))\n",
    "opts"
   ]
  },
  {
   "cell_type": "code",
   "execution_count": null,
   "metadata": {},
   "outputs": [],
   "source": [
    "result = vw.train(inputs, opts)\n",
    "result"
   ]
  },
  {
   "source": [
    "## Investigate failure"
   ],
   "cell_type": "markdown",
   "metadata": {}
  },
  {
   "cell_type": "code",
   "execution_count": null,
   "metadata": {},
   "outputs": [],
   "source": [
    "result[~result['!Loss'].notnull()].iloc[0]['!Job'].tasks[0].stdout()"
   ]
  },
  {
   "source": [
    "## Explore metrics "
   ],
   "cell_type": "markdown",
   "metadata": {}
  },
  {
   "cell_type": "code",
   "execution_count": null,
   "metadata": {},
   "outputs": [],
   "source": [
    "result.iloc[1]['!Metrics'].head()"
   ]
  },
  {
   "cell_type": "code",
   "execution_count": null,
   "metadata": {},
   "outputs": [],
   "source": [
    "import matplotlib.pyplot as plt\n",
    "[(-r['!Metrics']['loss_per_example']).plot(label=f\"{r['!Job'].name}\", figsize=(10,6)) for i, r in result[result['!Loss'].notnull()].iterrows()]\n",
    "plt.legend()"
   ]
  }
 ]
}