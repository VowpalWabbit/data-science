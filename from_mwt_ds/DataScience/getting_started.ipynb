{
 "cells": [
  {
   "cell_type": "markdown",
   "metadata": {},
   "source": [
    "# Initiailize VW executor"
   ]
  },
  {
   "cell_type": "code",
   "execution_count": null,
   "metadata": {},
   "outputs": [],
   "source": [
    "from vw_executor.vw import Vw\n",
    "\n",
    "vw = Vw('.vw_cache')"
   ]
  },
  {
   "cell_type": "markdown",
   "metadata": {},
   "source": [
    "# Get the data"
   ]
  },
  {
   "cell_type": "code",
   "execution_count": null,
   "metadata": {},
   "outputs": [],
   "source": [
    "inputs = [\n",
    "    'vw_executor/tests/data/cb_100_0.json',\n",
    "    'vw_executor/tests/data/cb_100_1.json', \n",
    "    ]\n",
    "inputs"
   ]
  },
  {
   "cell_type": "markdown",
   "metadata": {},
   "source": [
    "# Define options grid and train"
   ]
  },
  {
   "cell_type": "code",
   "execution_count": null,
   "metadata": {},
   "outputs": [],
   "source": [
    "from vw_executor.vw_opts import Grid\n",
    "import pandas as pd\n",
    "\n",
    "opts = Grid({\n",
    "    '#base': ['--cb_explore_adf -P 10000 --preserve_performance_counters --save_resume --dsjson'],\n",
    "    '--cb_type': ['ips', 'mtr']})\n",
    "opts"
   ]
  },
  {
   "cell_type": "code",
   "execution_count": null,
   "metadata": {},
   "outputs": [],
   "source": [
    "result = vw.train(inputs, opts)\n",
    "result"
   ]
  },
  {
   "cell_type": "markdown",
   "metadata": {},
   "source": [
    "## Get access to losses and job artifacts"
   ]
  },
  {
   "cell_type": "code",
   "execution_count": null,
   "metadata": {},
   "outputs": [],
   "source": [
    "print(f'loss[0]: {result[0].loss}')\n",
    "print(f'outputs: {result[0].outputs}')"
   ]
  },
  {
   "cell_type": "markdown",
   "metadata": {},
   "source": [
    "# Pandas wrappers"
   ]
  },
  {
   "cell_type": "code",
   "execution_count": null,
   "metadata": {},
   "outputs": [],
   "source": [
    "opts = pd.DataFrame(Grid({\n",
    "    '#base': ['--ccb_explore_adf -P 10 --preserve_performance_counters --save_resume'],\n",
    "    '--cb_type': ['ips', 'mtr'],\n",
    "    '#format': ['', '--dsjson']}))\n",
    "opts"
   ]
  },
  {
   "cell_type": "code",
   "execution_count": null,
   "metadata": {},
   "outputs": [],
   "source": [
    "result = vw.train(inputs, opts)\n",
    "result"
   ]
  },
  {
   "cell_type": "markdown",
   "metadata": {},
   "source": [
    "## Investigate failure"
   ]
  },
  {
   "cell_type": "code",
   "execution_count": null,
   "metadata": {},
   "outputs": [],
   "source": [
    "result[result['!Status'] == 'Failed'].iloc[0]['!Job'].failed.stdout.raw"
   ]
  },
  {
   "cell_type": "markdown",
   "metadata": {},
   "source": [
    "## Explore metrics "
   ]
  },
  {
   "cell_type": "code",
   "execution_count": null,
   "metadata": {},
   "outputs": [],
   "source": [
    "result[result['!Status'] == 'Success'].iloc[0]['!Job'].loss_table"
   ]
  },
  {
   "cell_type": "code",
   "execution_count": null,
   "metadata": {},
   "outputs": [],
   "source": [
    "import matplotlib.pyplot as plt\n",
    "[(-r['!Job'].loss_table['loss']).plot(label=f\"{r['!Job'].name}\", figsize=(10,6)) for i, r in result[result['!Status'] == 'Success'].iterrows()]\n",
    "plt.legend()"
   ]
  },
  {
   "cell_type": "markdown",
   "metadata": {},
   "source": [
    "# Interactive mode"
   ]
  },
  {
   "cell_type": "code",
   "execution_count": null,
   "metadata": {},
   "outputs": [],
   "source": [
    "%matplotlib widget \n",
    "from vw_executor.vw_opts import InteractiveGrid as Grid\n",
    "opts = Grid({\n",
    "    '#base': ['--cb_explore_adf -P 10 --preserve_performance_counters --save_resume --dsjson'],\n",
    "    '--cb_type': ['ips', 'mtr'],\n",
    "    '--learning_rate': [1e-7, 1e-6, 1e-5, 1e-4, 1e-3]})\n",
    "vw.train(inputs, opts)"
   ]
  },
  {
   "cell_type": "markdown",
   "metadata": {},
   "source": [
    "# Get more logging"
   ]
  },
  {
   "cell_type": "markdown",
   "metadata": {},
   "source": [
    "## Log to console"
   ]
  },
  {
   "cell_type": "code",
   "execution_count": null,
   "metadata": {},
   "outputs": [],
   "source": [
    "from vw_executor.vw import Vw\n",
    "from vw_executor.loggers import ConsoleLogger\n",
    "\n",
    "vw = Vw('.vw_cache',\n",
    "    loggers = [ConsoleLogger('DEBUG')])\n",
    "\n",
    "vw.train(inputs, '--cb_explore_adf --dsjson')"
   ]
  },
  {
   "cell_type": "markdown",
   "metadata": {},
   "source": [
    "## Log to file"
   ]
  },
  {
   "cell_type": "code",
   "execution_count": null,
   "metadata": {},
   "outputs": [],
   "source": [
    "from vw_executor.vw import Vw\n",
    "from vw_executor.loggers import FileLogger\n",
    "\n",
    "vw = Vw('.vw_cache',\n",
    "    loggers = [FileLogger('log.txt', 'DEBUG')])\n",
    "\n",
    "vw.train(inputs, '--cb_explore_adf --dsjson')"
   ]
  },
  {
   "cell_type": "markdown",
   "metadata": {},
   "source": [
    "## Log to multiple files"
   ]
  },
  {
   "cell_type": "code",
   "execution_count": null,
   "metadata": {},
   "outputs": [],
   "source": [
    "from vw_executor.vw import Vw\n",
    "from vw_executor.loggers import FileLogger\n",
    "\n",
    "vw = Vw('.vw_cache',\n",
    "    loggers = [MultiFileLogger('artifacts', 'DEBUG')])\n",
    "\n",
    "vw.train(inputs, ['--cb_explore_adf --dsjson --epsilon 0.2', '--cb_explore_adf --dsjson --epsilon 0.3'])"
   ]
  },
  {
   "cell_type": "markdown",
   "metadata": {},
   "source": [
    "## Publish artifacts"
   ]
  },
  {
   "cell_type": "code",
   "execution_count": null,
   "metadata": {},
   "outputs": [],
   "source": [
    "from vw_executor.vw import Vw\n",
    "from vw_executor.handlers import ArtifactCopy\n",
    "\n",
    "vw = Vw('.vw_cache',\n",
    "    handlers = [ArtifactCopy('artifacts', outputs=['-p'])])\n",
    "\n",
    "vw.train(inputs, ['--cb_explore_adf --dsjson --epsilon 0.2', '--cb_explore_adf --dsjson --epsilon 0.3'], ['-p'])"
   ]
  }
 ],
 "metadata": {
  "interpreter": {
   "hash": "e6d91e144c1e8b75ccdd4259c6213e15c7f5d1d664ef01abea10605a34f365c2"
  },
  "kernelspec": {
   "display_name": "Python 3 (ipykernel)",
   "language": "python",
   "name": "python3"
  },
  "language_info": {
   "codemirror_mode": {
    "name": "ipython",
    "version": 3
   },
   "file_extension": ".py",
   "mimetype": "text/x-python",
   "name": "python",
   "nbconvert_exporter": "python",
   "pygments_lexer": "ipython3",
   "version": "3.9.5"
  },
  "metadata": {
   "interpreter": {
    "hash": "aee8b7b246df8f9039afb4144a1f6fd8d2ca17a180786b69acc140d282b71a49"
   }
  }
 },
 "nbformat": 4,
 "nbformat_minor": 4
}
