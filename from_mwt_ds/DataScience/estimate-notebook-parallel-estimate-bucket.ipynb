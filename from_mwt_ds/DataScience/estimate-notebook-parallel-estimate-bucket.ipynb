{
 "cells": [
  {
   "cell_type": "markdown",
   "id": "f43b1b1c",
   "metadata": {},
   "source": [
    "# Contextual Bandits data"
   ]
  },
  {
   "cell_type": "markdown",
   "id": "b4148852",
   "metadata": {},
   "source": [
    "## Load data"
   ]
  },
  {
   "cell_type": "code",
   "execution_count": 1,
   "id": "cc2ef7f9",
   "metadata": {},
   "outputs": [
    {
     "name": "stdout",
     "output_type": "stream",
     "text": [
      "Workspace name: rlos-cfe-aml\n",
      "Azure region: eastus\n",
      "Subscription id: 98ef7fe8-6707-4324-b08e-8a2e663d8f34\n",
      "Resource group: rlos_cfe2021\n"
     ]
    }
   ],
   "source": [
    "# Initialize Workspace\n",
    "from azureml.core import Workspace\n",
    "ws = Workspace.from_config()\n",
    "print('Workspace name: ' + ws.name, \n",
    "      'Azure region: ' + ws.location, \n",
    "      'Subscription id: ' + ws.subscription_id, \n",
    "      'Resource group: ' + ws.resource_group, sep = '\\n')"
   ]
  },
  {
   "cell_type": "code",
   "execution_count": 2,
   "id": "9752bd9d",
   "metadata": {},
   "outputs": [
    {
     "name": "stdout",
     "output_type": "stream",
     "text": [
      "Found existing compute target\n",
      "{'currentNodeCount': 0, 'targetNodeCount': 0, 'nodeStateCounts': {'preparingNodeCount': 0, 'runningNodeCount': 0, 'idleNodeCount': 0, 'unusableNodeCount': 0, 'leavingNodeCount': 0, 'preemptedNodeCount': 0}, 'allocationState': 'Steady', 'allocationStateTransitionTime': '2021-07-15T03:30:10.452000+00:00', 'errors': None, 'creationTime': '2021-05-11T15:30:36.513512+00:00', 'modifiedTime': '2021-05-11T15:31:22.013501+00:00', 'provisioningState': 'Succeeded', 'provisioningStateTransitionTime': None, 'scaleSettings': {'minNodeCount': 0, 'maxNodeCount': 4, 'nodeIdleTimeBeforeScaleDown': 'PT1800S'}, 'vmPriority': 'Dedicated', 'vmSize': 'STANDARD_DS2_V2'}\n"
     ]
    }
   ],
   "source": [
    "# Create or Attach AML Compute\n",
    "from azureml.core.compute import ComputeTarget, AmlCompute\n",
    "from azureml.core.compute_target import ComputeTargetException\n",
    "\n",
    "# choose a name for your cluster\n",
    "cluster_name = \"\"\n",
    "\n",
    "try:\n",
    "    compute_target = ComputeTarget(workspace=ws, name=cluster_name)\n",
    "    print('Found existing compute target')\n",
    "except ComputeTargetException:\n",
    "    print('Creating a new compute target...')\n",
    "    compute_config = AmlCompute.provisioning_configuration(vm_size='STANDARD_D2_V2', max_nodes=4)\n",
    "\n",
    "    # create the cluster\n",
    "    compute_target = ComputeTarget.create(ws, cluster_name, compute_config)\n",
    "\n",
    "    # can poll for a minimum number of nodes and for a specific timeout. \n",
    "    # if no min node count is provided it uses the scale settings for the cluster\n",
    "    compute_target.wait_for_completion(show_output=True, min_node_count=None, timeout_in_minutes=20)\n",
    "\n",
    "# use get_status() to get a detailed status for the current cluster. \n",
    "print(compute_target.get_status().serialize())"
   ]
  },
  {
   "cell_type": "code",
   "execution_count": 3,
   "id": "6146489c",
   "metadata": {},
   "outputs": [
    {
     "data": {
      "text/plain": [
       "'script-run/cb'"
      ]
     },
     "execution_count": 3,
     "metadata": {},
     "output_type": "execute_result"
    }
   ],
   "source": [
    "import shutil, os\n",
    "source_directory = 'script-run'\n",
    "shutil.rmtree(source_directory)\n",
    "os.makedirs(source_directory, exist_ok=True)\n",
    "shutil.copytree('cb', os.path.join(source_directory, 'cb'))"
   ]
  },
  {
   "cell_type": "code",
   "execution_count": 4,
   "id": "1ed8b8e6",
   "metadata": {},
   "outputs": [
    {
     "name": "stdout",
     "output_type": "stream",
     "text": [
      "Writing script-run/setup_mpi.py\n"
     ]
    }
   ],
   "source": [
    "%%writefile $source_directory/setup_mpi.py\n",
    "# Copyright (c) Microsoft Corporation. All rights reserved.\n",
    "# Licensed under the MIT License.\n",
    "import sys\n",
    "import os\n",
    "from mpi4py import MPI\n",
    "import pandas as pd\n",
    "\n",
    "mounted_input_path = sys.argv[1]\n",
    "mounted_output_path = sys.argv[2]\n",
    "\n",
    "print(\"Argument 1: %s\" % mounted_input_path)\n",
    "print(\"Argument 2: %s\" % mounted_output_path)\n",
    "print(\"Number of nodes {}:\".format(MPI.COMM_WORLD.Get_size()))\n",
    "print(\"Node index {}:\".format(MPI.COMM_WORLD.Get_rank()))\n",
    "\n",
    "even = []\n",
    "odd = [] \n",
    "\n",
    "input_file_list = os.listdir(mounted_input_path)\n",
    "print(\"File number: {}\".format(len(input_file_list)))\n",
    "for index in range(0, len(input_file_list)):\n",
    "    if index % 2 == 0:\n",
    "        even.append(input_file_list[index])\n",
    "        print(\"read in {} file\".format(input_file_list[index]))\n",
    "    else:\n",
    "        odd.append(input_file_list[index])\n",
    "        print(\"read in {} file\".format(input_file_list[index]))\n",
    "print(even, odd)\n",
    " \n",
    "config = {\n",
    "   'policies': {'random': ['ips', 'snips'], 'baseline1': ['ips']},\n",
    "   'aggregation': {'num_of_events': 10}\n",
    "}\n",
    "\n",
    "input_files = []\n",
    "if MPI.COMM_WORLD.Get_rank() == 0:\n",
    "    input_files = odd\n",
    "elif MPI.COMM_WORLD.Get_rank() == 1:\n",
    "    input_files = even\n",
    "# estimate(input_files, config)"
   ]
  },
  {
   "cell_type": "code",
   "execution_count": 5,
   "id": "e8dc8582",
   "metadata": {},
   "outputs": [
    {
     "name": "stdout",
     "output_type": "stream",
     "text": [
      "{\n",
      "  \"name\": \"workspaceblobstore\",\n",
      "  \"container_name\": \"azureml-blobstore-5cb75d62-5e97-45de-99a3-fa348a82842c\",\n",
      "  \"account_name\": \"rloscfestorage\",\n",
      "  \"protocol\": \"https\",\n",
      "  \"endpoint\": \"core.windows.net\"\n",
      "}\n",
      "/Users/krystalmaughan/Desktop/AzureTest/datascience/data-science/from_mwt_ds/DataScience\n",
      "/Users/krystalmaughan/anaconda3/envs/azureenv/lib/python37.zip\n",
      "/Users/krystalmaughan/anaconda3/envs/azureenv/lib/python3.7\n",
      "/Users/krystalmaughan/anaconda3/envs/azureenv/lib/python3.7/lib-dynload\n",
      "\n",
      "/Users/krystalmaughan/anaconda3/envs/azureenv/lib/python3.7/site-packages\n",
      "/Users/krystalmaughan/anaconda3/envs/azureenv/lib/python3.7/site-packages/aeosa\n",
      "/Users/krystalmaughan/anaconda3/envs/azureenv/lib/python3.7/site-packages/vw_estimators-0.0.1-py3.7.egg\n",
      "/Users/krystalmaughan/anaconda3/envs/azureenv/lib/python3.7/site-packages/vw_executor-0.0.1-py3.7.egg\n",
      "/Users/krystalmaughan/anaconda3/envs/azureenv/lib/python3.7/site-packages/locket-0.2.1-py3.7.egg\n",
      "/Users/krystalmaughan/anaconda3/envs/azureenv/lib/python3.7/site-packages/IPython/extensions\n",
      "/Users/krystalmaughan/.ipython\n",
      "/Users/krystalmaughan/anaconda3/envs/azureenv/lib/python3.7/site-packages/azureml/_project/vendor\n",
      "/Users/krystalmaughan/anaconda3/envs/azureenv/lib/python3.7/site-packages/azureml/automl/core/_vendor\n",
      "['/Users/krystalmaughan/Desktop/AzureTest/datascience/data-science/from_mwt_ds/DataScience', '/Users/krystalmaughan/anaconda3/envs/azureenv/lib/python37.zip', '/Users/krystalmaughan/anaconda3/envs/azureenv/lib/python3.7', '/Users/krystalmaughan/anaconda3/envs/azureenv/lib/python3.7/lib-dynload', '', '/Users/krystalmaughan/anaconda3/envs/azureenv/lib/python3.7/site-packages', '/Users/krystalmaughan/anaconda3/envs/azureenv/lib/python3.7/site-packages/aeosa', '/Users/krystalmaughan/anaconda3/envs/azureenv/lib/python3.7/site-packages/vw_estimators-0.0.1-py3.7.egg', '/Users/krystalmaughan/anaconda3/envs/azureenv/lib/python3.7/site-packages/vw_executor-0.0.1-py3.7.egg', '/Users/krystalmaughan/anaconda3/envs/azureenv/lib/python3.7/site-packages/locket-0.2.1-py3.7.egg', '/Users/krystalmaughan/anaconda3/envs/azureenv/lib/python3.7/site-packages/IPython/extensions', '/Users/krystalmaughan/.ipython', '/Users/krystalmaughan/anaconda3/envs/azureenv/lib/python3.7/site-packages/azureml/_project/vendor', '/Users/krystalmaughan/anaconda3/envs/azureenv/lib/python3.7/site-packages/azureml/automl/core/_vendor']\n",
      "Uploading an estimated of 4 files\n",
      "Uploading test_data/cb/01.csv\n",
      "Uploaded test_data/cb/01.csv, 1 files out of an estimated total of 4\n",
      "Uploading test_data/cb/02.csv\n",
      "Uploaded test_data/cb/02.csv, 2 files out of an estimated total of 4\n",
      "Uploading test_data/cb/03.csv\n",
      "Uploaded test_data/cb/03.csv, 3 files out of an estimated total of 4\n",
      "Uploading test_data/cb/04.csv\n",
      "Uploaded test_data/cb/04.csv, 4 files out of an estimated total of 4\n",
      "Uploaded 4 files\n"
     ]
    },
    {
     "data": {
      "text/plain": [
       "$AZUREML_DATAREFERENCE_5bf04d6aab524872b11a93816f7f038b"
      ]
     },
     "execution_count": 5,
     "metadata": {},
     "output_type": "execute_result"
    }
   ],
   "source": [
    "def_blob_store = ws.get_default_datastore()\n",
    "print(def_blob_store)\n",
    "import sys\n",
    "for p in sys.path:\n",
    "    print(p)\n",
    "print(sys.path)\n",
    "def_blob_store.upload_files(files = [\"test_data/cb/01.csv\", \"test_data/cb/02.csv\", \"test_data/cb/03.csv\",\"test_data/cb/04.csv\"],\n",
    "                        target_path = '/dataset/cb/',\n",
    "                        overwrite = True,\n",
    "                        show_progress = True)"
   ]
  },
  {
   "cell_type": "code",
   "execution_count": 6,
   "id": "e8c83ec2",
   "metadata": {},
   "outputs": [],
   "source": [
    "from azureml.core import Dataset\n",
    "from azureml.data import OutputFileDatasetConfig\n",
    "\n",
    "input_data = Dataset.File.from_files(def_blob_store.path('/dataset/cb/*')).as_named_input('input').as_mount()\n",
    "output = OutputFileDatasetConfig(destination=(def_blob_store, 'sample/outputdataset'))"
   ]
  },
  {
   "cell_type": "code",
   "execution_count": 7,
   "id": "9ea39a8a",
   "metadata": {},
   "outputs": [
    {
     "name": "stderr",
     "output_type": "stream",
     "text": [
      "'enabled' is deprecated. Please use the azureml.core.runconfig.DockerConfiguration object with the 'use_docker' param instead.\n"
     ]
    }
   ],
   "source": [
    "from azureml.core import Environment\n",
    "from azureml.core.runconfig import DockerConfiguration\n",
    "from azureml.core.conda_dependencies import CondaDependencies\n",
    "\n",
    "myenv = Environment(\"myenv\")\n",
    "\n",
    "myenv.docker.enabled = True\n",
    "myenv.python.conda_dependencies = CondaDependencies.create(pip_packages=['azureml-sdk>=1.12.0', 'pandas','matplotlib','mpi4py','vw-estimators'])\n",
    "myenv.docker.base_image = 'mcr.microsoft.com/azureml/intelmpi2018.3-cuda9.0-cudnn7-ubuntu16.04'\n",
    "docker_config = DockerConfiguration(use_docker=True)"
   ]
  },
  {
   "cell_type": "code",
   "execution_count": 8,
   "id": "93a1a347",
   "metadata": {},
   "outputs": [],
   "source": [
    "from azureml.core import ScriptRunConfig\n",
    "from azureml.core.runconfig import MpiConfiguration\n",
    "\n",
    "src = ScriptRunConfig(source_directory=source_directory, \n",
    "                      script='setup_mpi.py', \n",
    "                      # to mount the dataset on the remote compute and pass the mounted path as an argument to the training script\n",
    "                      arguments =[input_data, output],\n",
    "                      compute_target=compute_target,\n",
    "                      environment=myenv,\n",
    "                      distributed_job_config=MpiConfiguration(node_count=2))"
   ]
  },
  {
   "cell_type": "code",
   "execution_count": 9,
   "id": "2380dc5c",
   "metadata": {},
   "outputs": [],
   "source": [
    "## Build and Submit Experiment\n",
    "from azureml.core import Experiment\n",
    "exp = Experiment(ws, 'ScriptRun_parallel')\n",
    "run = exp.submit(config=src)"
   ]
  },
  {
   "cell_type": "code",
   "execution_count": null,
   "id": "18c7c18d",
   "metadata": {},
   "outputs": [
    {
     "name": "stdout",
     "output_type": "stream",
     "text": [
      "RunId: ScriptRun_parallel_1626356910_5ac82d62\n",
      "Web View: https://ml.azure.com/runs/ScriptRun_parallel_1626356910_5ac82d62?wsid=/subscriptions/98ef7fe8-6707-4324-b08e-8a2e663d8f34/resourcegroups/rlos_cfe2021/workspaces/rlos-cfe-aml&tid=43f90318-9a31-4f25-8b9d-fe3023853a8c\n",
      "\n",
      "Streaming azureml-logs/55_azureml-execution-tvmps_5a56367b4fdc43b744dd97b823ee19d748a1a0911d1a18ef505b75b652137d15_d.txt\n",
      "========================================================================================================================\n",
      "\n",
      "2021-07-15T13:51:36Z Running following command: /bin/bash -c sudo blobfuse /mnt/batch/tasks/shared/LS_root/jobs/rlos-cfe-aml/azureml/scriptrun_parallel_1626356910_5ac82d62/mounts/workspaceblobstore --tmp-path=/mnt/batch/tasks/shared/LS_root/jobs/rlos-cfe-aml/azureml/scriptrun_parallel_1626356910_5ac82d62/caches/workspaceblobstore -o ro --file-cache-timeout-in-seconds=1000000 --cache-size-mb=11466 -o nonempty -o allow_other --config-file=/mnt/batch/tasks/shared/LS_root/jobs/rlos-cfe-aml/azureml/scriptrun_parallel_1626356910_5ac82d62/configs/workspaceblobstore.cfg --log-level=LOG_WARNING\n",
      "2021-07-15T13:51:37Z Successfully mounted a/an Blobfuse File System at /mnt/batch/tasks/shared/LS_root/jobs/rlos-cfe-aml/azureml/scriptrun_parallel_1626356910_5ac82d62/mounts/workspaceblobstore\n",
      "2021-07-15T13:51:37Z The vmsize standard_ds2_v2 is not a GPU VM, skipping get GPU count by running nvidia-smi command.\n",
      "2021-07-15T13:51:37Z Starting output-watcher...\n",
      "2021-07-15T13:51:37Z IsDedicatedCompute == True, won't poll for Low Pri Preemption\n",
      "2021-07-15T13:51:37Z Check if container  already exist exited with 0, \n",
      "\n",
      "Login Succeeded\n",
      "2021-07-15T13:51:37Z Check if container  already exist exited with 0, \n",
      "\n",
      "Using default tag: latest\n",
      "latest: Pulling from azureml/azureml_fe4afc798de401edfb76dc27a38b1703\n",
      "92473f7ef455: Pulling fs layer\n",
      "fb52bde70123: Pulling fs layer\n",
      "64788f86be3f: Pulling fs layer\n",
      "33f6d5f2e001: Pulling fs layer\n",
      "eeb715f1b6ae: Pulling fs layer\n",
      "fe519cf36537: Pulling fs layer\n",
      "58ff99196c15: Pulling fs layer\n",
      "9b13f06a8eff: Pulling fs layer\n",
      "2d4e93adbf58: Pulling fs layer\n",
      "6ee7c3767844: Pulling fs layer\n",
      "62cfc3ccb8ab: Pulling fs layer\n",
      "4a7af9d757ee: Pulling fs layer\n",
      "9e11d437728f: Pulling fs layer\n",
      "3506c910620f: Pulling fs layer\n",
      "afe6352c52c2: Pulling fs layer\n",
      "45d886309004: Pulling fs layer\n",
      "2ce19e789040: Pulling fs layer\n",
      "f2a2950e1ed4: Pulling fs layer\n",
      "33f6d5f2e001: Waiting\n",
      "eeb715f1b6ae: Waiting\n",
      "fe519cf36537: Waiting\n",
      "58ff99196c15: Waiting\n",
      "9b13f06a8eff: Waiting\n",
      "2d4e93adbf58: Waiting\n",
      "6ee7c3767844: Waiting\n",
      "62cfc3ccb8ab: Waiting\n",
      "4a7af9d757ee: Waiting\n",
      "9e11d437728f: Waiting\n",
      "3506c910620f: Waiting\n",
      "afe6352c52c2: Waiting\n",
      "45d886309004: Waiting\n",
      "2ce19e789040: Waiting\n",
      "f2a2950e1ed4: Waiting\n",
      "fb52bde70123: Verifying Checksum\n",
      "fb52bde70123: Download complete\n",
      "92473f7ef455: Verifying Checksum\n",
      "92473f7ef455: Download complete\n",
      "eeb715f1b6ae: Verifying Checksum\n",
      "eeb715f1b6ae: Download complete\n",
      "fe519cf36537: Verifying Checksum\n",
      "fe519cf36537: Download complete\n",
      "33f6d5f2e001: Verifying Checksum\n",
      "33f6d5f2e001: Download complete\n",
      "92473f7ef455: Pull complete\n",
      "fb52bde70123: Pull complete\n",
      "58ff99196c15: Verifying Checksum\n",
      "58ff99196c15: Download complete\n",
      "64788f86be3f: Verifying Checksum\n",
      "64788f86be3f: Download complete\n",
      "64788f86be3f: Pull complete\n",
      "33f6d5f2e001: Pull complete\n",
      "9b13f06a8eff: Verifying Checksum\n",
      "9b13f06a8eff: Download complete\n",
      "6ee7c3767844: Verifying Checksum\n",
      "6ee7c3767844: Download complete\n",
      "4a7af9d757ee: Verifying Checksum\n",
      "4a7af9d757ee: Download complete\n",
      "62cfc3ccb8ab: Verifying Checksum\n",
      "62cfc3ccb8ab: Download complete\n",
      "9e11d437728f: Verifying Checksum\n",
      "9e11d437728f: Download complete\n",
      "afe6352c52c2: Download complete\n",
      "2d4e93adbf58: Verifying Checksum\n",
      "2d4e93adbf58: Download complete\n",
      "45d886309004: Verifying Checksum\n",
      "45d886309004: Download complete\n",
      "2ce19e789040: Verifying Checksum\n",
      "2ce19e789040: Download complete\n",
      "f2a2950e1ed4: Verifying Checksum\n",
      "f2a2950e1ed4: Download complete\n",
      "3506c910620f: Verifying Checksum\n",
      "3506c910620f: Download complete\n",
      "eeb715f1b6ae: Pull complete\n",
      "fe519cf36537: Pull complete\n",
      "58ff99196c15: Pull complete\n",
      "9b13f06a8eff: Pull complete\n",
      "\n",
      "Streaming azureml-logs/65_job_prep-tvmps_5a56367b4fdc43b744dd97b823ee19d748a1a0911d1a18ef505b75b652137d15_d.txt\n",
      "===============================================================================================================\n",
      "\n",
      "[2021-07-15T13:52:07.311758] Entering job preparation.\n",
      "[2021-07-15T13:52:07.983337] Starting job preparation.\n",
      "[2021-07-15T13:52:07.983372] Extracting the control code.\n",
      "[2021-07-15T13:52:07.983792] Starting extract_project.\n",
      "[2021-07-15T13:52:07.983838] Starting to extract zip file.\n",
      "[2021-07-15T13:52:08.005461] Finished extracting zip file.\n",
      "[2021-07-15T13:52:08.015487] Using urllib.request Python 3.0 or later\n",
      "[2021-07-15T13:52:08.015534] Start fetching snapshots.\n",
      "[2021-07-15T13:52:08.015591] Start fetching snapshot.\n",
      "[2021-07-15T13:52:08.015614] Retrieving project from snapshot: e0fa4771-2306-4d86-8214-a982723d194f\n",
      "Starting the daemon thread to refresh tokens in background for process with pid = 53\n",
      "[2021-07-15T13:52:08.728433] Finished fetching snapshot.\n",
      "[2021-07-15T13:52:08.728469] Finished fetching snapshots.\n",
      "[2021-07-15T13:52:08.728482] Finished extract_project.\n",
      "[2021-07-15T13:52:08.728560] Finished fetching and extracting the control code.\n",
      "[2021-07-15T13:52:08.735820] Start run_history_prep.\n",
      "[2021-07-15T13:52:08.742075] Job preparation is complete.\n",
      "[2021-07-15T13:52:08.742277] Entering Data Context Managers in Sidecar\n",
      "[2021-07-15T13:52:08.742976] Running Sidecar prep cmd...\n",
      "[2021-07-15T13:52:09.131717] INFO azureml.sidecar.sidecar: Received task: enter_contexts. Running on Linux at /mnt/hostfs/mnt/batch/tasks/shared/LS_root/jobs/rlos-cfe-aml/azureml/scriptrun_parallel_1626356910_5ac82d62/wd/azureml/ScriptRun_parallel_1626356910_5ac82d62\n",
      "[2021-07-15T13:52:09.132478] INFO azureml.sidecar.sidecar: Invoking \"enter_contexts\" task with Context Managers: {\"context_managers\": [\"Dataset:context_managers.Datasets\"]}\n",
      "Enter __enter__ of DatasetContextManager\n",
      "SDK version: azureml-core==1.28.0 azureml-dataprep==2.16.0. Session id: 76283e95-1889-4fef-a2d4-1b5be52be85c. Run id: ScriptRun_parallel_1626356910_5ac82d62.\n",
      "Processing 'input'.\n",
      "Processing dataset FileDataset\n",
      "{\n",
      "  \"source\": [\n",
      "    \"('workspaceblobstore', 'dataset/cb/*')\"\n",
      "  ],\n",
      "  \"definition\": [\n",
      "    \"GetDatastoreFiles\"\n",
      "  ],\n",
      "  \"registration\": {\n",
      "    \"id\": \"bc488c70-9d74-46e4-bb50-9ffd87664e33\",\n",
      "    \"name\": null,\n",
      "    \"version\": null,\n",
      "    \"workspace\": \"Workspace.create(name='rlos-cfe-aml', subscription_id='98ef7fe8-6707-4324-b08e-8a2e663d8f34', resource_group='rlos_cfe2021')\"\n",
      "  }\n",
      "}\n",
      "Mounting input to /mnt/hostfs/mnt/batch/tasks/shared/LS_root/jobs/rlos-cfe-aml/azureml/scriptrun_parallel_1626356910_5ac82d62/wd/input_bc488c70-9d74-46e4-bb50-9ffd87664e33.\n",
      "Mounted input to /mnt/hostfs/mnt/batch/tasks/shared/LS_root/jobs/rlos-cfe-aml/azureml/scriptrun_parallel_1626356910_5ac82d62/wd/input_bc488c70-9d74-46e4-bb50-9ffd87664e33 as folder.\n",
      "Processing 'output_e9bf29d5'.\n",
      "Mounted output_e9bf29d5 to /mnt/hostfs/mnt/batch/tasks/shared/LS_root/jobs/rlos-cfe-aml/azureml/scriptrun_parallel_1626356910_5ac82d62/wd/output_e9bf29d5_workspaceblobstore.\n",
      "Exit __enter__ of DatasetContextManager\n",
      "Set Dataset input's target path to /mnt/batch/tasks/shared/LS_root/jobs/rlos-cfe-aml/azureml/scriptrun_parallel_1626356910_5ac82d62/wd/input_bc488c70-9d74-46e4-bb50-9ffd87664e33\n",
      "Set OutputDataset output_e9bf29d5's target path to /mnt/batch/tasks/shared/LS_root/jobs/rlos-cfe-aml/azureml/scriptrun_parallel_1626356910_5ac82d62/wd/output_e9bf29d5_workspaceblobstore\n",
      "[2021-07-15T13:52:27.503638] INFO azureml.sidecar.task.enter_contexts: Entered Context Managers\n",
      "[2021-07-15T13:52:27.883927] Ran Sidecar prep cmd.\n",
      "[2021-07-15T13:52:27.884036] Running Context Managers in Sidecar complete.\n"
     ]
    }
   ],
   "source": [
    "# View Run Details\n",
    "run.wait_for_completion(show_output=True)"
   ]
  },
  {
   "cell_type": "markdown",
   "id": "063d8eb0",
   "metadata": {},
   "source": [
    "## Visualize"
   ]
  },
  {
   "cell_type": "code",
   "execution_count": 8,
   "id": "233171df",
   "metadata": {},
   "outputs": [
    {
     "data": {
      "text/plain": [
       "<matplotlib.legend.Legend at 0x1222035d0>"
      ]
     },
     "execution_count": 8,
     "metadata": {},
     "output_type": "execute_result"
    },
    {
     "data": {
      "image/png": "[encoded data removed]",
      "text/plain": [
       "<Figure size 432x288 with 1 Axes>"
      ]
     },
     "metadata": {
      "needs_background": "light"
     },
     "output_type": "display_data"
    }
   ],
   "source": [
    "import matplotlib.pyplot as plt\n",
    "\n",
    "df.apply(lambda r: r['random'].get('snips'), axis=1).plot(label='random')\n",
    "df.apply(lambda r: r['baseline1'].get('snips'), axis=1).plot(label='baseline1')\n",
    "\n",
    "plt.legend(loc='best')"
   ]
  },
  {
   "cell_type": "markdown",
   "id": "db6a0f2a",
   "metadata": {},
   "source": [
    "## Reaggregate (if needed)"
   ]
  },
  {
   "cell_type": "code",
   "execution_count": 9,
   "id": "1db6cc6d",
   "metadata": {},
   "outputs": [
    {
     "data": {
      "text/html": [
       "<div>\n",
       "<style scoped>\n",
       "    .dataframe tbody tr th:only-of-type {\n",
       "        vertical-align: middle;\n",
       "    }\n",
       "\n",
       "    .dataframe tbody tr th {\n",
       "        vertical-align: top;\n",
       "    }\n",
       "\n",
       "    .dataframe thead th {\n",
       "        text-align: right;\n",
       "    }\n",
       "</style>\n",
       "<table border=\"1\" class=\"dataframe\">\n",
       "  <thead>\n",
       "    <tr style=\"text-align: right;\">\n",
       "      <th></th>\n",
       "      <th>random</th>\n",
       "      <th>baseline1</th>\n",
       "    </tr>\n",
       "    <tr>\n",
       "      <th>t</th>\n",
       "      <th></th>\n",
       "      <th></th>\n",
       "    </tr>\n",
       "  </thead>\n",
       "  <tbody>\n",
       "    <tr>\n",
       "      <th>2021-01-01 01:00:00</th>\n",
       "      <td>&lt;cb.estimators.ips_snips object at 0x123767150&gt;</td>\n",
       "      <td>&lt;cb.estimators.ips_snips object at 0x12394a110&gt;</td>\n",
       "    </tr>\n",
       "    <tr>\n",
       "      <th>2021-01-01 01:10:00</th>\n",
       "      <td>&lt;cb.estimators.ips_snips object at 0x123aaef90&gt;</td>\n",
       "      <td>&lt;cb.estimators.ips_snips object at 0x12394ae10&gt;</td>\n",
       "    </tr>\n",
       "    <tr>\n",
       "      <th>2021-01-01 01:20:00</th>\n",
       "      <td>&lt;cb.estimators.ips_snips object at 0x123aba050&gt;</td>\n",
       "      <td>&lt;cb.estimators.ips_snips object at 0x12394a9d0&gt;</td>\n",
       "    </tr>\n",
       "    <tr>\n",
       "      <th>2021-01-01 01:30:00</th>\n",
       "      <td>&lt;cb.estimators.ips_snips object at 0x123aba0d0&gt;</td>\n",
       "      <td>&lt;cb.estimators.ips_snips object at 0x123aba250&gt;</td>\n",
       "    </tr>\n",
       "    <tr>\n",
       "      <th>2021-01-01 01:40:00</th>\n",
       "      <td>&lt;cb.estimators.ips_snips object at 0x123aba110&gt;</td>\n",
       "      <td>&lt;cb.estimators.ips_snips object at 0x123aba210&gt;</td>\n",
       "    </tr>\n",
       "    <tr>\n",
       "      <th>2021-01-01 01:50:00</th>\n",
       "      <td>&lt;cb.estimators.ips_snips object at 0x123aba150&gt;</td>\n",
       "      <td>&lt;cb.estimators.ips_snips object at 0x123aba290&gt;</td>\n",
       "    </tr>\n",
       "    <tr>\n",
       "      <th>2021-01-01 02:00:00</th>\n",
       "      <td>&lt;cb.estimators.ips_snips object at 0x123aba190&gt;</td>\n",
       "      <td>&lt;cb.estimators.ips_snips object at 0x123aba1d0&gt;</td>\n",
       "    </tr>\n",
       "  </tbody>\n",
       "</table>\n",
       "</div>"
      ],
      "text/plain": [
       "                                                              random  \\\n",
       "t                                                                      \n",
       "2021-01-01 01:00:00  <cb.estimators.ips_snips object at 0x123767150>   \n",
       "2021-01-01 01:10:00  <cb.estimators.ips_snips object at 0x123aaef90>   \n",
       "2021-01-01 01:20:00  <cb.estimators.ips_snips object at 0x123aba050>   \n",
       "2021-01-01 01:30:00  <cb.estimators.ips_snips object at 0x123aba0d0>   \n",
       "2021-01-01 01:40:00  <cb.estimators.ips_snips object at 0x123aba110>   \n",
       "2021-01-01 01:50:00  <cb.estimators.ips_snips object at 0x123aba150>   \n",
       "2021-01-01 02:00:00  <cb.estimators.ips_snips object at 0x123aba190>   \n",
       "\n",
       "                                                           baseline1  \n",
       "t                                                                     \n",
       "2021-01-01 01:00:00  <cb.estimators.ips_snips object at 0x12394a110>  \n",
       "2021-01-01 01:10:00  <cb.estimators.ips_snips object at 0x12394ae10>  \n",
       "2021-01-01 01:20:00  <cb.estimators.ips_snips object at 0x12394a9d0>  \n",
       "2021-01-01 01:30:00  <cb.estimators.ips_snips object at 0x123aba250>  \n",
       "2021-01-01 01:40:00  <cb.estimators.ips_snips object at 0x123aba210>  \n",
       "2021-01-01 01:50:00  <cb.estimators.ips_snips object at 0x123aba290>  \n",
       "2021-01-01 02:00:00  <cb.estimators.ips_snips object at 0x123aba1d0>  "
      ]
     },
     "execution_count": 9,
     "metadata": {},
     "output_type": "execute_result"
    }
   ],
   "source": [
    "df = df.resample('10min').sum()\n",
    "df"
   ]
  },
  {
   "cell_type": "markdown",
   "id": "f0c120d3",
   "metadata": {},
   "source": [
    "## Visualize"
   ]
  },
  {
   "cell_type": "code",
   "execution_count": 10,
   "id": "87150f9f",
   "metadata": {},
   "outputs": [
    {
     "data": {
      "text/plain": [
       "<matplotlib.legend.Legend at 0x123928e90>"
      ]
     },
     "execution_count": 10,
     "metadata": {},
     "output_type": "execute_result"
    },
    {
     "data": {
      "image/png": "[encoded data removed]",
      "text/plain": [
       "<Figure size 432x288 with 1 Axes>"
      ]
     },
     "metadata": {
      "needs_background": "light"
     },
     "output_type": "display_data"
    }
   ],
   "source": [
    "df.apply(lambda r: r['random'].get('snips'), axis=1).plot(label='random')\n",
    "df.apply(lambda r: r['baseline1'].get('snips'), axis=1).plot(label='baseline1')\n",
    "\n",
    "plt.legend(loc='best')"
   ]
  },
  {
   "cell_type": "markdown",
   "id": "2d4bdf1c",
   "metadata": {},
   "source": [
    "# Conditional Contextual Bandits"
   ]
  },
  {
   "cell_type": "code",
   "execution_count": 38,
   "id": "8a14a9cd",
   "metadata": {},
   "outputs": [],
   "source": [
    "# import pandas as pd\n",
    "\n",
    "# df = pd.read_pickle(r'test_data\\ccb\\01.pickle')\n",
    "# df.head()"
   ]
  },
  {
   "cell_type": "code",
   "execution_count": null,
   "id": "ebf9eea3",
   "metadata": {},
   "outputs": [],
   "source": []
  }
 ],
 "metadata": {
  "kernelspec": {
   "display_name": "Python 3",
   "language": "python",
   "name": "python3"
  },
  "language_info": {
   "codemirror_mode": {
    "name": "ipython",
    "version": 3
   },
   "file_extension": ".py",
   "mimetype": "text/x-python",
   "name": "python",
   "nbconvert_exporter": "python",
   "pygments_lexer": "ipython3",
   "version": "3.7.10"
  },
  "metadata": {
   "interpreter": {
    "hash": "1ee38ef4a5a9feb55287fd749643f13d043cb0a7addaab2a9c224cbe137c0062"
   }
  }
 },
 "nbformat": 4,
 "nbformat_minor": 5
}