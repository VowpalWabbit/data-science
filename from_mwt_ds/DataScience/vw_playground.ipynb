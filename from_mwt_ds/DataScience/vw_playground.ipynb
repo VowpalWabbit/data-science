{
 "cells": [
  {
   "cell_type": "code",
   "execution_count": null,
   "metadata": {},
   "outputs": [],
   "source": [
    "from ipywidgets import *\n",
    "from vw_executor.vw_opts import VwOpts\n",
    "from vw_executor.vw import Vw\n",
    "import matplotlib.pyplot as plt\n",
    "\n",
    "from pathlib import Path\n",
    "import random\n",
    "import pandas as pd\n",
    "import json\n",
    "import scipy\n",
    "import seaborn as sns\n",
    "from playground.utils import cb_df, get_simulation\n",
    "from playground.dashboard import Dashboard\n",
    "from playground.vw_playground import VwPlayground\n",
    "\n",
    "%matplotlib widget\n",
    "sns.set_theme(style=\"darkgrid\")\n",
    "\n",
    "def new_ax():\n",
    "    _,ax = plt.subplots(dpi=100, figsize=[9,4])\n",
    "    return ax"
   ]
  },
  {
   "cell_type": "markdown",
   "metadata": {},
   "source": [
    "# Simulator"
   ]
  },
  {
   "cell_type": "code",
   "execution_count": null,
   "metadata": {},
   "outputs": [],
   "source": [
    "def my_simulation(n=10000, swap_after=5000, variance=0, bad_features=0):\n",
    "    offset = 0\n",
    "    for i in range(1, n):\n",
    "        if i % swap_after == 0:\n",
    "            offset = (offset + 1) % 2\n",
    "\n",
    "        person = i % 2 \n",
    "        chosen = i % 4  // 2 \n",
    "        if (chosen + person + offset) % 2 == 0:\n",
    "            reward =  0.7 + ((chosen + offset) % 2) * 0.1\n",
    "        else:\n",
    "            reward = 0.3 - ((chosen + offset + 1) % 2) * 0.1\n",
    "\n",
    "        reward = reward + scipy.random.normal(0, variance)\n",
    "\n",
    "        yield {\n",
    "            \"_label_cost\": -reward,\n",
    "            \"_label_probability\": 0.5,\n",
    "            \"_label_Action\": chosen + 1,\n",
    "            \"_labelIndex\": chosen,\n",
    "            \"a\": [chosen + 1, (chosen + 1) % 2 + 1],\n",
    "            \"c\": {'shared': {'f': str(person),\n",
    "                '_multi': [\n",
    "                    {'a': {'f': '0'}, 'b': {f'f{i}': random.random() for i in range(int(bad_features))}},\n",
    "                    {'a': {'f': '1'}, 'b': {f'f{i}': random.random() for i in range(int(bad_features))}}]}},\n",
    "            \"p\": [0.5, 0.5] \n",
    "        }"
   ]
  },
  {
   "cell_type": "markdown",
   "metadata": {},
   "source": [
    "# Visualizers"
   ]
  },
  {
   "cell_type": "code",
   "execution_count": null,
   "metadata": {},
   "outputs": [],
   "source": [
    "def plot_env(examples, ax=None, window=100):\n",
    "    ax = ax or new_ax()\n",
    "    ax.set_title('Rewards')\n",
    "    colors = ['green', 'red']\n",
    "    styles = ['-', '-.']\n",
    "    df = cb_df(examples)\n",
    "    for i in [0,1]:\n",
    "        for j in [0,1]:\n",
    "            d = df[['reward']][(df['shared_good']==str(i)) & (df['chosen']==j)].rolling(window=window).mean()\n",
    "            sns.lineplot(x = d.index, y=d['reward'], label=f'Person: {i}, chosen: {j}', color = colors[j], linestyle = styles[i], ax=ax)\n",
    "    ax.legend()\n",
    "\n",
    "    \n",
    "def plot_probs(examples, job, ax=None, window=100):\n",
    "    ax = ax or new_ax()\n",
    "    ax.set_title('P(action|person)')\n",
    "    colors = ['green', 'red']\n",
    "    styles = ['-', '-.']\n",
    "    df = pd.concat([cb_df(examples), job[0].predictions('-p').cb], axis=1)\n",
    "    for i in [0,1]:\n",
    "        for j in [0,1]:\n",
    "            d = df[(df['shared_good']==str(i))][[str(j)]].rolling(window=window).mean() + i * 0.02\n",
    "            sns.lineplot(x = d.index, y=d[str(j)], label=f'P(chosen={j} | Person={i})', color = colors[j], linestyle = styles[i], ax=ax)            \n",
    "    ax.legend(loc='center left', bbox_to_anchor=(0.75, 0.5))\n",
    "     \n",
    "        \n",
    "def plot_reward(examples, job, ax=None, window=100):\n",
    "    ax = ax or new_ax()\n",
    "    ax.set_title('Average reward')\n",
    "    df = job.loss_table\n",
    "    p = sns.lineplot(x = df.reset_index('file').index, y= -df['loss'], label='Reward')\n",
    "    p.set_ylabel(\"reward\")\n",
    "    ax.legend(loc='center left', bbox_to_anchor=(0.75, 0.5))"
   ]
  },
  {
   "cell_type": "markdown",
   "metadata": {
    "tags": []
   },
   "source": [
    "# Look at the data / Debug"
   ]
  },
  {
   "cell_type": "code",
   "execution_count": null,
   "metadata": {},
   "outputs": [],
   "source": [
    "examples = my_simulation(n=100, swap_after=50, variance = 0.1, bad = 1)\n",
    "cb_df(examples).head()"
   ]
  },
  {
   "cell_type": "code",
   "execution_count": null,
   "metadata": {},
   "outputs": [],
   "source": [
    "next(my_simulation(n=10000, swap_after=5000, variance = 0, bad = 1))"
   ]
  },
  {
   "cell_type": "code",
   "execution_count": null,
   "metadata": {},
   "outputs": [],
   "source": [
    "visualization = Dashboard(['-p'], [[plot_env, plot_probs]])\n",
    "visualization.reset()\n",
    "examples, examples_path = get_simulation('.data', my_simulation, n = 10000, swap_after = 5000, variance = 0, bad = 1)\n",
    "visualization.after_simulation(examples)\n",
    "job = Vw('.cache', handlers=[]).train(examples_path, '--cb_explore_adf --dsjson', ['-p'])\n",
    "visualization.after_train(examples, job)"
   ]
  },
  {
   "cell_type": "markdown",
   "metadata": {
    "tags": []
   },
   "source": [
    "# Interact"
   ]
  },
  {
   "cell_type": "code",
   "execution_count": null,
   "metadata": {},
   "outputs": [],
   "source": [
    "layout = [\n",
    "    [plot_env, plot_probs],\n",
    "    [plot_reward]]\n",
    "\n",
    "dashboard = Dashboard(['-p'], layout, figsize=(12,8))\n",
    "\n",
    "playground = VwPlayground(my_simulation, dashboard)\n",
    "\n",
    "playground.run(\n",
    "    simulator_grid = {\n",
    "        'n': IntSlider(value=10000, min=100, max=50000),\n",
    "        'swap_after': IntSlider(value=5000, min=10, max=50000),\n",
    "        'variance': FloatSlider(value=0, min=0, max=1, step=0.1),\n",
    "        'bad_features': FloatLogSlider(value=1, min=0, max=10, base=2, step=1),\n",
    "    },\n",
    "    vw_grid = {\n",
    "        '#base': fixed('--cb_explore_adf --dsjson --power_t 0 -P 100'),\n",
    "        '--learning_rate': FloatLogSlider(value=2**(-20), min=-20, max=10, base=2, step=1),\n",
    "        '--cb_type': ['ips', 'mtr'],\n",
    "        '--l1': FloatLogSlider(value=2**(-20), min=-20, max=10, base=2, step=1),\n",
    "        '#interactions': ['', '-q sa', '-q ::'],\n",
    "        '#exploration': ['--epsilon 0.1', '--squarecb', '--cover 5', '--synthcover']\n",
    "    },\n",
    "    columns=3\n",
    ")"
   ]
  },
  {
   "cell_type": "code",
   "execution_count": null,
   "metadata": {},
   "outputs": [],
   "source": [
    "print('Last command line')\n",
    "print(playground.last_job[0].args)"
   ]
  },
  {
   "cell_type": "code",
   "execution_count": null,
   "metadata": {},
   "outputs": [],
   "source": [
    "playground.last_job[0].stdout.raw"
   ]
  },
  {
   "cell_type": "code",
   "execution_count": null,
   "metadata": {},
   "outputs": [],
   "source": []
  }
 ],
 "metadata": {
  "interpreter": {
   "hash": "b8f4a58adc17b056f67bda23a8d2f1daa157665278cb2abc3190e1c7319c7b72"
  },
  "kernelspec": {
   "display_name": "Python 3",
   "language": "python",
   "name": "python3"
  },
  "language_info": {
   "codemirror_mode": {
    "name": "ipython",
    "version": 3
   },
   "file_extension": ".py",
   "mimetype": "text/x-python",
   "name": "python",
   "nbconvert_exporter": "python",
   "pygments_lexer": "ipython3",
   "version": "3.9.6"
  }
 },
 "nbformat": 4,
 "nbformat_minor": 4
}
