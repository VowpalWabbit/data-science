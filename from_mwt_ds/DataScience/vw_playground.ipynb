{
 "cells": [
  {
   "cell_type": "markdown",
   "metadata": {},
   "source": [
    "# Hacks & helpers"
   ]
  },
  {
   "cell_type": "code",
   "execution_count": null,
   "metadata": {},
   "outputs": [],
   "source": [
    "!python -m pip install ipympl\n",
    "!python -m pip install seaborn\n",
    "!python -m pip install vw_executor --upgrade"
   ]
  },
  {
   "cell_type": "code",
   "execution_count": null,
   "metadata": {},
   "outputs": [],
   "source": [
    "from vw_executor.vw_opts import VwOpts\n",
    "from pathlib import Path\n",
    "\n",
    "import matplotlib.pyplot as plt\n",
    "import random\n",
    "import pandas as pd\n",
    "import json\n",
    "import scipy\n",
    "import seaborn as sns\n",
    "\n",
    "from vw_executor.vw import Vw\n",
    "from functools import reduce\n",
    "\n",
    "%matplotlib widget\n",
    "sns.set_theme(style=\"darkgrid\")\n",
    "\n",
    "def new_ax():\n",
    "    _,ax = plt.subplots(dpi=100, figsize=[9,4])\n",
    "    return ax    \n",
    "\n",
    "def save_examples(examples, path):     \n",
    "    with open(path, 'w') as f:\n",
    "        for ex in examples:\n",
    "            f.write(f'{json.dumps(ex, separators=(\",\", \":\"))}\\n')\n",
    "            \n",
    "def load_examples(path):\n",
    "    with open(path) as f:\n",
    "        for l in f:\n",
    "            yield json.loads(l)\n",
    "\n",
    "def get_simulation(folder, simulator, **kwargs):\n",
    "    path = Path(folder).joinpath(f'{str(VwOpts(kwargs)).replace(\" \", \"-\")}.json')\n",
    "    if not path.exists():\n",
    "        Path(folder).mkdir(parents=True, exist_ok=True)\n",
    "        examples = list(simulator(**kwargs))\n",
    "        save_examples(examples, path)\n",
    "    else:\n",
    "        examples = list(load_examples(path))\n",
    "    return examples, path\n",
    "    \n",
    "def cb_df(examples):\n",
    "    return pd.DataFrame([{\n",
    "        'reward': -e['_label_cost'],\n",
    "        'shared_good': e['c']['shared']['f'],\n",
    "        'chosen': e['_labelIndex'],\n",
    "        'prob': e['_label_probability']\n",
    "    } for e in examples])    \n",
    "\n",
    "def _collapse(*grids):\n",
    "    from collections import OrderedDict\n",
    "    result = reduce(lambda r, g: OrderedDict(r, **g), grids)\n",
    "    separator = [len(g) for g in grids]\n",
    "    return result, separator\n",
    "\n",
    "def _split(collapsed, separator):\n",
    "    result = []\n",
    "    last = 0\n",
    "    items = list(collapsed.items())\n",
    "    for c in separator:\n",
    "        result.append(dict(items[last:last + c]))\n",
    "        last = last + c\n",
    "    return tuple(result)\n",
    "\n",
    "def grid_layout(elements, columns=4):\n",
    "    rows = (len(elements) - 1) // columns + 1\n",
    "    layout = Layout(grid_template_rows=' '.join(['auto'] * rows), grid_template_columns=' '.join(['auto'] * columns))\n",
    "    return GridBox(children=elements, layout=layout)   \n",
    "    \n",
    "class VwPlayground:\n",
    "    def __init__(self, simulation, visualization, vw_binary=None, cache_path = '.cache'):\n",
    "        self.data_folder = Path(cache_path).joinpath('datasets').joinpath(str(hash(simulation.__code__)))\n",
    "        self.simulation = simulation\n",
    "        self.examples = None\n",
    "        self.visualization = visualization\n",
    "        self.last_job = None\n",
    "        self.vw = Vw(cache_path, vw_binary, handlers=[])\n",
    "        \n",
    "    def run(self, simulator_grid, vw_grid, columns=4):\n",
    "        def _run_and_plot(separator, **options):\n",
    "            sim_opts, train_opts = _split(options, separator)\n",
    "            self.visualization.reset()\n",
    "            examples, examples_path = get_simulation(self.data_folder, self.simulation, **sim_opts)\n",
    "            self.visualization.after_simulation(examples)\n",
    "            self.last_job = self.vw.train(\n",
    "                [examples_path], train_opts, self.visualization.vw_outputs)\n",
    "            self.visualization.after_train(examples, self.last_job)\n",
    "\n",
    "        collapsed, separator = _collapse(simulator_grid, vw_grid)\n",
    "        widget = interactive(_run_and_plot, separator=fixed(separator), **collapsed)\n",
    "        simulator_controls = grid_layout(widget.children[:len(simulator_grid)], columns)\n",
    "        vw_controls = grid_layout(widget.children[len(simulator_grid):len(simulator_grid)+len(vw_grid)], columns)\n",
    "        controls = Accordion(children=[simulator_controls, vw_controls])\n",
    "        controls.set_title(0, 'Simulator args')\n",
    "        controls.set_title(1, 'Vw args')\n",
    "        output = widget.children[-1]\n",
    "        display(VBox([controls, output]))\n",
    "\n",
    "        \n",
    "class Dashboard:\n",
    "    def __init__(self, required_outputs, visualizers, figsize = (12, 4)):\n",
    "        def _is_train_visualizer(visualizer):\n",
    "            import inspect\n",
    "            return 'job' in set(inspect.signature(visualizer).parameters.keys())\n",
    "        \n",
    "        def _get_ax(ax, x, y, dim):\n",
    "            return ax[x + y] if dim == 1 else ax[y][x]\n",
    "        \n",
    "        \n",
    "        self.env_visualizers = []\n",
    "        self.train_visualizers = []\n",
    "        plots_over_y = len(visualizers)\n",
    "        plots_over_x = max([len(row) for row in visualizers])\n",
    "        dim = 1 if (plots_over_y == 1 or plots_over_x == 1) else 2\n",
    "        _get = lambda ax, x, y: _get_ax(ax, x, y, dim)\n",
    "        \n",
    "        fig, ax = plt.subplots(plots_over_y, plots_over_x, figsize=figsize)\n",
    "        \n",
    "        for x in range(plots_over_x):\n",
    "            for y in range(plots_over_y):\n",
    "                v = visualizers[y][x]\n",
    "                if _is_train_visualizer(v):\n",
    "                    self.train_visualizers.append((_get(ax, x, y), v))\n",
    "                else:\n",
    "                    self.env_visualizers.append((_get(ax, x, y), v))\n",
    "        \n",
    "        self.fig = fig\n",
    "        self.vw_outputs = required_outputs\n",
    "\n",
    "    def reset(self):\n",
    "        [ax_v[0].clear() for ax_v in self.env_visualizers]\n",
    "        [ax_v[0].clear() for ax_v in self.train_visualizers]\n",
    "        \n",
    "    def after_simulation(self, examples):\n",
    "        [ax_v[1](examples, ax=ax_v[0]) for ax_v in self.env_visualizers]\n",
    "        \n",
    "    def after_train(self, examples, job):\n",
    "        [ax_v[1](examples, job, ax=ax_v[0]) for ax_v in self.train_visualizers]\n",
    "        self.fig.canvas.draw_idle()   "
   ]
  },
  {
   "cell_type": "markdown",
   "metadata": {},
   "source": [
    "# Simulator"
   ]
  },
  {
   "cell_type": "code",
   "execution_count": null,
   "metadata": {},
   "outputs": [],
   "source": [
    "def my_simulation(n=10000, swap_after=5000, variance=0, bad=0):\n",
    "    offset = 0\n",
    "    for i in range(1, n):\n",
    "        if i % swap_after == 0:\n",
    "            offset = (offset + 1) % 2\n",
    "\n",
    "        person = i % 2 \n",
    "        chosen = i % 4  // 2 \n",
    "        if (chosen + person + offset) % 2 == 0:\n",
    "            reward =  0.7 + ((chosen + offset) % 2) * 0.1\n",
    "        else:\n",
    "            reward = 0.3 - ((chosen + offset + 1) % 2) * 0.1\n",
    "\n",
    "        reward = reward + scipy.random.normal(0, variance)\n",
    "\n",
    "        yield {\n",
    "            \"_label_cost\": -reward,\n",
    "            \"_label_probability\": 0.5,\n",
    "            \"_label_Action\": chosen + 1,\n",
    "            \"_labelIndex\": chosen,\n",
    "            \"a\": [chosen + 1, (chosen + 1) % 2 + 1],\n",
    "            \"c\": {'shared': {'f': str(person),\n",
    "                '_multi': [\n",
    "                    {'a': {'f': '0'}, 'b': {f'f{i}': random.random() for i in range(int(bad))}},\n",
    "                    {'a': {'f': '1'}, 'b': {f'f{i}': random.random() for i in range(int(bad))}}]}},\n",
    "            \"p\": [0.5, 0.5] \n",
    "        }"
   ]
  },
  {
   "cell_type": "markdown",
   "metadata": {},
   "source": [
    "# Visulization"
   ]
  },
  {
   "cell_type": "code",
   "execution_count": null,
   "metadata": {},
   "outputs": [],
   "source": [
    "from IPython.display import clear_output\n",
    "\n",
    "def visualize_env(examples, ax=None, window=100):\n",
    "    ax = ax or new_ax()\n",
    "    ax.set_title('Rewards')\n",
    "    colors = ['green', 'red']\n",
    "    styles = ['-', '-.']\n",
    "    df = cb_df(examples)\n",
    "    for i in [0,1]:\n",
    "        for j in [0,1]:\n",
    "            d = df[['reward']][(df['shared_good']==str(i)) & (df['chosen']==j)].rolling(window=window).mean()\n",
    "            sns.lineplot(x = d.index, y=d['reward'], label=f'Person: {i}, chosen: {j}', color = colors[j], linestyle = styles[i], ax=ax)\n",
    "    ax.legend()\n",
    "    \n",
    "def visualize_learning(examples, job, ax=None, window=100):\n",
    "    ax = ax or new_ax()\n",
    "    ax.set_title('P(action|person)')\n",
    "    colors = ['green', 'red']\n",
    "    styles = ['-', '-.']\n",
    "    df = pd.concat([cb_df(examples), job[0].predictions('-p').cb], axis=1)\n",
    "    for i in [0,1]:\n",
    "        for j in [0,1]:\n",
    "            d = df[(df['shared_good']==str(i))][[str(j)]].rolling(window=window).mean() + i * 0.02\n",
    "            sns.lineplot(x = d.index, y=d[str(j)], label=f'P(chosen={j} | Person={i})', color = colors[j], linestyle = styles[i], ax=ax)            \n",
    "    ax.legend(loc='center left', bbox_to_anchor=(0.75, 0.5))\n",
    "     "
   ]
  },
  {
   "cell_type": "markdown",
   "metadata": {
    "tags": []
   },
   "source": [
    "# Look at the data"
   ]
  },
  {
   "cell_type": "code",
   "execution_count": null,
   "metadata": {},
   "outputs": [],
   "source": [
    "examples = my_simulation(n=100, swap_after=50, variance = 0.1, bad = 1)\n",
    "cb_df(examples).head()"
   ]
  },
  {
   "cell_type": "code",
   "execution_count": null,
   "metadata": {},
   "outputs": [],
   "source": [
    "next(my_simulation(n=10000, swap_after=5000, variance = 0, bad = 1))"
   ]
  },
  {
   "cell_type": "code",
   "execution_count": null,
   "metadata": {},
   "outputs": [],
   "source": [
    "visualization = Dashboard(['-p'], [[visualize_env, visualize_learning]])\n",
    "visualization.reset()\n",
    "examples, examples_path = get_simulation('.data', my_simulation, n = 10000, swap_after = 5000, variance = 0, bad = 1)\n",
    "visualization.after_simulation(examples)\n",
    "job = Vw('.cache', handlers=[]).train(examples_path, '--cb_explore_adf --dsjson', ['-p'])\n",
    "visualization.after_train(examples, job)"
   ]
  },
  {
   "cell_type": "markdown",
   "metadata": {
    "tags": []
   },
   "source": [
    "# Interact"
   ]
  },
  {
   "cell_type": "code",
   "execution_count": null,
   "metadata": {},
   "outputs": [],
   "source": [
    "from ipywidgets import *\n",
    "\n",
    "dashboard = Dashboard(['-p'],\n",
    "    [[visualize_env, visualize_learning]])\n",
    "playground = VwPlayground(my_simulation, dashboard)\n",
    "playground.run(\n",
    "    simulator_grid = {\n",
    "        'n': IntSlider(value=10000, min=100, max=50000),\n",
    "        'swap_after': IntSlider(value=5000, min=10, max=50000),\n",
    "        'variance': FloatSlider(value=0, min=0, max=1, step=0.1),\n",
    "        'bad': FloatLogSlider(value=1, min=0, max=10, base=2, step=1),\n",
    "    },\n",
    "    vw_grid = {\n",
    "        '#base': fixed('--cb_explore_adf --dsjson --power_t 0'),\n",
    "        '--learning_rate': FloatLogSlider(value=2**(-20), min=-20, max=10, base=2, step=1),\n",
    "        '--cb_type': ['ips', 'mtr'],\n",
    "        '--l1': FloatLogSlider(value=2**(-20), min=-20, max=10, base=2, step=1),\n",
    "        '#interactions': ['', '-q sa', '-q ::'],\n",
    "        '#exploration': ['--epsilon 0.1', '--squarecb', '--cover 5', '--synthcover']\n",
    "    },\n",
    "    columns=3\n",
    ")"
   ]
  },
  {
   "cell_type": "code",
   "execution_count": null,
   "metadata": {},
   "outputs": [],
   "source": [
    "print('Last command line')\n",
    "print(playground.last_job[0].args)"
   ]
  },
  {
   "cell_type": "code",
   "execution_count": null,
   "metadata": {},
   "outputs": [],
   "source": [
    "playground.last_job[0].stdout.raw"
   ]
  },
  {
   "cell_type": "code",
   "execution_count": null,
   "metadata": {},
   "outputs": [],
   "source": []
  }
 ],
 "metadata": {
  "interpreter": {
   "hash": "b8f4a58adc17b056f67bda23a8d2f1daa157665278cb2abc3190e1c7319c7b72"
  },
  "kernelspec": {
   "display_name": "Python 3",
   "language": "python",
   "name": "python3"
  },
  "language_info": {
   "codemirror_mode": {
    "name": "ipython",
    "version": 3
   },
   "file_extension": ".py",
   "mimetype": "text/x-python",
   "name": "python",
   "nbconvert_exporter": "python",
   "pygments_lexer": "ipython3",
   "version": "3.8.5"
  }
 },
 "nbformat": 4,
 "nbformat_minor": 4
}
