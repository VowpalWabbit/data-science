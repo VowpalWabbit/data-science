{
 "cells": [
  {
   "cell_type": "code",
   "execution_count": null,
   "source": [
    "from itertools import chain\r\n",
    "import random\r\n",
    "\r\n",
    "def generate_cb(i, valid = True):\r\n",
    "    import json\r\n",
    "    o = {\r\n",
    "        \"_label_cost\": - (i % 2),\r\n",
    "        \"_label_probability\": 0.5,\r\n",
    "        \"_label_Action\": i % 2 + 1,\r\n",
    "        \"_labelIndex\": i % 2,\r\n",
    "        \"a\": [(i % 2) + 1, ((i + 1) % 2) + 1],\r\n",
    "        \"c\": {'shared': {'f':'1'}, '_multi': [{'a': {'f': '1'}}, {'a': {'f': '2'}}]},\r\n",
    "        \"p\": [0.5, 0.5] \r\n",
    "    }\r\n",
    "    return f'{json.dumps(o, separators=(\",\", \":\"))}{\"\" if valid else \"!\"}\\n'\r\n",
    "\r\n",
    "\r\n",
    "def generate_cb_rnd(i, nactions, epsilon):\r\n",
    "    import json\r\n",
    "    reward = random.random() < 1 - epsilon if i % nactions == 0 else random.random() < epsilon\r\n",
    "    o = {\r\n",
    "        \"_label_cost\": -reward,\r\n",
    "        \"_label_probability\": 1 / nactions,\r\n",
    "        \"_label_Action\": (i % nactions) + 1,\r\n",
    "        \"_labelIndex\": i % nactions,\r\n",
    "        \"a\": [(i % nactions) + 1] + [a + 1 for a in set(range(nactions)) - set([i % nactions])],\r\n",
    "        \"c\": {'shared': {'f':'1'}, '_multi': [{'a': {'f': str(i)}} for i in range(nactions)]},\r\n",
    "        \"p\": [1.0 / nactions]  * nactions\r\n",
    "    }\r\n",
    "    return f'{json.dumps(o, separators=(\",\", \":\"))}\\n'\r\n",
    "\r\n",
    "def generate_file(generator, lines, path):\r\n",
    "    with open(path, 'w') as f:\r\n",
    "        f.writelines(map(lambda i: generator(i), range(lines)))\r\n",
    "\r\n",
    "def generate_file_with_invalid(lines, path):\r\n",
    "    with open(path, 'w') as f:\r\n",
    "        for i in range(lines):\r\n",
    "            f.write(generate_cb(i))\r\n",
    "        f.write(generate_cb(0, False))\r\n",
    "        for i in range(lines):\r\n",
    "            f.write(generate_cb(i))          \r\n"
   ],
   "outputs": [],
   "metadata": {}
  },
  {
   "cell_type": "code",
   "execution_count": null,
   "source": [
    "generate_file(generate_cb, 10, 'vw_executor/tests/data/cb_0.json')\r\n",
    "generate_file(generate_cb, 11, 'vw_executor/tests/data/cb_1.json')\r\n",
    "generate_file_with_invalid(10, 'vw_executor/tests/data/cb_invalid.json')\r\n",
    "\r\n",
    "generate_file(lambda i: generate_cb_rnd(i, 8, 0.3), 100, 'vw_executor/tests/data/cb_100_0.json')\r\n",
    "generate_file(lambda i: generate_cb_rnd(i, 8, 0.3), 100, 'vw_executor/tests/data/cb_100_1.json')"
   ],
   "outputs": [],
   "metadata": {}
  }
 ],
 "metadata": {
  "orig_nbformat": 4,
  "language_info": {
   "name": "python",
   "version": "3.9.5",
   "mimetype": "text/x-python",
   "codemirror_mode": {
    "name": "ipython",
    "version": 3
   },
   "pygments_lexer": "ipython3",
   "nbconvert_exporter": "python",
   "file_extension": ".py"
  },
  "kernelspec": {
   "name": "python3",
   "display_name": "Python 3.9.5 64-bit ('base': conda)"
  },
  "interpreter": {
   "hash": "e6d91e144c1e8b75ccdd4259c6213e15c7f5d1d664ef01abea10605a34f365c2"
  }
 },
 "nbformat": 4,
 "nbformat_minor": 2
}