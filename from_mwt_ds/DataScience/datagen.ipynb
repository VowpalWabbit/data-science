{
 "cells": [
  {
   "cell_type": "code",
   "execution_count": null,
   "source": [
    "from itertools import chain\r\n",
    "\r\n",
    "def generate_cb(i, valid = True):\r\n",
    "    import json\r\n",
    "    o = {\r\n",
    "        \"_label_cost\": - (i % 2),\r\n",
    "        \"_label_probability\": 0.5,\r\n",
    "        \"_label_Action\": i % 2 + 1,\r\n",
    "        \"_labelIndex\": i % 2,\r\n",
    "        \"a\": [i % 2, (i + 1) % 2],\r\n",
    "        \"c\": {\"f\": 1, '_multi': [{'f': 1}, {'f': 2}]},\r\n",
    "        \"p\": [0.5, 0.5] \r\n",
    "    }\r\n",
    "    return f'{json.dumps(o, separators=(\",\", \":\"))}{\"\" if valid else \"!\"}\\n'\r\n",
    "\r\n",
    "def generate_file(generator, lines, path):\r\n",
    "    with open(path, 'w') as f:\r\n",
    "        f.writelines(map(lambda i: generator(i), range(lines)))\r\n",
    "\r\n",
    "def generate_file_with_invalid(lines, path):\r\n",
    "    with open(path, 'w') as f:\r\n",
    "        for i in range(lines):\r\n",
    "            f.write(generate_cb(i))\r\n",
    "        f.write(generate_cb(0, False))\r\n",
    "        for i in range(lines):\r\n",
    "            f.write(generate_cb(i))          \r\n"
   ],
   "outputs": [],
   "metadata": {}
  },
  {
   "cell_type": "code",
   "execution_count": null,
   "source": [
    "generate_file(generate_cb, 10, 'vw_executor/tests/data/cb_0.json')\r\n",
    "generate_file(generate_cb, 11, 'vw_executor/tests/data/cb_1.json')\r\n",
    "generate_file_with_invalid(10, 'vw_executor/tests/data/cb_invalid.json')"
   ],
   "outputs": [],
   "metadata": {}
  },
  {
   "cell_type": "code",
   "execution_count": null,
   "source": [
    "from vw_executor.vw import Vw\r\n",
    "from vw_executor.vw_opts import dimension, product\r\n",
    "import pandas as pd\r\n",
    "\r\n",
    "vw = Vw('vw', '.vw_cache')\r\n",
    "\r\n",
    "inputs = [\r\n",
    "    'vw_executor/tests/data/cb_0.json',\r\n",
    "    'vw_executor/tests/data/cb_1.json',\r\n",
    "    'vw_executor/tests/data/cb_invalid.json'\r\n",
    "    ]\r\n",
    "\r\n",
    "opts = pd.DataFrame(product(\r\n",
    "    dimension('#base', ['--ccb_explore_adf -P 5 --preserve_performance_counters --save_resume --dsjson']),\r\n",
    "    dimension('--cb_type', ['ips']),\r\n",
    "))\r\n"
   ],
   "outputs": [],
   "metadata": {}
  },
  {
   "cell_type": "code",
   "execution_count": null,
   "source": [
    "result = vw._with(reset=True).train(inputs, opts)\r\n",
    "result"
   ],
   "outputs": [],
   "metadata": {}
  },
  {
   "cell_type": "code",
   "execution_count": null,
   "source": [
    "result.iloc[0]['!Job'][-1].loss_table"
   ],
   "outputs": [],
   "metadata": {}
  },
  {
   "cell_type": "code",
   "execution_count": null,
   "source": [],
   "outputs": [],
   "metadata": {}
  }
 ],
 "metadata": {
  "orig_nbformat": 4,
  "language_info": {
   "name": "python",
   "version": "3.9.5",
   "mimetype": "text/x-python",
   "codemirror_mode": {
    "name": "ipython",
    "version": 3
   },
   "pygments_lexer": "ipython3",
   "nbconvert_exporter": "python",
   "file_extension": ".py"
  },
  "kernelspec": {
   "name": "python3",
   "display_name": "Python 3.9.5 64-bit ('base': conda)"
  },
  "interpreter": {
   "hash": "e6d91e144c1e8b75ccdd4259c6213e15c7f5d1d664ef01abea10605a34f365c2"
  }
 },
 "nbformat": 4,
 "nbformat_minor": 2
}