{
 "cells": [
  {
   "cell_type": "markdown",
   "metadata": {},
   "source": [
    "# Simple simulators"
   ]
  },
  {
   "cell_type": "code",
   "execution_count": null,
   "metadata": {},
   "outputs": [],
   "source": [
    "from itertools import chain\n",
    "import numpy as np\n",
    "import random\n",
    "\n",
    "def generate_cb(i, valid = True):\n",
    "    import json\n",
    "    o = {\n",
    "        \"_label_cost\": - (i % 2),\n",
    "        \"_label_probability\": 0.5,\n",
    "        \"_label_Action\": i % 2 + 1,\n",
    "        \"_labelIndex\": i % 2,\n",
    "        \"a\": [(i % 2) + 1, ((i + 1) % 2) + 1],\n",
    "        \"c\": {'shared': {'f':'1'}, '_multi': [{'a': {'f': '1'}}, {'a': {'f': '2'}}]},\n",
    "        \"p\": [0.5, 0.5] \n",
    "    }\n",
    "    return f'{json.dumps(o, separators=(\",\", \":\"))}{\"\" if valid else \"!\"}\\n'\n",
    "\n",
    "\n",
    "def generate_cb_rnd(i, biases):\n",
    "    import json\n",
    "    nusers = biases.shape[0]\n",
    "    nactions = biases.shape[1]\n",
    "\n",
    "    user = random.randint(0, nusers - 1)\n",
    "    chosen = random.randint(0, nactions - 1)\n",
    "\n",
    "    reward = int(random.random() < biases[user][chosen])\n",
    "    o = {\n",
    "        \"_label_cost\": -reward,\n",
    "        \"_label_probability\": 1 / nactions,\n",
    "        \"_label_Action\": chosen + 1,\n",
    "        \"_labelIndex\": chosen,\n",
    "        \"a\": [chosen + 1] + [a + 1 for a in set(range(nactions)) - set([chosen])],\n",
    "        \"c\": {'shared': {'f': str(chosen)}, '_multi': [{'a': {'f': str(i)}} for i in range(nactions)]},\n",
    "        \"p\": [1.0 / nactions]  * nactions\n",
    "    }\n",
    "    return f'{json.dumps(o, separators=(\",\", \":\"))}\\n'\n",
    "\n",
    "def generate_ccb(i):\n",
    "    import json\n",
    "    o = {\n",
    "        'c': {'context': {'f':'1'}, '_multi': [{'a': {'f': '1'}}, {'a': {'f': '2'}}, {'a': {'f': '3'}}], '_slots': [{'s': {'f': '1'}}, {'s': {'f': '2'}}]},\n",
    "        '_outcomes':[{'_label_cost': -i % 2, '_a': [(i + 2) % 3, i, (i + 1) % 3], '_p': [0.5, 0.25, 0.25]}, {'_label_cost': - (i + 1) % 2, '_a': [i, (i + 1) % 3], '_p': [0.5, 0.5]}],\n",
    "    }\n",
    "    return f'{json.dumps(o, separators=(\",\", \":\"))}\\n'\n",
    "\n",
    "def generate_file(generator, lines, path):\n",
    "    with open(path, 'w') as f:\n",
    "        f.writelines(map(lambda i: generator(i), range(lines)))\n",
    "\n",
    "def generate_file_with_invalid(lines, path):\n",
    "    with open(path, 'w') as f:\n",
    "        for i in range(lines):\n",
    "            f.write(generate_cb(i))\n",
    "        f.write(generate_cb(0, False))\n",
    "        for i in range(lines):\n",
    "            f.write(generate_cb(i))          \n"
   ]
  },
  {
   "cell_type": "code",
   "execution_count": null,
   "metadata": {},
   "outputs": [],
   "source": [
    "generate_file(generate_cb, 10, 'vw_executor/tests/data/cb_0.json')\n",
    "generate_file(generate_cb, 11, 'vw_executor/tests/data/cb_1.json')\n",
    "generate_file_with_invalid(10, 'vw_executor/tests/data/cb_invalid.json')\n",
    "\n",
    "biases = np.random.rand(4,4)\n",
    "print(biases)\n",
    "generate_file(lambda i: generate_cb_rnd(i, biases), 10000, 'vw_executor/tests/data/cb_10000_0.json')\n",
    "generate_file(lambda i: generate_cb_rnd(i, biases), 10000, 'vw_executor/tests/data/cb_10000_1.json')"
   ]
  },
  {
   "cell_type": "code",
   "execution_count": null,
   "metadata": {},
   "outputs": [],
   "source": [
    "generate_file(generate_ccb, 10, 'vw_executor/tests/data/ccb_0.json')\n",
    "generate_file(generate_ccb, 11, 'vw_executor/tests/data/ccb_1.json')"
   ]
  },
  {
   "cell_type": "markdown",
   "metadata": {},
   "source": [
    "# More realistic simulator"
   ]
  },
  {
   "cell_type": "code",
   "execution_count": 7,
   "metadata": {},
   "outputs": [],
   "source": [
    "import random\n",
    "import pandas as pd\n",
    "import numpy as np\n",
    "import json\n",
    "import scipy\n",
    "\n",
    "class Simulation(pd.DataFrame):\n",
    "    def __init__(self, n=10000, swap_after=5000, variance = 0, bad_features = 0):\n",
    "        examples = []\n",
    "        offset = 0\n",
    "        for i in range(1, n):\n",
    "            if i % swap_after == 0:\n",
    "                offset = (offset + 1) % 2\n",
    "\n",
    "            person = i % 2\n",
    "            chosen = i % 4  // 2\n",
    "            if (chosen + person + offset) % 2 == 0:\n",
    "                reward =  0.7 + ((chosen + offset) % 2) * 0.1\n",
    "            else:\n",
    "                reward = 0.3 - ((chosen + offset + 1) % 2) * 0.1\n",
    "\n",
    "            reward = reward + scipy.random.normal(0, variance)\n",
    "\n",
    "            examples.append({\n",
    "                \"reward\": reward,\n",
    "                \"shared_good\": person,\n",
    "                \"a1_good\": '0',\n",
    "                \"a2_good\": '1',\n",
    "                \"chosen\": chosen, \n",
    "                \"prob\": 0.5\n",
    "            })\n",
    "            for i in range(bad_features):\n",
    "                examples[-1][f'a1_bad_{i}'] = random.random()\n",
    "                examples[-1][f'a2_bad_{i}'] = random.random()\n",
    "        super().__init__(examples)\n",
    "    \n",
    "    def get(self):\n",
    "        return self.df\n",
    "    \n",
    "    def to_dsjson(self):\n",
    "        for _, row in self.iterrows():\n",
    "            o = {\n",
    "                \"_label_cost\": -row['reward'],\n",
    "                \"_label_probability\": row['prob'],\n",
    "                \"_label_Action\": int(row['chosen'] + 1),\n",
    "                \"_labelIndex\": int(row['chosen']),\n",
    "                \"a\": [row['chosen'] + 1, (row['chosen'] + 1) % 2 + 1],\n",
    "                \"c\": {'shared': {'f': str(row['shared_good'])},\n",
    "                    '_multi': [{'a': {'f': str(row['a1_good']), 'constant': 1}},\n",
    "                        {'a': {'f': str(row['a2_good'])}}]},\n",
    "                \"p\": [row['prob'], 1 - row['prob']] \n",
    "            }\n",
    "            i = 0\n",
    "            while True:\n",
    "                if f'a1_bad_{i}' in row:\n",
    "                    if 'b' not in o['c']['_multi'][0]: \n",
    "                        o['c']['_multi'][0]['b'] = {}\n",
    "                        o['c']['_multi'][1]['b'] = {}   \n",
    "                    o['c']['_multi'][0]['b'][f'a1_bad_{i}'] = row[f'a1_bad_{i}']\n",
    "                    o['c']['_multi'][1]['b'][f'a2_bad_{i}'] = row[f'a2_bad_{i}']\n",
    "                    i += 1\n",
    "                else:\n",
    "                    break\n",
    "            yield json.dumps(o, separators=(\",\", \":\"))\n",
    "\n",
    "    def to_dsjson_file(self, fname):\n",
    "        with open(fname, 'w') as f:\n",
    "            for ex in self.to_dsjson():\n",
    "                f.write(f'{ex}\\n')             "
   ]
  },
  {
   "cell_type": "code",
   "execution_count": 10,
   "metadata": {},
   "outputs": [],
   "source": [
    "simulation = Simulation(1000, 500, 0.1, 2)\n",
    "simulation.to_dsjson_file('file.json')"
   ]
  },
  {
   "cell_type": "code",
   "execution_count": null,
   "metadata": {},
   "outputs": [],
   "source": []
  }
 ],
 "metadata": {
  "interpreter": {
   "hash": "e6d91e144c1e8b75ccdd4259c6213e15c7f5d1d664ef01abea10605a34f365c2"
  },
  "kernelspec": {
   "display_name": "Python 3.9.5 64-bit ('base': conda)",
   "name": "python3"
  },
  "language_info": {
   "codemirror_mode": {
    "name": "ipython",
    "version": 3
   },
   "file_extension": ".py",
   "mimetype": "text/x-python",
   "name": "python",
   "nbconvert_exporter": "python",
   "pygments_lexer": "ipython3",
   "version": "3.9.5"
  },
  "orig_nbformat": 4
 },
 "nbformat": 4,
 "nbformat_minor": 2
}
