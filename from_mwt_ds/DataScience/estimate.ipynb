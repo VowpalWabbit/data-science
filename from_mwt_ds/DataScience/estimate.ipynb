{
 "cells": [
  {
   "cell_type": "markdown",
   "id": "prescribed-belize",
   "metadata": {},
   "source": [
    "# Contextual Bandits data"
   ]
  },
  {
   "cell_type": "markdown",
   "id": "closing-plaza",
   "metadata": {},
   "source": [
    "## Load data"
   ]
  },
  {
   "cell_type": "code",
   "execution_count": 9,
   "id": "2e337062",
   "metadata": {},
   "outputs": [],
   "source": [
    "from estimate import estimate\n",
    "import os\n",
    "output_file_path=\"test_data/\"\n",
    "input_files = [\"test_data/cb/01.csv\"]\n",
    "config = {\n",
    "   'policies': {'random': ['snips'], 'baseline1': ['ips']},\n",
    "   'aggregation': {'num_of_events': 10}\n",
    "}\n",
    "df = estimate(input_files, config, output_path=output_file_path)"
   ]
  },
  {
   "cell_type": "markdown",
   "id": "congressional-birthday",
   "metadata": {},
   "source": [
    "## Apply estimators"
   ]
  },
  {
   "cell_type": "code",
   "execution_count": 7,
   "id": "proper-apparel",
   "metadata": {
    "scrolled": true
   },
   "outputs": [
    {
     "name": "stdout",
     "output_type": "stream",
     "text": [
      "   Unnamed: 0  random_snips  baseline1_ips\n",
      "0           0           0.2            1.0\n",
      "1           1           0.3            0.0\n",
      "2           2           0.5            0.5\n",
      "3           3           0.3            0.5\n",
      "4           4           0.1            0.0\n"
     ]
    }
   ],
   "source": [
    "import pandas as pd\n",
    "df = pd.read_csv(\"test_data/cb.aggregated\")\n",
    "print(df.head())"
   ]
  },
  {
   "cell_type": "markdown",
   "id": "animated-longitude",
   "metadata": {},
   "source": [
    "## Visualize"
   ]
  },
  {
   "cell_type": "code",
   "execution_count": 8,
   "id": "seventh-filling",
   "metadata": {},
   "outputs": [
    {
     "name": "stderr",
     "output_type": "stream",
     "text": [
      "No handles with labels found to put in legend.\n"
     ]
    },
    {
     "data": {
      "text/plain": [
       "<matplotlib.legend.Legend at 0x11997ef50>"
      ]
     },
     "execution_count": 8,
     "metadata": {},
     "output_type": "execute_result"
    },
    {
     "data": {
      "image/png": "[encoded data removed]",
      "text/plain": [
       "<Figure size 432x288 with 1 Axes>"
      ]
     },
     "metadata": {
      "needs_background": "light"
     },
     "output_type": "display_data"
    }
   ],
   "source": [
    "\n",
    "import matplotlib.pyplot as plt\n",
    "fig, ax = plt.subplots()\n",
    "plt.plot(df['random_snips'])\n",
    "plt.plot(df[\"baseline1_ips\"])\n",
    "\n",
    "plt.legend(loc=\"best\")"
   ]
  },
  {
   "cell_type": "markdown",
   "id": "wound-wagner",
   "metadata": {},
   "source": [
    "## Reaggregate (if needed)"
   ]
  },
  {
   "cell_type": "code",
   "execution_count": null,
   "id": "exposed-retail",
   "metadata": {},
   "outputs": [],
   "source": [
    "df = df.resample('10min').sum()\n",
    "df"
   ]
  },
  {
   "cell_type": "markdown",
   "id": "patent-engineering",
   "metadata": {},
   "source": [
    "## Visualize"
   ]
  },
  {
   "cell_type": "code",
   "execution_count": null,
   "id": "radical-nightmare",
   "metadata": {},
   "outputs": [],
   "source": [
    "df.apply(lambda r: r['random'].get('snips'), axis=1).plot(label='random')\n",
    "df.apply(lambda r: r['baseline1'].get('snips'), axis=1).plot(label='baseline1')\n",
    "\n",
    "plt.legend(loc='best')"
   ]
  },
  {
   "cell_type": "markdown",
   "id": "medieval-priority",
   "metadata": {},
   "source": [
    "# Conditional Contextual Bandits"
   ]
  },
  {
   "cell_type": "code",
   "execution_count": null,
   "id": "available-patent",
   "metadata": {},
   "outputs": [],
   "source": [
    "import pandas as pd\n",
    "\n",
    "df = pd.read_pickle(r'test_data\\ccb\\01.pickle')\n",
    "df.head()"
   ]
  },
  {
   "cell_type": "code",
   "execution_count": null,
   "id": "bottom-student",
   "metadata": {},
   "outputs": [],
   "source": []
  }
 ],
 "metadata": {
  "kernelspec": {
   "display_name": "Python 3",
   "language": "python",
   "name": "python3"
  },
  "language_info": {
   "codemirror_mode": {
    "name": "ipython",
    "version": 3
   },
   "file_extension": ".py",
   "mimetype": "text/x-python",
   "name": "python",
   "nbconvert_exporter": "python",
   "pygments_lexer": "ipython3",
   "version": "3.7.10"
  },
  "metadata": {
   "interpreter": {
    "hash": "1ee38ef4a5a9feb55287fd749643f13d043cb0a7addaab2a9c224cbe137c0062"
   }
  }
 },
 "nbformat": 4,
 "nbformat_minor": 5
}
