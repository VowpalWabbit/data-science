{
 "cells": [
  {
   "cell_type": "markdown",
   "id": "prescribed-belize",
   "metadata": {},
   "source": [
    "# Contextual Bandits data"
   ]
  },
  {
   "cell_type": "markdown",
   "id": "closing-plaza",
   "metadata": {},
   "source": [
    "## Load data"
   ]
  },
  {
   "cell_type": "code",
   "execution_count": null,
   "id": "healthy-stuff",
   "metadata": {},
   "outputs": [],
   "source": [
    "import pandas as pd\n",
    "\n",
    "df = pd.read_csv(r'test_data/cb/01.csv', parse_dates=['t']).set_index('t')\n",
    "df.head()"
   ]
  },
  {
   "cell_type": "markdown",
   "id": "congressional-birthday",
   "metadata": {},
   "source": [
    "## Apply estimators"
   ]
  },
  {
   "cell_type": "code",
   "execution_count": null,
   "id": "proper-apparel",
   "metadata": {
    "scrolled": true
   },
   "outputs": [],
   "source": [
    "from cb.estimators import ips_snips\n",
    "\n",
    "\n",
    "def init_ips_snips(r, p, p_log, n):\n",
    "    result = ips_snips()\n",
    "    result.add(r, p_log, p, n * int(p > 0))\n",
    "    return result\n",
    "\n",
    "policies = ['random', 'baseline1']\n",
    "for p in policies:\n",
    "    df[p] = df.apply(lambda r: init_ips_snips(r['r'], r[f\"('b', '{p}')\"], r['p'], r['n']), axis = 1)\n",
    "\n",
    "df = df[policies].resample('5min').sum()\n",
    "df"
   ]
  },
  {
   "cell_type": "markdown",
   "id": "animated-longitude",
   "metadata": {},
   "source": [
    "## Visualize"
   ]
  },
  {
   "cell_type": "code",
   "execution_count": null,
   "id": "seventh-filling",
   "metadata": {},
   "outputs": [],
   "source": [
    "import matplotlib.pyplot as plt\n",
    "\n",
    "df.apply(lambda r: r['random'].get('snips'), axis=1).plot(label='random')\n",
    "df.apply(lambda r: r['baseline1'].get('snips'), axis=1).plot(label='baseline1')\n",
    "\n",
    "plt.legend(loc='best')"
   ]
  },
  {
   "cell_type": "markdown",
   "id": "wound-wagner",
   "metadata": {},
   "source": [
    "## Reaggregate (if needed)"
   ]
  },
  {
   "cell_type": "code",
   "execution_count": null,
   "id": "exposed-retail",
   "metadata": {},
   "outputs": [],
   "source": [
    "df = df.resample('10min').sum()\n",
    "df"
   ]
  },
  {
   "cell_type": "markdown",
   "id": "patent-engineering",
   "metadata": {},
   "source": [
    "## Visualize"
   ]
  },
  {
   "cell_type": "code",
   "execution_count": null,
   "id": "radical-nightmare",
   "metadata": {},
   "outputs": [],
   "source": [
    "df.apply(lambda r: r['random'].get('snips'), axis=1).plot(label='random')\n",
    "df.apply(lambda r: r['baseline1'].get('snips'), axis=1).plot(label='baseline1')\n",
    "\n",
    "plt.legend(loc='best')"
   ]
  },
  {
   "cell_type": "markdown",
   "id": "medieval-priority",
   "metadata": {},
   "source": [
    "# Conditional Contextual Bandits"
   ]
  },
  {
   "cell_type": "code",
   "execution_count": null,
   "id": "available-patent",
   "metadata": {},
   "outputs": [],
   "source": [
    "import pandas as pd\n",
    "\n",
    "df = pd.read_pickle(r'test_data\\ccb\\01.pickle')\n",
    "df.head()"
   ]
  },
  {
   "cell_type": "code",
   "execution_count": null,
   "id": "bottom-student",
   "metadata": {},
   "outputs": [],
   "source": []
  }
 ],
 "metadata": {
  "kernelspec": {
   "name": "python38564bitc1b2a52ab4774b1892b2d6901d9c26f2",
   "display_name": "Python 3.8.8 64-bit ('python@3.8')"
  },
  "language_info": {
   "codemirror_mode": {
    "name": "ipython",
    "version": 3
   },
   "file_extension": ".py",
   "mimetype": "text/x-python",
   "name": "python",
   "nbconvert_exporter": "python",
   "pygments_lexer": "ipython3",
   "version": "3.8.8"
  },
  "metadata": {
   "interpreter": {
    "hash": "1ee38ef4a5a9feb55287fd749643f13d043cb0a7addaab2a9c224cbe137c0062"
   }
  }
 },
 "nbformat": 4,
 "nbformat_minor": 5
}