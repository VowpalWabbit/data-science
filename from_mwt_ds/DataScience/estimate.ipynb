{
 "cells": [
  {
   "cell_type": "markdown",
   "id": "prescribed-belize",
   "metadata": {},
   "source": [
    "# Contextual Bandits data"
   ]
  },
  {
   "cell_type": "markdown",
   "id": "closing-plaza",
   "metadata": {},
   "source": [
    "## Load data"
   ]
  },
  {
   "cell_type": "markdown",
   "id": "congressional-birthday",
   "metadata": {},
   "source": [
    "## Apply estimators"
   ]
  },
  {
   "cell_type": "code",
   "execution_count": 3,
   "id": "proper-apparel",
   "metadata": {
    "scrolled": true
   },
   "outputs": [],
   "source": [
    "from estimate import estimate\n",
    "\n",
    "input_files = [\"test_data/cb/01.csv\"]\n",
    "config = {\n",
    "   'policies': {'random': ['snips'], 'baseline1': ['ips']},\n",
    "   'aggregation': {'num_of_events': 10}\n",
    "}\n",
    "estimate(input_files, config)\n"
   ]
  },
  {
   "cell_type": "markdown",
   "id": "animated-longitude",
   "metadata": {},
   "source": [
    "## Visualize"
   ]
  },
  {
   "cell_type": "code",
   "execution_count": null,
   "id": "seventh-filling",
   "metadata": {},
   "outputs": [],
   "source": [
    "import matplotlib.pyplot as plt\n",
    "\n",
    "df.apply(lambda r: r['random'].get('snips'), axis=1).plot(label='random')\n",
    "df.apply(lambda r: r['baseline1'].get('snips'), axis=1).plot(label='baseline1')\n",
    "\n",
    "plt.legend(loc='best')"
   ]
  },
  {
   "cell_type": "markdown",
   "id": "wound-wagner",
   "metadata": {},
   "source": [
    "## Reaggregate (if needed)"
   ]
  },
  {
   "cell_type": "code",
   "execution_count": null,
   "id": "exposed-retail",
   "metadata": {},
   "outputs": [],
   "source": [
    "df = df.resample('10min').sum()\n",
    "df"
   ]
  },
  {
   "cell_type": "markdown",
   "id": "patent-engineering",
   "metadata": {},
   "source": [
    "## Visualize"
   ]
  },
  {
   "cell_type": "code",
   "execution_count": null,
   "id": "radical-nightmare",
   "metadata": {},
   "outputs": [],
   "source": [
    "df.apply(lambda r: r['random'].get('snips'), axis=1).plot(label='random')\n",
    "df.apply(lambda r: r['baseline1'].get('snips'), axis=1).plot(label='baseline1')\n",
    "\n",
    "plt.legend(loc='best')"
   ]
  },
  {
   "cell_type": "markdown",
   "id": "medieval-priority",
   "metadata": {},
   "source": [
    "# Conditional Contextual Bandits"
   ]
  },
  {
   "cell_type": "code",
   "execution_count": null,
   "id": "available-patent",
   "metadata": {},
   "outputs": [],
   "source": [
    "import pandas as pd\n",
    "\n",
    "df = pd.read_pickle(r'test_data\\ccb\\01.pickle')\n",
    "df.head()"
   ]
  },
  {
   "cell_type": "code",
   "execution_count": null,
   "id": "bottom-student",
   "metadata": {},
   "outputs": [],
   "source": []
  }
 ],
 "metadata": {
  "kernelspec": {
   "display_name": "Python 3",
   "language": "python",
   "name": "python3"
  },
  "language_info": {
   "codemirror_mode": {
    "name": "ipython",
    "version": 3
   },
   "file_extension": ".py",
   "mimetype": "text/x-python",
   "name": "python",
   "nbconvert_exporter": "python",
   "pygments_lexer": "ipython3",
   "version": "3.7.10"
  },
  "metadata": {
   "interpreter": {
    "hash": "1ee38ef4a5a9feb55287fd749643f13d043cb0a7addaab2a9c224cbe137c0062"
   }
  }
 },
 "nbformat": 4,
 "nbformat_minor": 5
}
