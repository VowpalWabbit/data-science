{
 "cells": [
  {
   "cell_type": "markdown",
   "id": "prescribed-belize",
   "metadata": {},
   "source": [
    "# CB (minimalistic example)"
   ]
  },
  {
   "cell_type": "markdown",
   "id": "industrial-satellite",
   "metadata": {},
   "source": [
    "## Load data"
   ]
  },
  {
   "cell_type": "code",
   "execution_count": null,
   "id": "healthy-stuff",
   "metadata": {},
   "outputs": [],
   "source": [
    "import pandas as pd\n",
    "\n",
    "df = pd.read_pickle(r'test_data\\cb\\01.pickle')\n",
    "df.head()"
   ]
  },
  {
   "cell_type": "markdown",
   "id": "atomic-lincoln",
   "metadata": {},
   "source": [
    "## Apply estimators"
   ]
  },
  {
   "cell_type": "code",
   "execution_count": null,
   "id": "proper-apparel",
   "metadata": {
    "scrolled": true
   },
   "outputs": [],
   "source": [
    "from cb.estimators import ips_snips\n",
    "\n",
    "\n",
    "def init_ips_snips(r, p, p_log, n):\n",
    "    result = ips_snips()\n",
    "    result.add(r, p_log, p, n * int(p > 0))\n",
    "    return result\n",
    "\n",
    "policies = ['random', 'baseline1']\n",
    "for p in policies:\n",
    "    df[p] = df.apply(lambda r: init_ips_snips(r['r'], r[('b', p)], r['p'], r['n']), axis = 1)\n",
    "\n",
    "df = df[policies].resample('5min').sum()\n",
    "df"
   ]
  },
  {
   "cell_type": "markdown",
   "id": "developed-replacement",
   "metadata": {},
   "source": [
    "## Visualize"
   ]
  },
  {
   "cell_type": "code",
   "execution_count": null,
   "id": "italian-scenario",
   "metadata": {},
   "outputs": [],
   "source": [
    "df.apply(lambda r: r['random'].get('snips'), axis=1).plot()\n",
    "df.apply(lambda r: r['baseline1'].get('snips'), axis=1).plot()"
   ]
  },
  {
   "cell_type": "markdown",
   "id": "faced-pension",
   "metadata": {},
   "source": [
    "## Reaggregate (if needed)"
   ]
  },
  {
   "cell_type": "code",
   "execution_count": null,
   "id": "manual-paradise",
   "metadata": {},
   "outputs": [],
   "source": [
    "df = df.resample('10min').sum()"
   ]
  },
  {
   "cell_type": "markdown",
   "id": "sealed-reset",
   "metadata": {},
   "source": [
    "## Visualize"
   ]
  },
  {
   "cell_type": "code",
   "execution_count": null,
   "id": "average-embassy",
   "metadata": {},
   "outputs": [],
   "source": [
    "df.apply(lambda r: r['random'].get('snips'), axis=1).plot()\n",
    "df.apply(lambda r: r['baseline1'].get('snips'), axis=1).plot()"
   ]
  },
  {
   "cell_type": "markdown",
   "id": "documented-tennis",
   "metadata": {},
   "source": [
    "# CCB"
   ]
  },
  {
   "cell_type": "code",
   "execution_count": null,
   "id": "earlier-catering",
   "metadata": {},
   "outputs": [],
   "source": [
    "import pandas as pd\n",
    "\n",
    "df = pd.read_pickle(r'test_data\\ccb\\02.pickle')\n",
    "df.head()"
   ]
  },
  {
   "cell_type": "code",
   "execution_count": null,
   "id": "bulgarian-painting",
   "metadata": {},
   "outputs": [],
   "source": []
  }
 ],
 "metadata": {
  "kernelspec": {
   "display_name": "Python 3",
   "language": "python",
   "name": "python3"
  },
  "language_info": {
   "codemirror_mode": {
    "name": "ipython",
    "version": 3
   },
   "file_extension": ".py",
   "mimetype": "text/x-python",
   "name": "python",
   "nbconvert_exporter": "python",
   "pygments_lexer": "ipython3",
   "version": "3.8.5"
  }
 },
 "nbformat": 4,
 "nbformat_minor": 5
}
