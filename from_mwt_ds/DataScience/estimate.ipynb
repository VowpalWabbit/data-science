{
 "cells": [
  {
   "cell_type": "markdown",
   "metadata": {},
   "source": [
    "# Contextual Bandits data"
   ]
  },
  {
   "cell_type": "markdown",
   "metadata": {},
   "source": [
    "## Load data"
   ]
  },
  {
   "cell_type": "code",
   "execution_count": null,
   "metadata": {},
   "outputs": [],
   "source": [
    "from estimate import estimate\n",
    "import os\n",
    "from os.path import isfile, join\n",
    "\n",
    "input_dir = \"test_data/cb\"\n",
    "input_files = [join(input_dir, f) for f in os.listdir(input_dir) if isfile(join(input_dir, f))]\n",
    "output_dir=\"test_data/aggregated\"\n",
    "config = {\n",
    "   'policies': {'random': ['snips'], 'baseline1': ['ips']},\n",
    "   'aggregation': {'num_of_events': 10}\n",
    "}\n",
    "estimate(input_files, config, output_path=output_dir)"
   ]
  },
  {
   "cell_type": "markdown",
   "metadata": {},
   "source": [
    "## Apply estimators"
   ]
  },
  {
   "cell_type": "code",
   "execution_count": null,
   "metadata": {
    "scrolled": true
   },
   "outputs": [],
   "source": [
    "import matplotlib.pyplot as plt\n",
    "import pandas as pd\n",
    "def plot_estimate_chunk(chunk: pd.DataFrame):\n",
    "#     fig, ax = plt.subplots()\n",
    "    for index in range(1, len(chunk.columns)):\n",
    "        estimate = chunk[chunk.columns[index]]\n",
    "        plt.plot(estimate, \"-o\", label=chunk.columns.values[index])"
   ]
  },
  {
   "cell_type": "markdown",
   "metadata": {},
   "source": [
    "## Visualize"
   ]
  },
  {
   "cell_type": "code",
   "execution_count": null,
   "metadata": {},
   "outputs": [],
   "source": [
    "import pandas as pd\n",
    "output_files = [join(output_dir, f) for f in os.listdir(output_dir) if isfile(join(output_dir, f))]\n",
    "df = pd.DataFrame()\n",
    "for file in output_files:\n",
    "    chunk = pd.read_csv(file)\n",
    "    df.append(chunk, ignore_index = True)\n",
    "plot_estimate_chunk(chunk)\n",
    "plt.legend(loc=\"upper left\")\n",
    "plt.show()"
   ]
  },
  {
   "cell_type": "markdown",
   "metadata": {},
   "source": [
    "## Reaggregate (if needed)"
   ]
  },
  {
   "cell_type": "code",
   "execution_count": null,
   "metadata": {},
   "outputs": [],
   "source": [
    "df = df.resample('10min').sum()\n",
    "df"
   ]
  },
  {
   "cell_type": "markdown",
   "metadata": {},
   "source": [
    "## Visualize"
   ]
  },
  {
   "cell_type": "code",
   "execution_count": null,
   "metadata": {},
   "outputs": [],
   "source": [
    "df.apply(lambda r: r['random'].get('snips'), axis=1).plot(label='random')\n",
    "df.apply(lambda r: r['baseline1'].get('snips'), axis=1).plot(label='baseline1')\n",
    "\n",
    "plt.legend(loc='best')"
   ]
  },
  {
   "cell_type": "markdown",
   "metadata": {},
   "source": [
    "# Conditional Contextual Bandits"
   ]
  },
  {
   "cell_type": "code",
   "execution_count": null,
   "metadata": {},
   "outputs": [],
   "source": [
    "import pandas as pd\n",
    "\n",
    "df = pd.read_pickle(r'test_data\\ccb\\01.pickle')\n",
    "df.head()"
   ]
  },
  {
   "cell_type": "code",
   "execution_count": null,
   "metadata": {},
   "outputs": [],
   "source": []
  }
 ],
 "metadata": {
  "kernelspec": {
   "display_name": "Python 3",
   "language": "python",
   "name": "python3"
  },
  "language_info": {
   "codemirror_mode": {
    "name": "ipython",
    "version": 3
   },
   "file_extension": ".py",
   "mimetype": "text/x-python",
   "name": "python",
   "nbconvert_exporter": "python",
   "pygments_lexer": "ipython3",
   "version": "3.7.3"
  },
  "metadata": {
   "interpreter": {
    "hash": "1ee38ef4a5a9feb55287fd749643f13d043cb0a7addaab2a9c224cbe137c0062"
   }
  }
 },
 "nbformat": 4,
 "nbformat_minor": 5
}
