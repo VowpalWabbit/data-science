{
 "metadata": {
  "language_info": {
   "codemirror_mode": {
    "name": "ipython",
    "version": 3
   },
   "file_extension": ".py",
   "mimetype": "text/x-python",
   "name": "python",
   "nbconvert_exporter": "python",
   "pygments_lexer": "ipython3",
   "version": "3.7.8-final"
  },
  "orig_nbformat": 2,
  "kernelspec": {
   "name": "python36564bitbasecondad44845cb0df0418986ceeb24f570a602",
   "display_name": "Python 3.6.5 64-bit ('base': conda)",
   "language": "python"
  }
 },
 "nbformat": 4,
 "nbformat_minor": 2,
 "cells": [
  {
   "source": [
    "# Initiailize VW executor"
   ],
   "cell_type": "markdown",
   "metadata": {}
  },
  {
   "cell_type": "code",
   "execution_count": null,
   "metadata": {},
   "outputs": [],
   "source": [
    "from VwPipeline import Logger\n",
    "from VwPipeline.VwCache import VwCache\n",
    "from VwPipeline.Vw import Vw\n",
    "from VwPipeline.VwOpts import dimension, product\n",
    "import pandas as pd\n",
    "\n",
    "#your vw path\n",
    "vw_path = r'C:\\vw\\vw.exe'\n",
    "\n",
    "logger = Logger.ConsoleLogger('WARNING')\n",
    "cache = VwCache(r'_cache', logger)\n",
    "\n",
    "vw = Vw(vw_path, cache, handler=Logger.WidgetHandler())"
   ]
  },
  {
   "source": [
    "# Get the data"
   ],
   "cell_type": "markdown",
   "metadata": {}
  },
  {
   "cell_type": "code",
   "execution_count": null,
   "metadata": {},
   "outputs": [],
   "source": [
    "inputs = [r'C:\\data\\cb_data\\1.json',\n",
    "    r'C:\\data\\cb_data\\2.json'\n",
    "    r'C:\\data\\cb_data\\3.json'\n",
    "    ]\n",
    "inputs"
   ]
  },
  {
   "source": [
    "# Define options grid"
   ],
   "cell_type": "markdown",
   "metadata": {}
  },
  {
   "cell_type": "code",
   "execution_count": null,
   "metadata": {},
   "outputs": [],
   "source": [
    "opts = pd.DataFrame(product(\n",
    "    dimension('#base', ['--ccb_explore_adf -P 500 --preserve_performance_counters --save_resume --epsilon 0 --dsjson']),\n",
    "    dimension('-l', [0.1, 0.2]),\n",
    "    dimension('--cb_type', ['ips', 'mtr'])\n",
    "))\n",
    "opts"
   ]
  },
  {
   "source": [
    "# Train"
   ],
   "cell_type": "markdown",
   "metadata": {}
  },
  {
   "cell_type": "code",
   "execution_count": null,
   "metadata": {},
   "outputs": [],
   "source": [
    "results = vw.train(inputs, opts, [])\n",
    "results"
   ]
  },
  {
   "source": [
    "# Explore metrics"
   ],
   "cell_type": "markdown",
   "metadata": {}
  },
  {
   "cell_type": "code",
   "execution_count": null,
   "metadata": {},
   "outputs": [],
   "source": [
    "import matplotlib.pyplot as plt\n",
    "[(-r['!Metrics']['loss_per_example']).plot(label=f\"{i}\", figsize=(10,6)) for i, r in results.iterrows()]\n",
    "plt.legend()"
   ]
  },
  {
   "source": [
    "# Get the best ones and try more configurations on top"
   ],
   "cell_type": "markdown",
   "metadata": {}
  },
  {
   "cell_type": "code",
   "execution_count": null,
   "metadata": {},
   "outputs": [],
   "source": [
    "best = results.sort_values(by='!Loss').head(2)\n",
    "opts = pd.DataFrame(product(best,\n",
    "    dimension('#coin', ['', '--coin'])))\n",
    "opts"
   ]
  },
  {
   "cell_type": "code",
   "execution_count": null,
   "metadata": {},
   "outputs": [],
   "source": [
    "results = vw.train(inputs, opts, [])\n",
    "results"
   ]
  },
  {
   "cell_type": "code",
   "execution_count": null,
   "metadata": {},
   "outputs": [],
   "source": []
  }
 ]
}