{
 "metadata": {
  "language_info": {
   "codemirror_mode": {
    "name": "ipython",
    "version": 3
   },
   "file_extension": ".py",
   "mimetype": "text/x-python",
   "name": "python",
   "nbconvert_exporter": "python",
   "pygments_lexer": "ipython3",
   "version": "3.8.6-final"
  },
  "orig_nbformat": 2,
  "kernelspec": {
   "name": "python38564bitfd59076926044bd899f4541e1d3f6749",
   "display_name": "Python 3.8.5 64-bit",
   "language": "python"
  }
 },
 "nbformat": 4,
 "nbformat_minor": 2,
 "cells": [
  {
   "source": [
    "# Initiailize VW executor"
   ],
   "cell_type": "markdown",
   "metadata": {}
  },
  {
   "cell_type": "code",
   "execution_count": null,
   "metadata": {},
   "outputs": [],
   "source": [
    "from VwPipeline import Loggers, Handlers\n",
    "from VwPipeline.VwCache import VwCache\n",
    "from VwPipeline.Vw import Vw\n",
    "from VwPipeline.VwOpts import dimension, product\n",
    "import pandas as pd\n",
    "\n",
    "#your vw path\n",
    "vw_path = r'/bin/vw'\n",
    "\n",
    "#path to local folder to keep intermediate results\n",
    "cache = VwCache(r'_cache')\n",
    "\n",
    "vw = Vw(vw_path,\n",
    "    cache,\n",
    "    handlers=[Handlers.WidgetHandler()],\n",
    "#    loggers=[Loggers.ConsoleLogger('DEBUG')]\n",
    "    )"
   ]
  },
  {
   "source": [
    "# Get the data"
   ],
   "cell_type": "markdown",
   "metadata": {}
  },
  {
   "cell_type": "code",
   "execution_count": null,
   "metadata": {},
   "outputs": [],
   "source": [
    "inputs = [\n",
    "    r'cb-1.json',\n",
    "    r'cb-2.json'\n",
    "    ]\n",
    "inputs"
   ]
  },
  {
   "source": [
    "# Define options grid and train"
   ],
   "cell_type": "markdown",
   "metadata": {}
  },
  {
   "cell_type": "code",
   "execution_count": null,
   "metadata": {},
   "outputs": [],
   "source": [
    "opts = pd.DataFrame(product(\n",
    "    dimension('#base', ['--ccb_explore_adf -P 10000 --preserve_performance_counters --save_resume --dsjson']),\n",
    "    dimension('--cb_type', ['ips', 'mtr']),\n",
    "))\n",
    "opts"
   ]
  },
  {
   "cell_type": "code",
   "execution_count": null,
   "metadata": {},
   "outputs": [],
   "source": [
    "result = vw.train(inputs, opts)\n",
    "result"
   ]
  },
  {
   "source": [
    "# Explore metrics\n"
   ],
   "cell_type": "markdown",
   "metadata": {}
  },
  {
   "cell_type": "code",
   "execution_count": null,
   "metadata": {},
   "outputs": [],
   "source": [
    "result.iloc[0]['!Metrics'].head()"
   ]
  },
  {
   "cell_type": "code",
   "execution_count": null,
   "metadata": {},
   "outputs": [],
   "source": [
    "import matplotlib.pyplot as plt\n",
    "[(-r['!Metrics']['loss_per_example']).plot(label=f\"{r['!Job'].name}\", figsize=(10,6)) for i, r in result[result['!Loss'].notnull()].iterrows()]\n",
    "plt.legend()"
   ]
  },
  {
   "source": [
    "# Choose the best and try other options on top"
   ],
   "cell_type": "markdown",
   "metadata": {}
  },
  {
   "cell_type": "code",
   "execution_count": null,
   "metadata": {},
   "outputs": [],
   "source": [
    "best1 = result.sort_values(by='!Loss').head(1)\n",
    "best1"
   ]
  },
  {
   "cell_type": "code",
   "execution_count": null,
   "metadata": {},
   "outputs": [],
   "source": [
    "opts = pd.DataFrame(product(best1, \n",
    "    dimension('-l', ['0.1', '0.2'])))\n",
    "opts"
   ]
  },
  {
   "cell_type": "code",
   "execution_count": null,
   "metadata": {},
   "outputs": [],
   "source": [
    "result = vw.train(inputs, opts)\n",
    "result"
   ]
  },
  {
   "cell_type": "code",
   "execution_count": null,
   "metadata": {},
   "outputs": [],
   "source": []
  }
 ]
}