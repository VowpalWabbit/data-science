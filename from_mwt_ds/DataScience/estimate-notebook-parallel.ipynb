{
 "cells": [
  {
   "cell_type": "markdown",
   "id": "3f345d82",
   "metadata": {},
   "source": [
    "# Contextual Bandits data"
   ]
  },
  {
   "cell_type": "markdown",
   "id": "73c02aaa",
   "metadata": {},
   "source": [
    "## Load data"
   ]
  },
  {
   "cell_type": "code",
   "execution_count": null,
   "id": "08def673",
   "metadata": {},
   "outputs": [],
   "source": [
    "# Initialize Workspace\n",
    "from azureml.core import Workspace\n",
    "ws = Workspace.from_config()\n",
    "print('Workspace name: ' + ws.name, \n",
    "      'Azure region: ' + ws.location, \n",
    "      'Subscription id: ' + ws.subscription_id, \n",
    "      'Resource group: ' + ws.resource_group, sep = '\\n')"
   ]
  },
  {
   "cell_type": "code",
   "execution_count": null,
   "id": "16ad1c43",
   "metadata": {},
   "outputs": [],
   "source": [
    "# Create or Attach AML Compute\n",
    "from azureml.core.compute import ComputeTarget, AmlCompute\n",
    "from azureml.core.compute_target import ComputeTargetException\n",
    "\n",
    "# choose a name for your cluster\n",
    "cluster_name = \"rlos-cfe-cluster\"\n",
    "\n",
    "try:\n",
    "    compute_target = ComputeTarget(workspace=ws, name=cluster_name)\n",
    "    print('Found existing compute target')\n",
    "except ComputeTargetException:\n",
    "    print('Creating a new compute target...')\n",
    "    compute_config = AmlCompute.provisioning_configuration(vm_size='STANDARD_D2_V2', max_nodes=4)\n",
    "\n",
    "    # create the cluster\n",
    "    compute_target = ComputeTarget.create(ws, cluster_name, compute_config)\n",
    "\n",
    "    # can poll for a minimum number of nodes and for a specific timeout. \n",
    "    # if no min node count is provided it uses the scale settings for the cluster\n",
    "    compute_target.wait_for_completion(show_output=True, min_node_count=None, timeout_in_minutes=20)\n",
    "\n",
    "# use get_status() to get a detailed status for the current cluster. \n",
    "print(compute_target.get_status().serialize())"
   ]
  },
  {
   "cell_type": "code",
   "execution_count": null,
   "id": "aa291cea",
   "metadata": {},
   "outputs": [],
   "source": [
    "import shutil, os\n",
    "source_directory = 'script-run'\n",
    "shutil.rmtree(source_directory)\n",
    "os.makedirs(source_directory, exist_ok=True)\n",
    "shutil.copytree('cb', os.path.join(source_directory, 'cb'))"
   ]
  },
  {
   "cell_type": "code",
   "execution_count": null,
   "id": "b8b2bfbe",
   "metadata": {},
   "outputs": [],
   "source": [
    "%%writefile $source_directory/setup_mpi.py\n",
    "# Copyright (c) Microsoft Corporation. All rights reserved.\n",
    "# Licensed under the MIT License.\n",
    "import sys\n",
    "import os\n",
    "from mpi4py import MPI\n",
    "import pandas as pd\n",
    "from cb.estimate import estimate\n",
    "\n",
    "mounted_input_path = sys.argv[1]\n",
    "\n",
    "print(\"Argument 1: %s\" % mounted_input_path)\n",
    "print(\"Number of nodes {}:\".format(MPI.COMM_WORLD.Get_size()))\n",
    "print(\"Node index {}:\".format(MPI.COMM_WORLD.Get_rank()))\n",
    "\n",
    "even = []\n",
    "odd = [] \n",
    "\n",
    "input_file_list = os.listdir(mounted_input_path)\n",
    "print(\"File number: {}\".format(len(input_file_list)))\n",
    "for index in range(0, len(input_file_list)):\n",
    "    if index % 2 == 0:\n",
    "        even.append(mounted_input_path + \"/\" + input_file_list[index])\n",
    "        print(\"read in {} file\".format(input_file_list[index]))\n",
    "    else:\n",
    "        odd.append(mounted_input_path + \"/\" + input_file_list[index])\n",
    "        print(\"read in {} file\".format(input_file_list[index]))\n",
    "print(even, odd)\n",
    " \n",
    "config = {\n",
    "   'policies': {'random': ['ips', 'snips'], 'baseline1': ['ips']},\n",
    "   'aggregation': {'num_of_events': 10}\n",
    "}\n",
    "\n",
    "input_files = []\n",
    "if MPI.COMM_WORLD.Get_rank() == 0:\n",
    "    input_files = odd\n",
    "elif MPI.COMM_WORLD.Get_rank() == 1:\n",
    "    input_files = even\n",
    "mounted_output_path = \"outputs\"\n",
    "os.makedirs(mounted_output_path, exist_ok=True)\n",
    "estimate(input_files, config, mounted_output_path)"
   ]
  },
  {
   "cell_type": "code",
   "execution_count": null,
   "id": "0f8d02fb",
   "metadata": {},
   "outputs": [],
   "source": [
    "def_blob_store = ws.get_default_datastore()\n",
    "print(def_blob_store)\n",
    "import sys\n",
    "for p in sys.path:\n",
    "    print(p)\n",
    "print(sys.path)\n",
    "def_blob_store.upload_files(files = [\"test_data/cb/01.csv\", \"test_data/cb/02.csv\"],\n",
    "                        target_path = '/dataset/cb/',\n",
    "                        overwrite = True,\n",
    "                        show_progress = True)"
   ]
  },
  {
   "cell_type": "code",
   "execution_count": null,
   "id": "bb5709c3",
   "metadata": {},
   "outputs": [],
   "source": [
    "from azureml.core import Dataset\n",
    "from azureml.data import OutputFileDatasetConfig\n",
    "\n",
    "input_data = Dataset.File.from_files(def_blob_store.path('/dataset/cb/*')).as_named_input('input').as_mount()"
   ]
  },
  {
   "cell_type": "code",
   "execution_count": null,
   "id": "03b3df75",
   "metadata": {},
   "outputs": [],
   "source": [
    "from azureml.core import Environment\n",
    "from azureml.core.runconfig import DockerConfiguration\n",
    "from azureml.core.conda_dependencies import CondaDependencies\n",
    "\n",
    "myenv = Environment(\"myenv\")\n",
    "\n",
    "myenv.docker.enabled = True\n",
    "myenv.python.conda_dependencies = CondaDependencies.create(pip_packages=['azureml-sdk>=1.12.0', 'pandas','matplotlib','mpi4py','vw-estimators'])\n",
    "myenv.docker.base_image = 'mcr.microsoft.com/azureml/intelmpi2018.3-cuda9.0-cudnn7-ubuntu16.04'\n",
    "docker_config = DockerConfiguration(use_docker=True)"
   ]
  },
  {
   "cell_type": "code",
   "execution_count": null,
   "id": "51b45b90",
   "metadata": {},
   "outputs": [],
   "source": [
    "from azureml.core import ScriptRunConfig\n",
    "from azureml.core.runconfig import MpiConfiguration\n",
    "\n",
    "src = ScriptRunConfig(source_directory=source_directory, \n",
    "                      script='setup_mpi.py', \n",
    "                      # to mount the dataset on the remote compute and pass the mounted path as an argument to the training script\n",
    "                      arguments =[input_data],\n",
    "                      compute_target=compute_target,\n",
    "                      environment=myenv,\n",
    "                      distributed_job_config=MpiConfiguration(node_count=2))"
   ]
  },
  {
   "cell_type": "code",
   "execution_count": null,
   "id": "303a47fa",
   "metadata": {},
   "outputs": [],
   "source": [
    "## Build and Submit Experiment\n",
    "from azureml.core import Experiment\n",
    "exp = Experiment(ws, 'ScriptRun_parallel')\n",
    "run = exp.submit(config=src)"
   ]
  },
  {
   "cell_type": "code",
   "execution_count": null,
   "id": "9b82cd6f",
   "metadata": {},
   "outputs": [],
   "source": [
    "# View Run Details\n",
    "run.wait_for_completion(show_output=True)"
   ]
  },
  {
   "cell_type": "code",
   "execution_count": null,
   "id": "27f925bc",
   "metadata": {},
   "outputs": [],
   "source": [
    "run.download_files()"
   ]
  },
  {
   "cell_type": "markdown",
   "id": "fe7c0aeb",
   "metadata": {},
   "source": [
    "## Visualize"
   ]
  },
  {
   "cell_type": "code",
   "execution_count": null,
   "id": "3225fd31",
   "metadata": {},
   "outputs": [],
   "source": [
    "import matplotlib.pyplot as plt\n",
    "import pandas as pd\n",
    "def plot_estimate(df: pd.DataFrame):\n",
    "    for index in range(1, len(df.columns)):\n",
    "        estimate = df[df.columns[index]]\n",
    "        plt.plot(estimate, \"-o\", label=df.columns.values[index])"
   ]
  },
  {
   "cell_type": "code",
   "execution_count": null,
   "id": "40f29f89",
   "metadata": {},
   "outputs": [],
   "source": [
    "from estimate import estimate\n",
    "import os\n",
    "from os.path import isfile, join\n",
    "\n",
    "output_files = [os.path.join(\"outputs\", f) for f in sorted(os.listdir(\"outputs\"))]\n",
    "df = pd.DataFrame()\n",
    "for file in output_files:\n",
    "    chunk = pd.read_csv(file)\n",
    "    df = df.append(chunk, ignore_index = True)\n",
    "plot_estimate(df)\n",
    "plt.legend(loc=\"upper left\")\n",
    "plt.show()"
   ]
  },
  {
   "cell_type": "code",
   "execution_count": null,
   "id": "63d708bb",
   "metadata": {},
   "outputs": [],
   "source": []
  }
 ],
 "metadata": {
  "kernelspec": {
   "display_name": "Python 3",
   "language": "python",
   "name": "python3"
  },
  "language_info": {
   "codemirror_mode": {
    "name": "ipython",
    "version": 3
   },
   "file_extension": ".py",
   "mimetype": "text/x-python",
   "name": "python",
   "nbconvert_exporter": "python",
   "pygments_lexer": "ipython3",
   "version": "3.7.10"
  }
 },
 "nbformat": 4,
 "nbformat_minor": 5
}
