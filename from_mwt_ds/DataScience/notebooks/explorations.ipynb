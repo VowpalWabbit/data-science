{
 "cells": [
  {
   "cell_type": "code",
   "execution_count": null,
   "metadata": {},
   "outputs": [],
   "source": [
    "%pip install -r requirements.txt"
   ]
  },
  {
   "cell_type": "markdown",
   "metadata": {},
   "source": [
    "# Intro"
   ]
  },
  {
   "cell_type": "code",
   "execution_count": null,
   "metadata": {},
   "outputs": [],
   "source": [
    "from ipywidgets import *\n",
    "from vw_executor.vw_opts import VwOpts\n",
    "from vw_executor.vw import Vw\n",
    "import matplotlib.pyplot as plt\n",
    "\n",
    "from pathlib import Path\n",
    "import random\n",
    "import pandas as pd\n",
    "import json\n",
    "import numpy as np\n",
    "import seaborn as sns\n",
    "from playground.utils import get_simulation, cb_df\n",
    "from playground.dashboard import Dashboard\n",
    "from playground.vw_playground import VwPlayground\n",
    "from playground.visualizers import new_ax, plot_reward\n",
    "\n",
    "%matplotlib widget\n",
    "sns.set_theme(style=\"darkgrid\")"
   ]
  },
  {
   "cell_type": "markdown",
   "metadata": {},
   "source": [
    "## Simulator"
   ]
  },
  {
   "cell_type": "code",
   "execution_count": null,
   "metadata": {},
   "outputs": [],
   "source": [
    "people = ['Tom', 'Anna']\n",
    "topics = ['sports', 'politics']\n",
    "\n",
    "def my_cb_simulation(n=10000, swap_after=5000, variance=0, bad_features=0, delta=0.8, seed=0):\n",
    "    random.seed(seed)\n",
    "    np.random.seed(seed)\n",
    "    offset = 0\n",
    "    for i in range(1, n):\n",
    "        if i % swap_after == 0:\n",
    "            offset = (offset + 1) % 2\n",
    "\n",
    "        person = i % 2 \n",
    "        chosen = i % 4  // 2 \n",
    "        if (chosen + person + offset) % 2 == 0:\n",
    "            reward =  0.1 + delta + ((chosen + offset) % 2) * 0.1\n",
    "        else:\n",
    "            reward = 0.1 - ((chosen + offset + 1) % 2) * 0.1\n",
    "\n",
    "        reward = reward + np.random.normal(0, variance)\n",
    "\n",
    "        yield {\n",
    "            \"_label_cost\": -reward,\n",
    "            \"_label_probability\": 0.5,\n",
    "            \"_label_Action\": chosen + 1,\n",
    "            \"_labelIndex\": chosen,\n",
    "            \"a\": [chosen + 1, (chosen + 1) % 2 + 1],\n",
    "            \"c\": {'shared': {'name': people[person],\n",
    "                '_multi': [\n",
    "                    {'a': {'topic': topics[0]}, 'b': {f'f{i}': random.random() for i in range(int(bad_features))}},\n",
    "                    {'a': {'topic': topics[1]}, 'b': {f'f{i}': random.random() for i in range(int(bad_features))}}]}},\n",
    "            \"p\": [0.5, 0.5] \n",
    "        }"
   ]
  },
  {
   "cell_type": "markdown",
   "metadata": {},
   "source": [
    "## Visualizers"
   ]
  },
  {
   "cell_type": "code",
   "execution_count": null,
   "metadata": {},
   "outputs": [],
   "source": [
    "def plot_env(examples, ax=None, window=100):\n",
    "    ax = ax or new_ax()\n",
    "    ax.set_title('Rewards')\n",
    "    colors = ['green', 'red']\n",
    "    styles = ['-', '-.']\n",
    "    df = cb_df(examples)\n",
    "    for i, p in enumerate(people):\n",
    "        for j, t in enumerate(topics):\n",
    "            d = df[['reward']][(df['person']==p) & (df['chosen']==j)].rolling(window=window).mean()\n",
    "            sns.lineplot(x = d.index, y=d['reward'],\n",
    "                         label=f'E(r|{p},{t})', color = colors[j], linestyle = styles[i], ax=ax,\n",
    "                         errorbar=None, sort=False, estimator=None)       \n",
    "    ax.legend()\n",
    "\n",
    "    \n",
    "def plot_probs(examples, job, ax=None, window=100):\n",
    "    ax = ax or new_ax()\n",
    "    ax.set_title('P(action|person)')\n",
    "    ax.set_ylim(-0.05,1.05)\n",
    "    colors = ['green', 'red']\n",
    "    styles = ['-', '-.']\n",
    "    df = pd.concat([cb_df(examples), job[0].predictions('-p').cb], axis=1)\n",
    "    for i, p in enumerate(people):\n",
    "        for j, t in enumerate(topics):\n",
    "            d = df[(df['person']==p)][[str(j)]].rolling(window=window).mean() + i * 0.02\n",
    "            sns.lineplot(x = d.index, y=d[str(j)],\n",
    "                         label=f'P({t}|{p})',color = colors[j], linestyle = styles[i], ax=ax,\n",
    "                         errorbar=None, sort=False, estimator=None)            \n",
    "    ax.legend(loc='center left', bbox_to_anchor=(0.9, 0.5)) \n",
    "     "
   ]
  },
  {
   "cell_type": "markdown",
   "metadata": {},
   "source": [
    "## Interact"
   ]
  },
  {
   "cell_type": "code",
   "execution_count": null,
   "metadata": {},
   "outputs": [],
   "source": [
    "layout = [\n",
    "    [plot_env, plot_probs]]\n",
    "\n",
    "dashboard = Dashboard(['-p'], layout, figsize=(12,4))\n",
    "\n",
    "playground = VwPlayground(my_cb_simulation, dashboard)\n",
    "\n",
    "playground.run(\n",
    "    simulator_grid = {\n",
    "        'n': IntSlider(value=10000, min=100, max=50000),\n",
    "        'swap_after': IntSlider(value=5000, min=10, max=50000),\n",
    "        'variance': FloatSlider(value=0, min=0, max=1, step=0.1),\n",
    "        'bad_features': FloatLogSlider(value=1, min=0, max=10, base=2, step=1),\n",
    "        'delta': FloatSlider(value=0.8, min=0, max=30),\n",
    "        'seed': IntSlider(value=0, min=0, max=100),\n",
    "    },\n",
    "    vw_grid = {\n",
    "        '#base': fixed('--cb_explore_adf --dsjson --power_t 0 -P 100 --log_output stderr'),\n",
    "        '--learning_rate': FloatLogSlider(value=2**(-20), min=-20, max=10, base=2, step=1),\n",
    "        '--cb_type': fixed('mtr'),\n",
    "        '--l1': FloatLogSlider(value=2**(-20), min=-20, max=10, base=2, step=1),\n",
    "        '#interactions': ['', '-q sa', '-q ::'],\n",
    "        '#exploration': ['--epsilon 0.1', '--squarecb', '--cover 5', '--synthcover'],\n",
    "        '#explore_eval': ['', '--explore_eval']\n",
    "    },\n",
    "    columns=3\n",
    ")"
   ]
  },
  {
   "cell_type": "markdown",
   "metadata": {},
   "source": [
    "# Exploration algos"
   ]
  },
  {
   "cell_type": "markdown",
   "metadata": {},
   "source": [
    "## Epsilon-greedy"
   ]
  },
  {
   "cell_type": "code",
   "execution_count": null,
   "metadata": {},
   "outputs": [],
   "source": [
    "layout = [\n",
    "    [plot_env, plot_probs]]\n",
    "\n",
    "dashboard = Dashboard(['-p'], layout, figsize=(12,4))\n",
    "playground = VwPlayground(my_cb_simulation, dashboard)\n",
    "\n",
    "playground.run(\n",
    "    simulator_grid = {\n",
    "        'n': IntSlider(value=10000, min=100, max=50000),\n",
    "        'swap_after': IntSlider(value=5000, min=10, max=50000),\n",
    "        'variance': FloatSlider(value=0.4, min=0, max=1, step=0.1),\n",
    "        'bad_features': FloatLogSlider(value=4, min=0, max=10, base=2, step=1),\n",
    "        'delta': FloatSlider(value=0.8, min=0, max=30),\n",
    "        'seed': IntSlider(value=0, min=0, max=100),\n",
    "    },\n",
    "    vw_grid = {\n",
    "        '#base': fixed('--cb_explore_adf --dsjson --power_t 0 -P 100 --log_output stderr'),\n",
    "        '--learning_rate': FloatLogSlider(value=2**(-3), min=-20, max=10, base=2, step=1),\n",
    "        '--cb_type': fixed('mtr'),\n",
    "        '--l1': FloatLogSlider(value=2**(-20), min=-20, max=10, base=2, step=1),\n",
    "        '#interactions': ['-q ::','', '-q sa'],\n",
    "        '#explore_eval': ['', '--explore_eval'],\n",
    "        '--epsilon': FloatSlider(value=0.05, min=0, max=1, step=0.01)\n",
    "    },\n",
    "    columns=3\n",
    ")"
   ]
  },
  {
   "cell_type": "markdown",
   "metadata": {},
   "source": [
    "## Bagging"
   ]
  },
  {
   "cell_type": "code",
   "execution_count": null,
   "metadata": {},
   "outputs": [],
   "source": [
    "layout = [\n",
    "    [plot_env, plot_probs]]\n",
    "\n",
    "dashboard = Dashboard(['-p'], layout, figsize=(12,4))\n",
    "playground = VwPlayground(my_cb_simulation, dashboard)\n",
    "\n",
    "playground.run(\n",
    "    simulator_grid = {\n",
    "        'n': IntSlider(value=10000, min=100, max=50000),\n",
    "        'swap_after': IntSlider(value=5000, min=10, max=50000),\n",
    "        'variance': FloatSlider(value=0.4, min=0, max=1, step=0.1),\n",
    "        'bad_features': FloatLogSlider(value=4, min=0, max=10, base=2, step=1),\n",
    "        'delta': FloatSlider(value=0.8, min=0, max=30),\n",
    "        'seed': IntSlider(value=0, min=0, max=100),\n",
    "    },\n",
    "    vw_grid = {\n",
    "        '#base': fixed('--cb_explore_adf --dsjson --power_t 0 -P 100 --log_output stderr'),\n",
    "        '--learning_rate': FloatLogSlider(value=2**(-3), min=-20, max=10, base=2, step=1),\n",
    "        '--cb_type': fixed('mtr'),\n",
    "        '--l1': FloatLogSlider(value=2**(-20), min=-20, max=10, base=2, step=1),\n",
    "        '#interactions': ['-q ::','', '-q sa'],\n",
    "        '#explore_eval': ['', '--explore_eval'],\n",
    "        '--epsilon': FloatSlider(value=0, min=0, max=1, step=0.01),\n",
    "        '--bag': IntSlider(valu=1, min=1, max=100)\n",
    "    },\n",
    "    columns=3\n",
    ")"
   ]
  },
  {
   "cell_type": "markdown",
   "metadata": {},
   "source": [
    "## Cover"
   ]
  },
  {
   "cell_type": "code",
   "execution_count": null,
   "metadata": {},
   "outputs": [],
   "source": [
    "layout = [\n",
    "    [plot_env, plot_probs]]\n",
    "\n",
    "dashboard = Dashboard(['-p'], layout, figsize=(12,4))\n",
    "playground = VwPlayground(my_cb_simulation, dashboard)\n",
    "\n",
    "playground.run(\n",
    "    simulator_grid = {\n",
    "        'n': IntSlider(value=10000, min=100, max=50000),\n",
    "        'swap_after': IntSlider(value=5000, min=10, max=50000),\n",
    "        'variance': FloatSlider(value=0.4, min=0, max=1, step=0.1),\n",
    "        'bad_features': FloatLogSlider(value=4, min=0, max=10, base=2, step=1),\n",
    "        'delta': FloatSlider(value=0.8, min=0, max=30),\n",
    "        'seed': IntSlider(value=0, min=0, max=100),\n",
    "    },\n",
    "    vw_grid = {\n",
    "        '#base': fixed('--cb_explore_adf --dsjson --power_t 0 -P 100 --log_output stderr'),\n",
    "        '--learning_rate': FloatLogSlider(value=2**(-3), min=-20, max=10, base=2, step=1),\n",
    "        '--cb_type': fixed('mtr'),\n",
    "        '--l1': FloatLogSlider(value=2**(-20), min=-20, max=10, base=2, step=1),\n",
    "        '#interactions': ['-q ::','', '-q sa'],\n",
    "        '#explore_eval': ['', '--explore_eval'],\n",
    "        '--epsilon': FloatSlider(value=0, min=0, max=1, step=0.01),\n",
    "        '--cover': IntSlider(value=1, min=1, max=100),\n",
    "        '--psi': FloatSlider(value=1, min=0, max=10)\n",
    "    },\n",
    "    columns=3\n",
    ")"
   ]
  },
  {
   "cell_type": "markdown",
   "metadata": {},
   "source": [
    "## Synthcover"
   ]
  },
  {
   "cell_type": "code",
   "execution_count": null,
   "metadata": {},
   "outputs": [],
   "source": [
    "layout = [\n",
    "    [plot_env, plot_probs]]\n",
    "\n",
    "dashboard = Dashboard(['-p'], layout, figsize=(12,4))\n",
    "playground = VwPlayground(my_cb_simulation, dashboard)\n",
    "\n",
    "playground.run(\n",
    "    simulator_grid = {\n",
    "        'n': IntSlider(value=10000, min=100, max=50000),\n",
    "        'swap_after': IntSlider(value=5000, min=10, max=50000),\n",
    "        'variance': FloatSlider(value=0.4, min=0, max=1, step=0.1),\n",
    "        'bad_features': FloatLogSlider(value=4, min=0, max=10, base=2, step=1),\n",
    "        'delta': FloatSlider(value=0.8, min=0, max=30),\n",
    "        'seed': IntSlider(value=0, min=0, max=100),\n",
    "    },\n",
    "    vw_grid = {\n",
    "        '#base': fixed('--cb_explore_adf --dsjson --power_t 0 -P 100  --log_output stderr --synthcover'),\n",
    "        '--learning_rate': FloatLogSlider(value=2**(-3), min=-20, max=10, base=2, step=1),\n",
    "        '--cb_type': fixed('mtr'),\n",
    "        '--l1': FloatLogSlider(value=2**(-20), min=-20, max=10, base=2, step=1),\n",
    "        '#interactions': ['-q ::','', '-q sa'],\n",
    "        '#explore_eval': ['', '--explore_eval'],\n",
    "        '--epsilon': FloatSlider(value=0, min=0, max=1, step=0.01),\n",
    "        '--synthcoverpsi': FloatSlider(value=1, min=0, max=10, step=0.1),\n",
    "        '--synthcoversize': IntSlider(value=100, min=0, max=1000)\n",
    "    },\n",
    "    columns=3\n",
    ")"
   ]
  },
  {
   "cell_type": "markdown",
   "metadata": {},
   "source": [
    "## SquareCB"
   ]
  },
  {
   "cell_type": "code",
   "execution_count": null,
   "metadata": {},
   "outputs": [],
   "source": [
    "layout = [\n",
    "    [plot_env, plot_probs]]\n",
    "\n",
    "dashboard = Dashboard(['-p'], layout, figsize=(12,4))\n",
    "playground = VwPlayground(my_cb_simulation, dashboard)\n",
    "\n",
    "playground.run(\n",
    "    simulator_grid = {\n",
    "        'n': IntSlider(value=10000, min=100, max=50000),\n",
    "        'swap_after': IntSlider(value=5000, min=10, max=50000),\n",
    "        'variance': FloatSlider(value=0.4, min=0, max=1, step=0.1),\n",
    "        'bad_features': FloatLogSlider(value=4, min=0, max=10, base=2, step=1),\n",
    "        'delta': FloatSlider(value=0.8, min=0, max=30),\n",
    "        'seed': IntSlider(value=0, min=0, max=100),\n",
    "    },\n",
    "    vw_grid = {\n",
    "        '#base': fixed('--cb_explore_adf --dsjson --power_t 0 -P 100  --log_output stderr --squarecb'),\n",
    "        '--learning_rate': FloatLogSlider(value=2**(-3), min=-20, max=10, base=2, step=1),\n",
    "        '--cb_type': fixed('mtr'),\n",
    "        '--l1': FloatLogSlider(value=2**(-20), min=-20, max=10, base=2, step=1),\n",
    "        '#interactions': ['-q ::','', '-q sa'],\n",
    "        '#explore_eval': ['', '--explore_eval'],\n",
    "        '--gamma_scale': FloatSlider(value=10, min=0, max=100, step=0.1),\n",
    "        '--gamma_exponent': FloatSlider(value=0.5, min=0, max=10, step=0.1)\n",
    "    },\n",
    "    columns=3\n",
    ")"
   ]
  },
  {
   "cell_type": "markdown",
   "metadata": {},
   "source": [
    "## RegCB"
   ]
  },
  {
   "cell_type": "code",
   "execution_count": null,
   "metadata": {},
   "outputs": [],
   "source": [
    "layout = [\n",
    "    [plot_env, plot_probs]]\n",
    "\n",
    "dashboard = Dashboard(['-p'], layout, figsize=(12,4))\n",
    "playground = VwPlayground(my_cb_simulation, dashboard)\n",
    "\n",
    "playground.run(\n",
    "    simulator_grid = {\n",
    "        'n': IntSlider(value=10000, min=100, max=50000),\n",
    "        'swap_after': IntSlider(value=5000, min=10, max=50000),\n",
    "        'variance': FloatSlider(value=0.4, min=0, max=1, step=0.1),\n",
    "        'bad_features': FloatLogSlider(value=4, min=0, max=10, base=2, step=1),\n",
    "        'delta': FloatSlider(value=0.8, min=0, max=30),\n",
    "        'seed': IntSlider(value=0, min=0, max=100),\n",
    "    },\n",
    "    vw_grid = {\n",
    "        '#base': fixed('--cb_explore_adf --dsjson --power_t 0 -P 100  --log_output stderr --regcb'),\n",
    "        '--learning_rate': FloatLogSlider(value=2**(-3), min=-20, max=10, base=2, step=1),\n",
    "        '--cb_type': fixed('mtr'),\n",
    "        '--l1': FloatLogSlider(value=2**(-20), min=-20, max=10, base=2, step=1),\n",
    "        '#interactions': ['-q ::','', '-q sa'],\n",
    "        '#explore_eval': ['', '--explore_eval'],\n",
    "        '--mellowness': FloatSlider(value=0, min=0, max=10, step=0.01)\n",
    "    },\n",
    "    columns=3\n",
    ")"
   ]
  },
  {
   "cell_type": "markdown",
   "metadata": {},
   "source": [
    "## Softmax"
   ]
  },
  {
   "cell_type": "code",
   "execution_count": null,
   "metadata": {},
   "outputs": [],
   "source": [
    "layout = [\n",
    "    [plot_env, plot_probs]]\n",
    "\n",
    "dashboard = Dashboard(['-p'], layout, figsize=(12,4))\n",
    "playground = VwPlayground(my_cb_simulation, dashboard)\n",
    "\n",
    "playground.run(\n",
    "    simulator_grid = {\n",
    "        'n': IntSlider(value=10000, min=100, max=50000),\n",
    "        'swap_after': IntSlider(value=5000, min=10, max=50000),\n",
    "        'variance': FloatSlider(value=0.4, min=0, max=1, step=0.1),\n",
    "        'bad_features': FloatLogSlider(value=4, min=0, max=10, base=2, step=1),\n",
    "        'delta': FloatSlider(value=0.8, min=0, max=30),\n",
    "        'seed': IntSlider(value=0, min=0, max=100),\n",
    "    },\n",
    "    vw_grid = {\n",
    "        '#base': fixed('--cb_explore_adf --dsjson --power_t 0 -P 100  --log_output stderr --softmax'),\n",
    "        '--learning_rate': FloatLogSlider(value=2**(-3), min=-20, max=10, base=2, step=1),\n",
    "        '--cb_type': fixed('mtr'),\n",
    "        '--l1': FloatLogSlider(value=2**(-20), min=-20, max=10, base=2, step=1),\n",
    "        '#interactions': ['-q ::','', '-q sa'],\n",
    "        '#explore_eval': ['', '--explore_eval'],\n",
    "        '--lambda': FloatSlider(value=1, min=0, max=10, step=0.1),\n",
    "        '--epsilon': FloatSlider(value=0, min=0, max=1, step=0.01)\n",
    "    },\n",
    "    columns=3\n",
    ")"
   ]
  }
 ],
 "metadata": {
  "kernelspec": {
   "display_name": "Python 3.10.8 64-bit (microsoft store)",
   "language": "python",
   "name": "python3"
  },
  "language_info": {
   "codemirror_mode": {
    "name": "ipython",
    "version": 3
   },
   "file_extension": ".py",
   "mimetype": "text/x-python",
   "name": "python",
   "nbconvert_exporter": "python",
   "pygments_lexer": "ipython3",
   "version": "3.10.8"
  },
  "vscode": {
   "interpreter": {
    "hash": "a9d13462683d0a0a4577d32cb0c80597d2d736f52010de23db877ba50e997557"
   }
  }
 },
 "nbformat": 4,
 "nbformat_minor": 4
}
