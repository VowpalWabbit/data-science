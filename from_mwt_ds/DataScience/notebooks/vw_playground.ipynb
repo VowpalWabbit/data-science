{
 "cells": [
  {
   "cell_type": "code",
   "execution_count": null,
   "metadata": {},
   "outputs": [],
   "source": [
    "%pip install -r requirements.txt"
   ]
  },
  {
   "cell_type": "code",
   "execution_count": null,
   "metadata": {},
   "outputs": [],
   "source": [
    "from ipywidgets import *\n",
    "from vw_executor.vw_opts import VwOpts\n",
    "from vw_executor.vw import Vw\n",
    "import matplotlib.pyplot as plt\n",
    "\n",
    "from pathlib import Path\n",
    "import random\n",
    "import pandas as pd\n",
    "import json\n",
    "import scipy\n",
    "import numpy as np\n",
    "import seaborn as sns\n",
    "from playground.utils import cb_df, ccb_df, get_simulation\n",
    "from playground.dashboard import Dashboard\n",
    "from playground.vw_playground import VwPlayground\n",
    "from playground.visualizers import new_ax, TrackIt, plot_reward\n",
    "\n",
    "%matplotlib widget\n",
    "sns.set_theme(style=\"darkgrid\")"
   ]
  },
  {
   "cell_type": "markdown",
   "metadata": {
    "tags": []
   },
   "source": [
    "# CB"
   ]
  },
  {
   "cell_type": "markdown",
   "metadata": {},
   "source": [
    "## Simulator"
   ]
  },
  {
   "cell_type": "code",
   "execution_count": null,
   "metadata": {},
   "outputs": [],
   "source": [
    "people = ['Tom', 'Anna']\n",
    "topics = ['sports', 'politics']\n",
    "\n",
    "def my_cb_simulation(n=10000, swap_after=5000, variance=0, bad_features=0):\n",
    "    offset = 0\n",
    "    for i in range(1, n):\n",
    "        if i % swap_after == 0:\n",
    "            offset = (offset + 1) % 2\n",
    "\n",
    "        person = i % 2 \n",
    "        chosen = i % 4  // 2 \n",
    "        if (chosen + person + offset) % 2 == 0:\n",
    "            reward =  0.7 + ((chosen + offset) % 2) * 0.1\n",
    "        else:\n",
    "            reward = 0.3 - ((chosen + offset + 1) % 2) * 0.1\n",
    "\n",
    "        reward = reward + np.random.normal(0, variance)\n",
    "\n",
    "        yield {\n",
    "            \"_label_cost\": -reward,\n",
    "            \"_label_probability\": 0.5,\n",
    "            \"_label_Action\": chosen + 1,\n",
    "            \"_labelIndex\": chosen,\n",
    "            \"a\": [chosen + 1, (chosen + 1) % 2 + 1],\n",
    "            \"c\": {'shared': {'name': people[person],\n",
    "                '_multi': [\n",
    "                    {'a': {'topic': topics[0]}, 'b': {f'f{i}': random.random() for i in range(int(bad_features))}},\n",
    "                    {'a': {'topic': topics[1]}, 'b': {f'f{i}': random.random() for i in range(int(bad_features))}}]}},\n",
    "            \"p\": [0.5, 0.5] \n",
    "        }"
   ]
  },
  {
   "cell_type": "markdown",
   "metadata": {
    "tags": []
   },
   "source": [
    "## Visualizers"
   ]
  },
  {
   "cell_type": "code",
   "execution_count": null,
   "metadata": {},
   "outputs": [],
   "source": [
    "def plot_env(examples, ax=None, window=100):\n",
    "    ax = ax or new_ax()\n",
    "    ax.set_title('Rewards')\n",
    "    colors = ['green', 'red']\n",
    "    styles = ['-', '-.']\n",
    "    df = cb_df(examples)\n",
    "    for i, p in enumerate(people):\n",
    "        for j, t in enumerate(topics):\n",
    "            d = df[['reward']][(df['person']==p) & (df['chosen']==j)].rolling(window=window).mean()\n",
    "            sns.lineplot(x = d.index, y=d['reward'],\n",
    "                         label=f'E(r|{p},{t})', color = colors[j], linestyle = styles[i], ax=ax,\n",
    "                         errorbar=None, sort=False, estimator=None)       \n",
    "    ax.legend()\n",
    "\n",
    "    \n",
    "def plot_probs(examples, job, ax=None, window=100):\n",
    "    ax = ax or new_ax()\n",
    "    ax.set_title('P(action|person)')\n",
    "    ax.set_ylim(-0.05,1.05)\n",
    "    colors = ['green', 'red']\n",
    "    styles = ['-', '-.']\n",
    "    df = pd.concat([cb_df(examples), pd.DataFrame(job[0].predictions('-p').cb)], axis=1)\n",
    "    for i, p in enumerate(people):\n",
    "        for j, t in enumerate(topics):\n",
    "            d = df[(df['person']==p)][[str(j)]].rolling(window=window).mean() + i * 0.02\n",
    "            sns.lineplot(x = d.index, y=d[str(j)],\n",
    "                         label=f'P({t}|{p})',color = colors[j], linestyle = styles[i], ax=ax,\n",
    "                         errorbar=None, sort=False, estimator=None)            \n",
    "    ax.legend(loc='center left', bbox_to_anchor=(0.9, 0.5)) \n",
    "     "
   ]
  },
  {
   "cell_type": "markdown",
   "metadata": {
    "tags": []
   },
   "source": [
    "## Look at the data / Debug"
   ]
  },
  {
   "cell_type": "code",
   "execution_count": null,
   "metadata": {},
   "outputs": [],
   "source": [
    "examples = my_cb_simulation(n=100, swap_after=50, variance = 0.1, bad_features = 1)\n",
    "cb_df(examples).head()"
   ]
  },
  {
   "cell_type": "code",
   "execution_count": null,
   "metadata": {},
   "outputs": [],
   "source": [
    "next(my_cb_simulation(n=10000, swap_after=5000, variance = 0, bad_features = 1))"
   ]
  },
  {
   "cell_type": "code",
   "execution_count": null,
   "metadata": {},
   "outputs": [],
   "source": [
    "visualization = Dashboard(['-p'], [[plot_env, plot_probs]])\n",
    "visualization.reset()\n",
    "examples, examples_path = get_simulation('.data', my_cb_simulation, n = 10000, swap_after = 5000, variance = 0, bad_features = 1)\n",
    "visualization.after_simulation(examples)\n",
    "job = Vw('.cache', handler=None).train(examples_path, '--cb_explore_adf --dsjson -P 500', ['-p'])\n",
    "visualization.after_train(examples, job)"
   ]
  },
  {
   "cell_type": "markdown",
   "metadata": {
    "tags": []
   },
   "source": [
    "## Interact"
   ]
  },
  {
   "cell_type": "code",
   "execution_count": null,
   "metadata": {},
   "outputs": [],
   "source": [
    "layout = [\n",
    "    [plot_env, plot_probs],\n",
    "    [plot_reward, TrackIt(extractor=lambda job: job[-1].metrics['average loss'], title='loss')]]\n",
    "\n",
    "dashboard = Dashboard(['-p'], layout, figsize=(12,8))\n",
    "\n",
    "playground = VwPlayground(my_cb_simulation, dashboard, vw_binary='vw')\n",
    "\n",
    "playground.run(\n",
    "    simulator_grid = {\n",
    "        'n': IntSlider(value=10000, min=100, max=50000),\n",
    "        'swap_after': IntSlider(value=5000, min=10, max=50000),\n",
    "        'variance': FloatSlider(value=0, min=0, max=1, step=0.1),\n",
    "        'bad_features': FloatLogSlider(value=1, min=0, max=10, base=2, step=1),\n",
    "    },\n",
    "    vw_grid = {\n",
    "        '#base': fixed('--cb_explore_adf --dsjson --power_t 0 -P 100 --log_output stderr'),\n",
    "        '--learning_rate': FloatLogSlider(value=2**(-20), min=-20, max=10, base=2, step=1),\n",
    "        '--cb_type': ['ips', 'mtr'],\n",
    "        '--l1': FloatLogSlider(value=2**(-20), min=-20, max=10, base=2, step=1),\n",
    "        '#interactions': ['', '-q sa', '-q ::'],\n",
    "        '#exploration': ['--epsilon 0.1', '--squarecb', '--cover 5', '--synthcover']\n",
    "    },\n",
    "    columns=3\n",
    ")"
   ]
  },
  {
   "cell_type": "code",
   "execution_count": null,
   "metadata": {},
   "outputs": [],
   "source": [
    "print(f'Last data file: {playground.examples_path}')\n",
    "print(f'Last command line: {playground.last_job[0].args}')\n",
    "print(f'Last exception: {playground.exception}')\n"
   ]
  },
  {
   "cell_type": "code",
   "execution_count": null,
   "metadata": {},
   "outputs": [],
   "source": [
    "playground.last_job[0].stdout.raw"
   ]
  },
  {
   "cell_type": "markdown",
   "metadata": {},
   "source": [
    "# CCB"
   ]
  },
  {
   "cell_type": "markdown",
   "metadata": {},
   "source": [
    "## Simulator"
   ]
  },
  {
   "cell_type": "code",
   "execution_count": null,
   "metadata": {},
   "outputs": [],
   "source": [
    "import random\n",
    "import numpy as np\n",
    "\n",
    "people_ccb = ['Tom', 'Anna']\n",
    "topics_ccb = ['sports', 'politics', 'music']\n",
    "\n",
    "def my_ccb_simulation(n=10000, swap_after=5000, variance=0, bad_features=0, seed=0):\n",
    "    random.seed(seed)\n",
    "    np.random.seed(seed)\n",
    "\n",
    "    envs = [\n",
    "        [[0.8, 0.4, 0.2],\n",
    "        [0.2, 0.4, 0.8]],\n",
    "        [[0.2, 0.4, 0.8],\n",
    "        [0.8, 0.2, 0.4]]]\n",
    "    offset = 0\n",
    "    for i in range(1, n):\n",
    "        if i % swap_after == 0:\n",
    "            offset = (offset + 1) % 2\n",
    "        person = random.randint(0, 1)\n",
    "        chosen = [int(i) for i in np.random.permutation(3)]\n",
    "        rewards = [\n",
    "            envs[offset][person][chosen[0]],\n",
    "            envs[offset][person][chosen[1]]\n",
    "            ]\n",
    "\n",
    "        for i in range(len(rewards)):\n",
    "            rewards[i] += np.random.normal(0, variance)\n",
    "\n",
    "        yield {\n",
    "            \"c\": {\n",
    "                'shared': {'name': people_ccb[person]},\n",
    "                '_multi': [{'a': {'topic': topics_ccb[i]}, 'b': {f'f{j}': random.random() for j in range(int(bad_features))}} for i in range(3)],\n",
    "                '_slots': [{'_id': i} for i in range(2)]\n",
    "            },\n",
    "            '_outcomes': [{\n",
    "                '_label_cost': -rewards[i],\n",
    "                '_a': chosen[i:],\n",
    "                '_p': [1.0 / (3 - i)] * (3 - i)\n",
    "            } for i in range(2)]\n",
    "        }"
   ]
  },
  {
   "cell_type": "markdown",
   "metadata": {},
   "source": [
    "## Visualizers"
   ]
  },
  {
   "cell_type": "code",
   "execution_count": null,
   "metadata": {},
   "outputs": [],
   "source": [
    "def plot_env_ccb(examples, ax=None, window=100):\n",
    "    ax = ax or new_ax()\n",
    "    ax.set_title('Rewards')\n",
    "    colors = ['green', 'red', 'blue']\n",
    "    styles = ['solid', 'dashed']\n",
    "    df = ccb_df(examples)\n",
    "    df = df[df['slot']==0]\n",
    "    for i, p in enumerate(people_ccb):\n",
    "        for j, t in enumerate(topics_ccb):\n",
    "            d = df[['reward']][(df['person']==p) & (df['chosen']==j)].rolling(window=window).mean()\n",
    "            sns.lineplot(x = d.index, y=d['reward'],\n",
    "                         label=f'E(r|{p},{t})', color = colors[j], linestyle = styles[i], ax=ax,\n",
    "                         errorbar=None, sort=False, estimator=None)       \n",
    "    ax.legend()"
   ]
  },
  {
   "cell_type": "markdown",
   "metadata": {},
   "source": [
    "## Look at the data / Debug"
   ]
  },
  {
   "cell_type": "code",
   "execution_count": null,
   "metadata": {},
   "outputs": [],
   "source": [
    "examples = my_ccb_simulation(n=100, variance = 0.1, bad_features = 1, seed = 0)\n",
    "ccb_df(examples).head()"
   ]
  },
  {
   "cell_type": "code",
   "execution_count": null,
   "metadata": {},
   "outputs": [],
   "source": [
    "next(my_ccb_simulation(n=10000, variance = 0, bad_features = 1, seed = 0))"
   ]
  },
  {
   "cell_type": "code",
   "execution_count": null,
   "metadata": {},
   "outputs": [],
   "source": [
    "visualization = Dashboard([], [[plot_env_ccb, plot_reward]])\n",
    "visualization.reset()\n",
    "examples, examples_path = get_simulation('.data', my_ccb_simulation, n = 10000, variance = 0, bad_features = 1, seed = 0)\n",
    "visualization.after_simulation(examples)\n",
    "job = Vw('.cache', handler=None).train(examples_path, '--ccb_explore_adf --dsjson', ['-p'])\n",
    "visualization.after_train(examples, job)"
   ]
  },
  {
   "cell_type": "markdown",
   "metadata": {},
   "source": [
    "## Interact"
   ]
  },
  {
   "cell_type": "code",
   "execution_count": null,
   "metadata": {},
   "outputs": [],
   "source": [
    "layout = [\n",
    "    [plot_env_ccb, lambda examples, job, ax: plot_reward(examples, job, ax, 10)]]\n",
    "\n",
    "dashboard = Dashboard([], layout, figsize=(12,4))\n",
    "\n",
    "playground = VwPlayground(my_ccb_simulation, dashboard)\n",
    "\n",
    "playground.run(\n",
    "    simulator_grid = {\n",
    "        'n': IntSlider(value=10000, min=100, max=50000),\n",
    "        'swap_after': IntSlider(value=5000, min=10, max=50000),\n",
    "        'variance': FloatSlider(value=0, min=0, max=1, step=0.1),\n",
    "        'bad_features': FloatLogSlider(value=1, min=0, max=10, base=2, step=1),\n",
    "        'seed': IntSlider(value=0, min=0, max=100)\n",
    "    },\n",
    "    vw_grid = {\n",
    "        '#base': fixed('--ccb_explore_adf --dsjson --power_t 0 -P 100'),\n",
    "        '--learning_rate': FloatLogSlider(value=2**(-20), min=-20, max=10, base=2, step=1),\n",
    "        '--cb_type': ['ips', 'mtr'],\n",
    "        '--l1': FloatLogSlider(value=2**(-20), min=-20, max=10, base=2, step=1),\n",
    "        '#noconstant': ['', '--noconstant'],\n",
    "        '#config': ['', '-q sa', '-q ::', '--automl 4 --automl_alpha 0.01 --global_lease 4000 --oracle_type one_diff --priority_challengers 1'],\n",
    "    },\n",
    "    columns=3\n",
    ")"
   ]
  },
  {
   "cell_type": "code",
   "execution_count": null,
   "metadata": {},
   "outputs": [],
   "source": [
    "print(f'Last data file: {playground.examples_path}')\n",
    "print(f'Last command line: {playground.last_job[0].args}')\n",
    "print(f'Last exception: {playground.exception}')"
   ]
  },
  {
   "cell_type": "code",
   "execution_count": null,
   "metadata": {},
   "outputs": [],
   "source": [
    "playground.last_job[0].stdout.raw"
   ]
  }
 ],
 "metadata": {
  "kernelspec": {
   "display_name": "Python 3.10.8 64-bit (microsoft store)",
   "language": "python",
   "name": "python3"
  },
  "language_info": {
   "codemirror_mode": {
    "name": "ipython",
    "version": 3
   },
   "file_extension": ".py",
   "mimetype": "text/x-python",
   "name": "python",
   "nbconvert_exporter": "python",
   "pygments_lexer": "ipython3",
   "version": "3.10.8"
  },
  "vscode": {
   "interpreter": {
    "hash": "a9d13462683d0a0a4577d32cb0c80597d2d736f52010de23db877ba50e997557"
   }
  }
 },
 "nbformat": 4,
 "nbformat_minor": 4
}
