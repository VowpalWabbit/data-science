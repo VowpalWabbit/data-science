{
 "cells": [
  {
   "cell_type": "code",
   "execution_count": null,
   "metadata": {},
   "outputs": [],
   "source": [
    "from VwPipeline import Logger\n",
    "from VwPipeline.VwCache import VwCache\n",
    "from VwPipeline.Vw import Vw, VwInput\n",
    "\n",
    "#your vw path\n",
    "vw_path = r''\n",
    "\n",
    "logger = Logger.console_logger('INFO')\n",
    "cache = VwCache(r'c:\\data\\sweep\\ws', logger)\n",
    "\n",
    "vw = Vw(vw_path, cache)"
   ]
  },
  {
   "cell_type": "code",
   "execution_count": null,
   "metadata": {
    "tags": []
   },
   "outputs": [],
   "source": [
    "#your ccb files\n",
    "inputs = [r'', r'']\n",
    "\n",
    "opts_in = {'#base': '--ccb_explore_adf --epsilon 0.1 --dsjson --preserve_performance_counters --save_resume -P 100000'}\n",
    "opts_out = ['-p']\n",
    "\n",
    "result = vw.test(inputs, opts_in, opts_out)\n",
    "logger.info('Done')"
   ]
  },
  {
   "cell_type": "code",
   "execution_count": null,
   "metadata": {},
   "outputs": [],
   "source": [
    "result.Metrics"
   ]
  },
  {
   "cell_type": "code",
   "execution_count": null,
   "metadata": {
    "tags": []
   },
   "outputs": [],
   "source": [
    "#your ccb files\n",
    "inputs = [r'', r'']\n",
    "\n",
    "opts_in = {'#base': '--ccb_explore_adf --epsilon 0.1 --dsjson --preserve_performance_counters --save_resume -P 100000'}\n",
    "opts_out = []\n",
    "\n",
    "result = vw.train(inputs, opts_in, opts_out)\n",
    "logger.info('Done')"
   ]
  },
  {
   "cell_type": "code",
   "execution_count": null,
   "metadata": {},
   "outputs": [],
   "source": [
    "result.Metrics"
   ]
  },
  {
   "cell_type": "code",
   "execution_count": null,
   "metadata": {
    "tags": []
   },
   "outputs": [],
   "source": [
    "from VwPipeline import Logger\n",
    "from VwPipeline.VwCache import VwCache\n",
    "from VwPipeline.Vw import Vw, VwInput\n",
    "from VwPipeline.VwOpts import dimension, product\n",
    "\n",
    "#your vw path\n",
    "vw_path = r''\n",
    "\n",
    "logger = Logger.console_logger('INFO')\n",
    "cache = VwCache(r'c:\\data\\sweep\\ws', logger)\n",
    "\n",
    "vw = Vw(vw_path, cache)\n",
    "\n",
    "#your ccb files\n",
    "inputs = [r'', r'']\n",
    "\n",
    "opts = product(\n",
    "    dimension('#base', ['--ccb_explore_adf --epsilon 0 --dsjson']),\n",
    "    dimension('--cb_type', ['ips', 'mtr']),\n",
    "    dimension('-l', [0.1, 0.2])\n",
    ")\n",
    "\n",
    "results = vw.train(inputs, opts, [])\n",
    "\n",
    "logger.info('Done')\n",
    "[r.Loss for r in results]"
   ]
  },
  {
   "cell_type": "code",
   "execution_count": null,
   "metadata": {
    "tags": []
   },
   "outputs": [],
   "source": [
    "#your ccb files\n",
    "inputs = [r'', r'']\n",
    "\n",
    "\n",
    "opts = {'#base': '--ccb_explore_adf --epsilon 0.3 --dsjson'}\n",
    "\n",
    "result = vw.cache(inputs, opts)\n",
    "logger.info('Done')"
   ]
  },
  {
   "cell_type": "code",
   "execution_count": null,
   "metadata": {},
   "outputs": [],
   "source": []
  }
 ],
 "metadata": {
  "kernelspec": {
   "display_name": "Python 3.6.6 64-bit ('aml': conda)",
   "language": "python",
   "name": "python36664bitamlcondadd63154a2a464029981bf22281476f75"
  },
  "language_info": {
   "codemirror_mode": {
    "name": "ipython",
    "version": 3
   },
   "file_extension": ".py",
   "mimetype": "text/x-python",
   "name": "python",
   "nbconvert_exporter": "python",
   "pygments_lexer": "ipython3",
   "version": "3.7.6-final"
  }
 },
 "nbformat": 4,
 "nbformat_minor": 2
}