{
 "cells": [
  {
   "cell_type": "markdown",
   "metadata": {},
   "source": [
    "# Helpers"
   ]
  },
  {
   "cell_type": "code",
   "execution_count": null,
   "metadata": {},
   "outputs": [],
   "source": [
    "!python -m pip install ipympl\n",
    "!python -m pip install seaborn"
   ]
  },
  {
   "cell_type": "code",
   "execution_count": null,
   "metadata": {},
   "outputs": [],
   "source": [
    "from vw_executor.vw_opts import VwOpts\n",
    "from pathlib import Path\n",
    "\n",
    "class SimulationBase:\n",
    "    def __init__(self, folder, **kwargs):\n",
    "        for k, v in kwargs.items():\n",
    "            self.__setattr__(k, v)\n",
    "        self._path = Path(folder).joinpath(f'sim-{VwOpts(kwargs)}'.replace(' ', '-'))\n",
    "        if not self._path.exists():\n",
    "            Path(folder).mkdir(parents=True, exist_ok=True)\n",
    "            self._examples = self.generate()\n",
    "            self.save()\n",
    "        else:\n",
    "            self.load()\n",
    "            \n",
    "    def to_dsjson(self):             \n",
    "        for e in self._examples:\n",
    "            yield json.dumps(e, separators=(\",\", \":\"))\n",
    "        \n",
    "    def save(self):     \n",
    "        with open(self._path, 'w') as f:\n",
    "            for ex in self.to_dsjson():\n",
    "                f.write(f'{ex}\\n')\n",
    "    \n",
    "    def load(self):\n",
    "        self._examples = []\n",
    "        with open(self._path) as f:\n",
    "            for l in f:\n",
    "                self._examples.append(json.loads(l))\n",
    "                \n",
    "    def cbdf(self):\n",
    "        return pd.DataFrame([{\n",
    "            'reward': -e['_label_cost'],\n",
    "            'shared_good': e['c']['shared']['f'],\n",
    "            'chosen': e['_labelIndex'],\n",
    "            'prob': e['_label_probability']\n",
    "        } for e in self._examples])"
   ]
  },
  {
   "cell_type": "code",
   "execution_count": null,
   "metadata": {},
   "outputs": [],
   "source": [
    "%matplotlib widget\n",
    "import random\n",
    "import pandas as pd\n",
    "import numpy as np\n",
    "import matplotlib.pyplot as plt\n",
    "import json\n",
    "from itertools import chain\n",
    "import scipy\n",
    "import seaborn as sns\n",
    "sns.set_theme(style=\"darkgrid\")\n",
    "from vw_executor.vw import Vw\n",
    "from vw_executor.loggers import ConsoleLogger\n",
    "\n",
    "\n",
    "def new_ax():\n",
    "    _,ax = plt.subplots(dpi=100, figsize=[9,4])\n",
    "    return ax        \n",
    "\n",
    "class Simulation(SimulationBase):\n",
    "    def __init__(self, folder, n=10000, swap_after=5000, variance=0, bad_log=0):\n",
    "        super().__init__(folder, n=n, swap_after=swap_after, variance=variance, bad_log=bad_log)\n",
    "        \n",
    "    def generate(self):\n",
    "        examples = []\n",
    "        offset = 0\n",
    "        for i in range(1, self.n):\n",
    "            if i % self.swap_after == 0:\n",
    "                offset = (offset + 1) % 2\n",
    "\n",
    "            person = i % 2 # random.randint(0, 1)\n",
    "            chosen = i % 4  // 2 #random.randint(0, 1)\n",
    "            if (chosen + person + offset) % 2 == 0:\n",
    "                reward =  0.7 + ((chosen + offset) % 2) * 0.1#int(random.random() < 0.7 + ((chosen + offset) % 2) * 0.1)\n",
    "            else:\n",
    "                reward = 0.3 - ((chosen + offset + 1) % 2) * 0.1 #int(random.random() < 0.3 - ((chosen + offset + 1) % 2) * 0.1)\n",
    "\n",
    "            reward = reward + scipy.random.normal(0, self.variance)\n",
    "\n",
    "            examples.append({\n",
    "                \"_label_cost\": -reward,\n",
    "                \"_label_probability\": 0.5,\n",
    "                \"_label_Action\": chosen + 1,\n",
    "                \"_labelIndex\": chosen,\n",
    "                \"a\": [chosen + 1, (chosen + 1) % 2 + 1],\n",
    "                \"c\": {'shared': {'f': person,\n",
    "                    '_multi': [\n",
    "                        {'a': {'f': '0'}, 'b': {f'f{i}': random.random() for i in range(2**self.bad_log)}},\n",
    "                        {'a': {'f': '1'}, 'b': {f'f{i}': random.random() for i in range(2**self.bad_log)}}]}},\n",
    "                \"p\": [0.5, 0.5] \n",
    "            })\n",
    "        return examples\n",
    "    \n",
    "    def visualize(self, window=100, ax = None):\n",
    "        colors = ['green', 'red']\n",
    "        styles = ['-', '-.']\n",
    "        if ax is None:\n",
    "            ax = new_ax()\n",
    "        df = self.cbdf()\n",
    "        [df[(df['shared_good']==i) & (df['chosen']==j)].rolling(window=window)['reward'].mean().plot(\n",
    "            ax=ax, color = colors[j], style=styles[i], label=f'Person: {i}, chosen: {j}') for i in [0,1] for j in [0,1]]\n",
    "        ax.legend()\n",
    "        \n",
    "def _predictions_parse(lines):\n",
    "    for l in lines:\n",
    "        if ':' in l:\n",
    "            yield {int(kv.split(':')[0]): float(kv.split(':')[1]) for kv in l.split(',')}\n",
    "\n",
    "def predictions_2_df(files):\n",
    "    return pd.DataFrame(_predictions_parse(chain(*map(lambda f: open(f), files))))\n",
    "    \n",
    "def plot(sim, job, ax):\n",
    "    colors = ['green', 'red']\n",
    "    styles = ['-', '-.']\n",
    "    prediction_files = job.outputs['-p']\n",
    "    df = pd.concat([sim.cbdf(), predictions_2_df(prediction_files)], axis=1)\n",
    "    [(df[(df['shared_good']==i)][j].rolling(window=100).mean() + i * 0.05).plot(\n",
    "        ax=ax, color = colors[j], style=styles[i], label=f'P(chosen={j} | Person={i})') for i in [0,1] for j in [0,1]]\n",
    "    ax.legend(loc='center left', bbox_to_anchor=(0.75, 0.5))\n",
    "    \n",
    "    \n",
    "def vw_playground(n=10000, swap_after=5000, variance=0, bad_log=0, window=100, \n",
    "                       learning_rate=-20, coin=False, l1=-20, cb_type='ips', \n",
    "                       interactions='', ignore='', ignore_linear='', marginals='', \n",
    "                       epsilon=None, squareCB=False, gamma_scale=None, \n",
    "                       ax=None, fig=None):\n",
    "    sim = Simulation('data', n=n, swap_after=swap_after, variance=variance, bad_log=bad_log)\n",
    "    ax[0].clear()\n",
    "    ax[0].set_title('Rewards')\n",
    "    sim.visualize(window = window, ax=ax[0]) \n",
    "    ax[1].clear()\n",
    "    ax[1].set_title('P(action|person)')\n",
    "\n",
    "    opts = {'#base': '--cb_explore_adf --dsjson --epsilon 0.2',\n",
    "            '#0': interactions,\n",
    "            '#1': ignore,\n",
    "            '#2': ignore_linear,\n",
    "            '#3': marginals,\n",
    "            '#lr': '--coin' if coin else f'--power_t 0 --learning_rate {2**learning_rate}',\n",
    "            '--l1': 2**l1,\n",
    "            '--cb_type': cb_type,\n",
    "            '#square_cb': '--squarecb' if squareCB else '',\n",
    "            '#epsilon': f'--epsilon {epsilon}',\n",
    "            '#gammascale': f'--gamma_scale {gamma_scale}' if squareCB else ''\n",
    "           }\n",
    "\n",
    "    result = Vw('.vw_cache', handlers=[]).train([sim._path], opts, ['-p'])\n",
    "\n",
    "\n",
    "    plot(sim, result, ax[1])\n",
    "    fig.canvas.draw_idle()"
   ]
  },
  {
   "cell_type": "markdown",
   "metadata": {
    "tags": []
   },
   "source": [
    "# Look at the data"
   ]
  },
  {
   "cell_type": "code",
   "execution_count": null,
   "metadata": {},
   "outputs": [],
   "source": [
    "sim = Simulation('data', n=100, swap_after=50, variance = 0.1, bad_log = 1)\n",
    "sim.cbdf().head()"
   ]
  },
  {
   "cell_type": "code",
   "execution_count": null,
   "metadata": {},
   "outputs": [],
   "source": [
    "Simulation('data', n=10000, swap_after=5000, variance = 0, bad_log = 1).visualize(window=50)"
   ]
  },
  {
   "cell_type": "code",
   "execution_count": null,
   "metadata": {},
   "outputs": [],
   "source": [
    "Simulation('data', n=10000, swap_after=5000, variance = 0, bad_log = 1)._examples[0]"
   ]
  },
  {
   "cell_type": "markdown",
   "metadata": {
    "tags": []
   },
   "source": [
    "# Interact"
   ]
  },
  {
   "cell_type": "code",
   "execution_count": null,
   "metadata": {},
   "outputs": [],
   "source": [
    "from ipywidgets import *\n",
    "\n",
    "fig, ax = plt.subplots(1, 2, figsize=(12,4))\n",
    "\n",
    "widget = interactive(\n",
    "    vw_playground,\n",
    "    n=IntSlider(min=1000, max=20000, step=1000, value=10000),\n",
    "    swap_after=IntSlider(min=1000, max=20000, step=1000, value=5000),\n",
    "    variance=FloatSlider(min=0, max=2, step=0.1, value=0),\n",
    "    bad_log=IntSlider(min=0, max=10, step=1, value=0),\n",
    "    window=IntSlider(min=1, max=1000, step=10, value=1),\n",
    "    learning_rate=IntSlider(min=-20,max=10, step=1, value=-20),\n",
    "    coin=Checkbox(),\n",
    "    l1=IntSlider(min=-20,max=10, step=1, value=-20),\n",
    "    cb_type=['ips', 'mtr'],\n",
    "    interactions=['', '-q sa', '-q ab', '-q sb', '-q ::'],\n",
    "    ignore=['', '--ignore b'],\n",
    "    ignore_linear=['', '--ignore_linear sab'],\n",
    "    marginals=['', '--marginal a'],\n",
    "    epsilon = FloatSlider(min=0, max=1, step=0.01),\n",
    "    squareCB=Checkbox(),\n",
    "    gamma_scale=FloatLogSlider(value=1, min=0, max=20, base=2, step=1),\n",
    "    ax=fixed(ax),\n",
    "    fig=fixed(fig))\n",
    "\n",
    "data_controls = HBox(widget.children[:4])\n",
    "visualization_controls = HBox(widget.children[4:5])\n",
    "learning_controls = HBox((Label(\"Learning\", layout=Layout(display=\"flex\", justify_content=\"flex-start\", width=\"4%\")),) + widget.children[5:8])\n",
    "namespaces_controls = HBox((Label(\"Namespaces\", layout=Layout(display=\"flex\", justify_content=\"flex-start\", width=\"4%\")),) + widget.children[9:12])\n",
    "exploration_controls = HBox((Label(\"Exploration\", layout=Layout(display=\"flex\", justify_content=\"flex-start\", width=\"4%\")),) + widget.children[13:-1])\n",
    "output = widget.children[-1]\n",
    "display(VBox([data_controls, visualization_controls, learning_controls, namespaces_controls, exploration_controls, output]))"
   ]
  },
  {
   "cell_type": "code",
   "execution_count": null,
   "metadata": {},
   "outputs": [],
   "source": []
  }
 ],
 "metadata": {
  "interpreter": {
   "hash": "b8f4a58adc17b056f67bda23a8d2f1daa157665278cb2abc3190e1c7319c7b72"
  },
  "kernelspec": {
   "display_name": "Python 3 (ipykernel)",
   "language": "python",
   "name": "python3"
  },
  "language_info": {
   "codemirror_mode": {
    "name": "ipython",
    "version": 3
   },
   "file_extension": ".py",
   "mimetype": "text/x-python",
   "name": "python",
   "nbconvert_exporter": "python",
   "pygments_lexer": "ipython3",
   "version": "3.9.5"
  }
 },
 "nbformat": 4,
 "nbformat_minor": 4
}
