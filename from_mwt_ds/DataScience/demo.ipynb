{
 "cells": [
  {
   "cell_type": "markdown",
   "metadata": {},
   "source": [
    "# Helpers"
   ]
  },
  {
   "cell_type": "code",
   "execution_count": null,
   "metadata": {},
   "outputs": [],
   "source": [
    "!python -m pip install ipympl\n",
    "!python -m pip install seaborn"
   ]
  },
  {
   "cell_type": "code",
   "execution_count": null,
   "metadata": {},
   "outputs": [],
   "source": [
    "%matplotlib widget\n",
    "import random\n",
    "import pandas as pd\n",
    "import numpy as np\n",
    "import matplotlib.pyplot as plt\n",
    "import json\n",
    "from itertools import chain\n",
    "import scipy\n",
    "import seaborn as sns\n",
    "sns.set_theme(style=\"darkgrid\")\n",
    "from vw_executor.vw import Vw\n",
    "from vw_executor.loggers import ConsoleLogger\n",
    "\n",
    "\n",
    "def new_ax():\n",
    "    _,ax = plt.subplots(dpi=100, figsize=[9,4])\n",
    "    return ax        \n",
    "\n",
    "class Simulation:\n",
    "    def __init__(self, n=10000, swap_after=5000, variance = 0, bad_log = 0):\n",
    "        print('construct')\n",
    "        self.examples = []\n",
    "        self.args = {'n': n, 'swap_after': swap_after, 'variance': variance, 'bad_log': bad_log}\n",
    "        offset = 0\n",
    "        for i in range(1, n):\n",
    "            if i % swap_after == 0:\n",
    "                offset = (offset + 1) % 2\n",
    "\n",
    "            person = i % 2 # random.randint(0, 1)\n",
    "            chosen = i % 4  // 2 #random.randint(0, 1)\n",
    "            if (chosen + person + offset) % 2 == 0:\n",
    "                reward =  0.7 + ((chosen + offset) % 2) * 0.1#int(random.random() < 0.7 + ((chosen + offset) % 2) * 0.1)\n",
    "            else:\n",
    "                reward = 0.3 - ((chosen + offset + 1) % 2) * 0.1 #int(random.random() < 0.3 - ((chosen + offset + 1) % 2) * 0.1)\n",
    "\n",
    "            reward = reward + scipy.random.normal(0, variance)\n",
    "\n",
    "            self.examples.append({\n",
    "                \"reward\": reward,\n",
    "                \"shared_good\": person,\n",
    "                \"a1_good\": '0',\n",
    "                \"a2_good\": '1',\n",
    "                \"chosen\": chosen, \n",
    "                \"prob\": 0.5\n",
    "            })\n",
    "            bad = 2**bad_log\n",
    "            for i in range(bad):\n",
    "                self.examples[-1][f'a1_bad_{i}'] = random.random()\n",
    "                self.examples[-1][f'a2_bad_{i}'] = random.random()\n",
    "        self.df = pd.DataFrame(self.examples)\n",
    "    \n",
    "    def get(self):\n",
    "        return self.df\n",
    "    \n",
    "    def to_dsjson(self):\n",
    "        for row in self.examples:\n",
    "            o = {\n",
    "                \"_label_cost\": -row['reward'],\n",
    "                \"_label_probability\": row['prob'],\n",
    "                \"_label_Action\": int(row['chosen'] + 1),\n",
    "                \"_labelIndex\": int(row['chosen']),\n",
    "                \"a\": [row['chosen'] + 1, (row['chosen'] + 1) % 2 + 1],\n",
    "                \"c\": {'shared': {'f': str(row['shared_good'])},\n",
    "                    '_multi': [{'a': {'f': str(row['a1_good']), 'constant': 1}},\n",
    "                        {'a': {'f': str(row['a2_good'])}}]},\n",
    "                \"p\": [row['prob'], 1 - row['prob']] \n",
    "            }\n",
    "            i = 0\n",
    "            while True:\n",
    "                if f'a1_bad_{i}' in row:\n",
    "                    if 'b' not in o['c']['_multi'][0]: \n",
    "                        o['c']['_multi'][0]['b'] = {}\n",
    "                        o['c']['_multi'][1]['b'] = {}   \n",
    "                    o['c']['_multi'][0]['b'][f'a1_bad_{i}'] = row[f'a1_bad_{i}']\n",
    "                    o['c']['_multi'][1]['b'][f'a2_bad_{i}'] = row[f'a2_bad_{i}']\n",
    "                    i += 1\n",
    "                else:\n",
    "                    break\n",
    "            yield json.dumps(o, separators=(\",\", \":\"))\n",
    "\n",
    "    def to_dsjson_file(self, fname):\n",
    "        with open(fname, 'w') as f:\n",
    "            for ex in self.to_dsjson():\n",
    "                f.write(f'{ex}\\n')             \n",
    "\n",
    "    def visualize(self, window=100, ax = None):\n",
    "        colors = ['green', 'red']\n",
    "        styles = ['-', '-.']\n",
    "        if ax is None:\n",
    "            ax = (new_ax(), new_ax())\n",
    "        [self.df[(self.df['shared_good']==i) & (self.df['chosen']==j)].rolling(window=window)['reward'].mean().plot(\n",
    "            ax=ax[1], color = colors[j], style=styles[i], label=f'Person: {i}, chosen: {j}') for i in [0,1] for j in [0,1]]\n",
    "        [self.df[self.df['chosen']==j].rolling(window=window)['reward'].mean().plot(\n",
    "            ax=ax[0], color = colors[j], label=f'Chosen: {j}') for j in [0,1]]     \n",
    "        ax[1].legend(loc='center left', bbox_to_anchor=(0.75, 0.5))\n",
    "        ax[0].legend()\n",
    "        \n",
    "def _predictions_parse(lines):\n",
    "    for l in lines:\n",
    "        if ':' in l:\n",
    "            yield {int(kv.split(':')[0]): float(kv.split(':')[1]) for kv in l.split(',')}\n",
    "\n",
    "def predictions_2_df(files):\n",
    "    return pd.DataFrame(_predictions_parse(chain(*map(lambda f: open(f), files))))\n",
    "    \n",
    "def plot(sim, job, ax):\n",
    "    colors = ['green', 'red']\n",
    "    styles = ['-', '-.']\n",
    "    prediction_files = job.outputs['-p']\n",
    "    df = pd.concat([sim.get(), predictions_2_df(prediction_files)], axis=1)\n",
    "    [(df[(df['shared_good']==i)][j].rolling(window=100).mean() + i * 0.05).plot(\n",
    "        ax=ax, color = colors[j], style=styles[i], label=f'P(chosen={j} | Person={i})') for i in [0,1] for j in [0,1]]\n",
    "    ax.legend(loc='center left', bbox_to_anchor=(0.75, 0.5))\n",
    "    \n",
    "    \n",
    "def vw_playground(n=10000, swap_after=5000, variance=0, bad_log=0, window=100, \n",
    "                       learning_rate=-20, coin=False, l1=-20, cb_type='ips', \n",
    "                       interactions='', ignore='', ignore_linear='', marginals='', ax=None, fig=None, state = {'sim': Simulation(10000, 5000, 0, 0), 'previous_window': -1}):\n",
    "\n",
    "    simulation_args = {'n': n, 'swap_after': swap_after, 'variance': variance, 'bad_log': bad_log}\n",
    "    if state['sim'].args != simulation_args:\n",
    "        print('generating')\n",
    "        state['sim'] = Simulation(n=n, swap_after=swap_after, variance = variance, bad_log = bad_log)\n",
    "        state['sim'].to_dsjson_file('small.json')\n",
    "        ax[0][0].clear()\n",
    "        ax[0][1].clear()\n",
    "        ax[0][1].set_title('Rewards')\n",
    "        ax[0][0].set_title('Rewards (nonpersonalized)')\n",
    "        state['sim'].visualize(window = window, ax=ax[0]) \n",
    "    else:\n",
    "        if window != state['previous_window']:\n",
    "            ax[0][0].clear()\n",
    "            ax[0][1].clear()\n",
    "            ax[0][1].set_title('Rewards')\n",
    "            ax[0][0].set_title('Rewards (nonpersonalized)')\n",
    "            state['sim'].visualize(window = window, ax=ax[0])   \n",
    "            state['previous_window'] = window\n",
    "\n",
    "\n",
    "    ax[1][0].clear()\n",
    "    ax[1][1].clear()\n",
    "\n",
    "    ax[1][1].set_title('P(action|person)')\n",
    "\n",
    "    opts = {'#base': '--cb_explore_adf --dsjson --epsilon 0.2',\n",
    "            '#0': interactions,\n",
    "            '#1': ignore,\n",
    "            '#2': ignore_linear,\n",
    "            '#3': marginals,\n",
    "            '#lr': '--coin' if coin else f'--power_t 0 --learning_rate {2**learning_rate}',\n",
    "            '--l1': 2**l1,\n",
    "            '--cb_type': cb_type\n",
    "           }\n",
    "\n",
    "    result = Vw('vw', '.vw_cache', handlers=[],\n",
    "                loggers=[\n",
    "     #              ConsoleLogger('DEBUG')\n",
    "                ]).train(['small.json'], opts, ['-p'])\n",
    "\n",
    "\n",
    "    plot(state['sim'], result, ax[1][1])\n",
    "    fig.canvas.draw_idle()"
   ]
  },
  {
   "cell_type": "markdown",
   "metadata": {
    "tags": []
   },
   "source": [
    "# Look at the data"
   ]
  },
  {
   "cell_type": "code",
   "execution_count": 13,
   "metadata": {},
   "outputs": [
    {
     "name": "stdout",
     "output_type": "stream",
     "text": [
      "construct\n"
     ]
    },
    {
     "data": {
      "text/html": [
       "<div>\n",
       "<style scoped>\n",
       "    .dataframe tbody tr th:only-of-type {\n",
       "        vertical-align: middle;\n",
       "    }\n",
       "\n",
       "    .dataframe tbody tr th {\n",
       "        vertical-align: top;\n",
       "    }\n",
       "\n",
       "    .dataframe thead th {\n",
       "        text-align: right;\n",
       "    }\n",
       "</style>\n",
       "<table border=\"1\" class=\"dataframe\">\n",
       "  <thead>\n",
       "    <tr style=\"text-align: right;\">\n",
       "      <th></th>\n",
       "      <th>reward</th>\n",
       "      <th>shared_good</th>\n",
       "      <th>a1_good</th>\n",
       "      <th>a2_good</th>\n",
       "      <th>chosen</th>\n",
       "      <th>prob</th>\n",
       "      <th>a1_bad_0</th>\n",
       "      <th>a2_bad_0</th>\n",
       "      <th>a1_bad_1</th>\n",
       "      <th>a2_bad_1</th>\n",
       "    </tr>\n",
       "  </thead>\n",
       "  <tbody>\n",
       "    <tr>\n",
       "      <th>0</th>\n",
       "      <td>0.242801</td>\n",
       "      <td>1</td>\n",
       "      <td>0</td>\n",
       "      <td>1</td>\n",
       "      <td>0</td>\n",
       "      <td>0.5</td>\n",
       "      <td>0.327688</td>\n",
       "      <td>0.742516</td>\n",
       "      <td>0.345441</td>\n",
       "      <td>0.949529</td>\n",
       "    </tr>\n",
       "    <tr>\n",
       "      <th>1</th>\n",
       "      <td>0.533476</td>\n",
       "      <td>0</td>\n",
       "      <td>0</td>\n",
       "      <td>1</td>\n",
       "      <td>1</td>\n",
       "      <td>0.5</td>\n",
       "      <td>0.100850</td>\n",
       "      <td>0.796198</td>\n",
       "      <td>0.896277</td>\n",
       "      <td>0.830136</td>\n",
       "    </tr>\n",
       "    <tr>\n",
       "      <th>2</th>\n",
       "      <td>0.959965</td>\n",
       "      <td>1</td>\n",
       "      <td>0</td>\n",
       "      <td>1</td>\n",
       "      <td>1</td>\n",
       "      <td>0.5</td>\n",
       "      <td>0.791026</td>\n",
       "      <td>0.339709</td>\n",
       "      <td>0.168648</td>\n",
       "      <td>0.720831</td>\n",
       "    </tr>\n",
       "    <tr>\n",
       "      <th>3</th>\n",
       "      <td>0.776782</td>\n",
       "      <td>0</td>\n",
       "      <td>0</td>\n",
       "      <td>1</td>\n",
       "      <td>0</td>\n",
       "      <td>0.5</td>\n",
       "      <td>0.023869</td>\n",
       "      <td>0.407586</td>\n",
       "      <td>0.856761</td>\n",
       "      <td>0.873843</td>\n",
       "    </tr>\n",
       "    <tr>\n",
       "      <th>4</th>\n",
       "      <td>0.308086</td>\n",
       "      <td>1</td>\n",
       "      <td>0</td>\n",
       "      <td>1</td>\n",
       "      <td>0</td>\n",
       "      <td>0.5</td>\n",
       "      <td>0.586457</td>\n",
       "      <td>0.428704</td>\n",
       "      <td>0.940760</td>\n",
       "      <td>0.547959</td>\n",
       "    </tr>\n",
       "  </tbody>\n",
       "</table>\n",
       "</div>"
      ],
      "text/plain": [
       "     reward  shared_good a1_good a2_good  chosen  prob  a1_bad_0  a2_bad_0  \\\n",
       "0  0.242801            1       0       1       0   0.5  0.327688  0.742516   \n",
       "1  0.533476            0       0       1       1   0.5  0.100850  0.796198   \n",
       "2  0.959965            1       0       1       1   0.5  0.791026  0.339709   \n",
       "3  0.776782            0       0       1       0   0.5  0.023869  0.407586   \n",
       "4  0.308086            1       0       1       0   0.5  0.586457  0.428704   \n",
       "\n",
       "   a1_bad_1  a2_bad_1  \n",
       "0  0.345441  0.949529  \n",
       "1  0.896277  0.830136  \n",
       "2  0.168648  0.720831  \n",
       "3  0.856761  0.873843  \n",
       "4  0.940760  0.547959  "
      ]
     },
     "execution_count": 13,
     "metadata": {},
     "output_type": "execute_result"
    }
   ],
   "source": [
    "sim = Simulation(n=100, swap_after=50, variance = 0.1, bad_log = 1)\n",
    "sim.get().head()"
   ]
  },
  {
   "cell_type": "code",
   "execution_count": 14,
   "metadata": {},
   "outputs": [
    {
     "name": "stdout",
     "output_type": "stream",
     "text": [
      "construct\n"
     ]
    },
    {
     "data": {
      "application/vnd.jupyter.widget-view+json": {
       "model_id": "7af167cc42cb457e93aeaa4f01d0b0ad",
       "version_major": 2,
       "version_minor": 0
      },
      "image/png": "[encoded data removed]",
      "text/plain": [
       "Canvas(toolbar=Toolbar(toolitems=[('Home', 'Reset original view', 'home', 'home'), ('Back', 'Back to previous …"
      ]
     },
     "metadata": {},
     "output_type": "display_data"
    },
    {
     "data": {
      "application/vnd.jupyter.widget-view+json": {
       "model_id": "74770fe54d5043799fa67e7abb97a9d7",
       "version_major": 2,
       "version_minor": 0
      },
      "image/png": "[encoded data removed]",
      "text/plain": [
       "Canvas(toolbar=Toolbar(toolitems=[('Home', 'Reset original view', 'home', 'home'), ('Back', 'Back to previous …"
      ]
     },
     "metadata": {},
     "output_type": "display_data"
    }
   ],
   "source": [
    "Simulation(n=10000, swap_after=5000, variance = 0, bad_log = 1).visualize(window=50)"
   ]
  },
  {
   "cell_type": "code",
   "execution_count": 15,
   "metadata": {},
   "outputs": [
    {
     "name": "stdout",
     "output_type": "stream",
     "text": [
      "construct\n"
     ]
    },
    {
     "data": {
      "text/plain": [
       "{'_label_cost': -0.19999999999999998,\n",
       " '_label_probability': 0.5,\n",
       " '_label_Action': 1,\n",
       " '_labelIndex': 0,\n",
       " 'a': [1, 2],\n",
       " 'c': {'shared': {'f': '1'},\n",
       "  '_multi': [{'a': {'f': '0', 'constant': 1},\n",
       "    'b': {'a1_bad_0': 0.13195642772132188, 'a1_bad_1': 0.37651894122870355}},\n",
       "   {'a': {'f': '1'},\n",
       "    'b': {'a2_bad_0': 0.011454508746632786, 'a2_bad_1': 0.4045320825540012}}]},\n",
       " 'p': [0.5, 0.5]}"
      ]
     },
     "execution_count": 15,
     "metadata": {},
     "output_type": "execute_result"
    }
   ],
   "source": [
    "json.loads(next(Simulation(n=10000, swap_after=5000, variance = 0, bad_log = 1).to_dsjson()))"
   ]
  },
  {
   "cell_type": "markdown",
   "metadata": {
    "tags": []
   },
   "source": [
    "# Interact"
   ]
  },
  {
   "cell_type": "code",
   "execution_count": null,
   "metadata": {},
   "outputs": [],
   "source": [
    "from ipywidgets import *\n",
    "\n",
    "fig, ax = plt.subplots(2, 2, figsize=(12,7))\n",
    "\n",
    "state = {'sim': Simulation(10000, 5000, 0, 0), 'previous_window': -1}\n",
    "widget = interactive(\n",
    "    vw_playground,\n",
    "    n=IntSlider(min=1000, max=20000, step=1000, value=state['sim'].args['n']),\n",
    "    swap_after=IntSlider(min=1000, max=20000, step=1000, value=state['sim'].args['swap_after']),\n",
    "    variance=FloatSlider(min=0, max=2, step=0.1, value=state['sim'].args['variance']),\n",
    "    bad_log=IntSlider(min=0, max=10, step=1, value = state['sim'].args['bad_log']),\n",
    "    window=IntSlider(min=1, max=1000, step=10, value = 1),\n",
    "    learning_rate=IntSlider(min=-20,max=10, step=1, value=-20),\n",
    "    coin=Checkbox(),\n",
    "    l1=IntSlider(min=-20,max=10, step=1, value=-20),\n",
    "    cb_type=['ips', 'mtr'],\n",
    "    interactions=['', '-q sa', '-q ab', '-q sb', '-q ::'],\n",
    "    ignore=['', '--ignore b'],\n",
    "    ignore_linear=['', '--ignore_linear sab'],\n",
    "    marginals=['', '--marginal a'],\n",
    "    ax=fixed(ax),\n",
    "    fig=fixed(fig),\n",
    "    state=fixed(state))\n",
    "\n",
    "data_controls = HBox(widget.children[:4])\n",
    "visualization_controls = HBox(widget.children[4:5])\n",
    "learning_controls = HBox((Label(\"Step 1\", layout=Layout(display=\"flex\", justify_content=\"flex-start\", width=\"4%\")),) + widget.children[5:-5])\n",
    "extra = HBox((Label(\"Step 2\", layout=Layout(display=\"flex\", justify_content=\"flex-start\", width=\"4%\")),) + widget.children[-5:-1])\n",
    "output = widget.children[-1]\n",
    "display(VBox([data_controls, visualization_controls, learning_controls, extra, output]))"
   ]
  },
  {
   "cell_type": "code",
   "execution_count": null,
   "metadata": {},
   "outputs": [],
   "source": [
    "import itertools\n",
    "def powerset(iterable):\n",
    "    s = list(iterable)\n",
    "    return chain.from_iterable(itertools.combinations(s, r) for r in range(len(s)+1))\n",
    "\n",
    "from vw_executor.vw import Vw\n",
    "from vw_executor.vw_opts import product, dimension\n",
    "import pandas as pd\n",
    "\n",
    "vw = Vw('vw', '.vw_cache')\n",
    "\n",
    "step1 = pd.DataFrame(product(\n",
    "    dimension('#base', ['--cb_explore_adf -P 1000 --preserve_performance_counters --save_resume --dsjson --power_t 0']),\n",
    "    dimension('--learning_rate', [1e-6, 1e-5, 1e-4, 1e-3, 1e-2, 1e-1, 1, 10]),\n",
    "    dimension('--l1', [1e-9, 1e-6, 1e-3]),\n",
    "    dimension('--cb_type', ['ips', 'mtr']),\n",
    "    dimension('#marginal', ['', '--marginal a'])    # HAVE TO BE EXTRACTED FROM THE DATA\n",
    "    ))\n",
    "\n",
    "step2 = pd.DataFrame(\n",
    "    dimension('#interactions', [f'-q {\" \".join([t[0] + t[1] for t in c])}'\n",
    "                                for c in powerset((itertools.product(['s'], ['a', 'b'])))]))   # HAVE TO BE EXTRACTED FROM THE DATA\n",
    "inputs = ['small.json']\n",
    "\n",
    "# sweep\n",
    "first_step_best = vw.train(inputs, step1).sort_values('!Loss').head(1)\n",
    "second_step_best = vw.train(inputs, pd.DataFrame(product(first_step_best, step2))).sort_values('!Loss').head(1)\n",
    "third_step_best = vw.train(inputs, pd.DataFrame(product(second_step_best, step1))).sort_values('!Loss').head(1)\n",
    "\n",
    "# predict\n",
    "vw.train(inputs, third_step_best, ['-p'])"
   ]
  },
  {
   "cell_type": "code",
   "execution_count": null,
   "metadata": {},
   "outputs": [],
   "source": []
  }
 ],
 "metadata": {
  "interpreter": {
   "hash": "b8f4a58adc17b056f67bda23a8d2f1daa157665278cb2abc3190e1c7319c7b72"
  },
  "kernelspec": {
   "display_name": "Python 3 (ipykernel)",
   "language": "python",
   "name": "python3"
  },
  "language_info": {
   "codemirror_mode": {
    "name": "ipython",
    "version": 3
   },
   "file_extension": ".py",
   "mimetype": "text/x-python",
   "name": "python",
   "nbconvert_exporter": "python",
   "pygments_lexer": "ipython3",
   "version": "3.9.5"
  }
 },
 "nbformat": 4,
 "nbformat_minor": 4
}
