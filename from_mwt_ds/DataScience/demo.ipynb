{
 "cells": [
  {
   "cell_type": "markdown",
   "metadata": {},
   "source": [
    "# Helpers"
   ]
  },
  {
   "cell_type": "code",
   "execution_count": 1,
   "metadata": {},
   "outputs": [
    {
     "name": "stdout",
     "output_type": "stream",
     "text": [
      "Requirement already satisfied: ipympl in c:\\users\\ataymano\\miniconda3\\lib\\site-packages (0.8.0)\n",
      "Requirement already satisfied: ipywidgets>=7.6.0 in c:\\users\\ataymano\\miniconda3\\lib\\site-packages (from ipympl) (7.6.3)\n",
      "Requirement already satisfied: ipykernel>=4.7 in c:\\users\\ataymano\\miniconda3\\lib\\site-packages (from ipympl) (6.4.1)\n",
      "Requirement already satisfied: matplotlib>=2.0.0 in c:\\users\\ataymano\\miniconda3\\lib\\site-packages (from ipympl) (3.4.2)\n",
      "Requirement already satisfied: matplotlib-inline<0.2.0,>=0.1.0 in c:\\users\\ataymano\\miniconda3\\lib\\site-packages (from ipykernel>=4.7->ipympl) (0.1.3)\n",
      "Requirement already satisfied: debugpy<2.0,>=1.0.0 in c:\\users\\ataymano\\miniconda3\\lib\\site-packages (from ipykernel>=4.7->ipympl) (1.4.1)\n",
      "Requirement already satisfied: jupyter-client<8.0 in c:\\users\\ataymano\\miniconda3\\lib\\site-packages (from ipykernel>=4.7->ipympl) (7.0.3)\n",
      "Requirement already satisfied: ipython-genutils in c:\\users\\ataymano\\miniconda3\\lib\\site-packages (from ipykernel>=4.7->ipympl) (0.2.0)\n",
      "Requirement already satisfied: ipython<8.0,>=7.23.1 in c:\\users\\ataymano\\miniconda3\\lib\\site-packages (from ipykernel>=4.7->ipympl) (7.27.0)\n",
      "Requirement already satisfied: tornado<7.0,>=4.2 in c:\\users\\ataymano\\miniconda3\\lib\\site-packages (from ipykernel>=4.7->ipympl) (6.1)\n",
      "Requirement already satisfied: traitlets<6.0,>=4.1.0 in c:\\users\\ataymano\\miniconda3\\lib\\site-packages (from ipykernel>=4.7->ipympl) (5.1.0)\n",
      "Requirement already satisfied: prompt-toolkit!=3.0.0,!=3.0.1,<3.1.0,>=2.0.0 in c:\\users\\ataymano\\miniconda3\\lib\\site-packages (from ipython<8.0,>=7.23.1->ipykernel>=4.7->ipympl) (3.0.20)\n",
      "Requirement already satisfied: setuptools>=18.5 in c:\\users\\ataymano\\miniconda3\\lib\\site-packages (from ipython<8.0,>=7.23.1->ipykernel>=4.7->ipympl) (52.0.0.post20210125)\n",
      "Requirement already satisfied: pygments in c:\\users\\ataymano\\miniconda3\\lib\\site-packages (from ipython<8.0,>=7.23.1->ipykernel>=4.7->ipympl) (2.10.0)\n",
      "Requirement already satisfied: backcall in c:\\users\\ataymano\\miniconda3\\lib\\site-packages (from ipython<8.0,>=7.23.1->ipykernel>=4.7->ipympl) (0.2.0)\n",
      "Requirement already satisfied: jedi>=0.16 in c:\\users\\ataymano\\miniconda3\\lib\\site-packages (from ipython<8.0,>=7.23.1->ipykernel>=4.7->ipympl) (0.18.0)\n",
      "Requirement already satisfied: colorama in c:\\users\\ataymano\\miniconda3\\lib\\site-packages (from ipython<8.0,>=7.23.1->ipykernel>=4.7->ipympl) (0.4.4)\n",
      "Requirement already satisfied: pickleshare in c:\\users\\ataymano\\miniconda3\\lib\\site-packages (from ipython<8.0,>=7.23.1->ipykernel>=4.7->ipympl) (0.7.5)\n",
      "Requirement already satisfied: decorator in c:\\users\\ataymano\\miniconda3\\lib\\site-packages (from ipython<8.0,>=7.23.1->ipykernel>=4.7->ipympl) (5.1.0)\n",
      "Requirement already satisfied: nbformat>=4.2.0 in c:\\users\\ataymano\\miniconda3\\lib\\site-packages (from ipywidgets>=7.6.0->ipympl) (5.1.3)\n",
      "Requirement already satisfied: widgetsnbextension~=3.5.0 in c:\\users\\ataymano\\miniconda3\\lib\\site-packages (from ipywidgets>=7.6.0->ipympl) (3.5.1)\n",
      "Requirement already satisfied: jupyterlab-widgets>=1.0.0 in c:\\users\\ataymano\\miniconda3\\lib\\site-packages (from ipywidgets>=7.6.0->ipympl) (1.0.0)\n",
      "Requirement already satisfied: parso<0.9.0,>=0.8.0 in c:\\users\\ataymano\\miniconda3\\lib\\site-packages (from jedi>=0.16->ipython<8.0,>=7.23.1->ipykernel>=4.7->ipympl) (0.8.2)\n",
      "Requirement already satisfied: pyzmq>=13 in c:\\users\\ataymano\\miniconda3\\lib\\site-packages (from jupyter-client<8.0->ipykernel>=4.7->ipympl) (22.3.0)\n",
      "Requirement already satisfied: jupyter-core>=4.6.0 in c:\\users\\ataymano\\miniconda3\\lib\\site-packages (from jupyter-client<8.0->ipykernel>=4.7->ipympl) (4.8.1)\n",
      "Requirement already satisfied: entrypoints in c:\\users\\ataymano\\miniconda3\\lib\\site-packages (from jupyter-client<8.0->ipykernel>=4.7->ipympl) (0.3)\n",
      "Requirement already satisfied: nest-asyncio>=1.5 in c:\\users\\ataymano\\miniconda3\\lib\\site-packages (from jupyter-client<8.0->ipykernel>=4.7->ipympl) (1.5.1)\n",
      "Requirement already satisfied: python-dateutil>=2.1 in c:\\users\\ataymano\\miniconda3\\lib\\site-packages (from jupyter-client<8.0->ipykernel>=4.7->ipympl) (2.8.2)\n",
      "Requirement already satisfied: pywin32>=1.0 in c:\\users\\ataymano\\miniconda3\\lib\\site-packages (from jupyter-core>=4.6.0->jupyter-client<8.0->ipykernel>=4.7->ipympl) (228)\n",
      "Requirement already satisfied: kiwisolver>=1.0.1 in c:\\users\\ataymano\\miniconda3\\lib\\site-packages (from matplotlib>=2.0.0->ipympl) (1.3.1)\n",
      "Requirement already satisfied: cycler>=0.10 in c:\\users\\ataymano\\miniconda3\\lib\\site-packages (from matplotlib>=2.0.0->ipympl) (0.10.0)\n",
      "Requirement already satisfied: numpy>=1.16 in c:\\users\\ataymano\\miniconda3\\lib\\site-packages (from matplotlib>=2.0.0->ipympl) (1.21.1)\n",
      "Requirement already satisfied: pyparsing>=2.2.1 in c:\\users\\ataymano\\miniconda3\\lib\\site-packages (from matplotlib>=2.0.0->ipympl) (2.4.7)\n",
      "Requirement already satisfied: pillow>=6.2.0 in c:\\users\\ataymano\\miniconda3\\lib\\site-packages (from matplotlib>=2.0.0->ipympl) (8.3.1)\n",
      "Requirement already satisfied: six in c:\\users\\ataymano\\miniconda3\\lib\\site-packages (from cycler>=0.10->matplotlib>=2.0.0->ipympl) (1.16.0)\n",
      "Requirement already satisfied: jsonschema!=2.5.0,>=2.4 in c:\\users\\ataymano\\miniconda3\\lib\\site-packages (from nbformat>=4.2.0->ipywidgets>=7.6.0->ipympl) (3.2.0)\n",
      "Requirement already satisfied: pyrsistent>=0.14.0 in c:\\users\\ataymano\\miniconda3\\lib\\site-packages (from jsonschema!=2.5.0,>=2.4->nbformat>=4.2.0->ipywidgets>=7.6.0->ipympl) (0.18.0)\n",
      "Requirement already satisfied: attrs>=17.4.0 in c:\\users\\ataymano\\miniconda3\\lib\\site-packages (from jsonschema!=2.5.0,>=2.4->nbformat>=4.2.0->ipywidgets>=7.6.0->ipympl) (21.2.0)\n",
      "Requirement already satisfied: wcwidth in c:\\users\\ataymano\\miniconda3\\lib\\site-packages (from prompt-toolkit!=3.0.0,!=3.0.1,<3.1.0,>=2.0.0->ipython<8.0,>=7.23.1->ipykernel>=4.7->ipympl) (0.2.5)\n",
      "Requirement already satisfied: notebook>=4.4.1 in c:\\users\\ataymano\\miniconda3\\lib\\site-packages (from widgetsnbextension~=3.5.0->ipywidgets>=7.6.0->ipympl) (6.4.4)\n",
      "Requirement already satisfied: terminado>=0.8.3 in c:\\users\\ataymano\\miniconda3\\lib\\site-packages (from notebook>=4.4.1->widgetsnbextension~=3.5.0->ipywidgets>=7.6.0->ipympl) (0.10.1)\n",
      "Requirement already satisfied: nbconvert in c:\\users\\ataymano\\miniconda3\\lib\\site-packages (from notebook>=4.4.1->widgetsnbextension~=3.5.0->ipywidgets>=7.6.0->ipympl) (6.1.0)\n",
      "Requirement already satisfied: Send2Trash>=1.5.0 in c:\\users\\ataymano\\miniconda3\\lib\\site-packages (from notebook>=4.4.1->widgetsnbextension~=3.5.0->ipywidgets>=7.6.0->ipympl) (1.8.0)\n",
      "Requirement already satisfied: argon2-cffi in c:\\users\\ataymano\\miniconda3\\lib\\site-packages (from notebook>=4.4.1->widgetsnbextension~=3.5.0->ipywidgets>=7.6.0->ipympl) (20.1.0)\n",
      "Requirement already satisfied: prometheus-client in c:\\users\\ataymano\\miniconda3\\lib\\site-packages (from notebook>=4.4.1->widgetsnbextension~=3.5.0->ipywidgets>=7.6.0->ipympl) (0.11.0)\n",
      "Requirement already satisfied: jinja2 in c:\\users\\ataymano\\miniconda3\\lib\\site-packages (from notebook>=4.4.1->widgetsnbextension~=3.5.0->ipywidgets>=7.6.0->ipympl) (3.0.1)\n",
      "Requirement already satisfied: pywinpty>=1.1.0 in c:\\users\\ataymano\\miniconda3\\lib\\site-packages (from terminado>=0.8.3->notebook>=4.4.1->widgetsnbextension~=3.5.0->ipywidgets>=7.6.0->ipympl) (1.1.3)\n",
      "Requirement already satisfied: cffi>=1.0.0 in c:\\users\\ataymano\\miniconda3\\lib\\site-packages (from argon2-cffi->notebook>=4.4.1->widgetsnbextension~=3.5.0->ipywidgets>=7.6.0->ipympl) (1.14.6)\n",
      "Requirement already satisfied: pycparser in c:\\users\\ataymano\\miniconda3\\lib\\site-packages (from cffi>=1.0.0->argon2-cffi->notebook>=4.4.1->widgetsnbextension~=3.5.0->ipywidgets>=7.6.0->ipympl) (2.20)\n",
      "Requirement already satisfied: MarkupSafe>=2.0 in c:\\users\\ataymano\\miniconda3\\lib\\site-packages (from jinja2->notebook>=4.4.1->widgetsnbextension~=3.5.0->ipywidgets>=7.6.0->ipympl) (2.0.1)\n",
      "Requirement already satisfied: nbclient<0.6.0,>=0.5.0 in c:\\users\\ataymano\\miniconda3\\lib\\site-packages (from nbconvert->notebook>=4.4.1->widgetsnbextension~=3.5.0->ipywidgets>=7.6.0->ipympl) (0.5.4)\n",
      "Requirement already satisfied: testpath in c:\\users\\ataymano\\miniconda3\\lib\\site-packages (from nbconvert->notebook>=4.4.1->widgetsnbextension~=3.5.0->ipywidgets>=7.6.0->ipympl) (0.5.0)\n",
      "Requirement already satisfied: pandocfilters>=1.4.1 in c:\\users\\ataymano\\miniconda3\\lib\\site-packages (from nbconvert->notebook>=4.4.1->widgetsnbextension~=3.5.0->ipywidgets>=7.6.0->ipympl) (1.5.0)\n",
      "Requirement already satisfied: defusedxml in c:\\users\\ataymano\\miniconda3\\lib\\site-packages (from nbconvert->notebook>=4.4.1->widgetsnbextension~=3.5.0->ipywidgets>=7.6.0->ipympl) (0.7.1)\n",
      "Requirement already satisfied: mistune<2,>=0.8.1 in c:\\users\\ataymano\\miniconda3\\lib\\site-packages (from nbconvert->notebook>=4.4.1->widgetsnbextension~=3.5.0->ipywidgets>=7.6.0->ipympl) (0.8.4)\n",
      "Requirement already satisfied: jupyterlab-pygments in c:\\users\\ataymano\\miniconda3\\lib\\site-packages (from nbconvert->notebook>=4.4.1->widgetsnbextension~=3.5.0->ipywidgets>=7.6.0->ipympl) (0.1.2)\n",
      "Requirement already satisfied: bleach in c:\\users\\ataymano\\miniconda3\\lib\\site-packages (from nbconvert->notebook>=4.4.1->widgetsnbextension~=3.5.0->ipywidgets>=7.6.0->ipympl) (4.1.0)\n",
      "Requirement already satisfied: webencodings in c:\\users\\ataymano\\miniconda3\\lib\\site-packages (from bleach->nbconvert->notebook>=4.4.1->widgetsnbextension~=3.5.0->ipywidgets>=7.6.0->ipympl) (0.5.1)\n",
      "Requirement already satisfied: packaging in c:\\users\\ataymano\\miniconda3\\lib\\site-packages (from bleach->nbconvert->notebook>=4.4.1->widgetsnbextension~=3.5.0->ipywidgets>=7.6.0->ipympl) (21.0)\n",
      "Requirement already satisfied: seaborn in c:\\users\\ataymano\\miniconda3\\lib\\site-packages (0.11.2)\n",
      "Requirement already satisfied: scipy>=1.0 in c:\\users\\ataymano\\miniconda3\\lib\\site-packages (from seaborn) (1.7.1)\n",
      "Requirement already satisfied: numpy>=1.15 in c:\\users\\ataymano\\miniconda3\\lib\\site-packages (from seaborn) (1.21.1)\n",
      "Requirement already satisfied: pandas>=0.23 in c:\\users\\ataymano\\miniconda3\\lib\\site-packages (from seaborn) (1.3.1)\n",
      "Requirement already satisfied: matplotlib>=2.2 in c:\\users\\ataymano\\miniconda3\\lib\\site-packages (from seaborn) (3.4.2)\n",
      "Requirement already satisfied: python-dateutil>=2.7 in c:\\users\\ataymano\\miniconda3\\lib\\site-packages (from matplotlib>=2.2->seaborn) (2.8.2)\n",
      "Requirement already satisfied: cycler>=0.10 in c:\\users\\ataymano\\miniconda3\\lib\\site-packages (from matplotlib>=2.2->seaborn) (0.10.0)\n",
      "Requirement already satisfied: pyparsing>=2.2.1 in c:\\users\\ataymano\\miniconda3\\lib\\site-packages (from matplotlib>=2.2->seaborn) (2.4.7)\n",
      "Requirement already satisfied: kiwisolver>=1.0.1 in c:\\users\\ataymano\\miniconda3\\lib\\site-packages (from matplotlib>=2.2->seaborn) (1.3.1)\n",
      "Requirement already satisfied: pillow>=6.2.0 in c:\\users\\ataymano\\miniconda3\\lib\\site-packages (from matplotlib>=2.2->seaborn) (8.3.1)\n",
      "Requirement already satisfied: six in c:\\users\\ataymano\\miniconda3\\lib\\site-packages (from cycler>=0.10->matplotlib>=2.2->seaborn) (1.16.0)\n",
      "Requirement already satisfied: pytz>=2017.3 in c:\\users\\ataymano\\miniconda3\\lib\\site-packages (from pandas>=0.23->seaborn) (2021.1)\n"
     ]
    }
   ],
   "source": [
    "!python -m pip install ipympl\n",
    "!python -m pip install seaborn"
   ]
  },
  {
   "cell_type": "code",
   "execution_count": 2,
   "metadata": {},
   "outputs": [],
   "source": [
    "%matplotlib widget\n",
    "import random\n",
    "import pandas as pd\n",
    "import numpy as np\n",
    "import matplotlib.pyplot as plt\n",
    "import json\n",
    "from itertools import chain\n",
    "import scipy\n",
    "import seaborn as sns\n",
    "sns.set_theme(style=\"darkgrid\")\n",
    "from vw_executor.vw import Vw\n",
    "from vw_executor.loggers import ConsoleLogger\n",
    "\n",
    "\n",
    "def new_ax():\n",
    "    _,ax = plt.subplots(dpi=100, figsize=[9,4])\n",
    "    return ax        \n",
    "\n",
    "def _predictions_parse(lines):\n",
    "    for l in lines:\n",
    "        if ':' in l:\n",
    "            yield {int(kv.split(':')[0]): float(kv.split(':')[1]) for kv in l.split(',')}\n",
    "\n",
    "def predictions_2_df(files):\n",
    "    return pd.DataFrame(_predictions_parse(chain(*map(lambda f: open(f), files))))\n",
    "\n",
    "def plot(sim, result, i):\n",
    "    job = result.iloc[i]['!Job']\n",
    "    prediction_files = job.outputs['-p']\n",
    "    df = pd.concat([sim, predictions_2_df(prediction_files)], axis=1)\n",
    "    [df[(df['shared_good']==i)][j].rolling(window=100).mean().plot(\n",
    "        figsize=[16,6], label=f'P(chosen={j} | Person={i})') for i in [0,1] for j in [0,1]]\n",
    "    plt.legend(loc='best')\n",
    "\n",
    "class Simulation:\n",
    "    def __init__(self, n=10000, swap_after=5000, variance = 0, bad = 0):\n",
    "        self.examples = []\n",
    "        offset = 0\n",
    "        for i in range(1, n):\n",
    "            if i % swap_after == 0:\n",
    "                offset = (offset + 1) % 2\n",
    "\n",
    "            person = i % 2 # random.randint(0, 1)\n",
    "            chosen = i % 4  // 2 #random.randint(0, 1)\n",
    "            if (chosen + person + offset) % 2 == 0:\n",
    "                reward =  0.7 + ((chosen + offset) % 2) * 0.1#int(random.random() < 0.7 + ((chosen + offset) % 2) * 0.1)\n",
    "            else:\n",
    "                reward = 0.3 - ((chosen + offset + 1) % 2) * 0.1 #int(random.random() < 0.3 - ((chosen + offset + 1) % 2) * 0.1)\n",
    "\n",
    "            reward = reward + scipy.random.normal(0, variance)\n",
    "\n",
    "            self.examples.append({\n",
    "                \"reward\": reward,\n",
    "                \"shared_good\": person,\n",
    "                \"a1_good\": '0',\n",
    "                \"a2_good\": '1',\n",
    "                \"chosen\": chosen, \n",
    "                \"prob\": 0.5\n",
    "            })\n",
    "            for i in range(bad):\n",
    "                self.examples[-1][f'a1_bad_{i}'] = random.random()\n",
    "                self.examples[-1][f'a2_bad_{i}'] = random.random()\n",
    "        self.df = pd.DataFrame(self.examples)\n",
    "    \n",
    "    def get(self):\n",
    "        return pd.DataFrame(self.examples)\n",
    "    \n",
    "    def to_dsjson(self):\n",
    "        for row in self.examples:\n",
    "            o = {\n",
    "                \"_label_cost\": -row['reward'],\n",
    "                \"_label_probability\": row['prob'],\n",
    "                \"_label_Action\": int(row['chosen'] + 1),\n",
    "                \"_labelIndex\": int(row['chosen']),\n",
    "                \"a\": [row['chosen'] + 1, (row['chosen'] + 1) % 2 + 1],\n",
    "                \"c\": {'shared': {'f': str(row['shared_good'])},\n",
    "                    '_multi': [{'a': {'f': str(row['a1_good']), 'constant': 1}},\n",
    "                        {'a': {'f': str(row['a2_good'])}}]},\n",
    "                \"p\": [row['prob'], 1 - row['prob']] \n",
    "            }\n",
    "            i = 0\n",
    "            while True:\n",
    "                if f'a1_bad_{i}' in row:\n",
    "                    if 'b' not in o['c']['_multi'][0]: \n",
    "                        o['c']['_multi'][0]['b'] = {}\n",
    "                        o['c']['_multi'][1]['b'] = {}   \n",
    "                    o['c']['_multi'][0]['b'][f'a1_bad_{i}'] = row[f'a1_bad_{i}']\n",
    "                    o['c']['_multi'][1]['b'][f'a2_bad_{i}'] = row[f'a1_bad_{i}']\n",
    "                    i += 1\n",
    "                else:\n",
    "                    break\n",
    "            yield json.dumps(o, separators=(\",\", \":\"))\n",
    "\n",
    "    def to_dsjson_file(self, fname):\n",
    "        with open(fname, 'w') as f:\n",
    "            for ex in self.to_dsjson():\n",
    "                f.write(f'{ex}\\n')             \n",
    "\n",
    "    def visualize(self, window=100, ax = None):\n",
    "        colors = ['green', 'red']\n",
    "        styles = ['-', '-.']\n",
    "        if ax is None:\n",
    "            ax = (new_ax(), new_ax())\n",
    "        [self.df[(self.df['shared_good']==i) & (self.df['chosen']==j)].rolling(window=window)['reward'].mean().plot(\n",
    "            ax=ax[0], color = colors[j], style=styles[i], label=f'Person: {i}, chosen: {j}') for i in [0,1] for j in [0,1]]\n",
    "        [self.df[self.df['chosen']==j].rolling(window=window)['reward'].mean().plot(\n",
    "            ax=ax[1], color = colors[j], label=f'Chosen: {j}') for j in [0,1]]     \n",
    "        ax[0].legend()\n",
    "        ax[1].legend()\n",
    "        \n",
    "def _predictions_parse(lines):\n",
    "    for l in lines:\n",
    "        if ':' in l:\n",
    "            yield {int(kv.split(':')[0]): float(kv.split(':')[1]) for kv in l.split(',')}\n",
    "\n",
    "def predictions_2_df(files):\n",
    "    return pd.DataFrame(_predictions_parse(chain(*map(lambda f: open(f), files))))\n",
    "\n",
    "def plot(sim, result, i):\n",
    "    colors = ['green', 'red']\n",
    "    styles = ['-', '-.']\n",
    "    job = result.iloc[i]['!Job']\n",
    "    prediction_files = job.outputs['-p']\n",
    "    df = pd.concat([sim, predictions_2_df(prediction_files)], axis=1)\n",
    "    ax = new_ax()\n",
    "    [df[(df['shared_good']==i)][j].rolling(window=100).mean().plot(\n",
    "        ax=ax, color = colors[j], style=styles[i], label=f'P(chosen={j} | Person={i})') for i in [0,1] for j in [0,1]]\n",
    "    ax.legend(loc='best')\n",
    "    \n",
    "def plot(sim, job, ax):\n",
    "    colors = ['green', 'red']\n",
    "    styles = ['-', '-.']\n",
    "    prediction_files = job.outputs['-p']\n",
    "    df = pd.concat([sim.get(), predictions_2_df(prediction_files)], axis=1)\n",
    "    [(df[(df['shared_good']==i)][j].rolling(window=100).mean() + i * 0.05).plot(\n",
    "        ax=ax, color = colors[j], style=styles[i], label=f'P(chosen={j} | Person={i})') for i in [0,1] for j in [0,1]]\n",
    "    ax.legend(loc='best')\n",
    "    \n",
    "def generate_and_visualize(n=10000, swap_after=5000, variance=0, bad_log=0, window=100, ax=None, fig=None):\n",
    "    sim = Simulation(n=n, swap_after=swap_after, variance = variance, bad = 2**bad_log)\n",
    "    ax[0].clear()\n",
    "    ax[1].clear()\n",
    "    fig.suptitle('Data', fontsize=16)\n",
    "    sim.visualize(window = window, ax=ax) \n",
    "    fig.canvas.draw_idle()\n",
    "    \n",
    "def generate_and_learn(n=10000, swap_after=5000, variance=0, bad_log=0, window=100, \n",
    "                       learning_rate=-20, coin=False, l1=-20, cb_type='ips', \n",
    "                       interactions='', ignore='', ignore_linear='', marginals='', ax=None, fig=None):\n",
    "    sim = Simulation(n=n, swap_after=swap_after, variance = variance, bad = 2**bad_log)\n",
    "    ax[0][0].clear()\n",
    "    ax[0][1].clear()\n",
    "    ax[1][0].clear()\n",
    "    ax[1][1].clear()\n",
    "\n",
    "    fig.suptitle('Data', fontsize=16)\n",
    "    sim.to_dsjson_file('small.json')\n",
    "\n",
    "    opts = {'#base': '--cb_explore_adf --dsjson --epsilon 0.2',\n",
    "            '#0': interactions,\n",
    "            '#1': ignore,\n",
    "            '#2': ignore_linear,\n",
    "            '#3': marginals,\n",
    "            '#lr': '--coin' if coin else f'--power_t 0 --learning_rate {2**learning_rate}',\n",
    "            '--l1': 2**l1,\n",
    "            '--cb_type': cb_type\n",
    "           }\n",
    "\n",
    "    result = Vw('vw', '.vw_cache', handlers=[],\n",
    "                loggers=[\n",
    "     #              ConsoleLogger('DEBUG')\n",
    "                ]).train(['small.json'], opts, ['-p'])\n",
    "    \n",
    "    sim.visualize(window = window, ax=ax[0]) \n",
    "    plot(sim, result, ax[1][0])\n",
    "    fig.canvas.draw_idle()\n",
    "    "
   ]
  },
  {
   "cell_type": "markdown",
   "metadata": {
    "tags": []
   },
   "source": [
    "# Look at the data"
   ]
  },
  {
   "cell_type": "code",
   "execution_count": 3,
   "metadata": {},
   "outputs": [
    {
     "data": {
      "text/html": [
       "<div>\n",
       "<style scoped>\n",
       "    .dataframe tbody tr th:only-of-type {\n",
       "        vertical-align: middle;\n",
       "    }\n",
       "\n",
       "    .dataframe tbody tr th {\n",
       "        vertical-align: top;\n",
       "    }\n",
       "\n",
       "    .dataframe thead th {\n",
       "        text-align: right;\n",
       "    }\n",
       "</style>\n",
       "<table border=\"1\" class=\"dataframe\">\n",
       "  <thead>\n",
       "    <tr style=\"text-align: right;\">\n",
       "      <th></th>\n",
       "      <th>reward</th>\n",
       "      <th>shared_good</th>\n",
       "      <th>a1_good</th>\n",
       "      <th>a2_good</th>\n",
       "      <th>chosen</th>\n",
       "      <th>prob</th>\n",
       "      <th>a1_bad_0</th>\n",
       "      <th>a2_bad_0</th>\n",
       "      <th>a1_bad_1</th>\n",
       "      <th>a2_bad_1</th>\n",
       "    </tr>\n",
       "  </thead>\n",
       "  <tbody>\n",
       "    <tr>\n",
       "      <th>0</th>\n",
       "      <td>0.077477</td>\n",
       "      <td>1</td>\n",
       "      <td>0</td>\n",
       "      <td>1</td>\n",
       "      <td>0</td>\n",
       "      <td>0.5</td>\n",
       "      <td>0.324202</td>\n",
       "      <td>0.127455</td>\n",
       "      <td>0.566664</td>\n",
       "      <td>0.306330</td>\n",
       "    </tr>\n",
       "    <tr>\n",
       "      <th>1</th>\n",
       "      <td>0.317228</td>\n",
       "      <td>0</td>\n",
       "      <td>0</td>\n",
       "      <td>1</td>\n",
       "      <td>1</td>\n",
       "      <td>0.5</td>\n",
       "      <td>0.598731</td>\n",
       "      <td>0.397407</td>\n",
       "      <td>0.425541</td>\n",
       "      <td>0.403073</td>\n",
       "    </tr>\n",
       "    <tr>\n",
       "      <th>2</th>\n",
       "      <td>0.769646</td>\n",
       "      <td>1</td>\n",
       "      <td>0</td>\n",
       "      <td>1</td>\n",
       "      <td>1</td>\n",
       "      <td>0.5</td>\n",
       "      <td>0.407946</td>\n",
       "      <td>0.879084</td>\n",
       "      <td>0.487323</td>\n",
       "      <td>0.854860</td>\n",
       "    </tr>\n",
       "    <tr>\n",
       "      <th>3</th>\n",
       "      <td>0.734909</td>\n",
       "      <td>0</td>\n",
       "      <td>0</td>\n",
       "      <td>1</td>\n",
       "      <td>0</td>\n",
       "      <td>0.5</td>\n",
       "      <td>0.750402</td>\n",
       "      <td>0.366077</td>\n",
       "      <td>0.931647</td>\n",
       "      <td>0.034564</td>\n",
       "    </tr>\n",
       "    <tr>\n",
       "      <th>4</th>\n",
       "      <td>0.146743</td>\n",
       "      <td>1</td>\n",
       "      <td>0</td>\n",
       "      <td>1</td>\n",
       "      <td>0</td>\n",
       "      <td>0.5</td>\n",
       "      <td>0.161590</td>\n",
       "      <td>0.869794</td>\n",
       "      <td>0.368259</td>\n",
       "      <td>0.079667</td>\n",
       "    </tr>\n",
       "  </tbody>\n",
       "</table>\n",
       "</div>"
      ],
      "text/plain": [
       "     reward  shared_good a1_good a2_good  chosen  prob  a1_bad_0  a2_bad_0  \\\n",
       "0  0.077477            1       0       1       0   0.5  0.324202  0.127455   \n",
       "1  0.317228            0       0       1       1   0.5  0.598731  0.397407   \n",
       "2  0.769646            1       0       1       1   0.5  0.407946  0.879084   \n",
       "3  0.734909            0       0       1       0   0.5  0.750402  0.366077   \n",
       "4  0.146743            1       0       1       0   0.5  0.161590  0.869794   \n",
       "\n",
       "   a1_bad_1  a2_bad_1  \n",
       "0  0.566664  0.306330  \n",
       "1  0.425541  0.403073  \n",
       "2  0.487323  0.854860  \n",
       "3  0.931647  0.034564  \n",
       "4  0.368259  0.079667  "
      ]
     },
     "execution_count": 3,
     "metadata": {},
     "output_type": "execute_result"
    }
   ],
   "source": [
    "sim = Simulation(n=100, swap_after=50, variance = 0.1, bad = 2)\n",
    "sim.get().head()"
   ]
  },
  {
   "cell_type": "code",
   "execution_count": 9,
   "metadata": {},
   "outputs": [
    {
     "data": {
      "text/plain": [
       "{'_label_cost': -0.19999999999999998,\n",
       " '_label_probability': 0.5,\n",
       " '_label_Action': 1,\n",
       " '_labelIndex': 0,\n",
       " 'a': [1, 2],\n",
       " 'c': {'shared': {'f': '1'},\n",
       "  '_multi': [{'a': {'f': '0', 'constant': 1},\n",
       "    'b': {'a1_bad_0': 0.0359312221429785, 'a1_bad_1': 0.3371683737873694}},\n",
       "   {'a': {'f': '1'},\n",
       "    'b': {'a2_bad_0': 0.0359312221429785, 'a2_bad_1': 0.3371683737873694}}]},\n",
       " 'p': [0.5, 0.5]}"
      ]
     },
     "execution_count": 9,
     "metadata": {},
     "output_type": "execute_result"
    }
   ],
   "source": [
    "json.loads(next(Simulation(n=10000, swap_after=5000, variance = 0, bad = 2).to_dsjson()))"
   ]
  },
  {
   "cell_type": "code",
   "execution_count": 4,
   "metadata": {},
   "outputs": [
    {
     "data": {
      "application/vnd.jupyter.widget-view+json": {
       "model_id": "f5a5e73cddac4c37a1a557772372afbc",
       "version_major": 2,
       "version_minor": 0
      },
      "image/png": "[encoded data removed]",
      "text/plain": [
       "Canvas(toolbar=Toolbar(toolitems=[('Home', 'Reset original view', 'home', 'home'), ('Back', 'Back to previous …"
      ]
     },
     "metadata": {},
     "output_type": "display_data"
    },
    {
     "data": {
      "application/vnd.jupyter.widget-view+json": {
       "model_id": "0f939381136642fc98a93528c8d21781",
       "version_major": 2,
       "version_minor": 0
      },
      "image/png": "[encoded data removed]",
      "text/plain": [
       "Canvas(toolbar=Toolbar(toolitems=[('Home', 'Reset original view', 'home', 'home'), ('Back', 'Back to previous …"
      ]
     },
     "metadata": {},
     "output_type": "display_data"
    }
   ],
   "source": [
    "Simulation(n=10000, swap_after=5000, variance = 0, bad = 2).visualize(window=50)"
   ]
  },
  {
   "cell_type": "markdown",
   "metadata": {},
   "source": [
    "# Interact"
   ]
  },
  {
   "cell_type": "code",
   "execution_count": 6,
   "metadata": {},
   "outputs": [
    {
     "data": {
      "application/vnd.jupyter.widget-view+json": {
       "model_id": "5422e3f798b9446ebf5975659b0171c0",
       "version_major": 2,
       "version_minor": 0
      },
      "text/plain": [
       "VBox(children=(HBox(children=(IntSlider(value=10000, description='n', max=20000, min=1000, step=1000), IntSlid…"
      ]
     },
     "metadata": {},
     "output_type": "display_data"
    },
    {
     "data": {
      "application/vnd.jupyter.widget-view+json": {
       "model_id": "3faeb5d55ad442dfbb91bb307869fd57",
       "version_major": 2,
       "version_minor": 0
      },
      "image/png": "[encoded data removed]",
      "text/plain": [
       "Canvas(toolbar=Toolbar(toolitems=[('Home', 'Reset original view', 'home', 'home'), ('Back', 'Back to previous …"
      ]
     },
     "metadata": {},
     "output_type": "display_data"
    }
   ],
   "source": [
    "from ipywidgets import *\n",
    "\n",
    "fig, ax = plt.subplots(2, 2, figsize=(12,7))\n",
    "\n",
    "widget = interactive(\n",
    "    generate_and_learn,\n",
    "    n=IntSlider(min=1000, max=20000, step=1000, value=10000),\n",
    "    swap_after=IntSlider(min=1000, max=20000, step=1000, value=5000),\n",
    "    variance=FloatSlider(min=0, max=2, step=0.1, value=0),\n",
    "    bad_log=IntSlider(min=0, max=10, step=1, value = 0),\n",
    "    window=IntSlider(min=1, max=1000, step=10, value = 1),\n",
    "    learning_rate=IntSlider(min=-20,max=10, step=1, value=-20),\n",
    "    coin=Checkbox(),\n",
    "    l1=IntSlider(min=-20,max=10, step=1, value=-20),\n",
    "    cb_type=['ips', 'mtr'],\n",
    "    interactions=['', '-q sa', '-q ab', '-q sb', '-q ::'],\n",
    "    ignore=['', '--ignore b'],\n",
    "    ignore_linear=['', '--ignore_linear sab'],\n",
    "    marginals=['', '--marginal a'],\n",
    "    ax=fixed(ax),\n",
    "    fig=fixed(fig))\n",
    "\n",
    "data_controls = HBox(widget.children[:4])\n",
    "visualization_controls = HBox(widget.children[4:5])\n",
    "learning_controls = HBox(widget.children[5:-5])\n",
    "extra = HBox(widget.children[-5:-1])\n",
    "output = widget.children[-1]\n",
    "display(VBox([data_controls, visualization_controls, learning_controls, extra, output]))"
   ]
  },
  {
   "cell_type": "code",
   "execution_count": 28,
   "metadata": {},
   "outputs": [
    {
     "data": {
      "application/vnd.jupyter.widget-view+json": {
       "model_id": "",
       "version_major": 2,
       "version_minor": 0
      },
      "text/plain": [
       "Total:   0%|          | 0/96 [00:00<?, ?it/s]"
      ]
     },
     "metadata": {},
     "output_type": "display_data"
    },
    {
     "data": {
      "application/vnd.jupyter.widget-view+json": {
       "model_id": "",
       "version_major": 2,
       "version_minor": 0
      },
      "text/plain": [
       " --cb_type ips --l1 1e-09 --learning_rate 1e-06:   0%|          | 0/1 [00:00<?, ?it/s]"
      ]
     },
     "metadata": {},
     "output_type": "display_data"
    },
    {
     "data": {
      "application/vnd.jupyter.widget-view+json": {
       "model_id": "",
       "version_major": 2,
       "version_minor": 0
      },
      "text/plain": [
       " --cb_type ips --l1 1e-09 --learning_rate 1e-05:   0%|          | 0/1 [00:00<?, ?it/s]"
      ]
     },
     "metadata": {},
     "output_type": "display_data"
    },
    {
     "data": {
      "application/vnd.jupyter.widget-view+json": {
       "model_id": "",
       "version_major": 2,
       "version_minor": 0
      },
      "text/plain": [
       " --cb_type mtr --l1 1e-06 --learning_rate 1e-06:   0%|          | 0/1 [00:00<?, ?it/s]"
      ]
     },
     "metadata": {},
     "output_type": "display_data"
    },
    {
     "data": {
      "application/vnd.jupyter.widget-view+json": {
       "model_id": "",
       "version_major": 2,
       "version_minor": 0
      },
      "text/plain": [
       " --cb_type mtr --l1 1e-06 --learning_rate 1e-05:   0%|          | 0/1 [00:00<?, ?it/s]"
      ]
     },
     "metadata": {},
     "output_type": "display_data"
    },
    {
     "data": {
      "application/vnd.jupyter.widget-view+json": {
       "model_id": "",
       "version_major": 2,
       "version_minor": 0
      },
      "text/plain": [
       "--marginal a --cb_type ips --l1 1e-09 --learning_rate 1e-06:   0%|          | 0/1 [00:00<?, ?it/s]"
      ]
     },
     "metadata": {},
     "output_type": "display_data"
    },
    {
     "data": {
      "application/vnd.jupyter.widget-view+json": {
       "model_id": "",
       "version_major": 2,
       "version_minor": 0
      },
      "text/plain": [
       "--marginal a --cb_type ips --l1 1e-09 --learning_rate 1e-05:   0%|          | 0/1 [00:00<?, ?it/s]"
      ]
     },
     "metadata": {},
     "output_type": "display_data"
    },
    {
     "data": {
      "application/vnd.jupyter.widget-view+json": {
       "model_id": "",
       "version_major": 2,
       "version_minor": 0
      },
      "text/plain": [
       "--marginal a --cb_type mtr --l1 1e-06 --learning_rate 1e-06:   0%|          | 0/1 [00:00<?, ?it/s]"
      ]
     },
     "metadata": {},
     "output_type": "display_data"
    },
    {
     "data": {
      "application/vnd.jupyter.widget-view+json": {
       "model_id": "",
       "version_major": 2,
       "version_minor": 0
      },
      "text/plain": [
       "--marginal a --cb_type mtr --l1 1e-06 --learning_rate 1e-05:   0%|          | 0/1 [00:00<?, ?it/s]"
      ]
     },
     "metadata": {},
     "output_type": "display_data"
    },
    {
     "data": {
      "application/vnd.jupyter.widget-view+json": {
       "model_id": "",
       "version_major": 2,
       "version_minor": 0
      },
      "text/plain": [
       " --cb_type ips --l1 0.001 --learning_rate 1e-06:   0%|          | 0/1 [00:00<?, ?it/s]"
      ]
     },
     "metadata": {},
     "output_type": "display_data"
    },
    {
     "data": {
      "application/vnd.jupyter.widget-view+json": {
       "model_id": "",
       "version_major": 2,
       "version_minor": 0
      },
      "text/plain": [
       " --cb_type mtr --l1 1e-09 --learning_rate 1e-05:   0%|          | 0/1 [00:00<?, ?it/s]"
      ]
     },
     "metadata": {},
     "output_type": "display_data"
    },
    {
     "data": {
      "application/vnd.jupyter.widget-view+json": {
       "model_id": "",
       "version_major": 2,
       "version_minor": 0
      },
      "text/plain": [
       " --cb_type mtr --l1 1e-09 --learning_rate 1e-06:   0%|          | 0/1 [00:00<?, ?it/s]"
      ]
     },
     "metadata": {},
     "output_type": "display_data"
    },
    {
     "data": {
      "application/vnd.jupyter.widget-view+json": {
       "model_id": "",
       "version_major": 2,
       "version_minor": 0
      },
      "text/plain": [
       " --cb_type ips --l1 0.001 --learning_rate 1e-05:   0%|          | 0/1 [00:00<?, ?it/s]"
      ]
     },
     "metadata": {},
     "output_type": "display_data"
    },
    {
     "data": {
      "application/vnd.jupyter.widget-view+json": {
       "model_id": "",
       "version_major": 2,
       "version_minor": 0
      },
      "text/plain": [
       "--marginal a --cb_type mtr --l1 1e-09 --learning_rate 1e-05:   0%|          | 0/1 [00:00<?, ?it/s]"
      ]
     },
     "metadata": {},
     "output_type": "display_data"
    },
    {
     "data": {
      "application/vnd.jupyter.widget-view+json": {
       "model_id": "",
       "version_major": 2,
       "version_minor": 0
      },
      "text/plain": [
       "--marginal a --cb_type ips --l1 0.001 --learning_rate 1e-05:   0%|          | 0/1 [00:00<?, ?it/s]"
      ]
     },
     "metadata": {},
     "output_type": "display_data"
    },
    {
     "data": {
      "application/vnd.jupyter.widget-view+json": {
       "model_id": "",
       "version_major": 2,
       "version_minor": 0
      },
      "text/plain": [
       "--marginal a --cb_type ips --l1 0.001 --learning_rate 1e-06:   0%|          | 0/1 [00:00<?, ?it/s]"
      ]
     },
     "metadata": {},
     "output_type": "display_data"
    },
    {
     "data": {
      "application/vnd.jupyter.widget-view+json": {
       "model_id": "",
       "version_major": 2,
       "version_minor": 0
      },
      "text/plain": [
       "--marginal a --cb_type mtr --l1 1e-09 --learning_rate 1e-06:   0%|          | 0/1 [00:00<?, ?it/s]"
      ]
     },
     "metadata": {},
     "output_type": "display_data"
    },
    {
     "data": {
      "application/vnd.jupyter.widget-view+json": {
       "model_id": "",
       "version_major": 2,
       "version_minor": 0
      },
      "text/plain": [
       " --cb_type mtr --l1 0.001 --learning_rate 1e-05:   0%|          | 0/1 [00:00<?, ?it/s]"
      ]
     },
     "metadata": {},
     "output_type": "display_data"
    },
    {
     "data": {
      "application/vnd.jupyter.widget-view+json": {
       "model_id": "",
       "version_major": 2,
       "version_minor": 0
      },
      "text/plain": [
       " --cb_type ips --l1 1e-06 --learning_rate 1e-06:   0%|          | 0/1 [00:00<?, ?it/s]"
      ]
     },
     "metadata": {},
     "output_type": "display_data"
    },
    {
     "data": {
      "application/vnd.jupyter.widget-view+json": {
       "model_id": "",
       "version_major": 2,
       "version_minor": 0
      },
      "text/plain": [
       " --cb_type mtr --l1 0.001 --learning_rate 1e-06:   0%|          | 0/1 [00:00<?, ?it/s]"
      ]
     },
     "metadata": {},
     "output_type": "display_data"
    },
    {
     "data": {
      "application/vnd.jupyter.widget-view+json": {
       "model_id": "",
       "version_major": 2,
       "version_minor": 0
      },
      "text/plain": [
       " --cb_type ips --l1 1e-06 --learning_rate 1e-05:   0%|          | 0/1 [00:00<?, ?it/s]"
      ]
     },
     "metadata": {},
     "output_type": "display_data"
    },
    {
     "data": {
      "application/vnd.jupyter.widget-view+json": {
       "model_id": "",
       "version_major": 2,
       "version_minor": 0
      },
      "text/plain": [
       "--marginal a --cb_type ips --l1 1e-06 --learning_rate 1e-05:   0%|          | 0/1 [00:00<?, ?it/s]"
      ]
     },
     "metadata": {},
     "output_type": "display_data"
    },
    {
     "data": {
      "application/vnd.jupyter.widget-view+json": {
       "model_id": "",
       "version_major": 2,
       "version_minor": 0
      },
      "text/plain": [
       "--marginal a --cb_type mtr --l1 0.001 --learning_rate 1e-05:   0%|          | 0/1 [00:00<?, ?it/s]"
      ]
     },
     "metadata": {},
     "output_type": "display_data"
    },
    {
     "data": {
      "application/vnd.jupyter.widget-view+json": {
       "model_id": "",
       "version_major": 2,
       "version_minor": 0
      },
      "text/plain": [
       "--marginal a --cb_type ips --l1 1e-06 --learning_rate 1e-06:   0%|          | 0/1 [00:00<?, ?it/s]"
      ]
     },
     "metadata": {},
     "output_type": "display_data"
    },
    {
     "data": {
      "application/vnd.jupyter.widget-view+json": {
       "model_id": "",
       "version_major": 2,
       "version_minor": 0
      },
      "text/plain": [
       "--marginal a --cb_type mtr --l1 0.001 --learning_rate 1e-06:   0%|          | 0/1 [00:00<?, ?it/s]"
      ]
     },
     "metadata": {},
     "output_type": "display_data"
    },
    {
     "data": {
      "application/vnd.jupyter.widget-view+json": {
       "model_id": "",
       "version_major": 2,
       "version_minor": 0
      },
      "text/plain": [
       " --cb_type mtr --l1 1e-06 --learning_rate 0.001:   0%|          | 0/1 [00:00<?, ?it/s]"
      ]
     },
     "metadata": {},
     "output_type": "display_data"
    },
    {
     "data": {
      "application/vnd.jupyter.widget-view+json": {
       "model_id": "",
       "version_major": 2,
       "version_minor": 0
      },
      "text/plain": [
       " --cb_type mtr --l1 1e-06 --learning_rate 0.0001:   0%|          | 0/1 [00:00<?, ?it/s]"
      ]
     },
     "metadata": {},
     "output_type": "display_data"
    },
    {
     "data": {
      "application/vnd.jupyter.widget-view+json": {
       "model_id": "",
       "version_major": 2,
       "version_minor": 0
      },
      "text/plain": [
       " --cb_type ips --l1 1e-09 --learning_rate 0.001:   0%|          | 0/1 [00:00<?, ?it/s]"
      ]
     },
     "metadata": {},
     "output_type": "display_data"
    },
    {
     "data": {
      "application/vnd.jupyter.widget-view+json": {
       "model_id": "",
       "version_major": 2,
       "version_minor": 0
      },
      "text/plain": [
       " --cb_type ips --l1 1e-09 --learning_rate 0.0001:   0%|          | 0/1 [00:00<?, ?it/s]"
      ]
     },
     "metadata": {},
     "output_type": "display_data"
    },
    {
     "data": {
      "application/vnd.jupyter.widget-view+json": {
       "model_id": "",
       "version_major": 2,
       "version_minor": 0
      },
      "text/plain": [
       "--marginal a --cb_type ips --l1 1e-09 --learning_rate 0.0001:   0%|          | 0/1 [00:00<?, ?it/s]"
      ]
     },
     "metadata": {},
     "output_type": "display_data"
    },
    {
     "data": {
      "application/vnd.jupyter.widget-view+json": {
       "model_id": "",
       "version_major": 2,
       "version_minor": 0
      },
      "text/plain": [
       "--marginal a --cb_type ips --l1 1e-09 --learning_rate 0.001:   0%|          | 0/1 [00:00<?, ?it/s]"
      ]
     },
     "metadata": {},
     "output_type": "display_data"
    },
    {
     "data": {
      "application/vnd.jupyter.widget-view+json": {
       "model_id": "",
       "version_major": 2,
       "version_minor": 0
      },
      "text/plain": [
       "--marginal a --cb_type mtr --l1 1e-06 --learning_rate 0.0001:   0%|          | 0/1 [00:00<?, ?it/s]"
      ]
     },
     "metadata": {},
     "output_type": "display_data"
    },
    {
     "data": {
      "application/vnd.jupyter.widget-view+json": {
       "model_id": "",
       "version_major": 2,
       "version_minor": 0
      },
      "text/plain": [
       "--marginal a --cb_type mtr --l1 1e-06 --learning_rate 0.001:   0%|          | 0/1 [00:00<?, ?it/s]"
      ]
     },
     "metadata": {},
     "output_type": "display_data"
    },
    {
     "data": {
      "application/vnd.jupyter.widget-view+json": {
       "model_id": "",
       "version_major": 2,
       "version_minor": 0
      },
      "text/plain": [
       " --cb_type ips --l1 0.001 --learning_rate 0.0001:   0%|          | 0/1 [00:00<?, ?it/s]"
      ]
     },
     "metadata": {},
     "output_type": "display_data"
    },
    {
     "data": {
      "application/vnd.jupyter.widget-view+json": {
       "model_id": "",
       "version_major": 2,
       "version_minor": 0
      },
      "text/plain": [
       " --cb_type mtr --l1 1e-09 --learning_rate 0.001:   0%|          | 0/1 [00:00<?, ?it/s]"
      ]
     },
     "metadata": {},
     "output_type": "display_data"
    },
    {
     "data": {
      "application/vnd.jupyter.widget-view+json": {
       "model_id": "",
       "version_major": 2,
       "version_minor": 0
      },
      "text/plain": [
       " --cb_type mtr --l1 1e-09 --learning_rate 0.0001:   0%|          | 0/1 [00:00<?, ?it/s]"
      ]
     },
     "metadata": {},
     "output_type": "display_data"
    },
    {
     "data": {
      "application/vnd.jupyter.widget-view+json": {
       "model_id": "",
       "version_major": 2,
       "version_minor": 0
      },
      "text/plain": [
       " --cb_type ips --l1 0.001 --learning_rate 0.001:   0%|          | 0/1 [00:00<?, ?it/s]"
      ]
     },
     "metadata": {},
     "output_type": "display_data"
    },
    {
     "data": {
      "application/vnd.jupyter.widget-view+json": {
       "model_id": "",
       "version_major": 2,
       "version_minor": 0
      },
      "text/plain": [
       "--marginal a --cb_type mtr --l1 1e-09 --learning_rate 0.001:   0%|          | 0/1 [00:00<?, ?it/s]"
      ]
     },
     "metadata": {},
     "output_type": "display_data"
    },
    {
     "data": {
      "application/vnd.jupyter.widget-view+json": {
       "model_id": "",
       "version_major": 2,
       "version_minor": 0
      },
      "text/plain": [
       "--marginal a --cb_type ips --l1 0.001 --learning_rate 0.001:   0%|          | 0/1 [00:00<?, ?it/s]"
      ]
     },
     "metadata": {},
     "output_type": "display_data"
    },
    {
     "data": {
      "application/vnd.jupyter.widget-view+json": {
       "model_id": "",
       "version_major": 2,
       "version_minor": 0
      },
      "text/plain": [
       "--marginal a --cb_type mtr --l1 1e-09 --learning_rate 0.0001:   0%|          | 0/1 [00:00<?, ?it/s]"
      ]
     },
     "metadata": {},
     "output_type": "display_data"
    },
    {
     "data": {
      "application/vnd.jupyter.widget-view+json": {
       "model_id": "",
       "version_major": 2,
       "version_minor": 0
      },
      "text/plain": [
       "--marginal a --cb_type ips --l1 0.001 --learning_rate 0.0001:   0%|          | 0/1 [00:00<?, ?it/s]"
      ]
     },
     "metadata": {},
     "output_type": "display_data"
    },
    {
     "data": {
      "application/vnd.jupyter.widget-view+json": {
       "model_id": "",
       "version_major": 2,
       "version_minor": 0
      },
      "text/plain": [
       " --cb_type mtr --l1 0.001 --learning_rate 0.001:   0%|          | 0/1 [00:00<?, ?it/s]"
      ]
     },
     "metadata": {},
     "output_type": "display_data"
    },
    {
     "data": {
      "application/vnd.jupyter.widget-view+json": {
       "model_id": "",
       "version_major": 2,
       "version_minor": 0
      },
      "text/plain": [
       " --cb_type mtr --l1 0.001 --learning_rate 0.0001:   0%|          | 0/1 [00:00<?, ?it/s]"
      ]
     },
     "metadata": {},
     "output_type": "display_data"
    },
    {
     "data": {
      "application/vnd.jupyter.widget-view+json": {
       "model_id": "",
       "version_major": 2,
       "version_minor": 0
      },
      "text/plain": [
       " --cb_type ips --l1 1e-06 --learning_rate 0.0001:   0%|          | 0/1 [00:00<?, ?it/s]"
      ]
     },
     "metadata": {},
     "output_type": "display_data"
    },
    {
     "data": {
      "application/vnd.jupyter.widget-view+json": {
       "model_id": "",
       "version_major": 2,
       "version_minor": 0
      },
      "text/plain": [
       " --cb_type ips --l1 1e-06 --learning_rate 0.001:   0%|          | 0/1 [00:00<?, ?it/s]"
      ]
     },
     "metadata": {},
     "output_type": "display_data"
    },
    {
     "data": {
      "application/vnd.jupyter.widget-view+json": {
       "model_id": "",
       "version_major": 2,
       "version_minor": 0
      },
      "text/plain": [
       "--marginal a --cb_type mtr --l1 0.001 --learning_rate 0.001:   0%|          | 0/1 [00:00<?, ?it/s]"
      ]
     },
     "metadata": {},
     "output_type": "display_data"
    },
    {
     "data": {
      "application/vnd.jupyter.widget-view+json": {
       "model_id": "",
       "version_major": 2,
       "version_minor": 0
      },
      "text/plain": [
       "--marginal a --cb_type mtr --l1 0.001 --learning_rate 0.0001:   0%|          | 0/1 [00:00<?, ?it/s]"
      ]
     },
     "metadata": {},
     "output_type": "display_data"
    },
    {
     "data": {
      "application/vnd.jupyter.widget-view+json": {
       "model_id": "",
       "version_major": 2,
       "version_minor": 0
      },
      "text/plain": [
       "--marginal a --cb_type ips --l1 1e-06 --learning_rate 0.0001:   0%|          | 0/1 [00:00<?, ?it/s]"
      ]
     },
     "metadata": {},
     "output_type": "display_data"
    },
    {
     "data": {
      "application/vnd.jupyter.widget-view+json": {
       "model_id": "",
       "version_major": 2,
       "version_minor": 0
      },
      "text/plain": [
       "--marginal a --cb_type ips --l1 1e-06 --learning_rate 0.001:   0%|          | 0/1 [00:00<?, ?it/s]"
      ]
     },
     "metadata": {},
     "output_type": "display_data"
    },
    {
     "data": {
      "application/vnd.jupyter.widget-view+json": {
       "model_id": "",
       "version_major": 2,
       "version_minor": 0
      },
      "text/plain": [
       " --cb_type mtr --l1 1e-06 --learning_rate 0.01:   0%|          | 0/1 [00:00<?, ?it/s]"
      ]
     },
     "metadata": {},
     "output_type": "display_data"
    },
    {
     "data": {
      "application/vnd.jupyter.widget-view+json": {
       "model_id": "",
       "version_major": 2,
       "version_minor": 0
      },
      "text/plain": [
       " --cb_type ips --l1 1e-09 --learning_rate 0.01:   0%|          | 0/1 [00:00<?, ?it/s]"
      ]
     },
     "metadata": {},
     "output_type": "display_data"
    },
    {
     "data": {
      "application/vnd.jupyter.widget-view+json": {
       "model_id": "",
       "version_major": 2,
       "version_minor": 0
      },
      "text/plain": [
       " --cb_type ips --l1 1e-09 --learning_rate 0.1:   0%|          | 0/1 [00:00<?, ?it/s]"
      ]
     },
     "metadata": {},
     "output_type": "display_data"
    },
    {
     "data": {
      "application/vnd.jupyter.widget-view+json": {
       "model_id": "",
       "version_major": 2,
       "version_minor": 0
      },
      "text/plain": [
       " --cb_type mtr --l1 1e-06 --learning_rate 0.1:   0%|          | 0/1 [00:00<?, ?it/s]"
      ]
     },
     "metadata": {},
     "output_type": "display_data"
    },
    {
     "data": {
      "application/vnd.jupyter.widget-view+json": {
       "model_id": "",
       "version_major": 2,
       "version_minor": 0
      },
      "text/plain": [
       "--marginal a --cb_type ips --l1 1e-09 --learning_rate 0.1:   0%|          | 0/1 [00:00<?, ?it/s]"
      ]
     },
     "metadata": {},
     "output_type": "display_data"
    },
    {
     "data": {
      "application/vnd.jupyter.widget-view+json": {
       "model_id": "",
       "version_major": 2,
       "version_minor": 0
      },
      "text/plain": [
       "--marginal a --cb_type ips --l1 1e-09 --learning_rate 0.01:   0%|          | 0/1 [00:00<?, ?it/s]"
      ]
     },
     "metadata": {},
     "output_type": "display_data"
    },
    {
     "data": {
      "application/vnd.jupyter.widget-view+json": {
       "model_id": "",
       "version_major": 2,
       "version_minor": 0
      },
      "text/plain": [
       "--marginal a --cb_type mtr --l1 1e-06 --learning_rate 0.01:   0%|          | 0/1 [00:00<?, ?it/s]"
      ]
     },
     "metadata": {},
     "output_type": "display_data"
    },
    {
     "data": {
      "application/vnd.jupyter.widget-view+json": {
       "model_id": "",
       "version_major": 2,
       "version_minor": 0
      },
      "text/plain": [
       "--marginal a --cb_type mtr --l1 1e-06 --learning_rate 0.1:   0%|          | 0/1 [00:00<?, ?it/s]"
      ]
     },
     "metadata": {},
     "output_type": "display_data"
    },
    {
     "data": {
      "application/vnd.jupyter.widget-view+json": {
       "model_id": "",
       "version_major": 2,
       "version_minor": 0
      },
      "text/plain": [
       " --cb_type ips --l1 0.001 --learning_rate 0.01:   0%|          | 0/1 [00:00<?, ?it/s]"
      ]
     },
     "metadata": {},
     "output_type": "display_data"
    },
    {
     "data": {
      "application/vnd.jupyter.widget-view+json": {
       "model_id": "",
       "version_major": 2,
       "version_minor": 0
      },
      "text/plain": [
       " --cb_type mtr --l1 1e-09 --learning_rate 0.01:   0%|          | 0/1 [00:00<?, ?it/s]"
      ]
     },
     "metadata": {},
     "output_type": "display_data"
    },
    {
     "data": {
      "application/vnd.jupyter.widget-view+json": {
       "model_id": "",
       "version_major": 2,
       "version_minor": 0
      },
      "text/plain": [
       " --cb_type mtr --l1 1e-09 --learning_rate 0.1:   0%|          | 0/1 [00:00<?, ?it/s]"
      ]
     },
     "metadata": {},
     "output_type": "display_data"
    },
    {
     "data": {
      "application/vnd.jupyter.widget-view+json": {
       "model_id": "",
       "version_major": 2,
       "version_minor": 0
      },
      "text/plain": [
       " --cb_type ips --l1 0.001 --learning_rate 0.1:   0%|          | 0/1 [00:00<?, ?it/s]"
      ]
     },
     "metadata": {},
     "output_type": "display_data"
    },
    {
     "data": {
      "application/vnd.jupyter.widget-view+json": {
       "model_id": "",
       "version_major": 2,
       "version_minor": 0
      },
      "text/plain": [
       "--marginal a --cb_type ips --l1 0.001 --learning_rate 0.01:   0%|          | 0/1 [00:00<?, ?it/s]"
      ]
     },
     "metadata": {},
     "output_type": "display_data"
    },
    {
     "data": {
      "application/vnd.jupyter.widget-view+json": {
       "model_id": "",
       "version_major": 2,
       "version_minor": 0
      },
      "text/plain": [
       "--marginal a --cb_type mtr --l1 1e-09 --learning_rate 0.01:   0%|          | 0/1 [00:00<?, ?it/s]"
      ]
     },
     "metadata": {},
     "output_type": "display_data"
    },
    {
     "data": {
      "application/vnd.jupyter.widget-view+json": {
       "model_id": "",
       "version_major": 2,
       "version_minor": 0
      },
      "text/plain": [
       "--marginal a --cb_type ips --l1 0.001 --learning_rate 0.1:   0%|          | 0/1 [00:00<?, ?it/s]"
      ]
     },
     "metadata": {},
     "output_type": "display_data"
    },
    {
     "data": {
      "application/vnd.jupyter.widget-view+json": {
       "model_id": "",
       "version_major": 2,
       "version_minor": 0
      },
      "text/plain": [
       "--marginal a --cb_type mtr --l1 1e-09 --learning_rate 0.1:   0%|          | 0/1 [00:00<?, ?it/s]"
      ]
     },
     "metadata": {},
     "output_type": "display_data"
    },
    {
     "data": {
      "application/vnd.jupyter.widget-view+json": {
       "model_id": "",
       "version_major": 2,
       "version_minor": 0
      },
      "text/plain": [
       " --cb_type ips --l1 1e-06 --learning_rate 0.01:   0%|          | 0/1 [00:00<?, ?it/s]"
      ]
     },
     "metadata": {},
     "output_type": "display_data"
    },
    {
     "data": {
      "application/vnd.jupyter.widget-view+json": {
       "model_id": "",
       "version_major": 2,
       "version_minor": 0
      },
      "text/plain": [
       " --cb_type mtr --l1 0.001 --learning_rate 0.1:   0%|          | 0/1 [00:00<?, ?it/s]"
      ]
     },
     "metadata": {},
     "output_type": "display_data"
    },
    {
     "data": {
      "application/vnd.jupyter.widget-view+json": {
       "model_id": "",
       "version_major": 2,
       "version_minor": 0
      },
      "text/plain": [
       " --cb_type ips --l1 1e-06 --learning_rate 0.1:   0%|          | 0/1 [00:00<?, ?it/s]"
      ]
     },
     "metadata": {},
     "output_type": "display_data"
    },
    {
     "data": {
      "application/vnd.jupyter.widget-view+json": {
       "model_id": "",
       "version_major": 2,
       "version_minor": 0
      },
      "text/plain": [
       " --cb_type mtr --l1 0.001 --learning_rate 0.01:   0%|          | 0/1 [00:00<?, ?it/s]"
      ]
     },
     "metadata": {},
     "output_type": "display_data"
    },
    {
     "data": {
      "application/vnd.jupyter.widget-view+json": {
       "model_id": "",
       "version_major": 2,
       "version_minor": 0
      },
      "text/plain": [
       "--marginal a --cb_type ips --l1 1e-06 --learning_rate 0.1:   0%|          | 0/1 [00:00<?, ?it/s]"
      ]
     },
     "metadata": {},
     "output_type": "display_data"
    },
    {
     "data": {
      "application/vnd.jupyter.widget-view+json": {
       "model_id": "",
       "version_major": 2,
       "version_minor": 0
      },
      "text/plain": [
       "--marginal a --cb_type ips --l1 1e-06 --learning_rate 0.01:   0%|          | 0/1 [00:00<?, ?it/s]"
      ]
     },
     "metadata": {},
     "output_type": "display_data"
    },
    {
     "data": {
      "application/vnd.jupyter.widget-view+json": {
       "model_id": "",
       "version_major": 2,
       "version_minor": 0
      },
      "text/plain": [
       "--marginal a --cb_type mtr --l1 0.001 --learning_rate 0.1:   0%|          | 0/1 [00:00<?, ?it/s]"
      ]
     },
     "metadata": {},
     "output_type": "display_data"
    },
    {
     "data": {
      "application/vnd.jupyter.widget-view+json": {
       "model_id": "",
       "version_major": 2,
       "version_minor": 0
      },
      "text/plain": [
       "--marginal a --cb_type mtr --l1 0.001 --learning_rate 0.01:   0%|          | 0/1 [00:00<?, ?it/s]"
      ]
     },
     "metadata": {},
     "output_type": "display_data"
    },
    {
     "data": {
      "application/vnd.jupyter.widget-view+json": {
       "model_id": "",
       "version_major": 2,
       "version_minor": 0
      },
      "text/plain": [
       " --cb_type ips --l1 1e-09 --learning_rate 10.0:   0%|          | 0/1 [00:00<?, ?it/s]"
      ]
     },
     "metadata": {},
     "output_type": "display_data"
    },
    {
     "data": {
      "application/vnd.jupyter.widget-view+json": {
       "model_id": "",
       "version_major": 2,
       "version_minor": 0
      },
      "text/plain": [
       " --cb_type mtr --l1 1e-06 --learning_rate 10.0:   0%|          | 0/1 [00:00<?, ?it/s]"
      ]
     },
     "metadata": {},
     "output_type": "display_data"
    },
    {
     "data": {
      "application/vnd.jupyter.widget-view+json": {
       "model_id": "",
       "version_major": 2,
       "version_minor": 0
      },
      "text/plain": [
       " --cb_type ips --l1 1e-09 --learning_rate 1.0:   0%|          | 0/1 [00:00<?, ?it/s]"
      ]
     },
     "metadata": {},
     "output_type": "display_data"
    },
    {
     "data": {
      "application/vnd.jupyter.widget-view+json": {
       "model_id": "",
       "version_major": 2,
       "version_minor": 0
      },
      "text/plain": [
       " --cb_type mtr --l1 1e-06 --learning_rate 1.0:   0%|          | 0/1 [00:00<?, ?it/s]"
      ]
     },
     "metadata": {},
     "output_type": "display_data"
    },
    {
     "data": {
      "application/vnd.jupyter.widget-view+json": {
       "model_id": "",
       "version_major": 2,
       "version_minor": 0
      },
      "text/plain": [
       "--marginal a --cb_type ips --l1 1e-09 --learning_rate 10.0:   0%|          | 0/1 [00:00<?, ?it/s]"
      ]
     },
     "metadata": {},
     "output_type": "display_data"
    },
    {
     "data": {
      "application/vnd.jupyter.widget-view+json": {
       "model_id": "",
       "version_major": 2,
       "version_minor": 0
      },
      "text/plain": [
       "--marginal a --cb_type ips --l1 1e-09 --learning_rate 1.0:   0%|          | 0/1 [00:00<?, ?it/s]"
      ]
     },
     "metadata": {},
     "output_type": "display_data"
    },
    {
     "data": {
      "application/vnd.jupyter.widget-view+json": {
       "model_id": "",
       "version_major": 2,
       "version_minor": 0
      },
      "text/plain": [
       "--marginal a --cb_type mtr --l1 1e-06 --learning_rate 1.0:   0%|          | 0/1 [00:00<?, ?it/s]"
      ]
     },
     "metadata": {},
     "output_type": "display_data"
    },
    {
     "data": {
      "application/vnd.jupyter.widget-view+json": {
       "model_id": "",
       "version_major": 2,
       "version_minor": 0
      },
      "text/plain": [
       "--marginal a --cb_type mtr --l1 1e-06 --learning_rate 10.0:   0%|          | 0/1 [00:00<?, ?it/s]"
      ]
     },
     "metadata": {},
     "output_type": "display_data"
    },
    {
     "data": {
      "application/vnd.jupyter.widget-view+json": {
       "model_id": "",
       "version_major": 2,
       "version_minor": 0
      },
      "text/plain": [
       " --cb_type ips --l1 0.001 --learning_rate 1.0:   0%|          | 0/1 [00:00<?, ?it/s]"
      ]
     },
     "metadata": {},
     "output_type": "display_data"
    },
    {
     "data": {
      "application/vnd.jupyter.widget-view+json": {
       "model_id": "",
       "version_major": 2,
       "version_minor": 0
      },
      "text/plain": [
       " --cb_type mtr --l1 1e-09 --learning_rate 10.0:   0%|          | 0/1 [00:00<?, ?it/s]"
      ]
     },
     "metadata": {},
     "output_type": "display_data"
    },
    {
     "data": {
      "application/vnd.jupyter.widget-view+json": {
       "model_id": "",
       "version_major": 2,
       "version_minor": 0
      },
      "text/plain": [
       " --cb_type mtr --l1 1e-09 --learning_rate 1.0:   0%|          | 0/1 [00:00<?, ?it/s]"
      ]
     },
     "metadata": {},
     "output_type": "display_data"
    },
    {
     "data": {
      "application/vnd.jupyter.widget-view+json": {
       "model_id": "",
       "version_major": 2,
       "version_minor": 0
      },
      "text/plain": [
       " --cb_type ips --l1 0.001 --learning_rate 10.0:   0%|          | 0/1 [00:00<?, ?it/s]"
      ]
     },
     "metadata": {},
     "output_type": "display_data"
    },
    {
     "data": {
      "application/vnd.jupyter.widget-view+json": {
       "model_id": "",
       "version_major": 2,
       "version_minor": 0
      },
      "text/plain": [
       "--marginal a --cb_type mtr --l1 1e-09 --learning_rate 10.0:   0%|          | 0/1 [00:00<?, ?it/s]"
      ]
     },
     "metadata": {},
     "output_type": "display_data"
    },
    {
     "data": {
      "application/vnd.jupyter.widget-view+json": {
       "model_id": "",
       "version_major": 2,
       "version_minor": 0
      },
      "text/plain": [
       "--marginal a --cb_type ips --l1 0.001 --learning_rate 1.0:   0%|          | 0/1 [00:00<?, ?it/s]"
      ]
     },
     "metadata": {},
     "output_type": "display_data"
    },
    {
     "data": {
      "application/vnd.jupyter.widget-view+json": {
       "model_id": "",
       "version_major": 2,
       "version_minor": 0
      },
      "text/plain": [
       "--marginal a --cb_type ips --l1 0.001 --learning_rate 10.0:   0%|          | 0/1 [00:00<?, ?it/s]"
      ]
     },
     "metadata": {},
     "output_type": "display_data"
    },
    {
     "data": {
      "application/vnd.jupyter.widget-view+json": {
       "model_id": "",
       "version_major": 2,
       "version_minor": 0
      },
      "text/plain": [
       "--marginal a --cb_type mtr --l1 1e-09 --learning_rate 1.0:   0%|          | 0/1 [00:00<?, ?it/s]"
      ]
     },
     "metadata": {},
     "output_type": "display_data"
    },
    {
     "data": {
      "application/vnd.jupyter.widget-view+json": {
       "model_id": "",
       "version_major": 2,
       "version_minor": 0
      },
      "text/plain": [
       " --cb_type ips --l1 1e-06 --learning_rate 10.0:   0%|          | 0/1 [00:00<?, ?it/s]"
      ]
     },
     "metadata": {},
     "output_type": "display_data"
    },
    {
     "data": {
      "application/vnd.jupyter.widget-view+json": {
       "model_id": "",
       "version_major": 2,
       "version_minor": 0
      },
      "text/plain": [
       " --cb_type mtr --l1 0.001 --learning_rate 10.0:   0%|          | 0/1 [00:00<?, ?it/s]"
      ]
     },
     "metadata": {},
     "output_type": "display_data"
    },
    {
     "data": {
      "application/vnd.jupyter.widget-view+json": {
       "model_id": "",
       "version_major": 2,
       "version_minor": 0
      },
      "text/plain": [
       " --cb_type mtr --l1 0.001 --learning_rate 1.0:   0%|          | 0/1 [00:00<?, ?it/s]"
      ]
     },
     "metadata": {},
     "output_type": "display_data"
    },
    {
     "data": {
      "application/vnd.jupyter.widget-view+json": {
       "model_id": "",
       "version_major": 2,
       "version_minor": 0
      },
      "text/plain": [
       " --cb_type ips --l1 1e-06 --learning_rate 1.0:   0%|          | 0/1 [00:00<?, ?it/s]"
      ]
     },
     "metadata": {},
     "output_type": "display_data"
    },
    {
     "data": {
      "application/vnd.jupyter.widget-view+json": {
       "model_id": "",
       "version_major": 2,
       "version_minor": 0
      },
      "text/plain": [
       "--marginal a --cb_type mtr --l1 0.001 --learning_rate 1.0:   0%|          | 0/1 [00:00<?, ?it/s]"
      ]
     },
     "metadata": {},
     "output_type": "display_data"
    },
    {
     "data": {
      "application/vnd.jupyter.widget-view+json": {
       "model_id": "",
       "version_major": 2,
       "version_minor": 0
      },
      "text/plain": [
       "--marginal a --cb_type ips --l1 1e-06 --learning_rate 1.0:   0%|          | 0/1 [00:00<?, ?it/s]"
      ]
     },
     "metadata": {},
     "output_type": "display_data"
    },
    {
     "data": {
      "application/vnd.jupyter.widget-view+json": {
       "model_id": "",
       "version_major": 2,
       "version_minor": 0
      },
      "text/plain": [
       "--marginal a --cb_type ips --l1 1e-06 --learning_rate 10.0:   0%|          | 0/1 [00:00<?, ?it/s]"
      ]
     },
     "metadata": {},
     "output_type": "display_data"
    },
    {
     "data": {
      "application/vnd.jupyter.widget-view+json": {
       "model_id": "",
       "version_major": 2,
       "version_minor": 0
      },
      "text/plain": [
       "--marginal a --cb_type mtr --l1 0.001 --learning_rate 10.0:   0%|          | 0/1 [00:00<?, ?it/s]"
      ]
     },
     "metadata": {},
     "output_type": "display_data"
    },
    {
     "data": {
      "application/vnd.jupyter.widget-view+json": {
       "model_id": "",
       "version_major": 2,
       "version_minor": 0
      },
      "text/plain": [
       "Total:   0%|          | 0/512 [00:00<?, ?it/s]"
      ]
     },
     "metadata": {},
     "output_type": "display_data"
    },
    {
     "data": {
      "application/vnd.jupyter.widget-view+json": {
       "model_id": "",
       "version_major": 2,
       "version_minor": 0
      },
      "text/plain": [
       "-q ss aa ab --marginal a --cb_type mtr --l1 1e-06 --learning_rate 0.1:   0%|          | 0/1 [00:00<?, ?it/s]"
      ]
     },
     "metadata": {},
     "output_type": "display_data"
    },
    {
     "data": {
      "application/vnd.jupyter.widget-view+json": {
       "model_id": "",
       "version_major": 2,
       "version_minor": 0
      },
      "text/plain": [
       "-q as ab --marginal a --cb_type mtr --l1 1e-06 --learning_rate 0.1:   0%|          | 0/1 [00:00<?, ?it/s]"
      ]
     },
     "metadata": {},
     "output_type": "display_data"
    },
    {
     "data": {
      "application/vnd.jupyter.widget-view+json": {
       "model_id": "",
       "version_major": 2,
       "version_minor": 0
      },
      "text/plain": [
       "-q sb as ab --marginal a --cb_type mtr --l1 1e-06 --learning_rate 0.1:   0%|          | 0/1 [00:00<?, ?it/s]"
      ]
     },
     "metadata": {},
     "output_type": "display_data"
    },
    {
     "data": {
      "application/vnd.jupyter.widget-view+json": {
       "model_id": "",
       "version_major": 2,
       "version_minor": 0
      },
      "text/plain": [
       "-q  --marginal a --cb_type mtr --l1 1e-06 --learning_rate 0.1:   0%|          | 0/1 [00:00<?, ?it/s]"
      ]
     },
     "metadata": {},
     "output_type": "display_data"
    },
    {
     "data": {
      "application/vnd.jupyter.widget-view+json": {
       "model_id": "",
       "version_major": 2,
       "version_minor": 0
      },
      "text/plain": [
       "-q ss --marginal a --cb_type mtr --l1 1e-06 --learning_rate 0.1:   0%|          | 0/1 [00:00<?, ?it/s]"
      ]
     },
     "metadata": {},
     "output_type": "display_data"
    },
    {
     "data": {
      "application/vnd.jupyter.widget-view+json": {
       "model_id": "",
       "version_major": 2,
       "version_minor": 0
      },
      "text/plain": [
       "-q ss aa bs --marginal a --cb_type mtr --l1 1e-06 --learning_rate 0.1:   0%|          | 0/1 [00:00<?, ?it/s]"
      ]
     },
     "metadata": {},
     "output_type": "display_data"
    },
    {
     "data": {
      "application/vnd.jupyter.widget-view+json": {
       "model_id": "",
       "version_major": 2,
       "version_minor": 0
      },
      "text/plain": [
       "-q sb as bs --marginal a --cb_type mtr --l1 1e-06 --learning_rate 0.1:   0%|          | 0/1 [00:00<?, ?it/s]"
      ]
     },
     "metadata": {},
     "output_type": "display_data"
    },
    {
     "data": {
      "application/vnd.jupyter.widget-view+json": {
       "model_id": "",
       "version_major": 2,
       "version_minor": 0
      },
      "text/plain": [
       "-q as bs --marginal a --cb_type mtr --l1 1e-06 --learning_rate 0.1:   0%|          | 0/1 [00:00<?, ?it/s]"
      ]
     },
     "metadata": {},
     "output_type": "display_data"
    },
    {
     "data": {
      "application/vnd.jupyter.widget-view+json": {
       "model_id": "",
       "version_major": 2,
       "version_minor": 0
      },
      "text/plain": [
       "-q sa --marginal a --cb_type mtr --l1 1e-06 --learning_rate 0.1:   0%|          | 0/1 [00:00<?, ?it/s]"
      ]
     },
     "metadata": {},
     "output_type": "display_data"
    },
    {
     "data": {
      "application/vnd.jupyter.widget-view+json": {
       "model_id": "",
       "version_major": 2,
       "version_minor": 0
      },
      "text/plain": [
       "-q sb as ba --marginal a --cb_type mtr --l1 1e-06 --learning_rate 0.1:   0%|          | 0/1 [00:00<?, ?it/s]"
      ]
     },
     "metadata": {},
     "output_type": "display_data"
    },
    {
     "data": {
      "application/vnd.jupyter.widget-view+json": {
       "model_id": "",
       "version_major": 2,
       "version_minor": 0
      },
      "text/plain": [
       "-q ss aa ba --marginal a --cb_type mtr --l1 1e-06 --learning_rate 0.1:   0%|          | 0/1 [00:00<?, ?it/s]"
      ]
     },
     "metadata": {},
     "output_type": "display_data"
    },
    {
     "data": {
      "application/vnd.jupyter.widget-view+json": {
       "model_id": "",
       "version_major": 2,
       "version_minor": 0
      },
      "text/plain": [
       "-q as ba --marginal a --cb_type mtr --l1 1e-06 --learning_rate 0.1:   0%|          | 0/1 [00:00<?, ?it/s]"
      ]
     },
     "metadata": {},
     "output_type": "display_data"
    },
    {
     "data": {
      "application/vnd.jupyter.widget-view+json": {
       "model_id": "",
       "version_major": 2,
       "version_minor": 0
      },
      "text/plain": [
       "-q sb --marginal a --cb_type mtr --l1 1e-06 --learning_rate 0.1:   0%|          | 0/1 [00:00<?, ?it/s]"
      ]
     },
     "metadata": {},
     "output_type": "display_data"
    },
    {
     "data": {
      "application/vnd.jupyter.widget-view+json": {
       "model_id": "",
       "version_major": 2,
       "version_minor": 0
      },
      "text/plain": [
       "-q as bb --marginal a --cb_type mtr --l1 1e-06 --learning_rate 0.1:   0%|          | 0/1 [00:00<?, ?it/s]"
      ]
     },
     "metadata": {},
     "output_type": "display_data"
    },
    {
     "data": {
      "application/vnd.jupyter.widget-view+json": {
       "model_id": "",
       "version_major": 2,
       "version_minor": 0
      },
      "text/plain": [
       "-q sb as bb --marginal a --cb_type mtr --l1 1e-06 --learning_rate 0.1:   0%|          | 0/1 [00:00<?, ?it/s]"
      ]
     },
     "metadata": {},
     "output_type": "display_data"
    },
    {
     "data": {
      "application/vnd.jupyter.widget-view+json": {
       "model_id": "",
       "version_major": 2,
       "version_minor": 0
      },
      "text/plain": [
       "-q ss aa bb --marginal a --cb_type mtr --l1 1e-06 --learning_rate 0.1:   0%|          | 0/1 [00:00<?, ?it/s]"
      ]
     },
     "metadata": {},
     "output_type": "display_data"
    },
    {
     "data": {
      "application/vnd.jupyter.widget-view+json": {
       "model_id": "",
       "version_major": 2,
       "version_minor": 0
      },
      "text/plain": [
       "-q as --marginal a --cb_type mtr --l1 1e-06 --learning_rate 0.1:   0%|          | 0/1 [00:00<?, ?it/s]"
      ]
     },
     "metadata": {},
     "output_type": "display_data"
    },
    {
     "data": {
      "application/vnd.jupyter.widget-view+json": {
       "model_id": "",
       "version_major": 2,
       "version_minor": 0
      },
      "text/plain": [
       "-q aa ab --marginal a --cb_type mtr --l1 1e-06 --learning_rate 0.1:   0%|          | 0/1 [00:00<?, ?it/s]"
      ]
     },
     "metadata": {},
     "output_type": "display_data"
    },
    {
     "data": {
      "application/vnd.jupyter.widget-view+json": {
       "model_id": "",
       "version_major": 2,
       "version_minor": 0
      },
      "text/plain": [
       "-q sb aa ab --marginal a --cb_type mtr --l1 1e-06 --learning_rate 0.1:   0%|          | 0/1 [00:00<?, ?it/s]"
      ]
     },
     "metadata": {},
     "output_type": "display_data"
    },
    {
     "data": {
      "application/vnd.jupyter.widget-view+json": {
       "model_id": "",
       "version_major": 2,
       "version_minor": 0
      },
      "text/plain": [
       "-q ss ab bs --marginal a --cb_type mtr --l1 1e-06 --learning_rate 0.1:   0%|          | 0/1 [00:00<?, ?it/s]"
      ]
     },
     "metadata": {},
     "output_type": "display_data"
    },
    {
     "data": {
      "application/vnd.jupyter.widget-view+json": {
       "model_id": "",
       "version_major": 2,
       "version_minor": 0
      },
      "text/plain": [
       "-q aa --marginal a --cb_type mtr --l1 1e-06 --learning_rate 0.1:   0%|          | 0/1 [00:00<?, ?it/s]"
      ]
     },
     "metadata": {},
     "output_type": "display_data"
    },
    {
     "data": {
      "application/vnd.jupyter.widget-view+json": {
       "model_id": "",
       "version_major": 2,
       "version_minor": 0
      },
      "text/plain": [
       "-q aa bs --marginal a --cb_type mtr --l1 1e-06 --learning_rate 0.1:   0%|          | 0/1 [00:00<?, ?it/s]"
      ]
     },
     "metadata": {},
     "output_type": "display_data"
    },
    {
     "data": {
      "application/vnd.jupyter.widget-view+json": {
       "model_id": "",
       "version_major": 2,
       "version_minor": 0
      },
      "text/plain": [
       "-q ss ab ba --marginal a --cb_type mtr --l1 1e-06 --learning_rate 0.1:   0%|          | 0/1 [00:00<?, ?it/s]"
      ]
     },
     "metadata": {},
     "output_type": "display_data"
    },
    {
     "data": {
      "application/vnd.jupyter.widget-view+json": {
       "model_id": "",
       "version_major": 2,
       "version_minor": 0
      },
      "text/plain": [
       "-q sb aa bs --marginal a --cb_type mtr --l1 1e-06 --learning_rate 0.1:   0%|          | 0/1 [00:00<?, ?it/s]"
      ]
     },
     "metadata": {},
     "output_type": "display_data"
    },
    {
     "data": {
      "application/vnd.jupyter.widget-view+json": {
       "model_id": "",
       "version_major": 2,
       "version_minor": 0
      },
      "text/plain": [
       "-q ab --marginal a --cb_type mtr --l1 1e-06 --learning_rate 0.1:   0%|          | 0/1 [00:00<?, ?it/s]"
      ]
     },
     "metadata": {},
     "output_type": "display_data"
    },
    {
     "data": {
      "application/vnd.jupyter.widget-view+json": {
       "model_id": "",
       "version_major": 2,
       "version_minor": 0
      },
      "text/plain": [
       "-q aa ba --marginal a --cb_type mtr --l1 1e-06 --learning_rate 0.1:   0%|          | 0/1 [00:00<?, ?it/s]"
      ]
     },
     "metadata": {},
     "output_type": "display_data"
    },
    {
     "data": {
      "application/vnd.jupyter.widget-view+json": {
       "model_id": "",
       "version_major": 2,
       "version_minor": 0
      },
      "text/plain": [
       "-q sb aa ba --marginal a --cb_type mtr --l1 1e-06 --learning_rate 0.1:   0%|          | 0/1 [00:00<?, ?it/s]"
      ]
     },
     "metadata": {},
     "output_type": "display_data"
    },
    {
     "data": {
      "application/vnd.jupyter.widget-view+json": {
       "model_id": "",
       "version_major": 2,
       "version_minor": 0
      },
      "text/plain": [
       "-q ss ab bb --marginal a --cb_type mtr --l1 1e-06 --learning_rate 0.1:   0%|          | 0/1 [00:00<?, ?it/s]"
      ]
     },
     "metadata": {},
     "output_type": "display_data"
    },
    {
     "data": {
      "application/vnd.jupyter.widget-view+json": {
       "model_id": "",
       "version_major": 2,
       "version_minor": 0
      },
      "text/plain": [
       "-q bs --marginal a --cb_type mtr --l1 1e-06 --learning_rate 0.1:   0%|          | 0/1 [00:00<?, ?it/s]"
      ]
     },
     "metadata": {},
     "output_type": "display_data"
    },
    {
     "data": {
      "application/vnd.jupyter.widget-view+json": {
       "model_id": "",
       "version_major": 2,
       "version_minor": 0
      },
      "text/plain": [
       "-q sb aa bb --marginal a --cb_type mtr --l1 1e-06 --learning_rate 0.1:   0%|          | 0/1 [00:00<?, ?it/s]"
      ]
     },
     "metadata": {},
     "output_type": "display_data"
    },
    {
     "data": {
      "application/vnd.jupyter.widget-view+json": {
       "model_id": "",
       "version_major": 2,
       "version_minor": 0
      },
      "text/plain": [
       "-q aa bb --marginal a --cb_type mtr --l1 1e-06 --learning_rate 0.1:   0%|          | 0/1 [00:00<?, ?it/s]"
      ]
     },
     "metadata": {},
     "output_type": "display_data"
    },
    {
     "data": {
      "application/vnd.jupyter.widget-view+json": {
       "model_id": "",
       "version_major": 2,
       "version_minor": 0
      },
      "text/plain": [
       "-q ss bs ba --marginal a --cb_type mtr --l1 1e-06 --learning_rate 0.1:   0%|          | 0/1 [00:00<?, ?it/s]"
      ]
     },
     "metadata": {},
     "output_type": "display_data"
    },
    {
     "data": {
      "application/vnd.jupyter.widget-view+json": {
       "model_id": "",
       "version_major": 2,
       "version_minor": 0
      },
      "text/plain": [
       "-q ba --marginal a --cb_type mtr --l1 1e-06 --learning_rate 0.1:   0%|          | 0/1 [00:00<?, ?it/s]"
      ]
     },
     "metadata": {},
     "output_type": "display_data"
    },
    {
     "data": {
      "application/vnd.jupyter.widget-view+json": {
       "model_id": "",
       "version_major": 2,
       "version_minor": 0
      },
      "text/plain": [
       "-q sb ab bs --marginal a --cb_type mtr --l1 1e-06 --learning_rate 0.1:   0%|          | 0/1 [00:00<?, ?it/s]"
      ]
     },
     "metadata": {},
     "output_type": "display_data"
    },
    {
     "data": {
      "application/vnd.jupyter.widget-view+json": {
       "model_id": "",
       "version_major": 2,
       "version_minor": 0
      },
      "text/plain": [
       "-q ab bs --marginal a --cb_type mtr --l1 1e-06 --learning_rate 0.1:   0%|          | 0/1 [00:00<?, ?it/s]"
      ]
     },
     "metadata": {},
     "output_type": "display_data"
    },
    {
     "data": {
      "application/vnd.jupyter.widget-view+json": {
       "model_id": "",
       "version_major": 2,
       "version_minor": 0
      },
      "text/plain": [
       "-q ss bs bb --marginal a --cb_type mtr --l1 1e-06 --learning_rate 0.1:   0%|          | 0/1 [00:00<?, ?it/s]"
      ]
     },
     "metadata": {},
     "output_type": "display_data"
    },
    {
     "data": {
      "application/vnd.jupyter.widget-view+json": {
       "model_id": "",
       "version_major": 2,
       "version_minor": 0
      },
      "text/plain": [
       "-q bb --marginal a --cb_type mtr --l1 1e-06 --learning_rate 0.1:   0%|          | 0/1 [00:00<?, ?it/s]"
      ]
     },
     "metadata": {},
     "output_type": "display_data"
    },
    {
     "data": {
      "application/vnd.jupyter.widget-view+json": {
       "model_id": "",
       "version_major": 2,
       "version_minor": 0
      },
      "text/plain": [
       "-q sb ab ba --marginal a --cb_type mtr --l1 1e-06 --learning_rate 0.1:   0%|          | 0/1 [00:00<?, ?it/s]"
      ]
     },
     "metadata": {},
     "output_type": "display_data"
    },
    {
     "data": {
      "application/vnd.jupyter.widget-view+json": {
       "model_id": "",
       "version_major": 2,
       "version_minor": 0
      },
      "text/plain": [
       "-q ab ba --marginal a --cb_type mtr --l1 1e-06 --learning_rate 0.1:   0%|          | 0/1 [00:00<?, ?it/s]"
      ]
     },
     "metadata": {},
     "output_type": "display_data"
    },
    {
     "data": {
      "application/vnd.jupyter.widget-view+json": {
       "model_id": "",
       "version_major": 2,
       "version_minor": 0
      },
      "text/plain": [
       "-q ss ba bb --marginal a --cb_type mtr --l1 1e-06 --learning_rate 0.1:   0%|          | 0/1 [00:00<?, ?it/s]"
      ]
     },
     "metadata": {},
     "output_type": "display_data"
    },
    {
     "data": {
      "application/vnd.jupyter.widget-view+json": {
       "model_id": "",
       "version_major": 2,
       "version_minor": 0
      },
      "text/plain": [
       "-q sb ab bb --marginal a --cb_type mtr --l1 1e-06 --learning_rate 0.1:   0%|          | 0/1 [00:00<?, ?it/s]"
      ]
     },
     "metadata": {},
     "output_type": "display_data"
    },
    {
     "data": {
      "application/vnd.jupyter.widget-view+json": {
       "model_id": "",
       "version_major": 2,
       "version_minor": 0
      },
      "text/plain": [
       "-q ss sa --marginal a --cb_type mtr --l1 1e-06 --learning_rate 0.1:   0%|          | 0/1 [00:00<?, ?it/s]"
      ]
     },
     "metadata": {},
     "output_type": "display_data"
    },
    {
     "data": {
      "application/vnd.jupyter.widget-view+json": {
       "model_id": "",
       "version_major": 2,
       "version_minor": 0
      },
      "text/plain": [
       "-q ab bb --marginal a --cb_type mtr --l1 1e-06 --learning_rate 0.1:   0%|          | 0/1 [00:00<?, ?it/s]"
      ]
     },
     "metadata": {},
     "output_type": "display_data"
    },
    {
     "data": {
      "application/vnd.jupyter.widget-view+json": {
       "model_id": "",
       "version_major": 2,
       "version_minor": 0
      },
      "text/plain": [
       "-q sa sb as --marginal a --cb_type mtr --l1 1e-06 --learning_rate 0.1:   0%|          | 0/1 [00:00<?, ?it/s]"
      ]
     },
     "metadata": {},
     "output_type": "display_data"
    },
    {
     "data": {
      "application/vnd.jupyter.widget-view+json": {
       "model_id": "",
       "version_major": 2,
       "version_minor": 0
      },
      "text/plain": [
       "-q ss sb --marginal a --cb_type mtr --l1 1e-06 --learning_rate 0.1:   0%|          | 0/1 [00:00<?, ?it/s]"
      ]
     },
     "metadata": {},
     "output_type": "display_data"
    },
    {
     "data": {
      "application/vnd.jupyter.widget-view+json": {
       "model_id": "",
       "version_major": 2,
       "version_minor": 0
      },
      "text/plain": [
       "-q sb bs ba --marginal a --cb_type mtr --l1 1e-06 --learning_rate 0.1:   0%|          | 0/1 [00:00<?, ?it/s]"
      ]
     },
     "metadata": {},
     "output_type": "display_data"
    },
    {
     "data": {
      "application/vnd.jupyter.widget-view+json": {
       "model_id": "",
       "version_major": 2,
       "version_minor": 0
      },
      "text/plain": [
       "-q bs ba --marginal a --cb_type mtr --l1 1e-06 --learning_rate 0.1:   0%|          | 0/1 [00:00<?, ?it/s]"
      ]
     },
     "metadata": {},
     "output_type": "display_data"
    },
    {
     "data": {
      "application/vnd.jupyter.widget-view+json": {
       "model_id": "",
       "version_major": 2,
       "version_minor": 0
      },
      "text/plain": [
       "-q sa sb aa --marginal a --cb_type mtr --l1 1e-06 --learning_rate 0.1:   0%|          | 0/1 [00:00<?, ?it/s]"
      ]
     },
     "metadata": {},
     "output_type": "display_data"
    },
    {
     "data": {
      "application/vnd.jupyter.widget-view+json": {
       "model_id": "",
       "version_major": 2,
       "version_minor": 0
      },
      "text/plain": [
       "-q sb bs bb --marginal a --cb_type mtr --l1 1e-06 --learning_rate 0.1:   0%|          | 0/1 [00:00<?, ?it/s]"
      ]
     },
     "metadata": {},
     "output_type": "display_data"
    },
    {
     "data": {
      "application/vnd.jupyter.widget-view+json": {
       "model_id": "",
       "version_major": 2,
       "version_minor": 0
      },
      "text/plain": [
       "-q ss as --marginal a --cb_type mtr --l1 1e-06 --learning_rate 0.1:   0%|          | 0/1 [00:00<?, ?it/s]"
      ]
     },
     "metadata": {},
     "output_type": "display_data"
    },
    {
     "data": {
      "application/vnd.jupyter.widget-view+json": {
       "model_id": "",
       "version_major": 2,
       "version_minor": 0
      },
      "text/plain": [
       "-q bs bb --marginal a --cb_type mtr --l1 1e-06 --learning_rate 0.1:   0%|          | 0/1 [00:00<?, ?it/s]"
      ]
     },
     "metadata": {},
     "output_type": "display_data"
    },
    {
     "data": {
      "application/vnd.jupyter.widget-view+json": {
       "model_id": "",
       "version_major": 2,
       "version_minor": 0
      },
      "text/plain": [
       "-q sa sb ab --marginal a --cb_type mtr --l1 1e-06 --learning_rate 0.1:   0%|          | 0/1 [00:00<?, ?it/s]"
      ]
     },
     "metadata": {},
     "output_type": "display_data"
    },
    {
     "data": {
      "application/vnd.jupyter.widget-view+json": {
       "model_id": "",
       "version_major": 2,
       "version_minor": 0
      },
      "text/plain": [
       "-q sb ba bb --marginal a --cb_type mtr --l1 1e-06 --learning_rate 0.1:   0%|          | 0/1 [00:00<?, ?it/s]"
      ]
     },
     "metadata": {},
     "output_type": "display_data"
    },
    {
     "data": {
      "application/vnd.jupyter.widget-view+json": {
       "model_id": "",
       "version_major": 2,
       "version_minor": 0
      },
      "text/plain": [
       "-q ba bb --marginal a --cb_type mtr --l1 1e-06 --learning_rate 0.1:   0%|          | 0/1 [00:00<?, ?it/s]"
      ]
     },
     "metadata": {},
     "output_type": "display_data"
    },
    {
     "data": {
      "application/vnd.jupyter.widget-view+json": {
       "model_id": "",
       "version_major": 2,
       "version_minor": 0
      },
      "text/plain": [
       "-q ss aa --marginal a --cb_type mtr --l1 1e-06 --learning_rate 0.1:   0%|          | 0/1 [00:00<?, ?it/s]"
      ]
     },
     "metadata": {},
     "output_type": "display_data"
    },
    {
     "data": {
      "application/vnd.jupyter.widget-view+json": {
       "model_id": "",
       "version_major": 2,
       "version_minor": 0
      },
      "text/plain": [
       "-q sa sb bs --marginal a --cb_type mtr --l1 1e-06 --learning_rate 0.1:   0%|          | 0/1 [00:00<?, ?it/s]"
      ]
     },
     "metadata": {},
     "output_type": "display_data"
    },
    {
     "data": {
      "application/vnd.jupyter.widget-view+json": {
       "model_id": "",
       "version_major": 2,
       "version_minor": 0
      },
      "text/plain": [
       "-q as aa ab --marginal a --cb_type mtr --l1 1e-06 --learning_rate 0.1:   0%|          | 0/1 [00:00<?, ?it/s]"
      ]
     },
     "metadata": {},
     "output_type": "display_data"
    },
    {
     "data": {
      "application/vnd.jupyter.widget-view+json": {
       "model_id": "",
       "version_major": 2,
       "version_minor": 0
      },
      "text/plain": [
       "-q ss sa sb --marginal a --cb_type mtr --l1 1e-06 --learning_rate 0.1:   0%|          | 0/1 [00:00<?, ?it/s]"
      ]
     },
     "metadata": {},
     "output_type": "display_data"
    },
    {
     "data": {
      "application/vnd.jupyter.widget-view+json": {
       "model_id": "",
       "version_major": 2,
       "version_minor": 0
      },
      "text/plain": [
       "-q ss ab --marginal a --cb_type mtr --l1 1e-06 --learning_rate 0.1:   0%|          | 0/1 [00:00<?, ?it/s]"
      ]
     },
     "metadata": {},
     "output_type": "display_data"
    },
    {
     "data": {
      "application/vnd.jupyter.widget-view+json": {
       "model_id": "",
       "version_major": 2,
       "version_minor": 0
      },
      "text/plain": [
       "-q as aa bs --marginal a --cb_type mtr --l1 1e-06 --learning_rate 0.1:   0%|          | 0/1 [00:00<?, ?it/s]"
      ]
     },
     "metadata": {},
     "output_type": "display_data"
    },
    {
     "data": {
      "application/vnd.jupyter.widget-view+json": {
       "model_id": "",
       "version_major": 2,
       "version_minor": 0
      },
      "text/plain": [
       "-q sa sb ba --marginal a --cb_type mtr --l1 1e-06 --learning_rate 0.1:   0%|          | 0/1 [00:00<?, ?it/s]"
      ]
     },
     "metadata": {},
     "output_type": "display_data"
    },
    {
     "data": {
      "application/vnd.jupyter.widget-view+json": {
       "model_id": "",
       "version_major": 2,
       "version_minor": 0
      },
      "text/plain": [
       "-q ss sa as --marginal a --cb_type mtr --l1 1e-06 --learning_rate 0.1:   0%|          | 0/1 [00:00<?, ?it/s]"
      ]
     },
     "metadata": {},
     "output_type": "display_data"
    },
    {
     "data": {
      "application/vnd.jupyter.widget-view+json": {
       "model_id": "",
       "version_major": 2,
       "version_minor": 0
      },
      "text/plain": [
       "-q ss bs --marginal a --cb_type mtr --l1 1e-06 --learning_rate 0.1:   0%|          | 0/1 [00:00<?, ?it/s]"
      ]
     },
     "metadata": {},
     "output_type": "display_data"
    },
    {
     "data": {
      "application/vnd.jupyter.widget-view+json": {
       "model_id": "",
       "version_major": 2,
       "version_minor": 0
      },
      "text/plain": [
       "-q sa sb bb --marginal a --cb_type mtr --l1 1e-06 --learning_rate 0.1:   0%|          | 0/1 [00:00<?, ?it/s]"
      ]
     },
     "metadata": {},
     "output_type": "display_data"
    },
    {
     "data": {
      "application/vnd.jupyter.widget-view+json": {
       "model_id": "",
       "version_major": 2,
       "version_minor": 0
      },
      "text/plain": [
       "-q as aa ba --marginal a --cb_type mtr --l1 1e-06 --learning_rate 0.1:   0%|          | 0/1 [00:00<?, ?it/s]"
      ]
     },
     "metadata": {},
     "output_type": "display_data"
    },
    {
     "data": {
      "application/vnd.jupyter.widget-view+json": {
       "model_id": "",
       "version_major": 2,
       "version_minor": 0
      },
      "text/plain": [
       "-q ss sa aa --marginal a --cb_type mtr --l1 1e-06 --learning_rate 0.1:   0%|          | 0/1 [00:00<?, ?it/s]"
      ]
     },
     "metadata": {},
     "output_type": "display_data"
    },
    {
     "data": {
      "application/vnd.jupyter.widget-view+json": {
       "model_id": "",
       "version_major": 2,
       "version_minor": 0
      },
      "text/plain": [
       "-q ss ba --marginal a --cb_type mtr --l1 1e-06 --learning_rate 0.1:   0%|          | 0/1 [00:00<?, ?it/s]"
      ]
     },
     "metadata": {},
     "output_type": "display_data"
    },
    {
     "data": {
      "application/vnd.jupyter.widget-view+json": {
       "model_id": "",
       "version_major": 2,
       "version_minor": 0
      },
      "text/plain": [
       "-q sa as aa --marginal a --cb_type mtr --l1 1e-06 --learning_rate 0.1:   0%|          | 0/1 [00:00<?, ?it/s]"
      ]
     },
     "metadata": {},
     "output_type": "display_data"
    },
    {
     "data": {
      "application/vnd.jupyter.widget-view+json": {
       "model_id": "",
       "version_major": 2,
       "version_minor": 0
      },
      "text/plain": [
       "-q as aa bb --marginal a --cb_type mtr --l1 1e-06 --learning_rate 0.1:   0%|          | 0/1 [00:00<?, ?it/s]"
      ]
     },
     "metadata": {},
     "output_type": "display_data"
    },
    {
     "data": {
      "application/vnd.jupyter.widget-view+json": {
       "model_id": "",
       "version_major": 2,
       "version_minor": 0
      },
      "text/plain": [
       "-q ss sa ab --marginal a --cb_type mtr --l1 1e-06 --learning_rate 0.1:   0%|          | 0/1 [00:00<?, ?it/s]"
      ]
     },
     "metadata": {},
     "output_type": "display_data"
    },
    {
     "data": {
      "application/vnd.jupyter.widget-view+json": {
       "model_id": "",
       "version_major": 2,
       "version_minor": 0
      },
      "text/plain": [
       "-q ss bb --marginal a --cb_type mtr --l1 1e-06 --learning_rate 0.1:   0%|          | 0/1 [00:00<?, ?it/s]"
      ]
     },
     "metadata": {},
     "output_type": "display_data"
    },
    {
     "data": {
      "application/vnd.jupyter.widget-view+json": {
       "model_id": "",
       "version_major": 2,
       "version_minor": 0
      },
      "text/plain": [
       "-q sa as ab --marginal a --cb_type mtr --l1 1e-06 --learning_rate 0.1:   0%|          | 0/1 [00:00<?, ?it/s]"
      ]
     },
     "metadata": {},
     "output_type": "display_data"
    },
    {
     "data": {
      "application/vnd.jupyter.widget-view+json": {
       "model_id": "",
       "version_major": 2,
       "version_minor": 0
      },
      "text/plain": [
       "-q as ab bs --marginal a --cb_type mtr --l1 1e-06 --learning_rate 0.1:   0%|          | 0/1 [00:00<?, ?it/s]"
      ]
     },
     "metadata": {},
     "output_type": "display_data"
    },
    {
     "data": {
      "application/vnd.jupyter.widget-view+json": {
       "model_id": "",
       "version_major": 2,
       "version_minor": 0
      },
      "text/plain": [
       "-q ss sa bs --marginal a --cb_type mtr --l1 1e-06 --learning_rate 0.1:   0%|          | 0/1 [00:00<?, ?it/s]"
      ]
     },
     "metadata": {},
     "output_type": "display_data"
    },
    {
     "data": {
      "application/vnd.jupyter.widget-view+json": {
       "model_id": "",
       "version_major": 2,
       "version_minor": 0
      },
      "text/plain": [
       "-q sa sb --marginal a --cb_type mtr --l1 1e-06 --learning_rate 0.1:   0%|          | 0/1 [00:00<?, ?it/s]"
      ]
     },
     "metadata": {},
     "output_type": "display_data"
    },
    {
     "data": {
      "application/vnd.jupyter.widget-view+json": {
       "model_id": "",
       "version_major": 2,
       "version_minor": 0
      },
      "text/plain": [
       "-q as ab ba --marginal a --cb_type mtr --l1 1e-06 --learning_rate 0.1:   0%|          | 0/1 [00:00<?, ?it/s]"
      ]
     },
     "metadata": {},
     "output_type": "display_data"
    },
    {
     "data": {
      "application/vnd.jupyter.widget-view+json": {
       "model_id": "",
       "version_major": 2,
       "version_minor": 0
      },
      "text/plain": [
       "-q sa as bs --marginal a --cb_type mtr --l1 1e-06 --learning_rate 0.1:   0%|          | 0/1 [00:00<?, ?it/s]"
      ]
     },
     "metadata": {},
     "output_type": "display_data"
    },
    {
     "data": {
      "application/vnd.jupyter.widget-view+json": {
       "model_id": "",
       "version_major": 2,
       "version_minor": 0
      },
      "text/plain": [
       "-q ss sa ba --marginal a --cb_type mtr --l1 1e-06 --learning_rate 0.1:   0%|          | 0/1 [00:00<?, ?it/s]"
      ]
     },
     "metadata": {},
     "output_type": "display_data"
    },
    {
     "data": {
      "application/vnd.jupyter.widget-view+json": {
       "model_id": "",
       "version_major": 2,
       "version_minor": 0
      },
      "text/plain": [
       "-q sa as --marginal a --cb_type mtr --l1 1e-06 --learning_rate 0.1:   0%|          | 0/1 [00:00<?, ?it/s]"
      ]
     },
     "metadata": {},
     "output_type": "display_data"
    },
    {
     "data": {
      "application/vnd.jupyter.widget-view+json": {
       "model_id": "",
       "version_major": 2,
       "version_minor": 0
      },
      "text/plain": [
       "-q as ab bb --marginal a --cb_type mtr --l1 1e-06 --learning_rate 0.1:   0%|          | 0/1 [00:00<?, ?it/s]"
      ]
     },
     "metadata": {},
     "output_type": "display_data"
    },
    {
     "data": {
      "application/vnd.jupyter.widget-view+json": {
       "model_id": "",
       "version_major": 2,
       "version_minor": 0
      },
      "text/plain": [
       "-q sa as ba --marginal a --cb_type mtr --l1 1e-06 --learning_rate 0.1:   0%|          | 0/1 [00:00<?, ?it/s]"
      ]
     },
     "metadata": {},
     "output_type": "display_data"
    },
    {
     "data": {
      "application/vnd.jupyter.widget-view+json": {
       "model_id": "",
       "version_major": 2,
       "version_minor": 0
      },
      "text/plain": [
       "-q ss sa bb --marginal a --cb_type mtr --l1 1e-06 --learning_rate 0.1:   0%|          | 0/1 [00:00<?, ?it/s]"
      ]
     },
     "metadata": {},
     "output_type": "display_data"
    },
    {
     "data": {
      "application/vnd.jupyter.widget-view+json": {
       "model_id": "",
       "version_major": 2,
       "version_minor": 0
      },
      "text/plain": [
       "-q sa aa --marginal a --cb_type mtr --l1 1e-06 --learning_rate 0.1:   0%|          | 0/1 [00:00<?, ?it/s]"
      ]
     },
     "metadata": {},
     "output_type": "display_data"
    },
    {
     "data": {
      "application/vnd.jupyter.widget-view+json": {
       "model_id": "",
       "version_major": 2,
       "version_minor": 0
      },
      "text/plain": [
       "-q sa as bb --marginal a --cb_type mtr --l1 1e-06 --learning_rate 0.1:   0%|          | 0/1 [00:00<?, ?it/s]"
      ]
     },
     "metadata": {},
     "output_type": "display_data"
    },
    {
     "data": {
      "application/vnd.jupyter.widget-view+json": {
       "model_id": "",
       "version_major": 2,
       "version_minor": 0
      },
      "text/plain": [
       "-q as bs ba --marginal a --cb_type mtr --l1 1e-06 --learning_rate 0.1:   0%|          | 0/1 [00:00<?, ?it/s]"
      ]
     },
     "metadata": {},
     "output_type": "display_data"
    },
    {
     "data": {
      "application/vnd.jupyter.widget-view+json": {
       "model_id": "",
       "version_major": 2,
       "version_minor": 0
      },
      "text/plain": [
       "-q ss sb as --marginal a --cb_type mtr --l1 1e-06 --learning_rate 0.1:   0%|          | 0/1 [00:00<?, ?it/s]"
      ]
     },
     "metadata": {},
     "output_type": "display_data"
    },
    {
     "data": {
      "application/vnd.jupyter.widget-view+json": {
       "model_id": "",
       "version_major": 2,
       "version_minor": 0
      },
      "text/plain": [
       "-q as bs bb --marginal a --cb_type mtr --l1 1e-06 --learning_rate 0.1:   0%|          | 0/1 [00:00<?, ?it/s]"
      ]
     },
     "metadata": {},
     "output_type": "display_data"
    },
    {
     "data": {
      "application/vnd.jupyter.widget-view+json": {
       "model_id": "",
       "version_major": 2,
       "version_minor": 0
      },
      "text/plain": [
       "-q sa ab --marginal a --cb_type mtr --l1 1e-06 --learning_rate 0.1:   0%|          | 0/1 [00:00<?, ?it/s]"
      ]
     },
     "metadata": {},
     "output_type": "display_data"
    },
    {
     "data": {
      "application/vnd.jupyter.widget-view+json": {
       "model_id": "",
       "version_major": 2,
       "version_minor": 0
      },
      "text/plain": [
       "-q sa aa ab --marginal a --cb_type mtr --l1 1e-06 --learning_rate 0.1:   0%|          | 0/1 [00:00<?, ?it/s]"
      ]
     },
     "metadata": {},
     "output_type": "display_data"
    },
    {
     "data": {
      "application/vnd.jupyter.widget-view+json": {
       "model_id": "",
       "version_major": 2,
       "version_minor": 0
      },
      "text/plain": [
       "-q as ba bb --marginal a --cb_type mtr --l1 1e-06 --learning_rate 0.1:   0%|          | 0/1 [00:00<?, ?it/s]"
      ]
     },
     "metadata": {},
     "output_type": "display_data"
    },
    {
     "data": {
      "application/vnd.jupyter.widget-view+json": {
       "model_id": "",
       "version_major": 2,
       "version_minor": 0
      },
      "text/plain": [
       "-q ss sb aa --marginal a --cb_type mtr --l1 1e-06 --learning_rate 0.1:   0%|          | 0/1 [00:00<?, ?it/s]"
      ]
     },
     "metadata": {},
     "output_type": "display_data"
    },
    {
     "data": {
      "application/vnd.jupyter.widget-view+json": {
       "model_id": "",
       "version_major": 2,
       "version_minor": 0
      },
      "text/plain": [
       "-q sa aa bs --marginal a --cb_type mtr --l1 1e-06 --learning_rate 0.1:   0%|          | 0/1 [00:00<?, ?it/s]"
      ]
     },
     "metadata": {},
     "output_type": "display_data"
    },
    {
     "data": {
      "application/vnd.jupyter.widget-view+json": {
       "model_id": "",
       "version_major": 2,
       "version_minor": 0
      },
      "text/plain": [
       "-q sa bs --marginal a --cb_type mtr --l1 1e-06 --learning_rate 0.1:   0%|          | 0/1 [00:00<?, ?it/s]"
      ]
     },
     "metadata": {},
     "output_type": "display_data"
    },
    {
     "data": {
      "application/vnd.jupyter.widget-view+json": {
       "model_id": "",
       "version_major": 2,
       "version_minor": 0
      },
      "text/plain": [
       "-q ss sb ab --marginal a --cb_type mtr --l1 1e-06 --learning_rate 0.1:   0%|          | 0/1 [00:00<?, ?it/s]"
      ]
     },
     "metadata": {},
     "output_type": "display_data"
    },
    {
     "data": {
      "application/vnd.jupyter.widget-view+json": {
       "model_id": "",
       "version_major": 2,
       "version_minor": 0
      },
      "text/plain": [
       "-q aa ab bs --marginal a --cb_type mtr --l1 1e-06 --learning_rate 0.1:   0%|          | 0/1 [00:00<?, ?it/s]"
      ]
     },
     "metadata": {},
     "output_type": "display_data"
    },
    {
     "data": {
      "application/vnd.jupyter.widget-view+json": {
       "model_id": "",
       "version_major": 2,
       "version_minor": 0
      },
      "text/plain": [
       "-q sa aa ba --marginal a --cb_type mtr --l1 1e-06 --learning_rate 0.1:   0%|          | 0/1 [00:00<?, ?it/s]"
      ]
     },
     "metadata": {},
     "output_type": "display_data"
    },
    {
     "data": {
      "application/vnd.jupyter.widget-view+json": {
       "model_id": "",
       "version_major": 2,
       "version_minor": 0
      },
      "text/plain": [
       "-q sa ba --marginal a --cb_type mtr --l1 1e-06 --learning_rate 0.1:   0%|          | 0/1 [00:00<?, ?it/s]"
      ]
     },
     "metadata": {},
     "output_type": "display_data"
    },
    {
     "data": {
      "application/vnd.jupyter.widget-view+json": {
       "model_id": "",
       "version_major": 2,
       "version_minor": 0
      },
      "text/plain": [
       "-q aa ab ba --marginal a --cb_type mtr --l1 1e-06 --learning_rate 0.1:   0%|          | 0/1 [00:00<?, ?it/s]"
      ]
     },
     "metadata": {},
     "output_type": "display_data"
    },
    {
     "data": {
      "application/vnd.jupyter.widget-view+json": {
       "model_id": "",
       "version_major": 2,
       "version_minor": 0
      },
      "text/plain": [
       "-q ss sb bs --marginal a --cb_type mtr --l1 1e-06 --learning_rate 0.1:   0%|          | 0/1 [00:00<?, ?it/s]"
      ]
     },
     "metadata": {},
     "output_type": "display_data"
    },
    {
     "data": {
      "application/vnd.jupyter.widget-view+json": {
       "model_id": "",
       "version_major": 2,
       "version_minor": 0
      },
      "text/plain": [
       "-q sa aa bb --marginal a --cb_type mtr --l1 1e-06 --learning_rate 0.1:   0%|          | 0/1 [00:00<?, ?it/s]"
      ]
     },
     "metadata": {},
     "output_type": "display_data"
    },
    {
     "data": {
      "application/vnd.jupyter.widget-view+json": {
       "model_id": "",
       "version_major": 2,
       "version_minor": 0
      },
      "text/plain": [
       "-q sa bb --marginal a --cb_type mtr --l1 1e-06 --learning_rate 0.1:   0%|          | 0/1 [00:00<?, ?it/s]"
      ]
     },
     "metadata": {},
     "output_type": "display_data"
    },
    {
     "data": {
      "application/vnd.jupyter.widget-view+json": {
       "model_id": "",
       "version_major": 2,
       "version_minor": 0
      },
      "text/plain": [
       "-q aa ab bb --marginal a --cb_type mtr --l1 1e-06 --learning_rate 0.1:   0%|          | 0/1 [00:00<?, ?it/s]"
      ]
     },
     "metadata": {},
     "output_type": "display_data"
    },
    {
     "data": {
      "application/vnd.jupyter.widget-view+json": {
       "model_id": "",
       "version_major": 2,
       "version_minor": 0
      },
      "text/plain": [
       "-q ss sb ba --marginal a --cb_type mtr --l1 1e-06 --learning_rate 0.1:   0%|          | 0/1 [00:00<?, ?it/s]"
      ]
     },
     "metadata": {},
     "output_type": "display_data"
    },
    {
     "data": {
      "application/vnd.jupyter.widget-view+json": {
       "model_id": "",
       "version_major": 2,
       "version_minor": 0
      },
      "text/plain": [
       "-q sa ab bs --marginal a --cb_type mtr --l1 1e-06 --learning_rate 0.1:   0%|          | 0/1 [00:00<?, ?it/s]"
      ]
     },
     "metadata": {},
     "output_type": "display_data"
    },
    {
     "data": {
      "application/vnd.jupyter.widget-view+json": {
       "model_id": "",
       "version_major": 2,
       "version_minor": 0
      },
      "text/plain": [
       "-q sb as --marginal a --cb_type mtr --l1 1e-06 --learning_rate 0.1:   0%|          | 0/1 [00:00<?, ?it/s]"
      ]
     },
     "metadata": {},
     "output_type": "display_data"
    },
    {
     "data": {
      "application/vnd.jupyter.widget-view+json": {
       "model_id": "",
       "version_major": 2,
       "version_minor": 0
      },
      "text/plain": [
       "-q ss sb bb --marginal a --cb_type mtr --l1 1e-06 --learning_rate 0.1:   0%|          | 0/1 [00:00<?, ?it/s]"
      ]
     },
     "metadata": {},
     "output_type": "display_data"
    },
    {
     "data": {
      "application/vnd.jupyter.widget-view+json": {
       "model_id": "",
       "version_major": 2,
       "version_minor": 0
      },
      "text/plain": [
       "-q aa bs ba --marginal a --cb_type mtr --l1 1e-06 --learning_rate 0.1:   0%|          | 0/1 [00:00<?, ?it/s]"
      ]
     },
     "metadata": {},
     "output_type": "display_data"
    },
    {
     "data": {
      "application/vnd.jupyter.widget-view+json": {
       "model_id": "",
       "version_major": 2,
       "version_minor": 0
      },
      "text/plain": [
       "-q sa ab ba --marginal a --cb_type mtr --l1 1e-06 --learning_rate 0.1:   0%|          | 0/1 [00:00<?, ?it/s]"
      ]
     },
     "metadata": {},
     "output_type": "display_data"
    },
    {
     "data": {
      "application/vnd.jupyter.widget-view+json": {
       "model_id": "",
       "version_major": 2,
       "version_minor": 0
      },
      "text/plain": [
       "-q sb aa --marginal a --cb_type mtr --l1 1e-06 --learning_rate 0.1:   0%|          | 0/1 [00:00<?, ?it/s]"
      ]
     },
     "metadata": {},
     "output_type": "display_data"
    },
    {
     "data": {
      "application/vnd.jupyter.widget-view+json": {
       "model_id": "",
       "version_major": 2,
       "version_minor": 0
      },
      "text/plain": [
       "-q ss as aa --marginal a --cb_type mtr --l1 1e-06 --learning_rate 0.1:   0%|          | 0/1 [00:00<?, ?it/s]"
      ]
     },
     "metadata": {},
     "output_type": "display_data"
    },
    {
     "data": {
      "application/vnd.jupyter.widget-view+json": {
       "model_id": "",
       "version_major": 2,
       "version_minor": 0
      },
      "text/plain": [
       "-q sa ab bb --marginal a --cb_type mtr --l1 1e-06 --learning_rate 0.1:   0%|          | 0/1 [00:00<?, ?it/s]"
      ]
     },
     "metadata": {},
     "output_type": "display_data"
    },
    {
     "data": {
      "application/vnd.jupyter.widget-view+json": {
       "model_id": "",
       "version_major": 2,
       "version_minor": 0
      },
      "text/plain": [
       "-q aa bs bb --marginal a --cb_type mtr --l1 1e-06 --learning_rate 0.1:   0%|          | 0/1 [00:00<?, ?it/s]"
      ]
     },
     "metadata": {},
     "output_type": "display_data"
    },
    {
     "data": {
      "application/vnd.jupyter.widget-view+json": {
       "model_id": "",
       "version_major": 2,
       "version_minor": 0
      },
      "text/plain": [
       "-q sb ab --marginal a --cb_type mtr --l1 1e-06 --learning_rate 0.1:   0%|          | 0/1 [00:00<?, ?it/s]"
      ]
     },
     "metadata": {},
     "output_type": "display_data"
    },
    {
     "data": {
      "application/vnd.jupyter.widget-view+json": {
       "model_id": "",
       "version_major": 2,
       "version_minor": 0
      },
      "text/plain": [
       "-q sa bs ba --marginal a --cb_type mtr --l1 1e-06 --learning_rate 0.1:   0%|          | 0/1 [00:00<?, ?it/s]"
      ]
     },
     "metadata": {},
     "output_type": "display_data"
    },
    {
     "data": {
      "application/vnd.jupyter.widget-view+json": {
       "model_id": "",
       "version_major": 2,
       "version_minor": 0
      },
      "text/plain": [
       "-q ss as ab --marginal a --cb_type mtr --l1 1e-06 --learning_rate 0.1:   0%|          | 0/1 [00:00<?, ?it/s]"
      ]
     },
     "metadata": {},
     "output_type": "display_data"
    },
    {
     "data": {
      "application/vnd.jupyter.widget-view+json": {
       "model_id": "",
       "version_major": 2,
       "version_minor": 0
      },
      "text/plain": [
       "-q aa ba bb --marginal a --cb_type mtr --l1 1e-06 --learning_rate 0.1:   0%|          | 0/1 [00:00<?, ?it/s]"
      ]
     },
     "metadata": {},
     "output_type": "display_data"
    },
    {
     "data": {
      "application/vnd.jupyter.widget-view+json": {
       "model_id": "",
       "version_major": 2,
       "version_minor": 0
      },
      "text/plain": [
       "-q sb bs --marginal a --cb_type mtr --l1 1e-06 --learning_rate 0.1:   0%|          | 0/1 [00:00<?, ?it/s]"
      ]
     },
     "metadata": {},
     "output_type": "display_data"
    },
    {
     "data": {
      "application/vnd.jupyter.widget-view+json": {
       "model_id": "",
       "version_major": 2,
       "version_minor": 0
      },
      "text/plain": [
       "-q ss as bs --marginal a --cb_type mtr --l1 1e-06 --learning_rate 0.1:   0%|          | 0/1 [00:00<?, ?it/s]"
      ]
     },
     "metadata": {},
     "output_type": "display_data"
    },
    {
     "data": {
      "application/vnd.jupyter.widget-view+json": {
       "model_id": "",
       "version_major": 2,
       "version_minor": 0
      },
      "text/plain": [
       "-q sa bs bb --marginal a --cb_type mtr --l1 1e-06 --learning_rate 0.1:   0%|          | 0/1 [00:00<?, ?it/s]"
      ]
     },
     "metadata": {},
     "output_type": "display_data"
    },
    {
     "data": {
      "application/vnd.jupyter.widget-view+json": {
       "model_id": "",
       "version_major": 2,
       "version_minor": 0
      },
      "text/plain": [
       "-q ab bs ba --marginal a --cb_type mtr --l1 1e-06 --learning_rate 0.1:   0%|          | 0/1 [00:00<?, ?it/s]"
      ]
     },
     "metadata": {},
     "output_type": "display_data"
    },
    {
     "data": {
      "application/vnd.jupyter.widget-view+json": {
       "model_id": "",
       "version_major": 2,
       "version_minor": 0
      },
      "text/plain": [
       "-q sb ba --marginal a --cb_type mtr --l1 1e-06 --learning_rate 0.1:   0%|          | 0/1 [00:00<?, ?it/s]"
      ]
     },
     "metadata": {},
     "output_type": "display_data"
    },
    {
     "data": {
      "application/vnd.jupyter.widget-view+json": {
       "model_id": "",
       "version_major": 2,
       "version_minor": 0
      },
      "text/plain": [
       "-q ss as ba --marginal a --cb_type mtr --l1 1e-06 --learning_rate 0.1:   0%|          | 0/1 [00:00<?, ?it/s]"
      ]
     },
     "metadata": {},
     "output_type": "display_data"
    },
    {
     "data": {
      "application/vnd.jupyter.widget-view+json": {
       "model_id": "",
       "version_major": 2,
       "version_minor": 0
      },
      "text/plain": [
       "-q sa ba bb --marginal a --cb_type mtr --l1 1e-06 --learning_rate 0.1:   0%|          | 0/1 [00:00<?, ?it/s]"
      ]
     },
     "metadata": {},
     "output_type": "display_data"
    },
    {
     "data": {
      "application/vnd.jupyter.widget-view+json": {
       "model_id": "",
       "version_major": 2,
       "version_minor": 0
      },
      "text/plain": [
       "-q ab bs bb --marginal a --cb_type mtr --l1 1e-06 --learning_rate 0.1:   0%|          | 0/1 [00:00<?, ?it/s]"
      ]
     },
     "metadata": {},
     "output_type": "display_data"
    },
    {
     "data": {
      "application/vnd.jupyter.widget-view+json": {
       "model_id": "",
       "version_major": 2,
       "version_minor": 0
      },
      "text/plain": [
       "-q sb bb --marginal a --cb_type mtr --l1 1e-06 --learning_rate 0.1:   0%|          | 0/1 [00:00<?, ?it/s]"
      ]
     },
     "metadata": {},
     "output_type": "display_data"
    },
    {
     "data": {
      "application/vnd.jupyter.widget-view+json": {
       "model_id": "",
       "version_major": 2,
       "version_minor": 0
      },
      "text/plain": [
       "-q ss as bb --marginal a --cb_type mtr --l1 1e-06 --learning_rate 0.1:   0%|          | 0/1 [00:00<?, ?it/s]"
      ]
     },
     "metadata": {},
     "output_type": "display_data"
    },
    {
     "data": {
      "application/vnd.jupyter.widget-view+json": {
       "model_id": "",
       "version_major": 2,
       "version_minor": 0
      },
      "text/plain": [
       "-q sb as aa --marginal a --cb_type mtr --l1 1e-06 --learning_rate 0.1:   0%|          | 0/1 [00:00<?, ?it/s]"
      ]
     },
     "metadata": {},
     "output_type": "display_data"
    },
    {
     "data": {
      "application/vnd.jupyter.widget-view+json": {
       "model_id": "",
       "version_major": 2,
       "version_minor": 0
      },
      "text/plain": [
       "-q ab ba bb --marginal a --cb_type mtr --l1 1e-06 --learning_rate 0.1:   0%|          | 0/1 [00:00<?, ?it/s]"
      ]
     },
     "metadata": {},
     "output_type": "display_data"
    },
    {
     "data": {
      "application/vnd.jupyter.widget-view+json": {
       "model_id": "",
       "version_major": 2,
       "version_minor": 0
      },
      "text/plain": [
       "-q as aa --marginal a --cb_type mtr --l1 1e-06 --learning_rate 0.1:   0%|          | 0/1 [00:00<?, ?it/s]"
      ]
     },
     "metadata": {},
     "output_type": "display_data"
    },
    {
     "data": {
      "application/vnd.jupyter.widget-view+json": {
       "model_id": "",
       "version_major": 2,
       "version_minor": 0
      },
      "text/plain": [
       "-q ss sb ab bs --marginal a --cb_type mtr --l1 1e-06 --learning_rate 0.1:   0%|          | 0/1 [00:00<?, ?it/s…"
      ]
     },
     "metadata": {},
     "output_type": "display_data"
    },
    {
     "data": {
      "application/vnd.jupyter.widget-view+json": {
       "model_id": "",
       "version_major": 2,
       "version_minor": 0
      },
      "text/plain": [
       "-q sa sb aa bs --marginal a --cb_type mtr --l1 1e-06 --learning_rate 0.1:   0%|          | 0/1 [00:00<?, ?it/s…"
      ]
     },
     "metadata": {},
     "output_type": "display_data"
    },
    {
     "data": {
      "application/vnd.jupyter.widget-view+json": {
       "model_id": "",
       "version_major": 2,
       "version_minor": 0
      },
      "text/plain": [
       "-q bs ba bb --marginal a --cb_type mtr --l1 1e-06 --learning_rate 0.1:   0%|          | 0/1 [00:00<?, ?it/s]"
      ]
     },
     "metadata": {},
     "output_type": "display_data"
    },
    {
     "data": {
      "application/vnd.jupyter.widget-view+json": {
       "model_id": "",
       "version_major": 2,
       "version_minor": 0
      },
      "text/plain": [
       "-q sb as aa bb --marginal a --cb_type mtr --l1 1e-06 --learning_rate 0.1:   0%|          | 0/1 [00:00<?, ?it/s…"
      ]
     },
     "metadata": {},
     "output_type": "display_data"
    },
    {
     "data": {
      "application/vnd.jupyter.widget-view+json": {
       "model_id": "",
       "version_major": 2,
       "version_minor": 0
      },
      "text/plain": [
       "-q ss sb ab ba --marginal a --cb_type mtr --l1 1e-06 --learning_rate 0.1:   0%|          | 0/1 [00:00<?, ?it/s…"
      ]
     },
     "metadata": {},
     "output_type": "display_data"
    },
    {
     "data": {
      "application/vnd.jupyter.widget-view+json": {
       "model_id": "",
       "version_major": 2,
       "version_minor": 0
      },
      "text/plain": [
       "-q sa sb aa ba --marginal a --cb_type mtr --l1 1e-06 --learning_rate 0.1:   0%|          | 0/1 [00:00<?, ?it/s…"
      ]
     },
     "metadata": {},
     "output_type": "display_data"
    },
    {
     "data": {
      "application/vnd.jupyter.widget-view+json": {
       "model_id": "",
       "version_major": 2,
       "version_minor": 0
      },
      "text/plain": [
       "-q ss sa sb as --marginal a --cb_type mtr --l1 1e-06 --learning_rate 0.1:   0%|          | 0/1 [00:00<?, ?it/s…"
      ]
     },
     "metadata": {},
     "output_type": "display_data"
    },
    {
     "data": {
      "application/vnd.jupyter.widget-view+json": {
       "model_id": "",
       "version_major": 2,
       "version_minor": 0
      },
      "text/plain": [
       "-q sb as ab bs --marginal a --cb_type mtr --l1 1e-06 --learning_rate 0.1:   0%|          | 0/1 [00:00<?, ?it/s…"
      ]
     },
     "metadata": {},
     "output_type": "display_data"
    },
    {
     "data": {
      "application/vnd.jupyter.widget-view+json": {
       "model_id": "",
       "version_major": 2,
       "version_minor": 0
      },
      "text/plain": [
       "-q sa sb aa bb --marginal a --cb_type mtr --l1 1e-06 --learning_rate 0.1:   0%|          | 0/1 [00:00<?, ?it/s…"
      ]
     },
     "metadata": {},
     "output_type": "display_data"
    },
    {
     "data": {
      "application/vnd.jupyter.widget-view+json": {
       "model_id": "",
       "version_major": 2,
       "version_minor": 0
      },
      "text/plain": [
       "-q ss sa sb aa --marginal a --cb_type mtr --l1 1e-06 --learning_rate 0.1:   0%|          | 0/1 [00:00<?, ?it/s…"
      ]
     },
     "metadata": {},
     "output_type": "display_data"
    },
    {
     "data": {
      "application/vnd.jupyter.widget-view+json": {
       "model_id": "",
       "version_major": 2,
       "version_minor": 0
      },
      "text/plain": [
       "-q ss sb ab bb --marginal a --cb_type mtr --l1 1e-06 --learning_rate 0.1:   0%|          | 0/1 [00:00<?, ?it/s…"
      ]
     },
     "metadata": {},
     "output_type": "display_data"
    },
    {
     "data": {
      "application/vnd.jupyter.widget-view+json": {
       "model_id": "",
       "version_major": 2,
       "version_minor": 0
      },
      "text/plain": [
       "-q sb as ab ba --marginal a --cb_type mtr --l1 1e-06 --learning_rate 0.1:   0%|          | 0/1 [00:00<?, ?it/s…"
      ]
     },
     "metadata": {},
     "output_type": "display_data"
    },
    {
     "data": {
      "application/vnd.jupyter.widget-view+json": {
       "model_id": "",
       "version_major": 2,
       "version_minor": 0
      },
      "text/plain": [
       "-q sa sb ab bs --marginal a --cb_type mtr --l1 1e-06 --learning_rate 0.1:   0%|          | 0/1 [00:00<?, ?it/s…"
      ]
     },
     "metadata": {},
     "output_type": "display_data"
    },
    {
     "data": {
      "application/vnd.jupyter.widget-view+json": {
       "model_id": "",
       "version_major": 2,
       "version_minor": 0
      },
      "text/plain": [
       "-q ss sa sb ab --marginal a --cb_type mtr --l1 1e-06 --learning_rate 0.1:   0%|          | 0/1 [00:00<?, ?it/s…"
      ]
     },
     "metadata": {},
     "output_type": "display_data"
    },
    {
     "data": {
      "application/vnd.jupyter.widget-view+json": {
       "model_id": "",
       "version_major": 2,
       "version_minor": 0
      },
      "text/plain": [
       "-q ss sb bs ba --marginal a --cb_type mtr --l1 1e-06 --learning_rate 0.1:   0%|          | 0/1 [00:00<?, ?it/s…"
      ]
     },
     "metadata": {},
     "output_type": "display_data"
    },
    {
     "data": {
      "application/vnd.jupyter.widget-view+json": {
       "model_id": "",
       "version_major": 2,
       "version_minor": 0
      },
      "text/plain": [
       "-q sb as ab bb --marginal a --cb_type mtr --l1 1e-06 --learning_rate 0.1:   0%|          | 0/1 [00:00<?, ?it/s…"
      ]
     },
     "metadata": {},
     "output_type": "display_data"
    },
    {
     "data": {
      "application/vnd.jupyter.widget-view+json": {
       "model_id": "",
       "version_major": 2,
       "version_minor": 0
      },
      "text/plain": [
       "-q sa sb ab ba --marginal a --cb_type mtr --l1 1e-06 --learning_rate 0.1:   0%|          | 0/1 [00:00<?, ?it/s…"
      ]
     },
     "metadata": {},
     "output_type": "display_data"
    },
    {
     "data": {
      "application/vnd.jupyter.widget-view+json": {
       "model_id": "",
       "version_major": 2,
       "version_minor": 0
      },
      "text/plain": [
       "-q ss sa sb bs --marginal a --cb_type mtr --l1 1e-06 --learning_rate 0.1:   0%|          | 0/1 [00:00<?, ?it/s…"
      ]
     },
     "metadata": {},
     "output_type": "display_data"
    },
    {
     "data": {
      "application/vnd.jupyter.widget-view+json": {
       "model_id": "",
       "version_major": 2,
       "version_minor": 0
      },
      "text/plain": [
       "-q ss sb bs bb --marginal a --cb_type mtr --l1 1e-06 --learning_rate 0.1:   0%|          | 0/1 [00:00<?, ?it/s…"
      ]
     },
     "metadata": {},
     "output_type": "display_data"
    },
    {
     "data": {
      "application/vnd.jupyter.widget-view+json": {
       "model_id": "",
       "version_major": 2,
       "version_minor": 0
      },
      "text/plain": [
       "-q sb as bs ba --marginal a --cb_type mtr --l1 1e-06 --learning_rate 0.1:   0%|          | 0/1 [00:00<?, ?it/s…"
      ]
     },
     "metadata": {},
     "output_type": "display_data"
    },
    {
     "data": {
      "application/vnd.jupyter.widget-view+json": {
       "model_id": "",
       "version_major": 2,
       "version_minor": 0
      },
      "text/plain": [
       "-q sa sb ab bb --marginal a --cb_type mtr --l1 1e-06 --learning_rate 0.1:   0%|          | 0/1 [00:00<?, ?it/s…"
      ]
     },
     "metadata": {},
     "output_type": "display_data"
    },
    {
     "data": {
      "application/vnd.jupyter.widget-view+json": {
       "model_id": "",
       "version_major": 2,
       "version_minor": 0
      },
      "text/plain": [
       "-q ss sa sb ba --marginal a --cb_type mtr --l1 1e-06 --learning_rate 0.1:   0%|          | 0/1 [00:00<?, ?it/s…"
      ]
     },
     "metadata": {},
     "output_type": "display_data"
    },
    {
     "data": {
      "application/vnd.jupyter.widget-view+json": {
       "model_id": "",
       "version_major": 2,
       "version_minor": 0
      },
      "text/plain": [
       "-q ss sb ba bb --marginal a --cb_type mtr --l1 1e-06 --learning_rate 0.1:   0%|          | 0/1 [00:00<?, ?it/s…"
      ]
     },
     "metadata": {},
     "output_type": "display_data"
    },
    {
     "data": {
      "application/vnd.jupyter.widget-view+json": {
       "model_id": "",
       "version_major": 2,
       "version_minor": 0
      },
      "text/plain": [
       "-q sb as bs bb --marginal a --cb_type mtr --l1 1e-06 --learning_rate 0.1:   0%|          | 0/1 [00:00<?, ?it/s…"
      ]
     },
     "metadata": {},
     "output_type": "display_data"
    },
    {
     "data": {
      "application/vnd.jupyter.widget-view+json": {
       "model_id": "",
       "version_major": 2,
       "version_minor": 0
      },
      "text/plain": [
       "-q sa sb bs ba --marginal a --cb_type mtr --l1 1e-06 --learning_rate 0.1:   0%|          | 0/1 [00:00<?, ?it/s…"
      ]
     },
     "metadata": {},
     "output_type": "display_data"
    },
    {
     "data": {
      "application/vnd.jupyter.widget-view+json": {
       "model_id": "",
       "version_major": 2,
       "version_minor": 0
      },
      "text/plain": [
       "-q ss sa sb bb --marginal a --cb_type mtr --l1 1e-06 --learning_rate 0.1:   0%|          | 0/1 [00:00<?, ?it/s…"
      ]
     },
     "metadata": {},
     "output_type": "display_data"
    },
    {
     "data": {
      "application/vnd.jupyter.widget-view+json": {
       "model_id": "",
       "version_major": 2,
       "version_minor": 0
      },
      "text/plain": [
       "-q sa sb bs bb --marginal a --cb_type mtr --l1 1e-06 --learning_rate 0.1:   0%|          | 0/1 [00:00<?, ?it/s…"
      ]
     },
     "metadata": {},
     "output_type": "display_data"
    },
    {
     "data": {
      "application/vnd.jupyter.widget-view+json": {
       "model_id": "",
       "version_major": 2,
       "version_minor": 0
      },
      "text/plain": [
       "-q ss as aa ab --marginal a --cb_type mtr --l1 1e-06 --learning_rate 0.1:   0%|          | 0/1 [00:00<?, ?it/s…"
      ]
     },
     "metadata": {},
     "output_type": "display_data"
    },
    {
     "data": {
      "application/vnd.jupyter.widget-view+json": {
       "model_id": "",
       "version_major": 2,
       "version_minor": 0
      },
      "text/plain": [
       "-q sb as ba bb --marginal a --cb_type mtr --l1 1e-06 --learning_rate 0.1:   0%|          | 0/1 [00:00<?, ?it/s…"
      ]
     },
     "metadata": {},
     "output_type": "display_data"
    },
    {
     "data": {
      "application/vnd.jupyter.widget-view+json": {
       "model_id": "",
       "version_major": 2,
       "version_minor": 0
      },
      "text/plain": [
       "-q ss sa as aa --marginal a --cb_type mtr --l1 1e-06 --learning_rate 0.1:   0%|          | 0/1 [00:00<?, ?it/s…"
      ]
     },
     "metadata": {},
     "output_type": "display_data"
    },
    {
     "data": {
      "application/vnd.jupyter.widget-view+json": {
       "model_id": "",
       "version_major": 2,
       "version_minor": 0
      },
      "text/plain": [
       "-q sa sb ba bb --marginal a --cb_type mtr --l1 1e-06 --learning_rate 0.1:   0%|          | 0/1 [00:00<?, ?it/s…"
      ]
     },
     "metadata": {},
     "output_type": "display_data"
    },
    {
     "data": {
      "application/vnd.jupyter.widget-view+json": {
       "model_id": "",
       "version_major": 2,
       "version_minor": 0
      },
      "text/plain": [
       "-q sb aa ab bs --marginal a --cb_type mtr --l1 1e-06 --learning_rate 0.1:   0%|          | 0/1 [00:00<?, ?it/s…"
      ]
     },
     "metadata": {},
     "output_type": "display_data"
    },
    {
     "data": {
      "application/vnd.jupyter.widget-view+json": {
       "model_id": "",
       "version_major": 2,
       "version_minor": 0
      },
      "text/plain": [
       "-q ss as aa bs --marginal a --cb_type mtr --l1 1e-06 --learning_rate 0.1:   0%|          | 0/1 [00:00<?, ?it/s…"
      ]
     },
     "metadata": {},
     "output_type": "display_data"
    },
    {
     "data": {
      "application/vnd.jupyter.widget-view+json": {
       "model_id": "",
       "version_major": 2,
       "version_minor": 0
      },
      "text/plain": [
       "-q ss sa as ab --marginal a --cb_type mtr --l1 1e-06 --learning_rate 0.1:   0%|          | 0/1 [00:00<?, ?it/s…"
      ]
     },
     "metadata": {},
     "output_type": "display_data"
    },
    {
     "data": {
      "application/vnd.jupyter.widget-view+json": {
       "model_id": "",
       "version_major": 2,
       "version_minor": 0
      },
      "text/plain": [
       "-q ss as aa ba --marginal a --cb_type mtr --l1 1e-06 --learning_rate 0.1:   0%|          | 0/1 [00:00<?, ?it/s…"
      ]
     },
     "metadata": {},
     "output_type": "display_data"
    },
    {
     "data": {
      "application/vnd.jupyter.widget-view+json": {
       "model_id": "",
       "version_major": 2,
       "version_minor": 0
      },
      "text/plain": [
       "-q sb aa ab ba --marginal a --cb_type mtr --l1 1e-06 --learning_rate 0.1:   0%|          | 0/1 [00:00<?, ?it/s…"
      ]
     },
     "metadata": {},
     "output_type": "display_data"
    },
    {
     "data": {
      "application/vnd.jupyter.widget-view+json": {
       "model_id": "",
       "version_major": 2,
       "version_minor": 0
      },
      "text/plain": [
       "-q sa as aa ab --marginal a --cb_type mtr --l1 1e-06 --learning_rate 0.1:   0%|          | 0/1 [00:00<?, ?it/s…"
      ]
     },
     "metadata": {},
     "output_type": "display_data"
    },
    {
     "data": {
      "application/vnd.jupyter.widget-view+json": {
       "model_id": "",
       "version_major": 2,
       "version_minor": 0
      },
      "text/plain": [
       "-q ss sa as bs --marginal a --cb_type mtr --l1 1e-06 --learning_rate 0.1:   0%|          | 0/1 [00:00<?, ?it/s…"
      ]
     },
     "metadata": {},
     "output_type": "display_data"
    },
    {
     "data": {
      "application/vnd.jupyter.widget-view+json": {
       "model_id": "",
       "version_major": 2,
       "version_minor": 0
      },
      "text/plain": [
       "-q sb aa ab bb --marginal a --cb_type mtr --l1 1e-06 --learning_rate 0.1:   0%|          | 0/1 [00:00<?, ?it/s…"
      ]
     },
     "metadata": {},
     "output_type": "display_data"
    },
    {
     "data": {
      "application/vnd.jupyter.widget-view+json": {
       "model_id": "",
       "version_major": 2,
       "version_minor": 0
      },
      "text/plain": [
       "-q ss as aa bb --marginal a --cb_type mtr --l1 1e-06 --learning_rate 0.1:   0%|          | 0/1 [00:00<?, ?it/s…"
      ]
     },
     "metadata": {},
     "output_type": "display_data"
    },
    {
     "data": {
      "application/vnd.jupyter.widget-view+json": {
       "model_id": "",
       "version_major": 2,
       "version_minor": 0
      },
      "text/plain": [
       "-q sa as aa bs --marginal a --cb_type mtr --l1 1e-06 --learning_rate 0.1:   0%|          | 0/1 [00:00<?, ?it/s…"
      ]
     },
     "metadata": {},
     "output_type": "display_data"
    },
    {
     "data": {
      "application/vnd.jupyter.widget-view+json": {
       "model_id": "",
       "version_major": 2,
       "version_minor": 0
      },
      "text/plain": [
       "-q ss sa as ba --marginal a --cb_type mtr --l1 1e-06 --learning_rate 0.1:   0%|          | 0/1 [00:00<?, ?it/s…"
      ]
     },
     "metadata": {},
     "output_type": "display_data"
    },
    {
     "data": {
      "application/vnd.jupyter.widget-view+json": {
       "model_id": "",
       "version_major": 2,
       "version_minor": 0
      },
      "text/plain": [
       "-q sb aa bs ba --marginal a --cb_type mtr --l1 1e-06 --learning_rate 0.1:   0%|          | 0/1 [00:00<?, ?it/s…"
      ]
     },
     "metadata": {},
     "output_type": "display_data"
    },
    {
     "data": {
      "application/vnd.jupyter.widget-view+json": {
       "model_id": "",
       "version_major": 2,
       "version_minor": 0
      },
      "text/plain": [
       "-q ss as ab bs --marginal a --cb_type mtr --l1 1e-06 --learning_rate 0.1:   0%|          | 0/1 [00:00<?, ?it/s…"
      ]
     },
     "metadata": {},
     "output_type": "display_data"
    },
    {
     "data": {
      "application/vnd.jupyter.widget-view+json": {
       "model_id": "",
       "version_major": 2,
       "version_minor": 0
      },
      "text/plain": [
       "-q sa as aa ba --marginal a --cb_type mtr --l1 1e-06 --learning_rate 0.1:   0%|          | 0/1 [00:00<?, ?it/s…"
      ]
     },
     "metadata": {},
     "output_type": "display_data"
    },
    {
     "data": {
      "application/vnd.jupyter.widget-view+json": {
       "model_id": "",
       "version_major": 2,
       "version_minor": 0
      },
      "text/plain": [
       "-q ss sa as bb --marginal a --cb_type mtr --l1 1e-06 --learning_rate 0.1:   0%|          | 0/1 [00:00<?, ?it/s…"
      ]
     },
     "metadata": {},
     "output_type": "display_data"
    },
    {
     "data": {
      "application/vnd.jupyter.widget-view+json": {
       "model_id": "",
       "version_major": 2,
       "version_minor": 0
      },
      "text/plain": [
       "-q sb aa bs bb --marginal a --cb_type mtr --l1 1e-06 --learning_rate 0.1:   0%|          | 0/1 [00:00<?, ?it/s…"
      ]
     },
     "metadata": {},
     "output_type": "display_data"
    },
    {
     "data": {
      "application/vnd.jupyter.widget-view+json": {
       "model_id": "",
       "version_major": 2,
       "version_minor": 0
      },
      "text/plain": [
       "-q ss as ab ba --marginal a --cb_type mtr --l1 1e-06 --learning_rate 0.1:   0%|          | 0/1 [00:00<?, ?it/s…"
      ]
     },
     "metadata": {},
     "output_type": "display_data"
    },
    {
     "data": {
      "application/vnd.jupyter.widget-view+json": {
       "model_id": "",
       "version_major": 2,
       "version_minor": 0
      },
      "text/plain": [
       "-q sa as aa bb --marginal a --cb_type mtr --l1 1e-06 --learning_rate 0.1:   0%|          | 0/1 [00:00<?, ?it/s…"
      ]
     },
     "metadata": {},
     "output_type": "display_data"
    },
    {
     "data": {
      "application/vnd.jupyter.widget-view+json": {
       "model_id": "",
       "version_major": 2,
       "version_minor": 0
      },
      "text/plain": [
       "-q ss sa aa ab --marginal a --cb_type mtr --l1 1e-06 --learning_rate 0.1:   0%|          | 0/1 [00:00<?, ?it/s…"
      ]
     },
     "metadata": {},
     "output_type": "display_data"
    },
    {
     "data": {
      "application/vnd.jupyter.widget-view+json": {
       "model_id": "",
       "version_major": 2,
       "version_minor": 0
      },
      "text/plain": [
       "-q ss as ab bb --marginal a --cb_type mtr --l1 1e-06 --learning_rate 0.1:   0%|          | 0/1 [00:00<?, ?it/s…"
      ]
     },
     "metadata": {},
     "output_type": "display_data"
    },
    {
     "data": {
      "application/vnd.jupyter.widget-view+json": {
       "model_id": "",
       "version_major": 2,
       "version_minor": 0
      },
      "text/plain": [
       "-q sa as ab bs --marginal a --cb_type mtr --l1 1e-06 --learning_rate 0.1:   0%|          | 0/1 [00:00<?, ?it/s…"
      ]
     },
     "metadata": {},
     "output_type": "display_data"
    },
    {
     "data": {
      "application/vnd.jupyter.widget-view+json": {
       "model_id": "",
       "version_major": 2,
       "version_minor": 0
      },
      "text/plain": [
       "-q sb aa ba bb --marginal a --cb_type mtr --l1 1e-06 --learning_rate 0.1:   0%|          | 0/1 [00:00<?, ?it/s…"
      ]
     },
     "metadata": {},
     "output_type": "display_data"
    },
    {
     "data": {
      "application/vnd.jupyter.widget-view+json": {
       "model_id": "",
       "version_major": 2,
       "version_minor": 0
      },
      "text/plain": [
       "-q ss sa aa bs --marginal a --cb_type mtr --l1 1e-06 --learning_rate 0.1:   0%|          | 0/1 [00:00<?, ?it/s…"
      ]
     },
     "metadata": {},
     "output_type": "display_data"
    },
    {
     "data": {
      "application/vnd.jupyter.widget-view+json": {
       "model_id": "",
       "version_major": 2,
       "version_minor": 0
      },
      "text/plain": [
       "-q sa as ab ba --marginal a --cb_type mtr --l1 1e-06 --learning_rate 0.1:   0%|          | 0/1 [00:00<?, ?it/s…"
      ]
     },
     "metadata": {},
     "output_type": "display_data"
    },
    {
     "data": {
      "application/vnd.jupyter.widget-view+json": {
       "model_id": "",
       "version_major": 2,
       "version_minor": 0
      },
      "text/plain": [
       "-q ss as bs ba --marginal a --cb_type mtr --l1 1e-06 --learning_rate 0.1:   0%|          | 0/1 [00:00<?, ?it/s…"
      ]
     },
     "metadata": {},
     "output_type": "display_data"
    },
    {
     "data": {
      "application/vnd.jupyter.widget-view+json": {
       "model_id": "",
       "version_major": 2,
       "version_minor": 0
      },
      "text/plain": [
       "-q sb ab bs ba --marginal a --cb_type mtr --l1 1e-06 --learning_rate 0.1:   0%|          | 0/1 [00:00<?, ?it/s…"
      ]
     },
     "metadata": {},
     "output_type": "display_data"
    },
    {
     "data": {
      "application/vnd.jupyter.widget-view+json": {
       "model_id": "",
       "version_major": 2,
       "version_minor": 0
      },
      "text/plain": [
       "-q ss sa aa ba --marginal a --cb_type mtr --l1 1e-06 --learning_rate 0.1:   0%|          | 0/1 [00:00<?, ?it/s…"
      ]
     },
     "metadata": {},
     "output_type": "display_data"
    },
    {
     "data": {
      "application/vnd.jupyter.widget-view+json": {
       "model_id": "",
       "version_major": 2,
       "version_minor": 0
      },
      "text/plain": [
       "-q sa as ab bb --marginal a --cb_type mtr --l1 1e-06 --learning_rate 0.1:   0%|          | 0/1 [00:00<?, ?it/s…"
      ]
     },
     "metadata": {},
     "output_type": "display_data"
    },
    {
     "data": {
      "application/vnd.jupyter.widget-view+json": {
       "model_id": "",
       "version_major": 2,
       "version_minor": 0
      },
      "text/plain": [
       "-q sb ab bs bb --marginal a --cb_type mtr --l1 1e-06 --learning_rate 0.1:   0%|          | 0/1 [00:00<?, ?it/s…"
      ]
     },
     "metadata": {},
     "output_type": "display_data"
    },
    {
     "data": {
      "application/vnd.jupyter.widget-view+json": {
       "model_id": "",
       "version_major": 2,
       "version_minor": 0
      },
      "text/plain": [
       "-q ss as bs bb --marginal a --cb_type mtr --l1 1e-06 --learning_rate 0.1:   0%|          | 0/1 [00:00<?, ?it/s…"
      ]
     },
     "metadata": {},
     "output_type": "display_data"
    },
    {
     "data": {
      "application/vnd.jupyter.widget-view+json": {
       "model_id": "",
       "version_major": 2,
       "version_minor": 0
      },
      "text/plain": [
       "-q ss sa aa bb --marginal a --cb_type mtr --l1 1e-06 --learning_rate 0.1:   0%|          | 0/1 [00:00<?, ?it/s…"
      ]
     },
     "metadata": {},
     "output_type": "display_data"
    },
    {
     "data": {
      "application/vnd.jupyter.widget-view+json": {
       "model_id": "",
       "version_major": 2,
       "version_minor": 0
      },
      "text/plain": [
       "-q sa as bs ba --marginal a --cb_type mtr --l1 1e-06 --learning_rate 0.1:   0%|          | 0/1 [00:00<?, ?it/s…"
      ]
     },
     "metadata": {},
     "output_type": "display_data"
    },
    {
     "data": {
      "application/vnd.jupyter.widget-view+json": {
       "model_id": "",
       "version_major": 2,
       "version_minor": 0
      },
      "text/plain": [
       "-q ss as ba bb --marginal a --cb_type mtr --l1 1e-06 --learning_rate 0.1:   0%|          | 0/1 [00:00<?, ?it/s…"
      ]
     },
     "metadata": {},
     "output_type": "display_data"
    },
    {
     "data": {
      "application/vnd.jupyter.widget-view+json": {
       "model_id": "",
       "version_major": 2,
       "version_minor": 0
      },
      "text/plain": [
       "-q sb ab ba bb --marginal a --cb_type mtr --l1 1e-06 --learning_rate 0.1:   0%|          | 0/1 [00:00<?, ?it/s…"
      ]
     },
     "metadata": {},
     "output_type": "display_data"
    },
    {
     "data": {
      "application/vnd.jupyter.widget-view+json": {
       "model_id": "",
       "version_major": 2,
       "version_minor": 0
      },
      "text/plain": [
       "-q sa as bs bb --marginal a --cb_type mtr --l1 1e-06 --learning_rate 0.1:   0%|          | 0/1 [00:00<?, ?it/s…"
      ]
     },
     "metadata": {},
     "output_type": "display_data"
    },
    {
     "data": {
      "application/vnd.jupyter.widget-view+json": {
       "model_id": "",
       "version_major": 2,
       "version_minor": 0
      },
      "text/plain": [
       "-q ss sa ab bs --marginal a --cb_type mtr --l1 1e-06 --learning_rate 0.1:   0%|          | 0/1 [00:00<?, ?it/s…"
      ]
     },
     "metadata": {},
     "output_type": "display_data"
    },
    {
     "data": {
      "application/vnd.jupyter.widget-view+json": {
       "model_id": "",
       "version_major": 2,
       "version_minor": 0
      },
      "text/plain": [
       "-q ss aa ab bs --marginal a --cb_type mtr --l1 1e-06 --learning_rate 0.1:   0%|          | 0/1 [00:00<?, ?it/s…"
      ]
     },
     "metadata": {},
     "output_type": "display_data"
    },
    {
     "data": {
      "application/vnd.jupyter.widget-view+json": {
       "model_id": "",
       "version_major": 2,
       "version_minor": 0
      },
      "text/plain": [
       "-q sb bs ba bb --marginal a --cb_type mtr --l1 1e-06 --learning_rate 0.1:   0%|          | 0/1 [00:00<?, ?it/s…"
      ]
     },
     "metadata": {},
     "output_type": "display_data"
    },
    {
     "data": {
      "application/vnd.jupyter.widget-view+json": {
       "model_id": "",
       "version_major": 2,
       "version_minor": 0
      },
      "text/plain": [
       "-q sa as ba bb --marginal a --cb_type mtr --l1 1e-06 --learning_rate 0.1:   0%|          | 0/1 [00:00<?, ?it/s…"
      ]
     },
     "metadata": {},
     "output_type": "display_data"
    },
    {
     "data": {
      "application/vnd.jupyter.widget-view+json": {
       "model_id": "",
       "version_major": 2,
       "version_minor": 0
      },
      "text/plain": [
       "-q ss sa ab ba --marginal a --cb_type mtr --l1 1e-06 --learning_rate 0.1:   0%|          | 0/1 [00:00<?, ?it/s…"
      ]
     },
     "metadata": {},
     "output_type": "display_data"
    },
    {
     "data": {
      "application/vnd.jupyter.widget-view+json": {
       "model_id": "",
       "version_major": 2,
       "version_minor": 0
      },
      "text/plain": [
       "-q ss aa ab ba --marginal a --cb_type mtr --l1 1e-06 --learning_rate 0.1:   0%|          | 0/1 [00:00<?, ?it/s…"
      ]
     },
     "metadata": {},
     "output_type": "display_data"
    },
    {
     "data": {
      "application/vnd.jupyter.widget-view+json": {
       "model_id": "",
       "version_major": 2,
       "version_minor": 0
      },
      "text/plain": [
       "-q as aa ab bs --marginal a --cb_type mtr --l1 1e-06 --learning_rate 0.1:   0%|          | 0/1 [00:00<?, ?it/s…"
      ]
     },
     "metadata": {},
     "output_type": "display_data"
    },
    {
     "data": {
      "application/vnd.jupyter.widget-view+json": {
       "model_id": "",
       "version_major": 2,
       "version_minor": 0
      },
      "text/plain": [
       "-q sa aa ab bs --marginal a --cb_type mtr --l1 1e-06 --learning_rate 0.1:   0%|          | 0/1 [00:00<?, ?it/s…"
      ]
     },
     "metadata": {},
     "output_type": "display_data"
    },
    {
     "data": {
      "application/vnd.jupyter.widget-view+json": {
       "model_id": "",
       "version_major": 2,
       "version_minor": 0
      },
      "text/plain": [
       "-q ss sa ab bb --marginal a --cb_type mtr --l1 1e-06 --learning_rate 0.1:   0%|          | 0/1 [00:00<?, ?it/s…"
      ]
     },
     "metadata": {},
     "output_type": "display_data"
    },
    {
     "data": {
      "application/vnd.jupyter.widget-view+json": {
       "model_id": "",
       "version_major": 2,
       "version_minor": 0
      },
      "text/plain": [
       "-q ss aa ab bb --marginal a --cb_type mtr --l1 1e-06 --learning_rate 0.1:   0%|          | 0/1 [00:00<?, ?it/s…"
      ]
     },
     "metadata": {},
     "output_type": "display_data"
    },
    {
     "data": {
      "application/vnd.jupyter.widget-view+json": {
       "model_id": "",
       "version_major": 2,
       "version_minor": 0
      },
      "text/plain": [
       "-q as aa ab ba --marginal a --cb_type mtr --l1 1e-06 --learning_rate 0.1:   0%|          | 0/1 [00:00<?, ?it/s…"
      ]
     },
     "metadata": {},
     "output_type": "display_data"
    },
    {
     "data": {
      "application/vnd.jupyter.widget-view+json": {
       "model_id": "",
       "version_major": 2,
       "version_minor": 0
      },
      "text/plain": [
       "-q sa aa ab ba --marginal a --cb_type mtr --l1 1e-06 --learning_rate 0.1:   0%|          | 0/1 [00:00<?, ?it/s…"
      ]
     },
     "metadata": {},
     "output_type": "display_data"
    },
    {
     "data": {
      "application/vnd.jupyter.widget-view+json": {
       "model_id": "",
       "version_major": 2,
       "version_minor": 0
      },
      "text/plain": [
       "-q ss sa bs ba --marginal a --cb_type mtr --l1 1e-06 --learning_rate 0.1:   0%|          | 0/1 [00:00<?, ?it/s…"
      ]
     },
     "metadata": {},
     "output_type": "display_data"
    },
    {
     "data": {
      "application/vnd.jupyter.widget-view+json": {
       "model_id": "",
       "version_major": 2,
       "version_minor": 0
      },
      "text/plain": [
       "-q ss aa bs ba --marginal a --cb_type mtr --l1 1e-06 --learning_rate 0.1:   0%|          | 0/1 [00:00<?, ?it/s…"
      ]
     },
     "metadata": {},
     "output_type": "display_data"
    },
    {
     "data": {
      "application/vnd.jupyter.widget-view+json": {
       "model_id": "",
       "version_major": 2,
       "version_minor": 0
      },
      "text/plain": [
       "-q as aa ab bb --marginal a --cb_type mtr --l1 1e-06 --learning_rate 0.1:   0%|          | 0/1 [00:00<?, ?it/s…"
      ]
     },
     "metadata": {},
     "output_type": "display_data"
    },
    {
     "data": {
      "application/vnd.jupyter.widget-view+json": {
       "model_id": "",
       "version_major": 2,
       "version_minor": 0
      },
      "text/plain": [
       "-q sa aa ab bb --marginal a --cb_type mtr --l1 1e-06 --learning_rate 0.1:   0%|          | 0/1 [00:00<?, ?it/s…"
      ]
     },
     "metadata": {},
     "output_type": "display_data"
    },
    {
     "data": {
      "application/vnd.jupyter.widget-view+json": {
       "model_id": "",
       "version_major": 2,
       "version_minor": 0
      },
      "text/plain": [
       "-q ss sa bs bb --marginal a --cb_type mtr --l1 1e-06 --learning_rate 0.1:   0%|          | 0/1 [00:00<?, ?it/s…"
      ]
     },
     "metadata": {},
     "output_type": "display_data"
    },
    {
     "data": {
      "application/vnd.jupyter.widget-view+json": {
       "model_id": "",
       "version_major": 2,
       "version_minor": 0
      },
      "text/plain": [
       "-q ss aa bs bb --marginal a --cb_type mtr --l1 1e-06 --learning_rate 0.1:   0%|          | 0/1 [00:00<?, ?it/s…"
      ]
     },
     "metadata": {},
     "output_type": "display_data"
    },
    {
     "data": {
      "application/vnd.jupyter.widget-view+json": {
       "model_id": "",
       "version_major": 2,
       "version_minor": 0
      },
      "text/plain": [
       "-q as aa bs ba --marginal a --cb_type mtr --l1 1e-06 --learning_rate 0.1:   0%|          | 0/1 [00:00<?, ?it/s…"
      ]
     },
     "metadata": {},
     "output_type": "display_data"
    },
    {
     "data": {
      "application/vnd.jupyter.widget-view+json": {
       "model_id": "",
       "version_major": 2,
       "version_minor": 0
      },
      "text/plain": [
       "-q sa aa bs ba --marginal a --cb_type mtr --l1 1e-06 --learning_rate 0.1:   0%|          | 0/1 [00:00<?, ?it/s…"
      ]
     },
     "metadata": {},
     "output_type": "display_data"
    },
    {
     "data": {
      "application/vnd.jupyter.widget-view+json": {
       "model_id": "",
       "version_major": 2,
       "version_minor": 0
      },
      "text/plain": [
       "-q ss sa ba bb --marginal a --cb_type mtr --l1 1e-06 --learning_rate 0.1:   0%|          | 0/1 [00:00<?, ?it/s…"
      ]
     },
     "metadata": {},
     "output_type": "display_data"
    },
    {
     "data": {
      "application/vnd.jupyter.widget-view+json": {
       "model_id": "",
       "version_major": 2,
       "version_minor": 0
      },
      "text/plain": [
       "-q ss aa ba bb --marginal a --cb_type mtr --l1 1e-06 --learning_rate 0.1:   0%|          | 0/1 [00:00<?, ?it/s…"
      ]
     },
     "metadata": {},
     "output_type": "display_data"
    },
    {
     "data": {
      "application/vnd.jupyter.widget-view+json": {
       "model_id": "",
       "version_major": 2,
       "version_minor": 0
      },
      "text/plain": [
       "-q as aa bs bb --marginal a --cb_type mtr --l1 1e-06 --learning_rate 0.1:   0%|          | 0/1 [00:00<?, ?it/s…"
      ]
     },
     "metadata": {},
     "output_type": "display_data"
    },
    {
     "data": {
      "application/vnd.jupyter.widget-view+json": {
       "model_id": "",
       "version_major": 2,
       "version_minor": 0
      },
      "text/plain": [
       "-q sa aa bs bb --marginal a --cb_type mtr --l1 1e-06 --learning_rate 0.1:   0%|          | 0/1 [00:00<?, ?it/s…"
      ]
     },
     "metadata": {},
     "output_type": "display_data"
    },
    {
     "data": {
      "application/vnd.jupyter.widget-view+json": {
       "model_id": "",
       "version_major": 2,
       "version_minor": 0
      },
      "text/plain": [
       "-q ss sb as aa --marginal a --cb_type mtr --l1 1e-06 --learning_rate 0.1:   0%|          | 0/1 [00:00<?, ?it/s…"
      ]
     },
     "metadata": {},
     "output_type": "display_data"
    },
    {
     "data": {
      "application/vnd.jupyter.widget-view+json": {
       "model_id": "",
       "version_major": 2,
       "version_minor": 0
      },
      "text/plain": [
       "-q ss ab bs ba --marginal a --cb_type mtr --l1 1e-06 --learning_rate 0.1:   0%|          | 0/1 [00:00<?, ?it/s…"
      ]
     },
     "metadata": {},
     "output_type": "display_data"
    },
    {
     "data": {
      "application/vnd.jupyter.widget-view+json": {
       "model_id": "",
       "version_major": 2,
       "version_minor": 0
      },
      "text/plain": [
       "-q as aa ba bb --marginal a --cb_type mtr --l1 1e-06 --learning_rate 0.1:   0%|          | 0/1 [00:00<?, ?it/s…"
      ]
     },
     "metadata": {},
     "output_type": "display_data"
    },
    {
     "data": {
      "application/vnd.jupyter.widget-view+json": {
       "model_id": "",
       "version_major": 2,
       "version_minor": 0
      },
      "text/plain": [
       "-q sa aa ba bb --marginal a --cb_type mtr --l1 1e-06 --learning_rate 0.1:   0%|          | 0/1 [00:00<?, ?it/s…"
      ]
     },
     "metadata": {},
     "output_type": "display_data"
    },
    {
     "data": {
      "application/vnd.jupyter.widget-view+json": {
       "model_id": "",
       "version_major": 2,
       "version_minor": 0
      },
      "text/plain": [
       "-q ss sb as ab --marginal a --cb_type mtr --l1 1e-06 --learning_rate 0.1:   0%|          | 0/1 [00:00<?, ?it/s…"
      ]
     },
     "metadata": {},
     "output_type": "display_data"
    },
    {
     "data": {
      "application/vnd.jupyter.widget-view+json": {
       "model_id": "",
       "version_major": 2,
       "version_minor": 0
      },
      "text/plain": [
       "-q ss ab bs bb --marginal a --cb_type mtr --l1 1e-06 --learning_rate 0.1:   0%|          | 0/1 [00:00<?, ?it/s…"
      ]
     },
     "metadata": {},
     "output_type": "display_data"
    },
    {
     "data": {
      "application/vnd.jupyter.widget-view+json": {
       "model_id": "",
       "version_major": 2,
       "version_minor": 0
      },
      "text/plain": [
       "-q sa ab bs ba --marginal a --cb_type mtr --l1 1e-06 --learning_rate 0.1:   0%|          | 0/1 [00:00<?, ?it/s…"
      ]
     },
     "metadata": {},
     "output_type": "display_data"
    },
    {
     "data": {
      "application/vnd.jupyter.widget-view+json": {
       "model_id": "",
       "version_major": 2,
       "version_minor": 0
      },
      "text/plain": [
       "-q as ab bs ba --marginal a --cb_type mtr --l1 1e-06 --learning_rate 0.1:   0%|          | 0/1 [00:00<?, ?it/s…"
      ]
     },
     "metadata": {},
     "output_type": "display_data"
    },
    {
     "data": {
      "application/vnd.jupyter.widget-view+json": {
       "model_id": "",
       "version_major": 2,
       "version_minor": 0
      },
      "text/plain": [
       "-q ss sb as bs --marginal a --cb_type mtr --l1 1e-06 --learning_rate 0.1:   0%|          | 0/1 [00:00<?, ?it/s…"
      ]
     },
     "metadata": {},
     "output_type": "display_data"
    },
    {
     "data": {
      "application/vnd.jupyter.widget-view+json": {
       "model_id": "",
       "version_major": 2,
       "version_minor": 0
      },
      "text/plain": [
       "-q ss ab ba bb --marginal a --cb_type mtr --l1 1e-06 --learning_rate 0.1:   0%|          | 0/1 [00:00<?, ?it/s…"
      ]
     },
     "metadata": {},
     "output_type": "display_data"
    },
    {
     "data": {
      "application/vnd.jupyter.widget-view+json": {
       "model_id": "",
       "version_major": 2,
       "version_minor": 0
      },
      "text/plain": [
       "-q as ab bs bb --marginal a --cb_type mtr --l1 1e-06 --learning_rate 0.1:   0%|          | 0/1 [00:00<?, ?it/s…"
      ]
     },
     "metadata": {},
     "output_type": "display_data"
    },
    {
     "data": {
      "application/vnd.jupyter.widget-view+json": {
       "model_id": "",
       "version_major": 2,
       "version_minor": 0
      },
      "text/plain": [
       "-q sa ab bs bb --marginal a --cb_type mtr --l1 1e-06 --learning_rate 0.1:   0%|          | 0/1 [00:00<?, ?it/s…"
      ]
     },
     "metadata": {},
     "output_type": "display_data"
    },
    {
     "data": {
      "application/vnd.jupyter.widget-view+json": {
       "model_id": "",
       "version_major": 2,
       "version_minor": 0
      },
      "text/plain": [
       "-q ss sb as ba --marginal a --cb_type mtr --l1 1e-06 --learning_rate 0.1:   0%|          | 0/1 [00:00<?, ?it/s…"
      ]
     },
     "metadata": {},
     "output_type": "display_data"
    },
    {
     "data": {
      "application/vnd.jupyter.widget-view+json": {
       "model_id": "",
       "version_major": 2,
       "version_minor": 0
      },
      "text/plain": [
       "-q ss bs ba bb --marginal a --cb_type mtr --l1 1e-06 --learning_rate 0.1:   0%|          | 0/1 [00:00<?, ?it/s…"
      ]
     },
     "metadata": {},
     "output_type": "display_data"
    },
    {
     "data": {
      "application/vnd.jupyter.widget-view+json": {
       "model_id": "",
       "version_major": 2,
       "version_minor": 0
      },
      "text/plain": [
       "-q as ab ba bb --marginal a --cb_type mtr --l1 1e-06 --learning_rate 0.1:   0%|          | 0/1 [00:00<?, ?it/s…"
      ]
     },
     "metadata": {},
     "output_type": "display_data"
    },
    {
     "data": {
      "application/vnd.jupyter.widget-view+json": {
       "model_id": "",
       "version_major": 2,
       "version_minor": 0
      },
      "text/plain": [
       "-q sa ab ba bb --marginal a --cb_type mtr --l1 1e-06 --learning_rate 0.1:   0%|          | 0/1 [00:00<?, ?it/s…"
      ]
     },
     "metadata": {},
     "output_type": "display_data"
    },
    {
     "data": {
      "application/vnd.jupyter.widget-view+json": {
       "model_id": "",
       "version_major": 2,
       "version_minor": 0
      },
      "text/plain": [
       "-q ss sb as bb --marginal a --cb_type mtr --l1 1e-06 --learning_rate 0.1:   0%|          | 0/1 [00:00<?, ?it/s…"
      ]
     },
     "metadata": {},
     "output_type": "display_data"
    },
    {
     "data": {
      "application/vnd.jupyter.widget-view+json": {
       "model_id": "",
       "version_major": 2,
       "version_minor": 0
      },
      "text/plain": [
       "-q sa sb as aa --marginal a --cb_type mtr --l1 1e-06 --learning_rate 0.1:   0%|          | 0/1 [00:00<?, ?it/s…"
      ]
     },
     "metadata": {},
     "output_type": "display_data"
    },
    {
     "data": {
      "application/vnd.jupyter.widget-view+json": {
       "model_id": "",
       "version_major": 2,
       "version_minor": 0
      },
      "text/plain": [
       "-q sa bs ba bb --marginal a --cb_type mtr --l1 1e-06 --learning_rate 0.1:   0%|          | 0/1 [00:00<?, ?it/s…"
      ]
     },
     "metadata": {},
     "output_type": "display_data"
    },
    {
     "data": {
      "application/vnd.jupyter.widget-view+json": {
       "model_id": "",
       "version_major": 2,
       "version_minor": 0
      },
      "text/plain": [
       "-q as bs ba bb --marginal a --cb_type mtr --l1 1e-06 --learning_rate 0.1:   0%|          | 0/1 [00:00<?, ?it/s…"
      ]
     },
     "metadata": {},
     "output_type": "display_data"
    },
    {
     "data": {
      "application/vnd.jupyter.widget-view+json": {
       "model_id": "",
       "version_major": 2,
       "version_minor": 0
      },
      "text/plain": [
       "-q ss sb aa ab --marginal a --cb_type mtr --l1 1e-06 --learning_rate 0.1:   0%|          | 0/1 [00:00<?, ?it/s…"
      ]
     },
     "metadata": {},
     "output_type": "display_data"
    },
    {
     "data": {
      "application/vnd.jupyter.widget-view+json": {
       "model_id": "",
       "version_major": 2,
       "version_minor": 0
      },
      "text/plain": [
       "-q sa sb as ab --marginal a --cb_type mtr --l1 1e-06 --learning_rate 0.1:   0%|          | 0/1 [00:00<?, ?it/s…"
      ]
     },
     "metadata": {},
     "output_type": "display_data"
    },
    {
     "data": {
      "application/vnd.jupyter.widget-view+json": {
       "model_id": "",
       "version_major": 2,
       "version_minor": 0
      },
      "text/plain": [
       "-q sb as aa ab --marginal a --cb_type mtr --l1 1e-06 --learning_rate 0.1:   0%|          | 0/1 [00:00<?, ?it/s…"
      ]
     },
     "metadata": {},
     "output_type": "display_data"
    },
    {
     "data": {
      "application/vnd.jupyter.widget-view+json": {
       "model_id": "",
       "version_major": 2,
       "version_minor": 0
      },
      "text/plain": [
       "-q aa ab bs ba --marginal a --cb_type mtr --l1 1e-06 --learning_rate 0.1:   0%|          | 0/1 [00:00<?, ?it/s…"
      ]
     },
     "metadata": {},
     "output_type": "display_data"
    },
    {
     "data": {
      "application/vnd.jupyter.widget-view+json": {
       "model_id": "",
       "version_major": 2,
       "version_minor": 0
      },
      "text/plain": [
       "-q ss sb aa bs --marginal a --cb_type mtr --l1 1e-06 --learning_rate 0.1:   0%|          | 0/1 [00:00<?, ?it/s…"
      ]
     },
     "metadata": {},
     "output_type": "display_data"
    },
    {
     "data": {
      "application/vnd.jupyter.widget-view+json": {
       "model_id": "",
       "version_major": 2,
       "version_minor": 0
      },
      "text/plain": [
       "-q sa sb as bs --marginal a --cb_type mtr --l1 1e-06 --learning_rate 0.1:   0%|          | 0/1 [00:00<?, ?it/s…"
      ]
     },
     "metadata": {},
     "output_type": "display_data"
    },
    {
     "data": {
      "application/vnd.jupyter.widget-view+json": {
       "model_id": "",
       "version_major": 2,
       "version_minor": 0
      },
      "text/plain": [
       "-q aa ab bs bb --marginal a --cb_type mtr --l1 1e-06 --learning_rate 0.1:   0%|          | 0/1 [00:00<?, ?it/s…"
      ]
     },
     "metadata": {},
     "output_type": "display_data"
    },
    {
     "data": {
      "application/vnd.jupyter.widget-view+json": {
       "model_id": "",
       "version_major": 2,
       "version_minor": 0
      },
      "text/plain": [
       "-q sb as aa bs --marginal a --cb_type mtr --l1 1e-06 --learning_rate 0.1:   0%|          | 0/1 [00:00<?, ?it/s…"
      ]
     },
     "metadata": {},
     "output_type": "display_data"
    },
    {
     "data": {
      "application/vnd.jupyter.widget-view+json": {
       "model_id": "",
       "version_major": 2,
       "version_minor": 0
      },
      "text/plain": [
       "-q ss sb aa ba --marginal a --cb_type mtr --l1 1e-06 --learning_rate 0.1:   0%|          | 0/1 [00:00<?, ?it/s…"
      ]
     },
     "metadata": {},
     "output_type": "display_data"
    },
    {
     "data": {
      "application/vnd.jupyter.widget-view+json": {
       "model_id": "",
       "version_major": 2,
       "version_minor": 0
      },
      "text/plain": [
       "-q sa sb as ba --marginal a --cb_type mtr --l1 1e-06 --learning_rate 0.1:   0%|          | 0/1 [00:00<?, ?it/s…"
      ]
     },
     "metadata": {},
     "output_type": "display_data"
    },
    {
     "data": {
      "application/vnd.jupyter.widget-view+json": {
       "model_id": "",
       "version_major": 2,
       "version_minor": 0
      },
      "text/plain": [
       "-q aa ab ba bb --marginal a --cb_type mtr --l1 1e-06 --learning_rate 0.1:   0%|          | 0/1 [00:00<?, ?it/s…"
      ]
     },
     "metadata": {},
     "output_type": "display_data"
    },
    {
     "data": {
      "application/vnd.jupyter.widget-view+json": {
       "model_id": "",
       "version_major": 2,
       "version_minor": 0
      },
      "text/plain": [
       "-q sb as aa ba --marginal a --cb_type mtr --l1 1e-06 --learning_rate 0.1:   0%|          | 0/1 [00:00<?, ?it/s…"
      ]
     },
     "metadata": {},
     "output_type": "display_data"
    },
    {
     "data": {
      "application/vnd.jupyter.widget-view+json": {
       "model_id": "",
       "version_major": 2,
       "version_minor": 0
      },
      "text/plain": [
       "-q ss sb aa bb --marginal a --cb_type mtr --l1 1e-06 --learning_rate 0.1:   0%|          | 0/1 [00:00<?, ?it/s…"
      ]
     },
     "metadata": {},
     "output_type": "display_data"
    },
    {
     "data": {
      "application/vnd.jupyter.widget-view+json": {
       "model_id": "",
       "version_major": 2,
       "version_minor": 0
      },
      "text/plain": [
       "-q sa sb as bb --marginal a --cb_type mtr --l1 1e-06 --learning_rate 0.1:   0%|          | 0/1 [00:00<?, ?it/s…"
      ]
     },
     "metadata": {},
     "output_type": "display_data"
    },
    {
     "data": {
      "application/vnd.jupyter.widget-view+json": {
       "model_id": "",
       "version_major": 2,
       "version_minor": 0
      },
      "text/plain": [
       "-q ss sa sb as aa --marginal a --cb_type mtr --l1 1e-06 --learning_rate 0.1:   0%|          | 0/1 [00:00<?, ?i…"
      ]
     },
     "metadata": {},
     "output_type": "display_data"
    },
    {
     "data": {
      "application/vnd.jupyter.widget-view+json": {
       "model_id": "",
       "version_major": 2,
       "version_minor": 0
      },
      "text/plain": [
       "-q aa bs ba bb --marginal a --cb_type mtr --l1 1e-06 --learning_rate 0.1:   0%|          | 0/1 [00:00<?, ?it/s…"
      ]
     },
     "metadata": {},
     "output_type": "display_data"
    },
    {
     "data": {
      "application/vnd.jupyter.widget-view+json": {
       "model_id": "",
       "version_major": 2,
       "version_minor": 0
      },
      "text/plain": [
       "-q ss sa ab bs bb --marginal a --cb_type mtr --l1 1e-06 --learning_rate 0.1:   0%|          | 0/1 [00:00<?, ?i…"
      ]
     },
     "metadata": {},
     "output_type": "display_data"
    },
    {
     "data": {
      "application/vnd.jupyter.widget-view+json": {
       "model_id": "",
       "version_major": 2,
       "version_minor": 0
      },
      "text/plain": [
       "-q sa sb aa ab --marginal a --cb_type mtr --l1 1e-06 --learning_rate 0.1:   0%|          | 0/1 [00:00<?, ?it/s…"
      ]
     },
     "metadata": {},
     "output_type": "display_data"
    },
    {
     "data": {
      "application/vnd.jupyter.widget-view+json": {
       "model_id": "",
       "version_major": 2,
       "version_minor": 0
      },
      "text/plain": [
       "-q ss sa sb as ab --marginal a --cb_type mtr --l1 1e-06 --learning_rate 0.1:   0%|          | 0/1 [00:00<?, ?i…"
      ]
     },
     "metadata": {},
     "output_type": "display_data"
    },
    {
     "data": {
      "application/vnd.jupyter.widget-view+json": {
       "model_id": "",
       "version_major": 2,
       "version_minor": 0
      },
      "text/plain": [
       "-q ab bs ba bb --marginal a --cb_type mtr --l1 1e-06 --learning_rate 0.1:   0%|          | 0/1 [00:00<?, ?it/s…"
      ]
     },
     "metadata": {},
     "output_type": "display_data"
    },
    {
     "data": {
      "application/vnd.jupyter.widget-view+json": {
       "model_id": "",
       "version_major": 2,
       "version_minor": 0
      },
      "text/plain": [
       "-q ss sa ab ba bb --marginal a --cb_type mtr --l1 1e-06 --learning_rate 0.1:   0%|          | 0/1 [00:00<?, ?i…"
      ]
     },
     "metadata": {},
     "output_type": "display_data"
    },
    {
     "data": {
      "application/vnd.jupyter.widget-view+json": {
       "model_id": "",
       "version_major": 2,
       "version_minor": 0
      },
      "text/plain": [
       "-q ss as bs ba bb --marginal a --cb_type mtr --l1 1e-06 --learning_rate 0.1:   0%|          | 0/1 [00:00<?, ?i…"
      ]
     },
     "metadata": {},
     "output_type": "display_data"
    },
    {
     "data": {
      "application/vnd.jupyter.widget-view+json": {
       "model_id": "",
       "version_major": 2,
       "version_minor": 0
      },
      "text/plain": [
       "-q ss sa sb as bs --marginal a --cb_type mtr --l1 1e-06 --learning_rate 0.1:   0%|          | 0/1 [00:00<?, ?i…"
      ]
     },
     "metadata": {},
     "output_type": "display_data"
    },
    {
     "data": {
      "application/vnd.jupyter.widget-view+json": {
       "model_id": "",
       "version_major": 2,
       "version_minor": 0
      },
      "text/plain": [
       "-q sa as ab bs ba --marginal a --cb_type mtr --l1 1e-06 --learning_rate 0.1:   0%|          | 0/1 [00:00<?, ?i…"
      ]
     },
     "metadata": {},
     "output_type": "display_data"
    },
    {
     "data": {
      "application/vnd.jupyter.widget-view+json": {
       "model_id": "",
       "version_major": 2,
       "version_minor": 0
      },
      "text/plain": [
       "-q ss sa bs ba bb --marginal a --cb_type mtr --l1 1e-06 --learning_rate 0.1:   0%|          | 0/1 [00:00<?, ?i…"
      ]
     },
     "metadata": {},
     "output_type": "display_data"
    },
    {
     "data": {
      "application/vnd.jupyter.widget-view+json": {
       "model_id": "",
       "version_major": 2,
       "version_minor": 0
      },
      "text/plain": [
       "-q ss aa ab bs ba --marginal a --cb_type mtr --l1 1e-06 --learning_rate 0.1:   0%|          | 0/1 [00:00<?, ?i…"
      ]
     },
     "metadata": {},
     "output_type": "display_data"
    },
    {
     "data": {
      "application/vnd.jupyter.widget-view+json": {
       "model_id": "",
       "version_major": 2,
       "version_minor": 0
      },
      "text/plain": [
       "-q ss sa sb as ba --marginal a --cb_type mtr --l1 1e-06 --learning_rate 0.1:   0%|          | 0/1 [00:00<?, ?i…"
      ]
     },
     "metadata": {},
     "output_type": "display_data"
    },
    {
     "data": {
      "application/vnd.jupyter.widget-view+json": {
       "model_id": "",
       "version_major": 2,
       "version_minor": 0
      },
      "text/plain": [
       "-q sa as ab bs bb --marginal a --cb_type mtr --l1 1e-06 --learning_rate 0.1:   0%|          | 0/1 [00:00<?, ?i…"
      ]
     },
     "metadata": {},
     "output_type": "display_data"
    },
    {
     "data": {
      "application/vnd.jupyter.widget-view+json": {
       "model_id": "",
       "version_major": 2,
       "version_minor": 0
      },
      "text/plain": [
       "-q ss sb as aa ab --marginal a --cb_type mtr --l1 1e-06 --learning_rate 0.1:   0%|          | 0/1 [00:00<?, ?i…"
      ]
     },
     "metadata": {},
     "output_type": "display_data"
    },
    {
     "data": {
      "application/vnd.jupyter.widget-view+json": {
       "model_id": "",
       "version_major": 2,
       "version_minor": 0
      },
      "text/plain": [
       "-q ss aa ab bs bb --marginal a --cb_type mtr --l1 1e-06 --learning_rate 0.1:   0%|          | 0/1 [00:00<?, ?i…"
      ]
     },
     "metadata": {},
     "output_type": "display_data"
    },
    {
     "data": {
      "application/vnd.jupyter.widget-view+json": {
       "model_id": "",
       "version_major": 2,
       "version_minor": 0
      },
      "text/plain": [
       "-q ss sa sb as bb --marginal a --cb_type mtr --l1 1e-06 --learning_rate 0.1:   0%|          | 0/1 [00:00<?, ?i…"
      ]
     },
     "metadata": {},
     "output_type": "display_data"
    },
    {
     "data": {
      "application/vnd.jupyter.widget-view+json": {
       "model_id": "",
       "version_major": 2,
       "version_minor": 0
      },
      "text/plain": [
       "-q sa as ab ba bb --marginal a --cb_type mtr --l1 1e-06 --learning_rate 0.1:   0%|          | 0/1 [00:00<?, ?i…"
      ]
     },
     "metadata": {},
     "output_type": "display_data"
    },
    {
     "data": {
      "application/vnd.jupyter.widget-view+json": {
       "model_id": "",
       "version_major": 2,
       "version_minor": 0
      },
      "text/plain": [
       "-q ss sb as aa bs --marginal a --cb_type mtr --l1 1e-06 --learning_rate 0.1:   0%|          | 0/1 [00:00<?, ?i…"
      ]
     },
     "metadata": {},
     "output_type": "display_data"
    },
    {
     "data": {
      "application/vnd.jupyter.widget-view+json": {
       "model_id": "",
       "version_major": 2,
       "version_minor": 0
      },
      "text/plain": [
       "-q ss sa sb aa ab --marginal a --cb_type mtr --l1 1e-06 --learning_rate 0.1:   0%|          | 0/1 [00:00<?, ?i…"
      ]
     },
     "metadata": {},
     "output_type": "display_data"
    },
    {
     "data": {
      "application/vnd.jupyter.widget-view+json": {
       "model_id": "",
       "version_major": 2,
       "version_minor": 0
      },
      "text/plain": [
       "-q ss aa ab ba bb --marginal a --cb_type mtr --l1 1e-06 --learning_rate 0.1:   0%|          | 0/1 [00:00<?, ?i…"
      ]
     },
     "metadata": {},
     "output_type": "display_data"
    },
    {
     "data": {
      "application/vnd.jupyter.widget-view+json": {
       "model_id": "",
       "version_major": 2,
       "version_minor": 0
      },
      "text/plain": [
       "-q sa as bs ba bb --marginal a --cb_type mtr --l1 1e-06 --learning_rate 0.1:   0%|          | 0/1 [00:00<?, ?i…"
      ]
     },
     "metadata": {},
     "output_type": "display_data"
    },
    {
     "data": {
      "application/vnd.jupyter.widget-view+json": {
       "model_id": "",
       "version_major": 2,
       "version_minor": 0
      },
      "text/plain": [
       "-q ss sb as aa ba --marginal a --cb_type mtr --l1 1e-06 --learning_rate 0.1:   0%|          | 0/1 [00:00<?, ?i…"
      ]
     },
     "metadata": {},
     "output_type": "display_data"
    },
    {
     "data": {
      "application/vnd.jupyter.widget-view+json": {
       "model_id": "",
       "version_major": 2,
       "version_minor": 0
      },
      "text/plain": [
       "-q ss sa sb aa bs --marginal a --cb_type mtr --l1 1e-06 --learning_rate 0.1:   0%|          | 0/1 [00:00<?, ?i…"
      ]
     },
     "metadata": {},
     "output_type": "display_data"
    },
    {
     "data": {
      "application/vnd.jupyter.widget-view+json": {
       "model_id": "",
       "version_major": 2,
       "version_minor": 0
      },
      "text/plain": [
       "-q ss aa bs ba bb --marginal a --cb_type mtr --l1 1e-06 --learning_rate 0.1:   0%|          | 0/1 [00:00<?, ?i…"
      ]
     },
     "metadata": {},
     "output_type": "display_data"
    },
    {
     "data": {
      "application/vnd.jupyter.widget-view+json": {
       "model_id": "",
       "version_major": 2,
       "version_minor": 0
      },
      "text/plain": [
       "-q sa aa ab bs ba --marginal a --cb_type mtr --l1 1e-06 --learning_rate 0.1:   0%|          | 0/1 [00:00<?, ?i…"
      ]
     },
     "metadata": {},
     "output_type": "display_data"
    },
    {
     "data": {
      "application/vnd.jupyter.widget-view+json": {
       "model_id": "",
       "version_major": 2,
       "version_minor": 0
      },
      "text/plain": [
       "-q ss sb as aa bb --marginal a --cb_type mtr --l1 1e-06 --learning_rate 0.1:   0%|          | 0/1 [00:00<?, ?i…"
      ]
     },
     "metadata": {},
     "output_type": "display_data"
    },
    {
     "data": {
      "application/vnd.jupyter.widget-view+json": {
       "model_id": "",
       "version_major": 2,
       "version_minor": 0
      },
      "text/plain": [
       "-q ss sa sb aa ba --marginal a --cb_type mtr --l1 1e-06 --learning_rate 0.1:   0%|          | 0/1 [00:00<?, ?i…"
      ]
     },
     "metadata": {},
     "output_type": "display_data"
    },
    {
     "data": {
      "application/vnd.jupyter.widget-view+json": {
       "model_id": "",
       "version_major": 2,
       "version_minor": 0
      },
      "text/plain": [
       "-q ss ab bs ba bb --marginal a --cb_type mtr --l1 1e-06 --learning_rate 0.1:   0%|          | 0/1 [00:00<?, ?i…"
      ]
     },
     "metadata": {},
     "output_type": "display_data"
    },
    {
     "data": {
      "application/vnd.jupyter.widget-view+json": {
       "model_id": "",
       "version_major": 2,
       "version_minor": 0
      },
      "text/plain": [
       "-q sa aa ab bs bb --marginal a --cb_type mtr --l1 1e-06 --learning_rate 0.1:   0%|          | 0/1 [00:00<?, ?i…"
      ]
     },
     "metadata": {},
     "output_type": "display_data"
    },
    {
     "data": {
      "application/vnd.jupyter.widget-view+json": {
       "model_id": "",
       "version_major": 2,
       "version_minor": 0
      },
      "text/plain": [
       "-q ss sb as ab bs --marginal a --cb_type mtr --l1 1e-06 --learning_rate 0.1:   0%|          | 0/1 [00:00<?, ?i…"
      ]
     },
     "metadata": {},
     "output_type": "display_data"
    },
    {
     "data": {
      "application/vnd.jupyter.widget-view+json": {
       "model_id": "",
       "version_major": 2,
       "version_minor": 0
      },
      "text/plain": [
       "-q ss sa sb aa bb --marginal a --cb_type mtr --l1 1e-06 --learning_rate 0.1:   0%|          | 0/1 [00:00<?, ?i…"
      ]
     },
     "metadata": {},
     "output_type": "display_data"
    },
    {
     "data": {
      "application/vnd.jupyter.widget-view+json": {
       "model_id": "",
       "version_major": 2,
       "version_minor": 0
      },
      "text/plain": [
       "-q sa sb as aa ab --marginal a --cb_type mtr --l1 1e-06 --learning_rate 0.1:   0%|          | 0/1 [00:00<?, ?i…"
      ]
     },
     "metadata": {},
     "output_type": "display_data"
    },
    {
     "data": {
      "application/vnd.jupyter.widget-view+json": {
       "model_id": "",
       "version_major": 2,
       "version_minor": 0
      },
      "text/plain": [
       "-q sa aa ab ba bb --marginal a --cb_type mtr --l1 1e-06 --learning_rate 0.1:   0%|          | 0/1 [00:00<?, ?i…"
      ]
     },
     "metadata": {},
     "output_type": "display_data"
    },
    {
     "data": {
      "application/vnd.jupyter.widget-view+json": {
       "model_id": "",
       "version_major": 2,
       "version_minor": 0
      },
      "text/plain": [
       "-q ss sb as ab ba --marginal a --cb_type mtr --l1 1e-06 --learning_rate 0.1:   0%|          | 0/1 [00:00<?, ?i…"
      ]
     },
     "metadata": {},
     "output_type": "display_data"
    },
    {
     "data": {
      "application/vnd.jupyter.widget-view+json": {
       "model_id": "",
       "version_major": 2,
       "version_minor": 0
      },
      "text/plain": [
       "-q ss sa sb ab bs --marginal a --cb_type mtr --l1 1e-06 --learning_rate 0.1:   0%|          | 0/1 [00:00<?, ?i…"
      ]
     },
     "metadata": {},
     "output_type": "display_data"
    },
    {
     "data": {
      "application/vnd.jupyter.widget-view+json": {
       "model_id": "",
       "version_major": 2,
       "version_minor": 0
      },
      "text/plain": [
       "-q ss sb as ab bb --marginal a --cb_type mtr --l1 1e-06 --learning_rate 0.1:   0%|          | 0/1 [00:00<?, ?i…"
      ]
     },
     "metadata": {},
     "output_type": "display_data"
    },
    {
     "data": {
      "application/vnd.jupyter.widget-view+json": {
       "model_id": "",
       "version_major": 2,
       "version_minor": 0
      },
      "text/plain": [
       "-q sa sb as aa bs --marginal a --cb_type mtr --l1 1e-06 --learning_rate 0.1:   0%|          | 0/1 [00:00<?, ?i…"
      ]
     },
     "metadata": {},
     "output_type": "display_data"
    },
    {
     "data": {
      "application/vnd.jupyter.widget-view+json": {
       "model_id": "",
       "version_major": 2,
       "version_minor": 0
      },
      "text/plain": [
       "-q sa aa bs ba bb --marginal a --cb_type mtr --l1 1e-06 --learning_rate 0.1:   0%|          | 0/1 [00:00<?, ?i…"
      ]
     },
     "metadata": {},
     "output_type": "display_data"
    },
    {
     "data": {
      "application/vnd.jupyter.widget-view+json": {
       "model_id": "",
       "version_major": 2,
       "version_minor": 0
      },
      "text/plain": [
       "-q ss sa sb ab ba --marginal a --cb_type mtr --l1 1e-06 --learning_rate 0.1:   0%|          | 0/1 [00:00<?, ?i…"
      ]
     },
     "metadata": {},
     "output_type": "display_data"
    },
    {
     "data": {
      "application/vnd.jupyter.widget-view+json": {
       "model_id": "",
       "version_major": 2,
       "version_minor": 0
      },
      "text/plain": [
       "-q sa sb as aa ba --marginal a --cb_type mtr --l1 1e-06 --learning_rate 0.1:   0%|          | 0/1 [00:00<?, ?i…"
      ]
     },
     "metadata": {},
     "output_type": "display_data"
    },
    {
     "data": {
      "application/vnd.jupyter.widget-view+json": {
       "model_id": "",
       "version_major": 2,
       "version_minor": 0
      },
      "text/plain": [
       "-q sa ab bs ba bb --marginal a --cb_type mtr --l1 1e-06 --learning_rate 0.1:   0%|          | 0/1 [00:00<?, ?i…"
      ]
     },
     "metadata": {},
     "output_type": "display_data"
    },
    {
     "data": {
      "application/vnd.jupyter.widget-view+json": {
       "model_id": "",
       "version_major": 2,
       "version_minor": 0
      },
      "text/plain": [
       "-q ss sb as bs ba --marginal a --cb_type mtr --l1 1e-06 --learning_rate 0.1:   0%|          | 0/1 [00:00<?, ?i…"
      ]
     },
     "metadata": {},
     "output_type": "display_data"
    },
    {
     "data": {
      "application/vnd.jupyter.widget-view+json": {
       "model_id": "",
       "version_major": 2,
       "version_minor": 0
      },
      "text/plain": [
       "-q sb as aa ab bs --marginal a --cb_type mtr --l1 1e-06 --learning_rate 0.1:   0%|          | 0/1 [00:00<?, ?i…"
      ]
     },
     "metadata": {},
     "output_type": "display_data"
    },
    {
     "data": {
      "application/vnd.jupyter.widget-view+json": {
       "model_id": "",
       "version_major": 2,
       "version_minor": 0
      },
      "text/plain": [
       "-q ss sa sb ab bb --marginal a --cb_type mtr --l1 1e-06 --learning_rate 0.1:   0%|          | 0/1 [00:00<?, ?i…"
      ]
     },
     "metadata": {},
     "output_type": "display_data"
    },
    {
     "data": {
      "application/vnd.jupyter.widget-view+json": {
       "model_id": "",
       "version_major": 2,
       "version_minor": 0
      },
      "text/plain": [
       "-q sa sb as aa bb --marginal a --cb_type mtr --l1 1e-06 --learning_rate 0.1:   0%|          | 0/1 [00:00<?, ?i…"
      ]
     },
     "metadata": {},
     "output_type": "display_data"
    },
    {
     "data": {
      "application/vnd.jupyter.widget-view+json": {
       "model_id": "",
       "version_major": 2,
       "version_minor": 0
      },
      "text/plain": [
       "-q ss sb as bs bb --marginal a --cb_type mtr --l1 1e-06 --learning_rate 0.1:   0%|          | 0/1 [00:00<?, ?i…"
      ]
     },
     "metadata": {},
     "output_type": "display_data"
    },
    {
     "data": {
      "application/vnd.jupyter.widget-view+json": {
       "model_id": "",
       "version_major": 2,
       "version_minor": 0
      },
      "text/plain": [
       "-q ss sa sb bs ba --marginal a --cb_type mtr --l1 1e-06 --learning_rate 0.1:   0%|          | 0/1 [00:00<?, ?i…"
      ]
     },
     "metadata": {},
     "output_type": "display_data"
    },
    {
     "data": {
      "application/vnd.jupyter.widget-view+json": {
       "model_id": "",
       "version_major": 2,
       "version_minor": 0
      },
      "text/plain": [
       "-q sa sb as ab bs --marginal a --cb_type mtr --l1 1e-06 --learning_rate 0.1:   0%|          | 0/1 [00:00<?, ?i…"
      ]
     },
     "metadata": {},
     "output_type": "display_data"
    },
    {
     "data": {
      "application/vnd.jupyter.widget-view+json": {
       "model_id": "",
       "version_major": 2,
       "version_minor": 0
      },
      "text/plain": [
       "-q sb as aa ab ba --marginal a --cb_type mtr --l1 1e-06 --learning_rate 0.1:   0%|          | 0/1 [00:00<?, ?i…"
      ]
     },
     "metadata": {},
     "output_type": "display_data"
    },
    {
     "data": {
      "application/vnd.jupyter.widget-view+json": {
       "model_id": "",
       "version_major": 2,
       "version_minor": 0
      },
      "text/plain": [
       "-q ss sb as ba bb --marginal a --cb_type mtr --l1 1e-06 --learning_rate 0.1:   0%|          | 0/1 [00:00<?, ?i…"
      ]
     },
     "metadata": {},
     "output_type": "display_data"
    },
    {
     "data": {
      "application/vnd.jupyter.widget-view+json": {
       "model_id": "",
       "version_major": 2,
       "version_minor": 0
      },
      "text/plain": [
       "-q ss sa sb bs bb --marginal a --cb_type mtr --l1 1e-06 --learning_rate 0.1:   0%|          | 0/1 [00:00<?, ?i…"
      ]
     },
     "metadata": {},
     "output_type": "display_data"
    },
    {
     "data": {
      "application/vnd.jupyter.widget-view+json": {
       "model_id": "",
       "version_major": 2,
       "version_minor": 0
      },
      "text/plain": [
       "-q sa sb as ab ba --marginal a --cb_type mtr --l1 1e-06 --learning_rate 0.1:   0%|          | 0/1 [00:00<?, ?i…"
      ]
     },
     "metadata": {},
     "output_type": "display_data"
    },
    {
     "data": {
      "application/vnd.jupyter.widget-view+json": {
       "model_id": "",
       "version_major": 2,
       "version_minor": 0
      },
      "text/plain": [
       "-q sb as aa ab bb --marginal a --cb_type mtr --l1 1e-06 --learning_rate 0.1:   0%|          | 0/1 [00:00<?, ?i…"
      ]
     },
     "metadata": {},
     "output_type": "display_data"
    },
    {
     "data": {
      "application/vnd.jupyter.widget-view+json": {
       "model_id": "",
       "version_major": 2,
       "version_minor": 0
      },
      "text/plain": [
       "-q ss sb aa ab bs --marginal a --cb_type mtr --l1 1e-06 --learning_rate 0.1:   0%|          | 0/1 [00:00<?, ?i…"
      ]
     },
     "metadata": {},
     "output_type": "display_data"
    },
    {
     "data": {
      "application/vnd.jupyter.widget-view+json": {
       "model_id": "",
       "version_major": 2,
       "version_minor": 0
      },
      "text/plain": [
       "-q ss sa sb ba bb --marginal a --cb_type mtr --l1 1e-06 --learning_rate 0.1:   0%|          | 0/1 [00:00<?, ?i…"
      ]
     },
     "metadata": {},
     "output_type": "display_data"
    },
    {
     "data": {
      "application/vnd.jupyter.widget-view+json": {
       "model_id": "",
       "version_major": 2,
       "version_minor": 0
      },
      "text/plain": [
       "-q sb as aa bs ba --marginal a --cb_type mtr --l1 1e-06 --learning_rate 0.1:   0%|          | 0/1 [00:00<?, ?i…"
      ]
     },
     "metadata": {},
     "output_type": "display_data"
    },
    {
     "data": {
      "application/vnd.jupyter.widget-view+json": {
       "model_id": "",
       "version_major": 2,
       "version_minor": 0
      },
      "text/plain": [
       "-q sa sb as ab bb --marginal a --cb_type mtr --l1 1e-06 --learning_rate 0.1:   0%|          | 0/1 [00:00<?, ?i…"
      ]
     },
     "metadata": {},
     "output_type": "display_data"
    },
    {
     "data": {
      "application/vnd.jupyter.widget-view+json": {
       "model_id": "",
       "version_major": 2,
       "version_minor": 0
      },
      "text/plain": [
       "-q ss sb aa ab ba --marginal a --cb_type mtr --l1 1e-06 --learning_rate 0.1:   0%|          | 0/1 [00:00<?, ?i…"
      ]
     },
     "metadata": {},
     "output_type": "display_data"
    },
    {
     "data": {
      "application/vnd.jupyter.widget-view+json": {
       "model_id": "",
       "version_major": 2,
       "version_minor": 0
      },
      "text/plain": [
       "-q ss sa as aa ab --marginal a --cb_type mtr --l1 1e-06 --learning_rate 0.1:   0%|          | 0/1 [00:00<?, ?i…"
      ]
     },
     "metadata": {},
     "output_type": "display_data"
    },
    {
     "data": {
      "application/vnd.jupyter.widget-view+json": {
       "model_id": "",
       "version_major": 2,
       "version_minor": 0
      },
      "text/plain": [
       "-q sb as aa bs bb --marginal a --cb_type mtr --l1 1e-06 --learning_rate 0.1:   0%|          | 0/1 [00:00<?, ?i…"
      ]
     },
     "metadata": {},
     "output_type": "display_data"
    },
    {
     "data": {
      "application/vnd.jupyter.widget-view+json": {
       "model_id": "",
       "version_major": 2,
       "version_minor": 0
      },
      "text/plain": [
       "-q sa sb as bs ba --marginal a --cb_type mtr --l1 1e-06 --learning_rate 0.1:   0%|          | 0/1 [00:00<?, ?i…"
      ]
     },
     "metadata": {},
     "output_type": "display_data"
    },
    {
     "data": {
      "application/vnd.jupyter.widget-view+json": {
       "model_id": "",
       "version_major": 2,
       "version_minor": 0
      },
      "text/plain": [
       "-q ss sa as aa bs --marginal a --cb_type mtr --l1 1e-06 --learning_rate 0.1:   0%|          | 0/1 [00:00<?, ?i…"
      ]
     },
     "metadata": {},
     "output_type": "display_data"
    },
    {
     "data": {
      "application/vnd.jupyter.widget-view+json": {
       "model_id": "",
       "version_major": 2,
       "version_minor": 0
      },
      "text/plain": [
       "-q ss sb aa ab bb --marginal a --cb_type mtr --l1 1e-06 --learning_rate 0.1:   0%|          | 0/1 [00:00<?, ?i…"
      ]
     },
     "metadata": {},
     "output_type": "display_data"
    },
    {
     "data": {
      "application/vnd.jupyter.widget-view+json": {
       "model_id": "",
       "version_major": 2,
       "version_minor": 0
      },
      "text/plain": [
       "-q sb as aa ba bb --marginal a --cb_type mtr --l1 1e-06 --learning_rate 0.1:   0%|          | 0/1 [00:00<?, ?i…"
      ]
     },
     "metadata": {},
     "output_type": "display_data"
    },
    {
     "data": {
      "application/vnd.jupyter.widget-view+json": {
       "model_id": "",
       "version_major": 2,
       "version_minor": 0
      },
      "text/plain": [
       "-q sa sb as bs bb --marginal a --cb_type mtr --l1 1e-06 --learning_rate 0.1:   0%|          | 0/1 [00:00<?, ?i…"
      ]
     },
     "metadata": {},
     "output_type": "display_data"
    },
    {
     "data": {
      "application/vnd.jupyter.widget-view+json": {
       "model_id": "",
       "version_major": 2,
       "version_minor": 0
      },
      "text/plain": [
       "-q ss sa as aa ba --marginal a --cb_type mtr --l1 1e-06 --learning_rate 0.1:   0%|          | 0/1 [00:00<?, ?i…"
      ]
     },
     "metadata": {},
     "output_type": "display_data"
    },
    {
     "data": {
      "application/vnd.jupyter.widget-view+json": {
       "model_id": "",
       "version_major": 2,
       "version_minor": 0
      },
      "text/plain": [
       "-q ss sb aa bs ba --marginal a --cb_type mtr --l1 1e-06 --learning_rate 0.1:   0%|          | 0/1 [00:00<?, ?i…"
      ]
     },
     "metadata": {},
     "output_type": "display_data"
    },
    {
     "data": {
      "application/vnd.jupyter.widget-view+json": {
       "model_id": "",
       "version_major": 2,
       "version_minor": 0
      },
      "text/plain": [
       "-q sb as ab bs ba --marginal a --cb_type mtr --l1 1e-06 --learning_rate 0.1:   0%|          | 0/1 [00:00<?, ?i…"
      ]
     },
     "metadata": {},
     "output_type": "display_data"
    },
    {
     "data": {
      "application/vnd.jupyter.widget-view+json": {
       "model_id": "",
       "version_major": 2,
       "version_minor": 0
      },
      "text/plain": [
       "-q sa sb as ba bb --marginal a --cb_type mtr --l1 1e-06 --learning_rate 0.1:   0%|          | 0/1 [00:00<?, ?i…"
      ]
     },
     "metadata": {},
     "output_type": "display_data"
    },
    {
     "data": {
      "application/vnd.jupyter.widget-view+json": {
       "model_id": "",
       "version_major": 2,
       "version_minor": 0
      },
      "text/plain": [
       "-q ss sa as aa bb --marginal a --cb_type mtr --l1 1e-06 --learning_rate 0.1:   0%|          | 0/1 [00:00<?, ?i…"
      ]
     },
     "metadata": {},
     "output_type": "display_data"
    },
    {
     "data": {
      "application/vnd.jupyter.widget-view+json": {
       "model_id": "",
       "version_major": 2,
       "version_minor": 0
      },
      "text/plain": [
       "-q ss sb aa bs bb --marginal a --cb_type mtr --l1 1e-06 --learning_rate 0.1:   0%|          | 0/1 [00:00<?, ?i…"
      ]
     },
     "metadata": {},
     "output_type": "display_data"
    },
    {
     "data": {
      "application/vnd.jupyter.widget-view+json": {
       "model_id": "",
       "version_major": 2,
       "version_minor": 0
      },
      "text/plain": [
       "-q sb as ab bs bb --marginal a --cb_type mtr --l1 1e-06 --learning_rate 0.1:   0%|          | 0/1 [00:00<?, ?i…"
      ]
     },
     "metadata": {},
     "output_type": "display_data"
    },
    {
     "data": {
      "application/vnd.jupyter.widget-view+json": {
       "model_id": "",
       "version_major": 2,
       "version_minor": 0
      },
      "text/plain": [
       "-q sa sb aa ab bs --marginal a --cb_type mtr --l1 1e-06 --learning_rate 0.1:   0%|          | 0/1 [00:00<?, ?i…"
      ]
     },
     "metadata": {},
     "output_type": "display_data"
    },
    {
     "data": {
      "application/vnd.jupyter.widget-view+json": {
       "model_id": "",
       "version_major": 2,
       "version_minor": 0
      },
      "text/plain": [
       "-q ss sa as ab bs --marginal a --cb_type mtr --l1 1e-06 --learning_rate 0.1:   0%|          | 0/1 [00:00<?, ?i…"
      ]
     },
     "metadata": {},
     "output_type": "display_data"
    },
    {
     "data": {
      "application/vnd.jupyter.widget-view+json": {
       "model_id": "",
       "version_major": 2,
       "version_minor": 0
      },
      "text/plain": [
       "-q ss sb aa ba bb --marginal a --cb_type mtr --l1 1e-06 --learning_rate 0.1:   0%|          | 0/1 [00:00<?, ?i…"
      ]
     },
     "metadata": {},
     "output_type": "display_data"
    },
    {
     "data": {
      "application/vnd.jupyter.widget-view+json": {
       "model_id": "",
       "version_major": 2,
       "version_minor": 0
      },
      "text/plain": [
       "-q sb as ab ba bb --marginal a --cb_type mtr --l1 1e-06 --learning_rate 0.1:   0%|          | 0/1 [00:00<?, ?i…"
      ]
     },
     "metadata": {},
     "output_type": "display_data"
    },
    {
     "data": {
      "application/vnd.jupyter.widget-view+json": {
       "model_id": "",
       "version_major": 2,
       "version_minor": 0
      },
      "text/plain": [
       "-q sa sb aa ab ba --marginal a --cb_type mtr --l1 1e-06 --learning_rate 0.1:   0%|          | 0/1 [00:00<?, ?i…"
      ]
     },
     "metadata": {},
     "output_type": "display_data"
    },
    {
     "data": {
      "application/vnd.jupyter.widget-view+json": {
       "model_id": "",
       "version_major": 2,
       "version_minor": 0
      },
      "text/plain": [
       "-q ss sb ab bs ba --marginal a --cb_type mtr --l1 1e-06 --learning_rate 0.1:   0%|          | 0/1 [00:00<?, ?i…"
      ]
     },
     "metadata": {},
     "output_type": "display_data"
    },
    {
     "data": {
      "application/vnd.jupyter.widget-view+json": {
       "model_id": "",
       "version_major": 2,
       "version_minor": 0
      },
      "text/plain": [
       "-q ss sa as ab ba --marginal a --cb_type mtr --l1 1e-06 --learning_rate 0.1:   0%|          | 0/1 [00:00<?, ?i…"
      ]
     },
     "metadata": {},
     "output_type": "display_data"
    },
    {
     "data": {
      "application/vnd.jupyter.widget-view+json": {
       "model_id": "",
       "version_major": 2,
       "version_minor": 0
      },
      "text/plain": [
       "-q sb as bs ba bb --marginal a --cb_type mtr --l1 1e-06 --learning_rate 0.1:   0%|          | 0/1 [00:00<?, ?i…"
      ]
     },
     "metadata": {},
     "output_type": "display_data"
    },
    {
     "data": {
      "application/vnd.jupyter.widget-view+json": {
       "model_id": "",
       "version_major": 2,
       "version_minor": 0
      },
      "text/plain": [
       "-q sa sb aa ab bb --marginal a --cb_type mtr --l1 1e-06 --learning_rate 0.1:   0%|          | 0/1 [00:00<?, ?i…"
      ]
     },
     "metadata": {},
     "output_type": "display_data"
    },
    {
     "data": {
      "application/vnd.jupyter.widget-view+json": {
       "model_id": "",
       "version_major": 2,
       "version_minor": 0
      },
      "text/plain": [
       "-q ss sb ab bs bb --marginal a --cb_type mtr --l1 1e-06 --learning_rate 0.1:   0%|          | 0/1 [00:00<?, ?i…"
      ]
     },
     "metadata": {},
     "output_type": "display_data"
    },
    {
     "data": {
      "application/vnd.jupyter.widget-view+json": {
       "model_id": "",
       "version_major": 2,
       "version_minor": 0
      },
      "text/plain": [
       "-q ss sa as ab bb --marginal a --cb_type mtr --l1 1e-06 --learning_rate 0.1:   0%|          | 0/1 [00:00<?, ?i…"
      ]
     },
     "metadata": {},
     "output_type": "display_data"
    },
    {
     "data": {
      "application/vnd.jupyter.widget-view+json": {
       "model_id": "",
       "version_major": 2,
       "version_minor": 0
      },
      "text/plain": [
       "-q sb aa ab bs ba --marginal a --cb_type mtr --l1 1e-06 --learning_rate 0.1:   0%|          | 0/1 [00:00<?, ?i…"
      ]
     },
     "metadata": {},
     "output_type": "display_data"
    },
    {
     "data": {
      "application/vnd.jupyter.widget-view+json": {
       "model_id": "",
       "version_major": 2,
       "version_minor": 0
      },
      "text/plain": [
       "-q sa sb aa bs ba --marginal a --cb_type mtr --l1 1e-06 --learning_rate 0.1:   0%|          | 0/1 [00:00<?, ?i…"
      ]
     },
     "metadata": {},
     "output_type": "display_data"
    },
    {
     "data": {
      "application/vnd.jupyter.widget-view+json": {
       "model_id": "",
       "version_major": 2,
       "version_minor": 0
      },
      "text/plain": [
       "-q ss sb ab ba bb --marginal a --cb_type mtr --l1 1e-06 --learning_rate 0.1:   0%|          | 0/1 [00:00<?, ?i…"
      ]
     },
     "metadata": {},
     "output_type": "display_data"
    },
    {
     "data": {
      "application/vnd.jupyter.widget-view+json": {
       "model_id": "",
       "version_major": 2,
       "version_minor": 0
      },
      "text/plain": [
       "-q ss sa as bs ba --marginal a --cb_type mtr --l1 1e-06 --learning_rate 0.1:   0%|          | 0/1 [00:00<?, ?i…"
      ]
     },
     "metadata": {},
     "output_type": "display_data"
    },
    {
     "data": {
      "application/vnd.jupyter.widget-view+json": {
       "model_id": "",
       "version_major": 2,
       "version_minor": 0
      },
      "text/plain": [
       "-q sb aa ab bs bb --marginal a --cb_type mtr --l1 1e-06 --learning_rate 0.1:   0%|          | 0/1 [00:00<?, ?i…"
      ]
     },
     "metadata": {},
     "output_type": "display_data"
    },
    {
     "data": {
      "application/vnd.jupyter.widget-view+json": {
       "model_id": "",
       "version_major": 2,
       "version_minor": 0
      },
      "text/plain": [
       "-q sa sb aa bs bb --marginal a --cb_type mtr --l1 1e-06 --learning_rate 0.1:   0%|          | 0/1 [00:00<?, ?i…"
      ]
     },
     "metadata": {},
     "output_type": "display_data"
    },
    {
     "data": {
      "application/vnd.jupyter.widget-view+json": {
       "model_id": "",
       "version_major": 2,
       "version_minor": 0
      },
      "text/plain": [
       "-q ss sb bs ba bb --marginal a --cb_type mtr --l1 1e-06 --learning_rate 0.1:   0%|          | 0/1 [00:00<?, ?i…"
      ]
     },
     "metadata": {},
     "output_type": "display_data"
    },
    {
     "data": {
      "application/vnd.jupyter.widget-view+json": {
       "model_id": "",
       "version_major": 2,
       "version_minor": 0
      },
      "text/plain": [
       "-q ss sa as bs bb --marginal a --cb_type mtr --l1 1e-06 --learning_rate 0.1:   0%|          | 0/1 [00:00<?, ?i…"
      ]
     },
     "metadata": {},
     "output_type": "display_data"
    },
    {
     "data": {
      "application/vnd.jupyter.widget-view+json": {
       "model_id": "",
       "version_major": 2,
       "version_minor": 0
      },
      "text/plain": [
       "-q sb aa ab ba bb --marginal a --cb_type mtr --l1 1e-06 --learning_rate 0.1:   0%|          | 0/1 [00:00<?, ?i…"
      ]
     },
     "metadata": {},
     "output_type": "display_data"
    },
    {
     "data": {
      "application/vnd.jupyter.widget-view+json": {
       "model_id": "",
       "version_major": 2,
       "version_minor": 0
      },
      "text/plain": [
       "-q ss as aa ab bs --marginal a --cb_type mtr --l1 1e-06 --learning_rate 0.1:   0%|          | 0/1 [00:00<?, ?i…"
      ]
     },
     "metadata": {},
     "output_type": "display_data"
    },
    {
     "data": {
      "application/vnd.jupyter.widget-view+json": {
       "model_id": "",
       "version_major": 2,
       "version_minor": 0
      },
      "text/plain": [
       "-q sa sb aa ba bb --marginal a --cb_type mtr --l1 1e-06 --learning_rate 0.1:   0%|          | 0/1 [00:00<?, ?i…"
      ]
     },
     "metadata": {},
     "output_type": "display_data"
    },
    {
     "data": {
      "application/vnd.jupyter.widget-view+json": {
       "model_id": "",
       "version_major": 2,
       "version_minor": 0
      },
      "text/plain": [
       "-q ss sa as ba bb --marginal a --cb_type mtr --l1 1e-06 --learning_rate 0.1:   0%|          | 0/1 [00:00<?, ?i…"
      ]
     },
     "metadata": {},
     "output_type": "display_data"
    },
    {
     "data": {
      "application/vnd.jupyter.widget-view+json": {
       "model_id": "",
       "version_major": 2,
       "version_minor": 0
      },
      "text/plain": [
       "-q sb aa bs ba bb --marginal a --cb_type mtr --l1 1e-06 --learning_rate 0.1:   0%|          | 0/1 [00:00<?, ?i…"
      ]
     },
     "metadata": {},
     "output_type": "display_data"
    },
    {
     "data": {
      "application/vnd.jupyter.widget-view+json": {
       "model_id": "",
       "version_major": 2,
       "version_minor": 0
      },
      "text/plain": [
       "-q sa sb ab bs ba --marginal a --cb_type mtr --l1 1e-06 --learning_rate 0.1:   0%|          | 0/1 [00:00<?, ?i…"
      ]
     },
     "metadata": {},
     "output_type": "display_data"
    },
    {
     "data": {
      "application/vnd.jupyter.widget-view+json": {
       "model_id": "",
       "version_major": 2,
       "version_minor": 0
      },
      "text/plain": [
       "-q ss as aa ab ba --marginal a --cb_type mtr --l1 1e-06 --learning_rate 0.1:   0%|          | 0/1 [00:00<?, ?i…"
      ]
     },
     "metadata": {},
     "output_type": "display_data"
    },
    {
     "data": {
      "application/vnd.jupyter.widget-view+json": {
       "model_id": "",
       "version_major": 2,
       "version_minor": 0
      },
      "text/plain": [
       "-q ss sa aa ab bs --marginal a --cb_type mtr --l1 1e-06 --learning_rate 0.1:   0%|          | 0/1 [00:00<?, ?i…"
      ]
     },
     "metadata": {},
     "output_type": "display_data"
    },
    {
     "data": {
      "application/vnd.jupyter.widget-view+json": {
       "model_id": "",
       "version_major": 2,
       "version_minor": 0
      },
      "text/plain": [
       "-q sb ab bs ba bb --marginal a --cb_type mtr --l1 1e-06 --learning_rate 0.1:   0%|          | 0/1 [00:00<?, ?i…"
      ]
     },
     "metadata": {},
     "output_type": "display_data"
    },
    {
     "data": {
      "application/vnd.jupyter.widget-view+json": {
       "model_id": "",
       "version_major": 2,
       "version_minor": 0
      },
      "text/plain": [
       "-q sa sb ab bs bb --marginal a --cb_type mtr --l1 1e-06 --learning_rate 0.1:   0%|          | 0/1 [00:00<?, ?i…"
      ]
     },
     "metadata": {},
     "output_type": "display_data"
    },
    {
     "data": {
      "application/vnd.jupyter.widget-view+json": {
       "model_id": "",
       "version_major": 2,
       "version_minor": 0
      },
      "text/plain": [
       "-q ss as aa ab bb --marginal a --cb_type mtr --l1 1e-06 --learning_rate 0.1:   0%|          | 0/1 [00:00<?, ?i…"
      ]
     },
     "metadata": {},
     "output_type": "display_data"
    },
    {
     "data": {
      "application/vnd.jupyter.widget-view+json": {
       "model_id": "",
       "version_major": 2,
       "version_minor": 0
      },
      "text/plain": [
       "-q ss sa aa ab ba --marginal a --cb_type mtr --l1 1e-06 --learning_rate 0.1:   0%|          | 0/1 [00:00<?, ?i…"
      ]
     },
     "metadata": {},
     "output_type": "display_data"
    },
    {
     "data": {
      "application/vnd.jupyter.widget-view+json": {
       "model_id": "",
       "version_major": 2,
       "version_minor": 0
      },
      "text/plain": [
       "-q as aa ab bs ba --marginal a --cb_type mtr --l1 1e-06 --learning_rate 0.1:   0%|          | 0/1 [00:00<?, ?i…"
      ]
     },
     "metadata": {},
     "output_type": "display_data"
    },
    {
     "data": {
      "application/vnd.jupyter.widget-view+json": {
       "model_id": "",
       "version_major": 2,
       "version_minor": 0
      },
      "text/plain": [
       "-q sa sb ab ba bb --marginal a --cb_type mtr --l1 1e-06 --learning_rate 0.1:   0%|          | 0/1 [00:00<?, ?i…"
      ]
     },
     "metadata": {},
     "output_type": "display_data"
    },
    {
     "data": {
      "application/vnd.jupyter.widget-view+json": {
       "model_id": "",
       "version_major": 2,
       "version_minor": 0
      },
      "text/plain": [
       "-q ss as aa bs ba --marginal a --cb_type mtr --l1 1e-06 --learning_rate 0.1:   0%|          | 0/1 [00:00<?, ?i…"
      ]
     },
     "metadata": {},
     "output_type": "display_data"
    },
    {
     "data": {
      "application/vnd.jupyter.widget-view+json": {
       "model_id": "",
       "version_major": 2,
       "version_minor": 0
      },
      "text/plain": [
       "-q ss sa aa ab bb --marginal a --cb_type mtr --l1 1e-06 --learning_rate 0.1:   0%|          | 0/1 [00:00<?, ?i…"
      ]
     },
     "metadata": {},
     "output_type": "display_data"
    },
    {
     "data": {
      "application/vnd.jupyter.widget-view+json": {
       "model_id": "",
       "version_major": 2,
       "version_minor": 0
      },
      "text/plain": [
       "-q as aa ab bs bb --marginal a --cb_type mtr --l1 1e-06 --learning_rate 0.1:   0%|          | 0/1 [00:00<?, ?i…"
      ]
     },
     "metadata": {},
     "output_type": "display_data"
    },
    {
     "data": {
      "application/vnd.jupyter.widget-view+json": {
       "model_id": "",
       "version_major": 2,
       "version_minor": 0
      },
      "text/plain": [
       "-q sa sb bs ba bb --marginal a --cb_type mtr --l1 1e-06 --learning_rate 0.1:   0%|          | 0/1 [00:00<?, ?i…"
      ]
     },
     "metadata": {},
     "output_type": "display_data"
    },
    {
     "data": {
      "application/vnd.jupyter.widget-view+json": {
       "model_id": "",
       "version_major": 2,
       "version_minor": 0
      },
      "text/plain": [
       "-q ss as aa bs bb --marginal a --cb_type mtr --l1 1e-06 --learning_rate 0.1:   0%|          | 0/1 [00:00<?, ?i…"
      ]
     },
     "metadata": {},
     "output_type": "display_data"
    },
    {
     "data": {
      "application/vnd.jupyter.widget-view+json": {
       "model_id": "",
       "version_major": 2,
       "version_minor": 0
      },
      "text/plain": [
       "-q ss sa aa bs ba --marginal a --cb_type mtr --l1 1e-06 --learning_rate 0.1:   0%|          | 0/1 [00:00<?, ?i…"
      ]
     },
     "metadata": {},
     "output_type": "display_data"
    },
    {
     "data": {
      "application/vnd.jupyter.widget-view+json": {
       "model_id": "",
       "version_major": 2,
       "version_minor": 0
      },
      "text/plain": [
       "-q as aa ab ba bb --marginal a --cb_type mtr --l1 1e-06 --learning_rate 0.1:   0%|          | 0/1 [00:00<?, ?i…"
      ]
     },
     "metadata": {},
     "output_type": "display_data"
    },
    {
     "data": {
      "application/vnd.jupyter.widget-view+json": {
       "model_id": "",
       "version_major": 2,
       "version_minor": 0
      },
      "text/plain": [
       "-q sa as aa ab bs --marginal a --cb_type mtr --l1 1e-06 --learning_rate 0.1:   0%|          | 0/1 [00:00<?, ?i…"
      ]
     },
     "metadata": {},
     "output_type": "display_data"
    },
    {
     "data": {
      "application/vnd.jupyter.widget-view+json": {
       "model_id": "",
       "version_major": 2,
       "version_minor": 0
      },
      "text/plain": [
       "-q ss as aa ba bb --marginal a --cb_type mtr --l1 1e-06 --learning_rate 0.1:   0%|          | 0/1 [00:00<?, ?i…"
      ]
     },
     "metadata": {},
     "output_type": "display_data"
    },
    {
     "data": {
      "application/vnd.jupyter.widget-view+json": {
       "model_id": "",
       "version_major": 2,
       "version_minor": 0
      },
      "text/plain": [
       "-q ss sa aa bs bb --marginal a --cb_type mtr --l1 1e-06 --learning_rate 0.1:   0%|          | 0/1 [00:00<?, ?i…"
      ]
     },
     "metadata": {},
     "output_type": "display_data"
    },
    {
     "data": {
      "application/vnd.jupyter.widget-view+json": {
       "model_id": "",
       "version_major": 2,
       "version_minor": 0
      },
      "text/plain": [
       "-q as aa bs ba bb --marginal a --cb_type mtr --l1 1e-06 --learning_rate 0.1:   0%|          | 0/1 [00:00<?, ?i…"
      ]
     },
     "metadata": {},
     "output_type": "display_data"
    },
    {
     "data": {
      "application/vnd.jupyter.widget-view+json": {
       "model_id": "",
       "version_major": 2,
       "version_minor": 0
      },
      "text/plain": [
       "-q sa as aa ab ba --marginal a --cb_type mtr --l1 1e-06 --learning_rate 0.1:   0%|          | 0/1 [00:00<?, ?i…"
      ]
     },
     "metadata": {},
     "output_type": "display_data"
    },
    {
     "data": {
      "application/vnd.jupyter.widget-view+json": {
       "model_id": "",
       "version_major": 2,
       "version_minor": 0
      },
      "text/plain": [
       "-q ss as ab bs ba --marginal a --cb_type mtr --l1 1e-06 --learning_rate 0.1:   0%|          | 0/1 [00:00<?, ?i…"
      ]
     },
     "metadata": {},
     "output_type": "display_data"
    },
    {
     "data": {
      "application/vnd.jupyter.widget-view+json": {
       "model_id": "",
       "version_major": 2,
       "version_minor": 0
      },
      "text/plain": [
       "-q ss sa aa ba bb --marginal a --cb_type mtr --l1 1e-06 --learning_rate 0.1:   0%|          | 0/1 [00:00<?, ?i…"
      ]
     },
     "metadata": {},
     "output_type": "display_data"
    },
    {
     "data": {
      "application/vnd.jupyter.widget-view+json": {
       "model_id": "",
       "version_major": 2,
       "version_minor": 0
      },
      "text/plain": [
       "-q as ab bs ba bb --marginal a --cb_type mtr --l1 1e-06 --learning_rate 0.1:   0%|          | 0/1 [00:00<?, ?i…"
      ]
     },
     "metadata": {},
     "output_type": "display_data"
    },
    {
     "data": {
      "application/vnd.jupyter.widget-view+json": {
       "model_id": "",
       "version_major": 2,
       "version_minor": 0
      },
      "text/plain": [
       "-q sa as aa ab bb --marginal a --cb_type mtr --l1 1e-06 --learning_rate 0.1:   0%|          | 0/1 [00:00<?, ?i…"
      ]
     },
     "metadata": {},
     "output_type": "display_data"
    },
    {
     "data": {
      "application/vnd.jupyter.widget-view+json": {
       "model_id": "",
       "version_major": 2,
       "version_minor": 0
      },
      "text/plain": [
       "-q ss as ab bs bb --marginal a --cb_type mtr --l1 1e-06 --learning_rate 0.1:   0%|          | 0/1 [00:00<?, ?i…"
      ]
     },
     "metadata": {},
     "output_type": "display_data"
    },
    {
     "data": {
      "application/vnd.jupyter.widget-view+json": {
       "model_id": "",
       "version_major": 2,
       "version_minor": 0
      },
      "text/plain": [
       "-q ss sa ab bs ba --marginal a --cb_type mtr --l1 1e-06 --learning_rate 0.1:   0%|          | 0/1 [00:00<?, ?i…"
      ]
     },
     "metadata": {},
     "output_type": "display_data"
    },
    {
     "data": {
      "application/vnd.jupyter.widget-view+json": {
       "model_id": "",
       "version_major": 2,
       "version_minor": 0
      },
      "text/plain": [
       "-q aa ab bs ba bb --marginal a --cb_type mtr --l1 1e-06 --learning_rate 0.1:   0%|          | 0/1 [00:00<?, ?i…"
      ]
     },
     "metadata": {},
     "output_type": "display_data"
    },
    {
     "data": {
      "application/vnd.jupyter.widget-view+json": {
       "model_id": "",
       "version_major": 2,
       "version_minor": 0
      },
      "text/plain": [
       "-q sa as aa bs ba --marginal a --cb_type mtr --l1 1e-06 --learning_rate 0.1:   0%|          | 0/1 [00:00<?, ?i…"
      ]
     },
     "metadata": {},
     "output_type": "display_data"
    },
    {
     "data": {
      "application/vnd.jupyter.widget-view+json": {
       "model_id": "",
       "version_major": 2,
       "version_minor": 0
      },
      "text/plain": [
       "-q ss as ab ba bb --marginal a --cb_type mtr --l1 1e-06 --learning_rate 0.1:   0%|          | 0/1 [00:00<?, ?i…"
      ]
     },
     "metadata": {},
     "output_type": "display_data"
    },
    {
     "data": {
      "application/vnd.jupyter.widget-view+json": {
       "model_id": "",
       "version_major": 2,
       "version_minor": 0
      },
      "text/plain": [
       "-q ss sa sb as aa ba --marginal a --cb_type mtr --l1 1e-06 --learning_rate 0.1:   0%|          | 0/1 [00:00<?,…"
      ]
     },
     "metadata": {},
     "output_type": "display_data"
    },
    {
     "data": {
      "application/vnd.jupyter.widget-view+json": {
       "model_id": "",
       "version_major": 2,
       "version_minor": 0
      },
      "text/plain": [
       "-q sa as aa bs bb --marginal a --cb_type mtr --l1 1e-06 --learning_rate 0.1:   0%|          | 0/1 [00:00<?, ?i…"
      ]
     },
     "metadata": {},
     "output_type": "display_data"
    },
    {
     "data": {
      "application/vnd.jupyter.widget-view+json": {
       "model_id": "",
       "version_major": 2,
       "version_minor": 0
      },
      "text/plain": [
       "-q ss sa sb as aa ab --marginal a --cb_type mtr --l1 1e-06 --learning_rate 0.1:   0%|          | 0/1 [00:00<?,…"
      ]
     },
     "metadata": {},
     "output_type": "display_data"
    },
    {
     "data": {
      "application/vnd.jupyter.widget-view+json": {
       "model_id": "",
       "version_major": 2,
       "version_minor": 0
      },
      "text/plain": [
       "-q ss sa ab bs ba bb --marginal a --cb_type mtr --l1 1e-06 --learning_rate 0.1:   0%|          | 0/1 [00:00<?,…"
      ]
     },
     "metadata": {},
     "output_type": "display_data"
    },
    {
     "data": {
      "application/vnd.jupyter.widget-view+json": {
       "model_id": "",
       "version_major": 2,
       "version_minor": 0
      },
      "text/plain": [
       "-q ss sa sb as aa bb --marginal a --cb_type mtr --l1 1e-06 --learning_rate 0.1:   0%|          | 0/1 [00:00<?,…"
      ]
     },
     "metadata": {},
     "output_type": "display_data"
    },
    {
     "data": {
      "application/vnd.jupyter.widget-view+json": {
       "model_id": "",
       "version_major": 2,
       "version_minor": 0
      },
      "text/plain": [
       "-q sa as aa ba bb --marginal a --cb_type mtr --l1 1e-06 --learning_rate 0.1:   0%|          | 0/1 [00:00<?, ?i…"
      ]
     },
     "metadata": {},
     "output_type": "display_data"
    },
    {
     "data": {
      "application/vnd.jupyter.widget-view+json": {
       "model_id": "",
       "version_major": 2,
       "version_minor": 0
      },
      "text/plain": [
       "-q ss sa sb as aa bs --marginal a --cb_type mtr --l1 1e-06 --learning_rate 0.1:   0%|          | 0/1 [00:00<?,…"
      ]
     },
     "metadata": {},
     "output_type": "display_data"
    },
    {
     "data": {
      "application/vnd.jupyter.widget-view+json": {
       "model_id": "",
       "version_major": 2,
       "version_minor": 0
      },
      "text/plain": [
       "-q ss sb as aa ab bs --marginal a --cb_type mtr --l1 1e-06 --learning_rate 0.1:   0%|          | 0/1 [00:00<?,…"
      ]
     },
     "metadata": {},
     "output_type": "display_data"
    },
    {
     "data": {
      "application/vnd.jupyter.widget-view+json": {
       "model_id": "",
       "version_major": 2,
       "version_minor": 0
      },
      "text/plain": [
       "-q ss sa sb as ab bs --marginal a --cb_type mtr --l1 1e-06 --learning_rate 0.1:   0%|          | 0/1 [00:00<?,…"
      ]
     },
     "metadata": {},
     "output_type": "display_data"
    },
    {
     "data": {
      "application/vnd.jupyter.widget-view+json": {
       "model_id": "",
       "version_major": 2,
       "version_minor": 0
      },
      "text/plain": [
       "-q sa sb aa ab bs ba --marginal a --cb_type mtr --l1 1e-06 --learning_rate 0.1:   0%|          | 0/1 [00:00<?,…"
      ]
     },
     "metadata": {},
     "output_type": "display_data"
    },
    {
     "data": {
      "application/vnd.jupyter.widget-view+json": {
       "model_id": "",
       "version_major": 2,
       "version_minor": 0
      },
      "text/plain": [
       "-q ss sa sb ab bs ba bb --marginal a --cb_type mtr --l1 1e-06 --learning_rate 0.1:   0%|          | 0/1 [00:00…"
      ]
     },
     "metadata": {},
     "output_type": "display_data"
    },
    {
     "data": {
      "application/vnd.jupyter.widget-view+json": {
       "model_id": "",
       "version_major": 2,
       "version_minor": 0
      },
      "text/plain": [
       "-q ss sb as aa ab ba --marginal a --cb_type mtr --l1 1e-06 --learning_rate 0.1:   0%|          | 0/1 [00:00<?,…"
      ]
     },
     "metadata": {},
     "output_type": "display_data"
    },
    {
     "data": {
      "application/vnd.jupyter.widget-view+json": {
       "model_id": "",
       "version_major": 2,
       "version_minor": 0
      },
      "text/plain": [
       "-q ss sa sb as ab ba --marginal a --cb_type mtr --l1 1e-06 --learning_rate 0.1:   0%|          | 0/1 [00:00<?,…"
      ]
     },
     "metadata": {},
     "output_type": "display_data"
    },
    {
     "data": {
      "application/vnd.jupyter.widget-view+json": {
       "model_id": "",
       "version_major": 2,
       "version_minor": 0
      },
      "text/plain": [
       "-q sa sb aa ab bs bb --marginal a --cb_type mtr --l1 1e-06 --learning_rate 0.1:   0%|          | 0/1 [00:00<?,…"
      ]
     },
     "metadata": {},
     "output_type": "display_data"
    },
    {
     "data": {
      "application/vnd.jupyter.widget-view+json": {
       "model_id": "",
       "version_major": 2,
       "version_minor": 0
      },
      "text/plain": [
       "-q ss sa as aa ab bs ba --marginal a --cb_type mtr --l1 1e-06 --learning_rate 0.1:   0%|          | 0/1 [00:00…"
      ]
     },
     "metadata": {},
     "output_type": "display_data"
    },
    {
     "data": {
      "application/vnd.jupyter.widget-view+json": {
       "model_id": "",
       "version_major": 2,
       "version_minor": 0
      },
      "text/plain": [
       "-q ss sb as aa ab bb --marginal a --cb_type mtr --l1 1e-06 --learning_rate 0.1:   0%|          | 0/1 [00:00<?,…"
      ]
     },
     "metadata": {},
     "output_type": "display_data"
    },
    {
     "data": {
      "application/vnd.jupyter.widget-view+json": {
       "model_id": "",
       "version_major": 2,
       "version_minor": 0
      },
      "text/plain": [
       "-q ss sa sb as ab bb --marginal a --cb_type mtr --l1 1e-06 --learning_rate 0.1:   0%|          | 0/1 [00:00<?,…"
      ]
     },
     "metadata": {},
     "output_type": "display_data"
    },
    {
     "data": {
      "application/vnd.jupyter.widget-view+json": {
       "model_id": "",
       "version_major": 2,
       "version_minor": 0
      },
      "text/plain": [
       "-q sa sb aa ab ba bb --marginal a --cb_type mtr --l1 1e-06 --learning_rate 0.1:   0%|          | 0/1 [00:00<?,…"
      ]
     },
     "metadata": {},
     "output_type": "display_data"
    },
    {
     "data": {
      "application/vnd.jupyter.widget-view+json": {
       "model_id": "",
       "version_major": 2,
       "version_minor": 0
      },
      "text/plain": [
       "-q ss sa as aa ab bs bb --marginal a --cb_type mtr --l1 1e-06 --learning_rate 0.1:   0%|          | 0/1 [00:00…"
      ]
     },
     "metadata": {},
     "output_type": "display_data"
    },
    {
     "data": {
      "application/vnd.jupyter.widget-view+json": {
       "model_id": "",
       "version_major": 2,
       "version_minor": 0
      },
      "text/plain": [
       "-q ss sb as aa bs ba --marginal a --cb_type mtr --l1 1e-06 --learning_rate 0.1:   0%|          | 0/1 [00:00<?,…"
      ]
     },
     "metadata": {},
     "output_type": "display_data"
    },
    {
     "data": {
      "application/vnd.jupyter.widget-view+json": {
       "model_id": "",
       "version_major": 2,
       "version_minor": 0
      },
      "text/plain": [
       "-q ss sa sb as bs ba --marginal a --cb_type mtr --l1 1e-06 --learning_rate 0.1:   0%|          | 0/1 [00:00<?,…"
      ]
     },
     "metadata": {},
     "output_type": "display_data"
    },
    {
     "data": {
      "application/vnd.jupyter.widget-view+json": {
       "model_id": "",
       "version_major": 2,
       "version_minor": 0
      },
      "text/plain": [
       "-q sa sb aa bs ba bb --marginal a --cb_type mtr --l1 1e-06 --learning_rate 0.1:   0%|          | 0/1 [00:00<?,…"
      ]
     },
     "metadata": {},
     "output_type": "display_data"
    },
    {
     "data": {
      "application/vnd.jupyter.widget-view+json": {
       "model_id": "",
       "version_major": 2,
       "version_minor": 0
      },
      "text/plain": [
       "-q ss sa as aa ab ba bb --marginal a --cb_type mtr --l1 1e-06 --learning_rate 0.1:   0%|          | 0/1 [00:00…"
      ]
     },
     "metadata": {},
     "output_type": "display_data"
    },
    {
     "data": {
      "application/vnd.jupyter.widget-view+json": {
       "model_id": "",
       "version_major": 2,
       "version_minor": 0
      },
      "text/plain": [
       "-q ss sb as aa bs bb --marginal a --cb_type mtr --l1 1e-06 --learning_rate 0.1:   0%|          | 0/1 [00:00<?,…"
      ]
     },
     "metadata": {},
     "output_type": "display_data"
    },
    {
     "data": {
      "application/vnd.jupyter.widget-view+json": {
       "model_id": "",
       "version_major": 2,
       "version_minor": 0
      },
      "text/plain": [
       "-q ss sa sb as bs bb --marginal a --cb_type mtr --l1 1e-06 --learning_rate 0.1:   0%|          | 0/1 [00:00<?,…"
      ]
     },
     "metadata": {},
     "output_type": "display_data"
    },
    {
     "data": {
      "application/vnd.jupyter.widget-view+json": {
       "model_id": "",
       "version_major": 2,
       "version_minor": 0
      },
      "text/plain": [
       "-q sa sb ab bs ba bb --marginal a --cb_type mtr --l1 1e-06 --learning_rate 0.1:   0%|          | 0/1 [00:00<?,…"
      ]
     },
     "metadata": {},
     "output_type": "display_data"
    },
    {
     "data": {
      "application/vnd.jupyter.widget-view+json": {
       "model_id": "",
       "version_major": 2,
       "version_minor": 0
      },
      "text/plain": [
       "-q ss sa as aa bs ba bb --marginal a --cb_type mtr --l1 1e-06 --learning_rate 0.1:   0%|          | 0/1 [00:00…"
      ]
     },
     "metadata": {},
     "output_type": "display_data"
    },
    {
     "data": {
      "application/vnd.jupyter.widget-view+json": {
       "model_id": "",
       "version_major": 2,
       "version_minor": 0
      },
      "text/plain": [
       "-q ss sb as aa ba bb --marginal a --cb_type mtr --l1 1e-06 --learning_rate 0.1:   0%|          | 0/1 [00:00<?,…"
      ]
     },
     "metadata": {},
     "output_type": "display_data"
    },
    {
     "data": {
      "application/vnd.jupyter.widget-view+json": {
       "model_id": "",
       "version_major": 2,
       "version_minor": 0
      },
      "text/plain": [
       "-q ss sa sb as ba bb --marginal a --cb_type mtr --l1 1e-06 --learning_rate 0.1:   0%|          | 0/1 [00:00<?,…"
      ]
     },
     "metadata": {},
     "output_type": "display_data"
    },
    {
     "data": {
      "application/vnd.jupyter.widget-view+json": {
       "model_id": "",
       "version_major": 2,
       "version_minor": 0
      },
      "text/plain": [
       "-q sa as aa ab bs ba --marginal a --cb_type mtr --l1 1e-06 --learning_rate 0.1:   0%|          | 0/1 [00:00<?,…"
      ]
     },
     "metadata": {},
     "output_type": "display_data"
    },
    {
     "data": {
      "application/vnd.jupyter.widget-view+json": {
       "model_id": "",
       "version_major": 2,
       "version_minor": 0
      },
      "text/plain": [
       "-q ss sa as ab bs ba bb --marginal a --cb_type mtr --l1 1e-06 --learning_rate 0.1:   0%|          | 0/1 [00:00…"
      ]
     },
     "metadata": {},
     "output_type": "display_data"
    },
    {
     "data": {
      "application/vnd.jupyter.widget-view+json": {
       "model_id": "",
       "version_major": 2,
       "version_minor": 0
      },
      "text/plain": [
       "-q ss sb as ab bs ba --marginal a --cb_type mtr --l1 1e-06 --learning_rate 0.1:   0%|          | 0/1 [00:00<?,…"
      ]
     },
     "metadata": {},
     "output_type": "display_data"
    },
    {
     "data": {
      "application/vnd.jupyter.widget-view+json": {
       "model_id": "",
       "version_major": 2,
       "version_minor": 0
      },
      "text/plain": [
       "-q ss sa sb aa ab bs --marginal a --cb_type mtr --l1 1e-06 --learning_rate 0.1:   0%|          | 0/1 [00:00<?,…"
      ]
     },
     "metadata": {},
     "output_type": "display_data"
    },
    {
     "data": {
      "application/vnd.jupyter.widget-view+json": {
       "model_id": "",
       "version_major": 2,
       "version_minor": 0
      },
      "text/plain": [
       "-q ss sa aa ab bs ba bb --marginal a --cb_type mtr --l1 1e-06 --learning_rate 0.1:   0%|          | 0/1 [00:00…"
      ]
     },
     "metadata": {},
     "output_type": "display_data"
    },
    {
     "data": {
      "application/vnd.jupyter.widget-view+json": {
       "model_id": "",
       "version_major": 2,
       "version_minor": 0
      },
      "text/plain": [
       "-q sa as aa ab bs bb --marginal a --cb_type mtr --l1 1e-06 --learning_rate 0.1:   0%|          | 0/1 [00:00<?,…"
      ]
     },
     "metadata": {},
     "output_type": "display_data"
    },
    {
     "data": {
      "application/vnd.jupyter.widget-view+json": {
       "model_id": "",
       "version_major": 2,
       "version_minor": 0
      },
      "text/plain": [
       "-q ss sb as ab bs bb --marginal a --cb_type mtr --l1 1e-06 --learning_rate 0.1:   0%|          | 0/1 [00:00<?,…"
      ]
     },
     "metadata": {},
     "output_type": "display_data"
    },
    {
     "data": {
      "application/vnd.jupyter.widget-view+json": {
       "model_id": "",
       "version_major": 2,
       "version_minor": 0
      },
      "text/plain": [
       "-q ss sa sb aa ab ba --marginal a --cb_type mtr --l1 1e-06 --learning_rate 0.1:   0%|          | 0/1 [00:00<?,…"
      ]
     },
     "metadata": {},
     "output_type": "display_data"
    },
    {
     "data": {
      "application/vnd.jupyter.widget-view+json": {
       "model_id": "",
       "version_major": 2,
       "version_minor": 0
      },
      "text/plain": [
       "-q ss sb as aa ab bs ba --marginal a --cb_type mtr --l1 1e-06 --learning_rate 0.1:   0%|          | 0/1 [00:00…"
      ]
     },
     "metadata": {},
     "output_type": "display_data"
    },
    {
     "data": {
      "application/vnd.jupyter.widget-view+json": {
       "model_id": "",
       "version_major": 2,
       "version_minor": 0
      },
      "text/plain": [
       "-q sa as aa ab ba bb --marginal a --cb_type mtr --l1 1e-06 --learning_rate 0.1:   0%|          | 0/1 [00:00<?,…"
      ]
     },
     "metadata": {},
     "output_type": "display_data"
    },
    {
     "data": {
      "application/vnd.jupyter.widget-view+json": {
       "model_id": "",
       "version_major": 2,
       "version_minor": 0
      },
      "text/plain": [
       "-q ss sb as ab ba bb --marginal a --cb_type mtr --l1 1e-06 --learning_rate 0.1:   0%|          | 0/1 [00:00<?,…"
      ]
     },
     "metadata": {},
     "output_type": "display_data"
    },
    {
     "data": {
      "application/vnd.jupyter.widget-view+json": {
       "model_id": "",
       "version_major": 2,
       "version_minor": 0
      },
      "text/plain": [
       "-q ss sa sb aa ab bb --marginal a --cb_type mtr --l1 1e-06 --learning_rate 0.1:   0%|          | 0/1 [00:00<?,…"
      ]
     },
     "metadata": {},
     "output_type": "display_data"
    },
    {
     "data": {
      "application/vnd.jupyter.widget-view+json": {
       "model_id": "",
       "version_major": 2,
       "version_minor": 0
      },
      "text/plain": [
       "-q ss sb as aa ab bs bb --marginal a --cb_type mtr --l1 1e-06 --learning_rate 0.1:   0%|          | 0/1 [00:00…"
      ]
     },
     "metadata": {},
     "output_type": "display_data"
    },
    {
     "data": {
      "application/vnd.jupyter.widget-view+json": {
       "model_id": "",
       "version_major": 2,
       "version_minor": 0
      },
      "text/plain": [
       "-q sa as aa bs ba bb --marginal a --cb_type mtr --l1 1e-06 --learning_rate 0.1:   0%|          | 0/1 [00:00<?,…"
      ]
     },
     "metadata": {},
     "output_type": "display_data"
    },
    {
     "data": {
      "application/vnd.jupyter.widget-view+json": {
       "model_id": "",
       "version_major": 2,
       "version_minor": 0
      },
      "text/plain": [
       "-q ss sb as bs ba bb --marginal a --cb_type mtr --l1 1e-06 --learning_rate 0.1:   0%|          | 0/1 [00:00<?,…"
      ]
     },
     "metadata": {},
     "output_type": "display_data"
    },
    {
     "data": {
      "application/vnd.jupyter.widget-view+json": {
       "model_id": "",
       "version_major": 2,
       "version_minor": 0
      },
      "text/plain": [
       "-q ss sa sb aa bs ba --marginal a --cb_type mtr --l1 1e-06 --learning_rate 0.1:   0%|          | 0/1 [00:00<?,…"
      ]
     },
     "metadata": {},
     "output_type": "display_data"
    },
    {
     "data": {
      "application/vnd.jupyter.widget-view+json": {
       "model_id": "",
       "version_major": 2,
       "version_minor": 0
      },
      "text/plain": [
       "-q ss sb as aa ab ba bb --marginal a --cb_type mtr --l1 1e-06 --learning_rate 0.1:   0%|          | 0/1 [00:00…"
      ]
     },
     "metadata": {},
     "output_type": "display_data"
    },
    {
     "data": {
      "application/vnd.jupyter.widget-view+json": {
       "model_id": "",
       "version_major": 2,
       "version_minor": 0
      },
      "text/plain": [
       "-q sa as ab bs ba bb --marginal a --cb_type mtr --l1 1e-06 --learning_rate 0.1:   0%|          | 0/1 [00:00<?,…"
      ]
     },
     "metadata": {},
     "output_type": "display_data"
    },
    {
     "data": {
      "application/vnd.jupyter.widget-view+json": {
       "model_id": "",
       "version_major": 2,
       "version_minor": 0
      },
      "text/plain": [
       "-q ss sb aa ab bs ba --marginal a --cb_type mtr --l1 1e-06 --learning_rate 0.1:   0%|          | 0/1 [00:00<?,…"
      ]
     },
     "metadata": {},
     "output_type": "display_data"
    },
    {
     "data": {
      "application/vnd.jupyter.widget-view+json": {
       "model_id": "",
       "version_major": 2,
       "version_minor": 0
      },
      "text/plain": [
       "-q ss sa sb aa bs bb --marginal a --cb_type mtr --l1 1e-06 --learning_rate 0.1:   0%|          | 0/1 [00:00<?,…"
      ]
     },
     "metadata": {},
     "output_type": "display_data"
    },
    {
     "data": {
      "application/vnd.jupyter.widget-view+json": {
       "model_id": "",
       "version_major": 2,
       "version_minor": 0
      },
      "text/plain": [
       "-q ss sb as aa bs ba bb --marginal a --cb_type mtr --l1 1e-06 --learning_rate 0.1:   0%|          | 0/1 [00:00…"
      ]
     },
     "metadata": {},
     "output_type": "display_data"
    },
    {
     "data": {
      "application/vnd.jupyter.widget-view+json": {
       "model_id": "",
       "version_major": 2,
       "version_minor": 0
      },
      "text/plain": [
       "-q sa aa ab bs ba bb --marginal a --cb_type mtr --l1 1e-06 --learning_rate 0.1:   0%|          | 0/1 [00:00<?,…"
      ]
     },
     "metadata": {},
     "output_type": "display_data"
    },
    {
     "data": {
      "application/vnd.jupyter.widget-view+json": {
       "model_id": "",
       "version_major": 2,
       "version_minor": 0
      },
      "text/plain": [
       "-q ss sb aa ab bs bb --marginal a --cb_type mtr --l1 1e-06 --learning_rate 0.1:   0%|          | 0/1 [00:00<?,…"
      ]
     },
     "metadata": {},
     "output_type": "display_data"
    },
    {
     "data": {
      "application/vnd.jupyter.widget-view+json": {
       "model_id": "",
       "version_major": 2,
       "version_minor": 0
      },
      "text/plain": [
       "-q ss sa sb aa ba bb --marginal a --cb_type mtr --l1 1e-06 --learning_rate 0.1:   0%|          | 0/1 [00:00<?,…"
      ]
     },
     "metadata": {},
     "output_type": "display_data"
    },
    {
     "data": {
      "application/vnd.jupyter.widget-view+json": {
       "model_id": "",
       "version_major": 2,
       "version_minor": 0
      },
      "text/plain": [
       "-q ss sb as ab bs ba bb --marginal a --cb_type mtr --l1 1e-06 --learning_rate 0.1:   0%|          | 0/1 [00:00…"
      ]
     },
     "metadata": {},
     "output_type": "display_data"
    },
    {
     "data": {
      "application/vnd.jupyter.widget-view+json": {
       "model_id": "",
       "version_major": 2,
       "version_minor": 0
      },
      "text/plain": [
       "-q sb as aa ab bs ba --marginal a --cb_type mtr --l1 1e-06 --learning_rate 0.1:   0%|          | 0/1 [00:00<?,…"
      ]
     },
     "metadata": {},
     "output_type": "display_data"
    },
    {
     "data": {
      "application/vnd.jupyter.widget-view+json": {
       "model_id": "",
       "version_major": 2,
       "version_minor": 0
      },
      "text/plain": [
       "-q ss sb aa ab ba bb --marginal a --cb_type mtr --l1 1e-06 --learning_rate 0.1:   0%|          | 0/1 [00:00<?,…"
      ]
     },
     "metadata": {},
     "output_type": "display_data"
    },
    {
     "data": {
      "application/vnd.jupyter.widget-view+json": {
       "model_id": "",
       "version_major": 2,
       "version_minor": 0
      },
      "text/plain": [
       "-q ss sa sb ab bs ba --marginal a --cb_type mtr --l1 1e-06 --learning_rate 0.1:   0%|          | 0/1 [00:00<?,…"
      ]
     },
     "metadata": {},
     "output_type": "display_data"
    },
    {
     "data": {
      "application/vnd.jupyter.widget-view+json": {
       "model_id": "",
       "version_major": 2,
       "version_minor": 0
      },
      "text/plain": [
       "-q sb as aa ab bs bb --marginal a --cb_type mtr --l1 1e-06 --learning_rate 0.1:   0%|          | 0/1 [00:00<?,…"
      ]
     },
     "metadata": {},
     "output_type": "display_data"
    },
    {
     "data": {
      "application/vnd.jupyter.widget-view+json": {
       "model_id": "",
       "version_major": 2,
       "version_minor": 0
      },
      "text/plain": [
       "-q ss sb aa ab bs ba bb --marginal a --cb_type mtr --l1 1e-06 --learning_rate 0.1:   0%|          | 0/1 [00:00…"
      ]
     },
     "metadata": {},
     "output_type": "display_data"
    },
    {
     "data": {
      "application/vnd.jupyter.widget-view+json": {
       "model_id": "",
       "version_major": 2,
       "version_minor": 0
      },
      "text/plain": [
       "-q ss sb aa bs ba bb --marginal a --cb_type mtr --l1 1e-06 --learning_rate 0.1:   0%|          | 0/1 [00:00<?,…"
      ]
     },
     "metadata": {},
     "output_type": "display_data"
    },
    {
     "data": {
      "application/vnd.jupyter.widget-view+json": {
       "model_id": "",
       "version_major": 2,
       "version_minor": 0
      },
      "text/plain": [
       "-q ss sa sb ab bs bb --marginal a --cb_type mtr --l1 1e-06 --learning_rate 0.1:   0%|          | 0/1 [00:00<?,…"
      ]
     },
     "metadata": {},
     "output_type": "display_data"
    },
    {
     "data": {
      "application/vnd.jupyter.widget-view+json": {
       "model_id": "",
       "version_major": 2,
       "version_minor": 0
      },
      "text/plain": [
       "-q sb as aa ab ba bb --marginal a --cb_type mtr --l1 1e-06 --learning_rate 0.1:   0%|          | 0/1 [00:00<?,…"
      ]
     },
     "metadata": {},
     "output_type": "display_data"
    },
    {
     "data": {
      "application/vnd.jupyter.widget-view+json": {
       "model_id": "",
       "version_major": 2,
       "version_minor": 0
      },
      "text/plain": [
       "-q ss as aa ab bs ba bb --marginal a --cb_type mtr --l1 1e-06 --learning_rate 0.1:   0%|          | 0/1 [00:00…"
      ]
     },
     "metadata": {},
     "output_type": "display_data"
    },
    {
     "data": {
      "application/vnd.jupyter.widget-view+json": {
       "model_id": "",
       "version_major": 2,
       "version_minor": 0
      },
      "text/plain": [
       "-q ss sb ab bs ba bb --marginal a --cb_type mtr --l1 1e-06 --learning_rate 0.1:   0%|          | 0/1 [00:00<?,…"
      ]
     },
     "metadata": {},
     "output_type": "display_data"
    },
    {
     "data": {
      "application/vnd.jupyter.widget-view+json": {
       "model_id": "",
       "version_major": 2,
       "version_minor": 0
      },
      "text/plain": [
       "-q ss sa sb ab ba bb --marginal a --cb_type mtr --l1 1e-06 --learning_rate 0.1:   0%|          | 0/1 [00:00<?,…"
      ]
     },
     "metadata": {},
     "output_type": "display_data"
    },
    {
     "data": {
      "application/vnd.jupyter.widget-view+json": {
       "model_id": "",
       "version_major": 2,
       "version_minor": 0
      },
      "text/plain": [
       "-q sb as aa bs ba bb --marginal a --cb_type mtr --l1 1e-06 --learning_rate 0.1:   0%|          | 0/1 [00:00<?,…"
      ]
     },
     "metadata": {},
     "output_type": "display_data"
    },
    {
     "data": {
      "application/vnd.jupyter.widget-view+json": {
       "model_id": "",
       "version_major": 2,
       "version_minor": 0
      },
      "text/plain": [
       "-q sa sb as aa ab bs ba --marginal a --cb_type mtr --l1 1e-06 --learning_rate 0.1:   0%|          | 0/1 [00:00…"
      ]
     },
     "metadata": {},
     "output_type": "display_data"
    },
    {
     "data": {
      "application/vnd.jupyter.widget-view+json": {
       "model_id": "",
       "version_major": 2,
       "version_minor": 0
      },
      "text/plain": [
       "-q ss as aa ab bs ba --marginal a --cb_type mtr --l1 1e-06 --learning_rate 0.1:   0%|          | 0/1 [00:00<?,…"
      ]
     },
     "metadata": {},
     "output_type": "display_data"
    },
    {
     "data": {
      "application/vnd.jupyter.widget-view+json": {
       "model_id": "",
       "version_major": 2,
       "version_minor": 0
      },
      "text/plain": [
       "-q ss sa sb bs ba bb --marginal a --cb_type mtr --l1 1e-06 --learning_rate 0.1:   0%|          | 0/1 [00:00<?,…"
      ]
     },
     "metadata": {},
     "output_type": "display_data"
    },
    {
     "data": {
      "application/vnd.jupyter.widget-view+json": {
       "model_id": "",
       "version_major": 2,
       "version_minor": 0
      },
      "text/plain": [
       "-q sb as ab bs ba bb --marginal a --cb_type mtr --l1 1e-06 --learning_rate 0.1:   0%|          | 0/1 [00:00<?,…"
      ]
     },
     "metadata": {},
     "output_type": "display_data"
    },
    {
     "data": {
      "application/vnd.jupyter.widget-view+json": {
       "model_id": "",
       "version_major": 2,
       "version_minor": 0
      },
      "text/plain": [
       "-q sa sb as aa ab bs bb --marginal a --cb_type mtr --l1 1e-06 --learning_rate 0.1:   0%|          | 0/1 [00:00…"
      ]
     },
     "metadata": {},
     "output_type": "display_data"
    },
    {
     "data": {
      "application/vnd.jupyter.widget-view+json": {
       "model_id": "",
       "version_major": 2,
       "version_minor": 0
      },
      "text/plain": [
       "-q ss as aa ab bs bb --marginal a --cb_type mtr --l1 1e-06 --learning_rate 0.1:   0%|          | 0/1 [00:00<?,…"
      ]
     },
     "metadata": {},
     "output_type": "display_data"
    },
    {
     "data": {
      "application/vnd.jupyter.widget-view+json": {
       "model_id": "",
       "version_major": 2,
       "version_minor": 0
      },
      "text/plain": [
       "-q ss sa as aa ab bs --marginal a --cb_type mtr --l1 1e-06 --learning_rate 0.1:   0%|          | 0/1 [00:00<?,…"
      ]
     },
     "metadata": {},
     "output_type": "display_data"
    },
    {
     "data": {
      "application/vnd.jupyter.widget-view+json": {
       "model_id": "",
       "version_major": 2,
       "version_minor": 0
      },
      "text/plain": [
       "-q sb aa ab bs ba bb --marginal a --cb_type mtr --l1 1e-06 --learning_rate 0.1:   0%|          | 0/1 [00:00<?,…"
      ]
     },
     "metadata": {},
     "output_type": "display_data"
    },
    {
     "data": {
      "application/vnd.jupyter.widget-view+json": {
       "model_id": "",
       "version_major": 2,
       "version_minor": 0
      },
      "text/plain": [
       "-q sa sb as aa ab ba bb --marginal a --cb_type mtr --l1 1e-06 --learning_rate 0.1:   0%|          | 0/1 [00:00…"
      ]
     },
     "metadata": {},
     "output_type": "display_data"
    },
    {
     "data": {
      "application/vnd.jupyter.widget-view+json": {
       "model_id": "",
       "version_major": 2,
       "version_minor": 0
      },
      "text/plain": [
       "-q ss as aa ab ba bb --marginal a --cb_type mtr --l1 1e-06 --learning_rate 0.1:   0%|          | 0/1 [00:00<?,…"
      ]
     },
     "metadata": {},
     "output_type": "display_data"
    },
    {
     "data": {
      "application/vnd.jupyter.widget-view+json": {
       "model_id": "",
       "version_major": 2,
       "version_minor": 0
      },
      "text/plain": [
       "-q ss sa as aa ab ba --marginal a --cb_type mtr --l1 1e-06 --learning_rate 0.1:   0%|          | 0/1 [00:00<?,…"
      ]
     },
     "metadata": {},
     "output_type": "display_data"
    },
    {
     "data": {
      "application/vnd.jupyter.widget-view+json": {
       "model_id": "",
       "version_major": 2,
       "version_minor": 0
      },
      "text/plain": [
       "-q as aa ab bs ba bb --marginal a --cb_type mtr --l1 1e-06 --learning_rate 0.1:   0%|          | 0/1 [00:00<?,…"
      ]
     },
     "metadata": {},
     "output_type": "display_data"
    },
    {
     "data": {
      "application/vnd.jupyter.widget-view+json": {
       "model_id": "",
       "version_major": 2,
       "version_minor": 0
      },
      "text/plain": [
       "-q sa sb as aa bs ba bb --marginal a --cb_type mtr --l1 1e-06 --learning_rate 0.1:   0%|          | 0/1 [00:00…"
      ]
     },
     "metadata": {},
     "output_type": "display_data"
    },
    {
     "data": {
      "application/vnd.jupyter.widget-view+json": {
       "model_id": "",
       "version_major": 2,
       "version_minor": 0
      },
      "text/plain": [
       "-q ss as aa bs ba bb --marginal a --cb_type mtr --l1 1e-06 --learning_rate 0.1:   0%|          | 0/1 [00:00<?,…"
      ]
     },
     "metadata": {},
     "output_type": "display_data"
    },
    {
     "data": {
      "application/vnd.jupyter.widget-view+json": {
       "model_id": "",
       "version_major": 2,
       "version_minor": 0
      },
      "text/plain": [
       "-q ss sa as aa ab bb --marginal a --cb_type mtr --l1 1e-06 --learning_rate 0.1:   0%|          | 0/1 [00:00<?,…"
      ]
     },
     "metadata": {},
     "output_type": "display_data"
    },
    {
     "data": {
      "application/vnd.jupyter.widget-view+json": {
       "model_id": "",
       "version_major": 2,
       "version_minor": 0
      },
      "text/plain": [
       "-q ss sa sb as aa ab bs --marginal a --cb_type mtr --l1 1e-06 --learning_rate 0.1:   0%|          | 0/1 [00:00…"
      ]
     },
     "metadata": {},
     "output_type": "display_data"
    },
    {
     "data": {
      "application/vnd.jupyter.widget-view+json": {
       "model_id": "",
       "version_major": 2,
       "version_minor": 0
      },
      "text/plain": [
       "-q sa sb as ab bs ba bb --marginal a --cb_type mtr --l1 1e-06 --learning_rate 0.1:   0%|          | 0/1 [00:00…"
      ]
     },
     "metadata": {},
     "output_type": "display_data"
    },
    {
     "data": {
      "application/vnd.jupyter.widget-view+json": {
       "model_id": "",
       "version_major": 2,
       "version_minor": 0
      },
      "text/plain": [
       "-q ss as ab bs ba bb --marginal a --cb_type mtr --l1 1e-06 --learning_rate 0.1:   0%|          | 0/1 [00:00<?,…"
      ]
     },
     "metadata": {},
     "output_type": "display_data"
    },
    {
     "data": {
      "application/vnd.jupyter.widget-view+json": {
       "model_id": "",
       "version_major": 2,
       "version_minor": 0
      },
      "text/plain": [
       "-q ss sa as aa bs ba --marginal a --cb_type mtr --l1 1e-06 --learning_rate 0.1:   0%|          | 0/1 [00:00<?,…"
      ]
     },
     "metadata": {},
     "output_type": "display_data"
    },
    {
     "data": {
      "application/vnd.jupyter.widget-view+json": {
       "model_id": "",
       "version_major": 2,
       "version_minor": 0
      },
      "text/plain": [
       "-q sa sb aa ab bs ba bb --marginal a --cb_type mtr --l1 1e-06 --learning_rate 0.1:   0%|          | 0/1 [00:00…"
      ]
     },
     "metadata": {},
     "output_type": "display_data"
    },
    {
     "data": {
      "application/vnd.jupyter.widget-view+json": {
       "model_id": "",
       "version_major": 2,
       "version_minor": 0
      },
      "text/plain": [
       "-q ss sa sb as aa ab ba --marginal a --cb_type mtr --l1 1e-06 --learning_rate 0.1:   0%|          | 0/1 [00:00…"
      ]
     },
     "metadata": {},
     "output_type": "display_data"
    },
    {
     "data": {
      "application/vnd.jupyter.widget-view+json": {
       "model_id": "",
       "version_major": 2,
       "version_minor": 0
      },
      "text/plain": [
       "-q ss aa ab bs ba bb --marginal a --cb_type mtr --l1 1e-06 --learning_rate 0.1:   0%|          | 0/1 [00:00<?,…"
      ]
     },
     "metadata": {},
     "output_type": "display_data"
    },
    {
     "data": {
      "application/vnd.jupyter.widget-view+json": {
       "model_id": "",
       "version_major": 2,
       "version_minor": 0
      },
      "text/plain": [
       "-q ss sa as aa bs bb --marginal a --cb_type mtr --l1 1e-06 --learning_rate 0.1:   0%|          | 0/1 [00:00<?,…"
      ]
     },
     "metadata": {},
     "output_type": "display_data"
    },
    {
     "data": {
      "application/vnd.jupyter.widget-view+json": {
       "model_id": "",
       "version_major": 2,
       "version_minor": 0
      },
      "text/plain": [
       "-q sa as aa ab bs ba bb --marginal a --cb_type mtr --l1 1e-06 --learning_rate 0.1:   0%|          | 0/1 [00:00…"
      ]
     },
     "metadata": {},
     "output_type": "display_data"
    },
    {
     "data": {
      "application/vnd.jupyter.widget-view+json": {
       "model_id": "",
       "version_major": 2,
       "version_minor": 0
      },
      "text/plain": [
       "-q ss sa sb as aa ab bb --marginal a --cb_type mtr --l1 1e-06 --learning_rate 0.1:   0%|          | 0/1 [00:00…"
      ]
     },
     "metadata": {},
     "output_type": "display_data"
    },
    {
     "data": {
      "application/vnd.jupyter.widget-view+json": {
       "model_id": "",
       "version_major": 2,
       "version_minor": 0
      },
      "text/plain": [
       "-q sa sb as aa ab bs --marginal a --cb_type mtr --l1 1e-06 --learning_rate 0.1:   0%|          | 0/1 [00:00<?,…"
      ]
     },
     "metadata": {},
     "output_type": "display_data"
    },
    {
     "data": {
      "application/vnd.jupyter.widget-view+json": {
       "model_id": "",
       "version_major": 2,
       "version_minor": 0
      },
      "text/plain": [
       "-q ss sa as aa ba bb --marginal a --cb_type mtr --l1 1e-06 --learning_rate 0.1:   0%|          | 0/1 [00:00<?,…"
      ]
     },
     "metadata": {},
     "output_type": "display_data"
    },
    {
     "data": {
      "application/vnd.jupyter.widget-view+json": {
       "model_id": "",
       "version_major": 2,
       "version_minor": 0
      },
      "text/plain": [
       "-q sb as aa ab bs ba bb --marginal a --cb_type mtr --l1 1e-06 --learning_rate 0.1:   0%|          | 0/1 [00:00…"
      ]
     },
     "metadata": {},
     "output_type": "display_data"
    },
    {
     "data": {
      "application/vnd.jupyter.widget-view+json": {
       "model_id": "",
       "version_major": 2,
       "version_minor": 0
      },
      "text/plain": [
       "-q ss sa sb as aa bs ba --marginal a --cb_type mtr --l1 1e-06 --learning_rate 0.1:   0%|          | 0/1 [00:00…"
      ]
     },
     "metadata": {},
     "output_type": "display_data"
    },
    {
     "data": {
      "application/vnd.jupyter.widget-view+json": {
       "model_id": "",
       "version_major": 2,
       "version_minor": 0
      },
      "text/plain": [
       "-q sa sb as aa ab ba --marginal a --cb_type mtr --l1 1e-06 --learning_rate 0.1:   0%|          | 0/1 [00:00<?,…"
      ]
     },
     "metadata": {},
     "output_type": "display_data"
    },
    {
     "data": {
      "application/vnd.jupyter.widget-view+json": {
       "model_id": "",
       "version_major": 2,
       "version_minor": 0
      },
      "text/plain": [
       "-q ss sa as ab bs ba --marginal a --cb_type mtr --l1 1e-06 --learning_rate 0.1:   0%|          | 0/1 [00:00<?,…"
      ]
     },
     "metadata": {},
     "output_type": "display_data"
    },
    {
     "data": {
      "application/vnd.jupyter.widget-view+json": {
       "model_id": "",
       "version_major": 2,
       "version_minor": 0
      },
      "text/plain": [
       "-q ss sa sb as aa ab bs ba --marginal a --cb_type mtr --l1 1e-06 --learning_rate 0.1:   0%|          | 0/1 [00…"
      ]
     },
     "metadata": {},
     "output_type": "display_data"
    },
    {
     "data": {
      "application/vnd.jupyter.widget-view+json": {
       "model_id": "",
       "version_major": 2,
       "version_minor": 0
      },
      "text/plain": [
       "-q ss sa sb as aa bs bb --marginal a --cb_type mtr --l1 1e-06 --learning_rate 0.1:   0%|          | 0/1 [00:00…"
      ]
     },
     "metadata": {},
     "output_type": "display_data"
    },
    {
     "data": {
      "application/vnd.jupyter.widget-view+json": {
       "model_id": "",
       "version_major": 2,
       "version_minor": 0
      },
      "text/plain": [
       "-q sa sb as aa ab bb --marginal a --cb_type mtr --l1 1e-06 --learning_rate 0.1:   0%|          | 0/1 [00:00<?,…"
      ]
     },
     "metadata": {},
     "output_type": "display_data"
    },
    {
     "data": {
      "application/vnd.jupyter.widget-view+json": {
       "model_id": "",
       "version_major": 2,
       "version_minor": 0
      },
      "text/plain": [
       "-q ss sa as ab bs bb --marginal a --cb_type mtr --l1 1e-06 --learning_rate 0.1:   0%|          | 0/1 [00:00<?,…"
      ]
     },
     "metadata": {},
     "output_type": "display_data"
    },
    {
     "data": {
      "application/vnd.jupyter.widget-view+json": {
       "model_id": "",
       "version_major": 2,
       "version_minor": 0
      },
      "text/plain": [
       "-q ss sa sb as aa ab bs bb --marginal a --cb_type mtr --l1 1e-06 --learning_rate 0.1:   0%|          | 0/1 [00…"
      ]
     },
     "metadata": {},
     "output_type": "display_data"
    },
    {
     "data": {
      "application/vnd.jupyter.widget-view+json": {
       "model_id": "",
       "version_major": 2,
       "version_minor": 0
      },
      "text/plain": [
       "-q ss sa sb as aa ba bb --marginal a --cb_type mtr --l1 1e-06 --learning_rate 0.1:   0%|          | 0/1 [00:00…"
      ]
     },
     "metadata": {},
     "output_type": "display_data"
    },
    {
     "data": {
      "application/vnd.jupyter.widget-view+json": {
       "model_id": "",
       "version_major": 2,
       "version_minor": 0
      },
      "text/plain": [
       "-q sa sb as aa bs ba --marginal a --cb_type mtr --l1 1e-06 --learning_rate 0.1:   0%|          | 0/1 [00:00<?,…"
      ]
     },
     "metadata": {},
     "output_type": "display_data"
    },
    {
     "data": {
      "application/vnd.jupyter.widget-view+json": {
       "model_id": "",
       "version_major": 2,
       "version_minor": 0
      },
      "text/plain": [
       "-q ss sa as ab ba bb --marginal a --cb_type mtr --l1 1e-06 --learning_rate 0.1:   0%|          | 0/1 [00:00<?,…"
      ]
     },
     "metadata": {},
     "output_type": "display_data"
    },
    {
     "data": {
      "application/vnd.jupyter.widget-view+json": {
       "model_id": "",
       "version_major": 2,
       "version_minor": 0
      },
      "text/plain": [
       "-q ss sa sb as aa ab ba bb --marginal a --cb_type mtr --l1 1e-06 --learning_rate 0.1:   0%|          | 0/1 [00…"
      ]
     },
     "metadata": {},
     "output_type": "display_data"
    },
    {
     "data": {
      "application/vnd.jupyter.widget-view+json": {
       "model_id": "",
       "version_major": 2,
       "version_minor": 0
      },
      "text/plain": [
       "-q ss sa sb as ab bs ba --marginal a --cb_type mtr --l1 1e-06 --learning_rate 0.1:   0%|          | 0/1 [00:00…"
      ]
     },
     "metadata": {},
     "output_type": "display_data"
    },
    {
     "data": {
      "application/vnd.jupyter.widget-view+json": {
       "model_id": "",
       "version_major": 2,
       "version_minor": 0
      },
      "text/plain": [
       "-q sa sb as aa bs bb --marginal a --cb_type mtr --l1 1e-06 --learning_rate 0.1:   0%|          | 0/1 [00:00<?,…"
      ]
     },
     "metadata": {},
     "output_type": "display_data"
    },
    {
     "data": {
      "application/vnd.jupyter.widget-view+json": {
       "model_id": "",
       "version_major": 2,
       "version_minor": 0
      },
      "text/plain": [
       "-q ss sa as bs ba bb --marginal a --cb_type mtr --l1 1e-06 --learning_rate 0.1:   0%|          | 0/1 [00:00<?,…"
      ]
     },
     "metadata": {},
     "output_type": "display_data"
    },
    {
     "data": {
      "application/vnd.jupyter.widget-view+json": {
       "model_id": "",
       "version_major": 2,
       "version_minor": 0
      },
      "text/plain": [
       "-q ss sa sb as aa bs ba bb --marginal a --cb_type mtr --l1 1e-06 --learning_rate 0.1:   0%|          | 0/1 [00…"
      ]
     },
     "metadata": {},
     "output_type": "display_data"
    },
    {
     "data": {
      "application/vnd.jupyter.widget-view+json": {
       "model_id": "",
       "version_major": 2,
       "version_minor": 0
      },
      "text/plain": [
       "-q ss sa sb as ab bs bb --marginal a --cb_type mtr --l1 1e-06 --learning_rate 0.1:   0%|          | 0/1 [00:00…"
      ]
     },
     "metadata": {},
     "output_type": "display_data"
    },
    {
     "data": {
      "application/vnd.jupyter.widget-view+json": {
       "model_id": "",
       "version_major": 2,
       "version_minor": 0
      },
      "text/plain": [
       "-q sa sb as aa ba bb --marginal a --cb_type mtr --l1 1e-06 --learning_rate 0.1:   0%|          | 0/1 [00:00<?,…"
      ]
     },
     "metadata": {},
     "output_type": "display_data"
    },
    {
     "data": {
      "application/vnd.jupyter.widget-view+json": {
       "model_id": "",
       "version_major": 2,
       "version_minor": 0
      },
      "text/plain": [
       "-q ss sa aa ab bs ba --marginal a --cb_type mtr --l1 1e-06 --learning_rate 0.1:   0%|          | 0/1 [00:00<?,…"
      ]
     },
     "metadata": {},
     "output_type": "display_data"
    },
    {
     "data": {
      "application/vnd.jupyter.widget-view+json": {
       "model_id": "",
       "version_major": 2,
       "version_minor": 0
      },
      "text/plain": [
       "-q ss sa sb as ab bs ba bb --marginal a --cb_type mtr --l1 1e-06 --learning_rate 0.1:   0%|          | 0/1 [00…"
      ]
     },
     "metadata": {},
     "output_type": "display_data"
    },
    {
     "data": {
      "application/vnd.jupyter.widget-view+json": {
       "model_id": "",
       "version_major": 2,
       "version_minor": 0
      },
      "text/plain": [
       "-q ss sa sb as ab ba bb --marginal a --cb_type mtr --l1 1e-06 --learning_rate 0.1:   0%|          | 0/1 [00:00…"
      ]
     },
     "metadata": {},
     "output_type": "display_data"
    },
    {
     "data": {
      "application/vnd.jupyter.widget-view+json": {
       "model_id": "",
       "version_major": 2,
       "version_minor": 0
      },
      "text/plain": [
       "-q sa sb as ab bs ba --marginal a --cb_type mtr --l1 1e-06 --learning_rate 0.1:   0%|          | 0/1 [00:00<?,…"
      ]
     },
     "metadata": {},
     "output_type": "display_data"
    },
    {
     "data": {
      "application/vnd.jupyter.widget-view+json": {
       "model_id": "",
       "version_major": 2,
       "version_minor": 0
      },
      "text/plain": [
       "-q ss sa aa ab bs bb --marginal a --cb_type mtr --l1 1e-06 --learning_rate 0.1:   0%|          | 0/1 [00:00<?,…"
      ]
     },
     "metadata": {},
     "output_type": "display_data"
    },
    {
     "data": {
      "application/vnd.jupyter.widget-view+json": {
       "model_id": "",
       "version_major": 2,
       "version_minor": 0
      },
      "text/plain": [
       "-q ss sa sb aa ab bs ba bb --marginal a --cb_type mtr --l1 1e-06 --learning_rate 0.1:   0%|          | 0/1 [00…"
      ]
     },
     "metadata": {},
     "output_type": "display_data"
    },
    {
     "data": {
      "application/vnd.jupyter.widget-view+json": {
       "model_id": "",
       "version_major": 2,
       "version_minor": 0
      },
      "text/plain": [
       "-q ss sa sb as bs ba bb --marginal a --cb_type mtr --l1 1e-06 --learning_rate 0.1:   0%|          | 0/1 [00:00…"
      ]
     },
     "metadata": {},
     "output_type": "display_data"
    },
    {
     "data": {
      "application/vnd.jupyter.widget-view+json": {
       "model_id": "",
       "version_major": 2,
       "version_minor": 0
      },
      "text/plain": [
       "-q sa sb as ab bs bb --marginal a --cb_type mtr --l1 1e-06 --learning_rate 0.1:   0%|          | 0/1 [00:00<?,…"
      ]
     },
     "metadata": {},
     "output_type": "display_data"
    },
    {
     "data": {
      "application/vnd.jupyter.widget-view+json": {
       "model_id": "",
       "version_major": 2,
       "version_minor": 0
      },
      "text/plain": [
       "-q ss sa aa ab ba bb --marginal a --cb_type mtr --l1 1e-06 --learning_rate 0.1:   0%|          | 0/1 [00:00<?,…"
      ]
     },
     "metadata": {},
     "output_type": "display_data"
    },
    {
     "data": {
      "application/vnd.jupyter.widget-view+json": {
       "model_id": "",
       "version_major": 2,
       "version_minor": 0
      },
      "text/plain": [
       "-q ss sa as aa ab bs ba bb --marginal a --cb_type mtr --l1 1e-06 --learning_rate 0.1:   0%|          | 0/1 [00…"
      ]
     },
     "metadata": {},
     "output_type": "display_data"
    },
    {
     "data": {
      "application/vnd.jupyter.widget-view+json": {
       "model_id": "",
       "version_major": 2,
       "version_minor": 0
      },
      "text/plain": [
       "-q ss sa sb aa ab bs ba --marginal a --cb_type mtr --l1 1e-06 --learning_rate 0.1:   0%|          | 0/1 [00:00…"
      ]
     },
     "metadata": {},
     "output_type": "display_data"
    },
    {
     "data": {
      "application/vnd.jupyter.widget-view+json": {
       "model_id": "",
       "version_major": 2,
       "version_minor": 0
      },
      "text/plain": [
       "-q sa sb as ab ba bb --marginal a --cb_type mtr --l1 1e-06 --learning_rate 0.1:   0%|          | 0/1 [00:00<?,…"
      ]
     },
     "metadata": {},
     "output_type": "display_data"
    },
    {
     "data": {
      "application/vnd.jupyter.widget-view+json": {
       "model_id": "",
       "version_major": 2,
       "version_minor": 0
      },
      "text/plain": [
       "-q ss sa aa bs ba bb --marginal a --cb_type mtr --l1 1e-06 --learning_rate 0.1:   0%|          | 0/1 [00:00<?,…"
      ]
     },
     "metadata": {},
     "output_type": "display_data"
    },
    {
     "data": {
      "application/vnd.jupyter.widget-view+json": {
       "model_id": "",
       "version_major": 2,
       "version_minor": 0
      },
      "text/plain": [
       "-q ss sb as aa ab bs ba bb --marginal a --cb_type mtr --l1 1e-06 --learning_rate 0.1:   0%|          | 0/1 [00…"
      ]
     },
     "metadata": {},
     "output_type": "display_data"
    },
    {
     "data": {
      "application/vnd.jupyter.widget-view+json": {
       "model_id": "",
       "version_major": 2,
       "version_minor": 0
      },
      "text/plain": [
       "-q ss sa sb aa ab bs bb --marginal a --cb_type mtr --l1 1e-06 --learning_rate 0.1:   0%|          | 0/1 [00:00…"
      ]
     },
     "metadata": {},
     "output_type": "display_data"
    },
    {
     "data": {
      "application/vnd.jupyter.widget-view+json": {
       "model_id": "",
       "version_major": 2,
       "version_minor": 0
      },
      "text/plain": [
       "-q sa sb as bs ba bb --marginal a --cb_type mtr --l1 1e-06 --learning_rate 0.1:   0%|          | 0/1 [00:00<?,…"
      ]
     },
     "metadata": {},
     "output_type": "display_data"
    },
    {
     "data": {
      "application/vnd.jupyter.widget-view+json": {
       "model_id": "",
       "version_major": 2,
       "version_minor": 0
      },
      "text/plain": [
       "-q ss sa sb aa ab ba bb --marginal a --cb_type mtr --l1 1e-06 --learning_rate 0.1:   0%|          | 0/1 [00:00…"
      ]
     },
     "metadata": {},
     "output_type": "display_data"
    },
    {
     "data": {
      "application/vnd.jupyter.widget-view+json": {
       "model_id": "",
       "version_major": 2,
       "version_minor": 0
      },
      "text/plain": [
       "-q sa sb as aa ab bs ba bb --marginal a --cb_type mtr --l1 1e-06 --learning_rate 0.1:   0%|          | 0/1 [00…"
      ]
     },
     "metadata": {},
     "output_type": "display_data"
    },
    {
     "data": {
      "application/vnd.jupyter.widget-view+json": {
       "model_id": "",
       "version_major": 2,
       "version_minor": 0
      },
      "text/plain": [
       "-q ss sa sb aa bs ba bb --marginal a --cb_type mtr --l1 1e-06 --learning_rate 0.1:   0%|          | 0/1 [00:00…"
      ]
     },
     "metadata": {},
     "output_type": "display_data"
    },
    {
     "data": {
      "application/vnd.jupyter.widget-view+json": {
       "model_id": "",
       "version_major": 2,
       "version_minor": 0
      },
      "text/plain": [
       "-q ss sa sb as aa ab bs ba bb --marginal a --cb_type mtr --l1 1e-06 --learning_rate 0.1:   0%|          | 0/1 …"
      ]
     },
     "metadata": {},
     "output_type": "display_data"
    },
    {
     "ename": "AttributeError",
     "evalue": "'list' object has no attribute 'sort_values'",
     "output_type": "error",
     "traceback": [
      "\u001b[1;31m---------------------------------------------------------------------------\u001b[0m",
      "\u001b[1;31mAttributeError\u001b[0m                            Traceback (most recent call last)",
      "\u001b[1;32m~\\AppData\\Local\\Temp/ipykernel_25176/3812550440.py\u001b[0m in \u001b[0;36m<module>\u001b[1;34m\u001b[0m\n\u001b[0;32m     25\u001b[0m \u001b[0mfirst_step_result\u001b[0m \u001b[1;33m=\u001b[0m \u001b[0mvw\u001b[0m\u001b[1;33m.\u001b[0m\u001b[0mtrain\u001b[0m\u001b[1;33m(\u001b[0m\u001b[0minputs\u001b[0m\u001b[1;33m,\u001b[0m \u001b[0mstep1\u001b[0m\u001b[1;33m)\u001b[0m\u001b[1;33m\u001b[0m\u001b[1;33m\u001b[0m\u001b[0m\n\u001b[0;32m     26\u001b[0m \u001b[0msecond_step_result\u001b[0m \u001b[1;33m=\u001b[0m \u001b[0mvw\u001b[0m\u001b[1;33m.\u001b[0m\u001b[0mtrain\u001b[0m\u001b[1;33m(\u001b[0m\u001b[0minputs\u001b[0m\u001b[1;33m,\u001b[0m \u001b[0mproduct\u001b[0m\u001b[1;33m(\u001b[0m\u001b[0mfirst_step_result\u001b[0m\u001b[1;33m.\u001b[0m\u001b[0msort_values\u001b[0m\u001b[1;33m(\u001b[0m\u001b[1;34m'!Loss'\u001b[0m\u001b[1;33m)\u001b[0m\u001b[1;33m.\u001b[0m\u001b[0mhead\u001b[0m\u001b[1;33m(\u001b[0m\u001b[1;36m1\u001b[0m\u001b[1;33m)\u001b[0m\u001b[1;33m,\u001b[0m \u001b[0mstep2\u001b[0m\u001b[1;33m)\u001b[0m\u001b[1;33m)\u001b[0m\u001b[1;33m\u001b[0m\u001b[1;33m\u001b[0m\u001b[0m\n\u001b[1;32m---> 27\u001b[1;33m \u001b[0mthird_step_result\u001b[0m \u001b[1;33m=\u001b[0m \u001b[0mvw\u001b[0m\u001b[1;33m.\u001b[0m\u001b[0mtrain\u001b[0m\u001b[1;33m(\u001b[0m\u001b[0minputs\u001b[0m\u001b[1;33m,\u001b[0m \u001b[0mproduct\u001b[0m\u001b[1;33m(\u001b[0m\u001b[0msecond_step_result\u001b[0m\u001b[1;33m.\u001b[0m\u001b[0msort_values\u001b[0m\u001b[1;33m(\u001b[0m\u001b[1;34m'!Loss'\u001b[0m\u001b[1;33m)\u001b[0m\u001b[1;33m.\u001b[0m\u001b[0mhead\u001b[0m\u001b[1;33m(\u001b[0m\u001b[1;36m1\u001b[0m\u001b[1;33m)\u001b[0m\u001b[1;33m,\u001b[0m \u001b[0mstep1\u001b[0m\u001b[1;33m)\u001b[0m\u001b[1;33m)\u001b[0m\u001b[1;33m\u001b[0m\u001b[1;33m\u001b[0m\u001b[0m\n\u001b[0m\u001b[0;32m     28\u001b[0m \u001b[1;33m\u001b[0m\u001b[0m\n",
      "\u001b[1;31mAttributeError\u001b[0m: 'list' object has no attribute 'sort_values'"
     ]
    }
   ],
   "source": [
    "import itertools\n",
    "def powerset(iterable):\n",
    "    s = list(iterable)\n",
    "    return chain.from_iterable(itertools.combinations(s, r) for r in range(len(s)+1))\n",
    "\n",
    "from vw_executor.vw import Vw\n",
    "from vw_executor.vw_opts import product, dimension\n",
    "import pandas as pd\n",
    "\n",
    "vw = Vw('vw', '.vw_cache')\n",
    "\n",
    "step1 = pd.DataFrame(product(\n",
    "    dimension('#base', ['--cb_explore_adf -P 1000 --preserve_performance_counters --save_resume --dsjson --power_t 0']),\n",
    "    dimension('--learning_rate', [1e-6, 1e-5, 1e-4, 1e-3, 1e-2, 1e-1, 1, 10]),\n",
    "    dimension('--l1', [1e-9, 1e-6, 1e-3]),\n",
    "    dimension('--cb_type', ['ips', 'mtr']),\n",
    "    dimension('#marginal', ['', '--marginal a'])\n",
    "    ))\n",
    "\n",
    "step2 = pd.DataFrame(\n",
    "    dimension('#interactions', [f'-q {\" \".join([t[0] + t[1] for t in c])}'\n",
    "                                for c in powerset((itertools.product(['s', 'a', 'b'], ['s', 'a', 'b'])))]))\n",
    "inputs = ['small.json']\n",
    "\n",
    "\n",
    "first_step_result = vw.train(inputs, step1)\n",
    "second_step_result = vw.train(inputs, pd.DataFrame(product(first_step_result.sort_values('!Loss').head(1)), step2))\n",
    "third_step_result = vw.train(inputs, pd.DataFrame(product(second_step_result.sort_values('!Loss').head(1)), step1))\n"
   ]
  },
  {
   "cell_type": "code",
   "execution_count": null,
   "metadata": {},
   "outputs": [],
   "source": []
  }
 ],
 "metadata": {
  "interpreter": {
   "hash": "b8f4a58adc17b056f67bda23a8d2f1daa157665278cb2abc3190e1c7319c7b72"
  },
  "kernelspec": {
   "display_name": "Python 3 (ipykernel)",
   "language": "python",
   "name": "python3"
  },
  "language_info": {
   "codemirror_mode": {
    "name": "ipython",
    "version": 3
   },
   "file_extension": ".py",
   "mimetype": "text/x-python",
   "name": "python",
   "nbconvert_exporter": "python",
   "pygments_lexer": "ipython3",
   "version": "3.9.5"
  }
 },
 "nbformat": 4,
 "nbformat_minor": 4
}
