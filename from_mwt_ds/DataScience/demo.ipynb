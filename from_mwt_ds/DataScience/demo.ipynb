{
 "cells": [
  {
   "cell_type": "markdown",
   "metadata": {},
   "source": [
    "# Hacks & helpers"
   ]
  },
  {
   "cell_type": "code",
   "execution_count": null,
   "metadata": {},
   "outputs": [],
   "source": [
    "!python -m pip install ipympl\n",
    "!python -m pip install seaborn"
   ]
  },
  {
   "cell_type": "code",
   "execution_count": null,
   "metadata": {},
   "outputs": [],
   "source": [
    "from vw_executor.vw_opts import VwOpts, InteractiveGrid\n",
    "from pathlib import Path\n",
    "%matplotlib widget\n",
    "import random\n",
    "import pandas as pd\n",
    "import numpy as np\n",
    "import matplotlib.pyplot as plt\n",
    "import json\n",
    "from itertools import chain\n",
    "import scipy\n",
    "import seaborn as sns\n",
    "sns.set_theme(style=\"darkgrid\")\n",
    "from vw_executor.vw import Vw\n",
    "from functools import reduce\n",
    "\n",
    "def new_ax():\n",
    "    _,ax = plt.subplots(dpi=100, figsize=[9,4])\n",
    "    return ax    \n",
    "\n",
    "def save_examples(examples, path):     \n",
    "    with open(path, 'w') as f:\n",
    "        for ex in examples:\n",
    "            f.write(f'{json.dumps(ex, separators=(\",\", \":\"))}\\n')\n",
    "            \n",
    "def load_examples(path):\n",
    "    with open(path) as f:\n",
    "        for l in f:\n",
    "            yield json.loads(l)\n",
    "\n",
    "def get_simulation(folder, simulator, **kwargs):\n",
    "    path = Path(folder).joinpath(f'sim-{VwOpts(kwargs)}'.replace(' ', '-'))\n",
    "    if not path.exists():\n",
    "        Path(folder).mkdir(parents=True, exist_ok=True)\n",
    "        examples = list(simulator(**kwargs))\n",
    "        save_examples(examples, path)\n",
    "    else:\n",
    "        examples = list(load_examples(path))\n",
    "    return examples, path\n",
    "    \n",
    "def cb_df(examples):\n",
    "    return pd.DataFrame([{\n",
    "        'reward': -e['_label_cost'],\n",
    "        'shared_good': e['c']['shared']['f'],\n",
    "        'chosen': e['_labelIndex'],\n",
    "        'prob': e['_label_probability']\n",
    "    } for e in examples])    \n",
    "\n",
    "def _collapse(*grids):\n",
    "    from collections import OrderedDict\n",
    "    result = reduce(lambda r, g: OrderedDict(r, **g), grids)\n",
    "    separator = [len(g) for g in grids]\n",
    "    return result, separator\n",
    "\n",
    "def _split(collapsed, separator):\n",
    "    result = []\n",
    "    last = 0\n",
    "    items = list(collapsed.items())\n",
    "    for c in separator:\n",
    "        result.append(dict(items[last:last + c]))\n",
    "        last = last + c\n",
    "    return tuple(result)\n",
    "\n",
    "    \n",
    "class Playground:\n",
    "    def __init__(self, simulation, visualization, cache_path = '.cache'):\n",
    "        self.data_folder = Path(cache_path).joinpath('datasets')\n",
    "        self.simulation = simulation\n",
    "        self.examples = None\n",
    "        self.visualization = visualization\n",
    "        self.last_job = None\n",
    "        self.vw = Vw(cache_path, handlers=[])\n",
    "        \n",
    "    def run(self, simulator_grid, vw_grid):\n",
    "        def _run_and_plot(separator, **options):\n",
    "            sim_opts, train_opts = _split(options, separator)\n",
    "            self.visualization.reset()\n",
    "            examples, examples_path = get_simulation(self.data_folder, self.simulation, **sim_opts)\n",
    "            self.visualization.after_simulation(examples)\n",
    "            self.last_job = self.vw.train(\n",
    "                [examples_path], train_opts, self.visualization.vw_outputs)\n",
    "            self.visualization.after_train(examples, self.last_job)\n",
    "        collapsed, separator = _collapse(simulator_grid, vw_grid)\n",
    "        widget = interactive(_run_and_plot, separator=fixed(separator), **collapsed)\n",
    "        print(len(widget.children))\n",
    "        display(VBox(widget.children))"
   ]
  },
  {
   "cell_type": "markdown",
   "metadata": {},
   "source": [
    "# Simulator"
   ]
  },
  {
   "cell_type": "code",
   "execution_count": null,
   "metadata": {},
   "outputs": [],
   "source": [
    "def my_simulation(n=10000, swap_after=5000, variance=0, bad_log=0):\n",
    "    offset = 0\n",
    "    for i in range(1, n):\n",
    "        if i % swap_after == 0:\n",
    "            offset = (offset + 1) % 2\n",
    "\n",
    "        person = i % 2 \n",
    "        chosen = i % 4  // 2 \n",
    "        if (chosen + person + offset) % 2 == 0:\n",
    "            reward =  0.7 + ((chosen + offset) % 2) * 0.1\n",
    "        else:\n",
    "            reward = 0.3 - ((chosen + offset + 1) % 2) * 0.1\n",
    "\n",
    "        reward = reward + scipy.random.normal(0, variance)\n",
    "\n",
    "        yield {\n",
    "            \"_label_cost\": -reward,\n",
    "            \"_label_probability\": 0.5,\n",
    "            \"_label_Action\": chosen + 1,\n",
    "            \"_labelIndex\": chosen,\n",
    "            \"a\": [chosen + 1, (chosen + 1) % 2 + 1],\n",
    "            \"c\": {'shared': {'f': person,\n",
    "                '_multi': [\n",
    "                    {'a': {'f': '0'}, 'b': {f'f{i}': random.random() for i in range(2**bad_log)}},\n",
    "                    {'a': {'f': '1'}, 'b': {f'f{i}': random.random() for i in range(2**bad_log)}}]}},\n",
    "            \"p\": [0.5, 0.5] \n",
    "        }\n",
    "    \n",
    "def visualize(examples, window=100, ax = None):\n",
    "    colors = ['green', 'red']\n",
    "    styles = ['-', '-.']\n",
    "    ax = ax or new_ax()\n",
    "    df = cb_df(examples)\n",
    "    [df[(df['shared_good']==i) & (df['chosen']==j)].rolling(window=window)['reward'].mean().plot(\n",
    "        ax=ax, color = colors[j], style=styles[i], label=f'Person: {i}, chosen: {j}') for i in [0,1] for j in [0,1]]   \n",
    "    ax.legend()      "
   ]
  },
  {
   "cell_type": "markdown",
   "metadata": {},
   "source": [
    "# Visulization"
   ]
  },
  {
   "cell_type": "code",
   "execution_count": null,
   "metadata": {},
   "outputs": [],
   "source": [
    "class MyVisualization:\n",
    "    def __init__(self):\n",
    "        fig, ax = plt.subplots(1, 2, figsize=(12,4))\n",
    "        self.fig = fig\n",
    "        self.ax = ax\n",
    "        self.vw_outputs = ['-p']\n",
    "        \n",
    "    def reset(self):\n",
    "        self.ax[0].clear()\n",
    "        self.ax[0].set_title('Rewards')\n",
    "        self.ax[1].clear()\n",
    "        self.ax[1].set_title('P(action|person)')\n",
    "        \n",
    "    def after_simulation(self, examples):\n",
    "        visualize(examples, window = 100, ax=self.ax[0]) \n",
    "        \n",
    "    def after_train(self, examples, job):\n",
    "        colors = ['green', 'red']\n",
    "        styles = ['-', '-.']\n",
    "        df = pd.concat([cb_df(examples), job[0].predictions('-p').cb], axis=1)\n",
    "        [(df[(df['shared_good']==i)][str(j)].rolling(window=100).mean() + i * 0.05).plot(\n",
    "            ax=self.ax[1], color = colors[j], style=styles[i], label=f'P(chosen={j} | Person={i})') for i in [0,1] for j in [0,1]]\n",
    "        self.ax[1].legend(loc='center left', bbox_to_anchor=(0.75, 0.5))\n",
    "        self.fig.canvas.draw_idle()"
   ]
  },
  {
   "cell_type": "markdown",
   "metadata": {
    "tags": []
   },
   "source": [
    "# Look at the data"
   ]
  },
  {
   "cell_type": "code",
   "execution_count": null,
   "metadata": {},
   "outputs": [],
   "source": [
    "examples = my_simulation(n=100, swap_after=50, variance = 0.1, bad_log = 1)\n",
    "cb_df(examples).head()"
   ]
  },
  {
   "cell_type": "code",
   "execution_count": null,
   "metadata": {},
   "outputs": [],
   "source": [
    "visualize(my_simulation(n=10000, swap_after=5000, variance = 0, bad_log = 1), window=50)"
   ]
  },
  {
   "cell_type": "code",
   "execution_count": null,
   "metadata": {},
   "outputs": [],
   "source": [
    "next(my_simulation(n=10000, swap_after=5000, variance = 0, bad_log = 1))"
   ]
  },
  {
   "cell_type": "markdown",
   "metadata": {
    "tags": []
   },
   "source": [
    "# Interact"
   ]
  },
  {
   "cell_type": "code",
   "execution_count": null,
   "metadata": {},
   "outputs": [],
   "source": [
    "from ipywidgets import *\n",
    "\n",
    "fig, ax = plt.subplots(1, 2, figsize=(12,4))\n",
    "\n",
    "widget = interactive(\n",
    "    vw_playground,\n",
    "    n=IntSlider(min=1000, max=20000, step=1000, value=10000),\n",
    "    swap_after=IntSlider(min=1000, max=20000, step=1000, value=5000),\n",
    "    variance=FloatSlider(min=0, max=2, step=0.1, value=0),\n",
    "    bad_log=IntSlider(min=0, max=10, step=1, value=0),\n",
    "    window=IntSlider(min=1, max=1000, step=10, value=1),\n",
    "    learning_rate=IntSlider(min=-20,max=10, step=1, value=-20),\n",
    "    coin=Checkbox(),\n",
    "    l1=IntSlider(min=-20,max=10, step=1, value=-20),\n",
    "    cb_type=['ips', 'mtr'],\n",
    "    interactions=['', '-q sa', '-q ab', '-q sb', '-q ::'],\n",
    "    ignore=['', '--ignore b'],\n",
    "    ignore_linear=['', '--ignore_linear sab'],\n",
    "    marginals=['', '--marginal a'],\n",
    "    epsilon = FloatSlider(min=0, max=1, step=0.01),\n",
    "    squareCB=Checkbox(),\n",
    "    gamma_scale=FloatLogSlider(value=1, min=0, max=20, base=2, step=1),\n",
    "    ax=fixed(ax),\n",
    "    fig=fixed(fig))\n",
    "\n",
    "data_controls = HBox(widget.children[:4])\n",
    "visualization_controls = HBox(widget.children[4:5])\n",
    "learning_controls = HBox((Label(\"Learning\", layout=Layout(display=\"flex\", justify_content=\"flex-start\", width=\"4%\")),) + widget.children[5:8])\n",
    "namespaces_controls = HBox((Label(\"Namespaces\", layout=Layout(display=\"flex\", justify_content=\"flex-start\", width=\"4%\")),) + widget.children[9:12])\n",
    "exploration_controls = HBox((Label(\"Exploration\", layout=Layout(display=\"flex\", justify_content=\"flex-start\", width=\"4%\")),) + widget.children[13:-1])\n",
    "output = widget.children[-1]\n",
    "display(VBox([data_controls, visualization_controls, learning_controls, namespaces_controls, exploration_controls, output]))"
   ]
  },
  {
   "cell_type": "code",
   "execution_count": null,
   "metadata": {},
   "outputs": [],
   "source": [
    "from ipywidgets import *\n",
    "\n",
    "playground = Playground(my_simulation, MyVisualization())\n",
    "playground.run(\n",
    "    InteractiveGrid({\n",
    "        'n': [10000, 20000],\n",
    "        'swap_after': [5000],\n",
    "        'variance': [0],\n",
    "        'bad_log': [0]\n",
    "    }),\n",
    "    InteractiveGrid({\n",
    "        '#base': '--cb_explore_adf --dsjson'\n",
    "    })\n",
    ")"
   ]
  },
  {
   "cell_type": "code",
   "execution_count": null,
   "metadata": {},
   "outputs": [],
   "source": []
  }
 ],
 "metadata": {
  "interpreter": {
   "hash": "b8f4a58adc17b056f67bda23a8d2f1daa157665278cb2abc3190e1c7319c7b72"
  },
  "kernelspec": {
   "display_name": "Python 3 (ipykernel)",
   "language": "python",
   "name": "python3"
  },
  "language_info": {
   "codemirror_mode": {
    "name": "ipython",
    "version": 3
   },
   "file_extension": ".py",
   "mimetype": "text/x-python",
   "name": "python",
   "nbconvert_exporter": "python",
   "pygments_lexer": "ipython3",
   "version": "3.9.5"
  }
 },
 "nbformat": 4,
 "nbformat_minor": 4
}
