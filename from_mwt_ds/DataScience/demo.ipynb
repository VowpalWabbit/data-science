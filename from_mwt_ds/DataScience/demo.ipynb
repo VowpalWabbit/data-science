{
 "cells": [
  {
   "cell_type": "markdown",
   "metadata": {},
   "source": [
    "# Hacks & helpers"
   ]
  },
  {
   "cell_type": "code",
   "execution_count": null,
   "metadata": {},
   "outputs": [],
   "source": [
    "!python -m pip install ipympl\n",
    "!python -m pip install seaborn"
   ]
  },
  {
   "cell_type": "code",
   "execution_count": null,
   "metadata": {},
   "outputs": [],
   "source": [
    "from vw_executor.vw_opts import VwOpts\n",
    "from pathlib import Path\n",
    "\n",
    "import random\n",
    "import pandas as pd\n",
    "import matplotlib.pyplot as plt\n",
    "import json\n",
    "import scipy\n",
    "import seaborn as sns\n",
    "\n",
    "from vw_executor.vw import Vw\n",
    "from functools import reduce\n",
    "\n",
    "%matplotlib widget\n",
    "sns.set_theme(style=\"darkgrid\")\n",
    "\n",
    "def new_ax():\n",
    "    _,ax = plt.subplots(dpi=100, figsize=[9,4])\n",
    "    return ax    \n",
    "\n",
    "def save_examples(examples, path):     \n",
    "    with open(path, 'w') as f:\n",
    "        for ex in examples:\n",
    "            f.write(f'{json.dumps(ex, separators=(\",\", \":\"))}\\n')\n",
    "            \n",
    "def load_examples(path):\n",
    "    with open(path) as f:\n",
    "        for l in f:\n",
    "            yield json.loads(l)\n",
    "\n",
    "def get_simulation(folder, simulator, **kwargs):\n",
    "    path = Path(folder).joinpath(f'sim-{VwOpts(kwargs)}'.replace(' ', '-'))\n",
    "    if not path.exists():\n",
    "        Path(folder).mkdir(parents=True, exist_ok=True)\n",
    "        examples = list(simulator(**kwargs))\n",
    "        save_examples(examples, path)\n",
    "    else:\n",
    "        examples = list(load_examples(path))\n",
    "    return examples, path\n",
    "    \n",
    "def cb_df(examples):\n",
    "    return pd.DataFrame([{\n",
    "        'reward': -e['_label_cost'],\n",
    "        'shared_good': e['c']['shared']['f'],\n",
    "        'chosen': e['_labelIndex'],\n",
    "        'prob': e['_label_probability']\n",
    "    } for e in examples])    \n",
    "\n",
    "def _collapse(*grids):\n",
    "    from collections import OrderedDict\n",
    "    result = reduce(lambda r, g: OrderedDict(r, **g), grids)\n",
    "    separator = [len(g) for g in grids]\n",
    "    return result, separator\n",
    "\n",
    "def _split(collapsed, separator):\n",
    "    result = []\n",
    "    last = 0\n",
    "    items = list(collapsed.items())\n",
    "    for c in separator:\n",
    "        result.append(dict(items[last:last + c]))\n",
    "        last = last + c\n",
    "    return tuple(result)\n",
    "\n",
    "def grid_layout(elements, columns=4):\n",
    "    rows = (len(elements) - 1) // columns + 1\n",
    "    layout = Layout(grid_template_rows=' '.join(['auto'] * rows), grid_template_columns=' '.join(['auto'] * columns))\n",
    "    return GridBox(children=elements, layout=layout)   \n",
    "    \n",
    "class VwPlayground:\n",
    "    def __init__(self, simulation, visualization, vw_binary=None, cache_path = '.cache'):\n",
    "        self.data_folder = Path(cache_path).joinpath('datasets')\n",
    "        self.simulation = simulation\n",
    "        self.examples = None\n",
    "        self.visualization = visualization\n",
    "        self.last_job = None\n",
    "        self.vw = Vw(cache_path, vw_binary, handlers=[])\n",
    "        \n",
    "    def run(self, simulator_grid, vw_grid, columns=4):\n",
    "        def _run_and_plot(separator, **options):\n",
    "            sim_opts, train_opts = _split(options, separator)\n",
    "            self.visualization.reset()\n",
    "            examples, examples_path = get_simulation(self.data_folder, self.simulation, **sim_opts)\n",
    "            self.visualization.after_simulation(examples)\n",
    "            self.last_job = self.vw.train(\n",
    "                [examples_path], train_opts, self.visualization.vw_outputs)\n",
    "            self.visualization.after_train(examples, self.last_job)\n",
    "        collapsed, separator = _collapse(simulator_grid, vw_grid)\n",
    "        widget = interactive(_run_and_plot, separator=fixed(separator), **collapsed)\n",
    "        simulator_controls = grid_layout(widget.children[:len(simulator_grid)], columns)\n",
    "        vw_controls = grid_layout(widget.children[len(simulator_grid):len(simulator_grid)+len(vw_grid)], columns)\n",
    "        controls = Accordion(children=[simulator_controls, vw_controls])\n",
    "        controls.set_title(0, 'Simulator args')\n",
    "        controls.set_title(1, 'Vw args')\n",
    "        output = widget.children[-1]\n",
    "        display(VBox([controls, output]))"
   ]
  },
  {
   "cell_type": "markdown",
   "metadata": {},
   "source": [
    "# Simulator"
   ]
  },
  {
   "cell_type": "code",
   "execution_count": null,
   "metadata": {},
   "outputs": [],
   "source": [
    "def my_simulation(n=10000, swap_after=5000, variance=0, bad=0):\n",
    "    offset = 0\n",
    "    for i in range(1, n):\n",
    "        if i % swap_after == 0:\n",
    "            offset = (offset + 1) % 2\n",
    "\n",
    "        person = i % 2 \n",
    "        chosen = i % 4  // 2 \n",
    "        if (chosen + person + offset) % 2 == 0:\n",
    "            reward =  0.7 + ((chosen + offset) % 2) * 0.1\n",
    "        else:\n",
    "            reward = 0.3 - ((chosen + offset + 1) % 2) * 0.1\n",
    "\n",
    "        reward = reward + scipy.random.normal(0, variance)\n",
    "\n",
    "        yield {\n",
    "            \"_label_cost\": -reward,\n",
    "            \"_label_probability\": 0.5,\n",
    "            \"_label_Action\": chosen + 1,\n",
    "            \"_labelIndex\": chosen,\n",
    "            \"a\": [chosen + 1, (chosen + 1) % 2 + 1],\n",
    "            \"c\": {'shared': {'f': str(person),\n",
    "                '_multi': [\n",
    "                    {'a': {'f': '0'}, 'b': {f'f{i}': random.random() for i in range(int(bad))}},\n",
    "                    {'a': {'f': '1'}, 'b': {f'f{i}': random.random() for i in range(int(bad))}}]}},\n",
    "            \"p\": [0.5, 0.5] \n",
    "        }"
   ]
  },
  {
   "cell_type": "markdown",
   "metadata": {},
   "source": [
    "# Visulization"
   ]
  },
  {
   "cell_type": "code",
   "execution_count": null,
   "metadata": {},
   "outputs": [],
   "source": [
    "def visualize_env(examples, window=100, ax=None):\n",
    "    ax = ax or new_ax()\n",
    "    ax.set_title('Rewards')\n",
    "    colors = ['green', 'red']\n",
    "    styles = ['-', '-.']\n",
    "    df = cb_df(examples)\n",
    "    [df[(df['shared_good']==str(i)) & (df['chosen']==j)].rolling(window=window)['reward'].mean().plot(\n",
    "        ax=ax, color = colors[j], style=styles[i], label=f'Person: {i}, chosen: {j}') for i in [0,1] for j in [0,1]]   \n",
    "    ax.legend()\n",
    "    \n",
    "def visualize_learning(examples, job, window=100, ax=None):\n",
    "    ax = ax or new_ax()\n",
    "    ax.set_title('P(action|person)')\n",
    "    colors = ['green', 'red']\n",
    "    styles = ['-', '-.']\n",
    "    df = pd.concat([cb_df(examples), job[0].predictions('-p').cb], axis=1)\n",
    "    [(df[(df['shared_good']==str(i))][str(j)].rolling(window=window).mean() + i * 0.02).plot(\n",
    "        ax=ax, color = colors[j], style=styles[i], label=f'P(chosen={j} | Person={i})') for i in [0,1] for j in [0,1]]\n",
    "    ax.legend(loc='center left', bbox_to_anchor=(0.75, 0.5))\n",
    "\n",
    "class MyVisualization:\n",
    "    def __init__(self, window=100):\n",
    "        fig, ax = plt.subplots(1, 2, figsize=(12,4))\n",
    "        self.fig = fig\n",
    "        self.ax = ax\n",
    "        self.vw_outputs = ['-p']\n",
    "        self.window=window\n",
    "        \n",
    "    def reset(self):\n",
    "        self.ax[0].clear()\n",
    "        self.ax[1].clear()\n",
    "        \n",
    "    def after_simulation(self, examples):\n",
    "        visualize_env(examples, window=self.window, ax=self.ax[0]) \n",
    "        \n",
    "    def after_train(self, examples, job):\n",
    "        visualize_learning(examples, job, window=self.window, ax=self.ax[1])\n",
    "        self.fig.canvas.draw_idle()"
   ]
  },
  {
   "cell_type": "markdown",
   "metadata": {
    "tags": []
   },
   "source": [
    "# Look at the data"
   ]
  },
  {
   "cell_type": "code",
   "execution_count": null,
   "metadata": {},
   "outputs": [],
   "source": [
    "examples = my_simulation(n=100, swap_after=50, variance = 0.1, bad = 1)\n",
    "cb_df(examples).head()"
   ]
  },
  {
   "cell_type": "code",
   "execution_count": null,
   "metadata": {},
   "outputs": [],
   "source": [
    "visualize_env(my_simulation(n=10000, swap_after=5000, variance = 0, bad = 1), window=50)"
   ]
  },
  {
   "cell_type": "code",
   "execution_count": null,
   "metadata": {},
   "outputs": [],
   "source": [
    "next(my_simulation(n=10000, swap_after=5000, variance = 0, bad = 1))"
   ]
  },
  {
   "cell_type": "markdown",
   "metadata": {
    "tags": []
   },
   "source": [
    "# Interact"
   ]
  },
  {
   "cell_type": "code",
   "execution_count": null,
   "metadata": {},
   "outputs": [],
   "source": [
    "from ipywidgets import *\n",
    "\n",
    "playground = VwPlayground(my_simulation, MyVisualization())\n",
    "playground.run(\n",
    "    simulator_grid = {\n",
    "        'n': IntSlider(value=10000, min=100, max=50000),\n",
    "        'swap_after': IntSlider(value=5000, min=10, max=50000),\n",
    "        'variance': FloatSlider(value=0, min=0, max=1, step=0.1),\n",
    "        'bad': FloatLogSlider(value=1, min=0, max=10, base=2, step=1)\n",
    "    },\n",
    "    vw_grid = {\n",
    "        '#base': fixed('--cb_explore_adf --dsjson --power_t 0'),\n",
    "        '--learning_rate': FloatLogSlider(value=2**(-20), min=-20, max=10, base=2, step=1),\n",
    "        '--cb_type': ['ips', 'mtr'],\n",
    "        '--l1': FloatLogSlider(value=2**(-20), min=-20, max=10, base=2, step=1),\n",
    "    },\n",
    "    columns=3\n",
    ")"
   ]
  },
  {
   "cell_type": "code",
   "execution_count": null,
   "metadata": {},
   "outputs": [],
   "source": [
    "print('Last command line')\n",
    "print(playground.last_job[0].args)"
   ]
  },
  {
   "cell_type": "code",
   "execution_count": null,
   "metadata": {},
   "outputs": [],
   "source": [
    "playground.last_job[0].stdout.raw"
   ]
  },
  {
   "cell_type": "code",
   "execution_count": null,
   "metadata": {},
   "outputs": [],
   "source": []
  }
 ],
 "metadata": {
  "interpreter": {
   "hash": "b8f4a58adc17b056f67bda23a8d2f1daa157665278cb2abc3190e1c7319c7b72"
  },
  "kernelspec": {
   "display_name": "Python 3 (ipykernel)",
   "language": "python",
   "name": "python3"
  },
  "language_info": {
   "codemirror_mode": {
    "name": "ipython",
    "version": 3
   },
   "file_extension": ".py",
   "mimetype": "text/x-python",
   "name": "python",
   "nbconvert_exporter": "python",
   "pygments_lexer": "ipython3",
   "version": "3.9.5"
  }
 },
 "nbformat": 4,
 "nbformat_minor": 4
}