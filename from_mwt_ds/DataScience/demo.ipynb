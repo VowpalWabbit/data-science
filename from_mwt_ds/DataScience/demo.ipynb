{
 "cells": [
  {
   "cell_type": "markdown",
   "metadata": {},
   "source": [
    "# Helpers"
   ]
  },
  {
   "cell_type": "code",
   "execution_count": null,
   "metadata": {},
   "outputs": [],
   "source": [
    "!python -m pip install ipympl\n",
    "!python -m pip install seaborn"
   ]
  },
  {
   "cell_type": "code",
   "execution_count": 2,
   "metadata": {},
   "outputs": [],
   "source": [
    "%matplotlib widget\n",
    "import random\n",
    "import pandas as pd\n",
    "import numpy as np\n",
    "import matplotlib.pyplot as plt\n",
    "import json\n",
    "from itertools import chain\n",
    "import scipy\n",
    "import seaborn as sns\n",
    "sns.set_theme(style=\"darkgrid\")\n",
    "from vw_executor.vw import Vw\n",
    "from vw_executor.loggers import ConsoleLogger\n",
    "\n",
    "\n",
    "def new_ax():\n",
    "    _,ax = plt.subplots(dpi=100, figsize=[9,4])\n",
    "    return ax        \n",
    "\n",
    "def _predictions_parse(lines):\n",
    "    for l in lines:\n",
    "        if ':' in l:\n",
    "            yield {int(kv.split(':')[0]): float(kv.split(':')[1]) for kv in l.split(',')}\n",
    "\n",
    "def predictions_2_df(files):\n",
    "    return pd.DataFrame(_predictions_parse(chain(*map(lambda f: open(f), files))))\n",
    "\n",
    "def plot(sim, result, i):\n",
    "    job = result.iloc[i]['!Job']\n",
    "    prediction_files = job.outputs['-p']\n",
    "    df = pd.concat([sim, predictions_2_df(prediction_files)], axis=1)\n",
    "    [df[(df['shared_good']==i)][j].rolling(window=100).mean().plot(\n",
    "        figsize=[16,6], label=f'P(chosen={j} | Person={i})') for i in [0,1] for j in [0,1]]\n",
    "    plt.legend(loc='best')\n",
    "\n",
    "class Simulation:\n",
    "    def __init__(self, n=10000, swap_after=5000, variance = 0, bad = 0):\n",
    "        self.examples = []\n",
    "        offset = 0\n",
    "        for i in range(1, n):\n",
    "            if i % swap_after == 0:\n",
    "                offset = (offset + 1) % 2\n",
    "\n",
    "            person = i % 2 # random.randint(0, 1)\n",
    "            chosen = i % 4  // 2 #random.randint(0, 1)\n",
    "            if (chosen + person + offset) % 2 == 0:\n",
    "                reward =  0.7 + ((chosen + offset) % 2) * 0.1#int(random.random() < 0.7 + ((chosen + offset) % 2) * 0.1)\n",
    "            else:\n",
    "                reward = 0.3 - ((chosen + offset + 1) % 2) * 0.1 #int(random.random() < 0.3 - ((chosen + offset + 1) % 2) * 0.1)\n",
    "\n",
    "            reward = reward + scipy.random.normal(0, variance)\n",
    "\n",
    "            self.examples.append({\n",
    "                \"reward\": reward,\n",
    "                \"shared_good\": person,\n",
    "                \"a1_good\": '0',\n",
    "                \"a2_good\": '1',\n",
    "                \"chosen\": chosen, \n",
    "                \"prob\": 0.5\n",
    "            })\n",
    "            for i in range(bad):\n",
    "                self.examples[-1][f'a1_bad_{i}'] = random.random()\n",
    "                self.examples[-1][f'a2_bad_{i}'] = random.random()\n",
    "        self.df = pd.DataFrame(self.examples)\n",
    "    \n",
    "    def get(self):\n",
    "        return pd.DataFrame(self.examples)\n",
    "    \n",
    "    def to_dsjson(self):\n",
    "        for row in self.examples:\n",
    "            o = {\n",
    "                \"_label_cost\": -row['reward'],\n",
    "                \"_label_probability\": row['prob'],\n",
    "                \"_label_Action\": int(row['chosen'] + 1),\n",
    "                \"_labelIndex\": int(row['chosen']),\n",
    "                \"a\": [row['chosen'] + 1, (row['chosen'] + 1) % 2 + 1],\n",
    "                \"c\": {'shared': {'f': str(row['shared_good'])},\n",
    "                    '_multi': [{'a': {'f': str(row['a1_good']), 'constant': 1}},\n",
    "                        {'a': {'f': str(row['a2_good'])}}]},\n",
    "                \"p\": [row['prob'], 1 - row['prob']] \n",
    "            }\n",
    "            i = 0\n",
    "            while True:\n",
    "                if f'a1_bad_{i}' in row:\n",
    "                    if 'b' not in o['c']['_multi'][0]: \n",
    "                        o['c']['_multi'][0]['b'] = {}\n",
    "                        o['c']['_multi'][1]['b'] = {}   \n",
    "                    o['c']['_multi'][0]['b'][f'a1_bad_{i}'] = row[f'a1_bad_{i}']\n",
    "                    o['c']['_multi'][1]['b'][f'a2_bad_{i}'] = row[f'a1_bad_{i}']\n",
    "                    i += 1\n",
    "                else:\n",
    "                    break\n",
    "            yield json.dumps(o, separators=(\",\", \":\"))\n",
    "\n",
    "    def to_dsjson_file(self, fname):\n",
    "        with open(fname, 'w') as f:\n",
    "            for ex in self.to_dsjson():\n",
    "                f.write(f'{ex}\\n')             \n",
    "\n",
    "    def visualize(self, window=100, ax = None):\n",
    "        colors = ['green', 'red']\n",
    "        styles = ['-', '-.']\n",
    "        if ax is None:\n",
    "            ax = (new_ax(), new_ax())\n",
    "        [self.df[(self.df['shared_good']==i) & (self.df['chosen']==j)].rolling(window=window)['reward'].mean().plot(\n",
    "            ax=ax[1], color = colors[j], style=styles[i], label=f'Person: {i}, chosen: {j}') for i in [0,1] for j in [0,1]]\n",
    "        [self.df[self.df['chosen']==j].rolling(window=window)['reward'].mean().plot(\n",
    "            ax=ax[0], color = colors[j], label=f'Chosen: {j}') for j in [0,1]]     \n",
    "        ax[1].legend(loc='center left', bbox_to_anchor=(0.75, 0.5))\n",
    "        ax[0].legend()\n",
    "        \n",
    "def _predictions_parse(lines):\n",
    "    for l in lines:\n",
    "        if ':' in l:\n",
    "            yield {int(kv.split(':')[0]): float(kv.split(':')[1]) for kv in l.split(',')}\n",
    "\n",
    "def predictions_2_df(files):\n",
    "    return pd.DataFrame(_predictions_parse(chain(*map(lambda f: open(f), files))))\n",
    "\n",
    "def plot(sim, result, i):\n",
    "    colors = ['green', 'red']\n",
    "    styles = ['-', '-.']\n",
    "    job = result.iloc[i]['!Job']\n",
    "    prediction_files = job.outputs['-p']\n",
    "    df = pd.concat([sim, predictions_2_df(prediction_files)], axis=1)\n",
    "    ax = new_ax()\n",
    "    [df[(df['shared_good']==i)][j].rolling(window=100).mean().plot(\n",
    "        ax=ax, color = colors[j], style=styles[i], label=f'P(chosen={j} | Person={i})') for i in [0,1] for j in [0,1]]\n",
    "    ax.legend(loc='best')\n",
    "    \n",
    "def plot(sim, job, ax):\n",
    "    colors = ['green', 'red']\n",
    "    styles = ['-', '-.']\n",
    "    prediction_files = job.outputs['-p']\n",
    "    df = pd.concat([sim.get(), predictions_2_df(prediction_files)], axis=1)\n",
    "    [(df[(df['shared_good']==i)][j].rolling(window=100).mean() + i * 0.05).plot(\n",
    "        ax=ax, color = colors[j], style=styles[i], label=f'P(chosen={j} | Person={i})') for i in [0,1] for j in [0,1]]\n",
    "    ax.legend(loc='center left', bbox_to_anchor=(0.75, 0.5))\n",
    "    \n",
    "def generate_and_visualize(n=10000, swap_after=5000, variance=0, bad_log=0, window=100, ax=None, fig=None):\n",
    "    sim = Simulation(n=n, swap_after=swap_after, variance = variance, bad = 2**bad_log)\n",
    "    ax[0].clear()\n",
    "    ax[1].clear()\n",
    "    ax[0].set_title('Rewards')\n",
    "    ax[1].set_title('Rewards (nonpersonalized)')\n",
    "    #fig.suptitle('Data', fontsize=16)\n",
    "    sim.visualize(window = window, ax=ax) \n",
    "    fig.canvas.draw_idle()\n",
    "    \n",
    "def generate_and_learn(n=10000, swap_after=5000, variance=0, bad_log=0, window=100, \n",
    "                       learning_rate=-20, coin=False, l1=-20, cb_type='ips', \n",
    "                       interactions='', ignore='', ignore_linear='', marginals='', ax=None, fig=None):\n",
    "    sim = Simulation(n=n, swap_after=swap_after, variance = variance, bad = 2**bad_log)\n",
    "    ax[0][0].clear()\n",
    "    ax[0][1].clear()\n",
    "    ax[1][0].clear()\n",
    "    ax[1][1].clear()\n",
    "\n",
    "    ax[0][1].set_title('Rewards')\n",
    "    ax[0][0].set_title('Rewards (nonpersonalized)')\n",
    "    ax[1][0].set_title('P(action|person)')\n",
    "    sim.to_dsjson_file('small.json')\n",
    "\n",
    "    opts = {'#base': '--cb_explore_adf --dsjson --epsilon 0.2',\n",
    "            '#0': interactions,\n",
    "            '#1': ignore,\n",
    "            '#2': ignore_linear,\n",
    "            '#3': marginals,\n",
    "            '#lr': '--coin' if coin else f'--power_t 0 --learning_rate {2**learning_rate}',\n",
    "            '--l1': 2**l1,\n",
    "            '--cb_type': cb_type\n",
    "           }\n",
    "\n",
    "    result = Vw('vw', '.vw_cache', handlers=[],\n",
    "                loggers=[\n",
    "     #              ConsoleLogger('DEBUG')\n",
    "                ]).train(['small.json'], opts, ['-p'])\n",
    "    \n",
    "    sim.visualize(window = window, ax=ax[0]) \n",
    "    plot(sim, result, ax[1][1])\n",
    "    fig.canvas.draw_idle()"
   ]
  },
  {
   "cell_type": "markdown",
   "metadata": {
    "tags": []
   },
   "source": [
    "# Look at the data"
   ]
  },
  {
   "cell_type": "code",
   "execution_count": 3,
   "metadata": {},
   "outputs": [
    {
     "data": {
      "text/html": [
       "<div>\n",
       "<style scoped>\n",
       "    .dataframe tbody tr th:only-of-type {\n",
       "        vertical-align: middle;\n",
       "    }\n",
       "\n",
       "    .dataframe tbody tr th {\n",
       "        vertical-align: top;\n",
       "    }\n",
       "\n",
       "    .dataframe thead th {\n",
       "        text-align: right;\n",
       "    }\n",
       "</style>\n",
       "<table border=\"1\" class=\"dataframe\">\n",
       "  <thead>\n",
       "    <tr style=\"text-align: right;\">\n",
       "      <th></th>\n",
       "      <th>reward</th>\n",
       "      <th>shared_good</th>\n",
       "      <th>a1_good</th>\n",
       "      <th>a2_good</th>\n",
       "      <th>chosen</th>\n",
       "      <th>prob</th>\n",
       "      <th>a1_bad_0</th>\n",
       "      <th>a2_bad_0</th>\n",
       "      <th>a1_bad_1</th>\n",
       "      <th>a2_bad_1</th>\n",
       "    </tr>\n",
       "  </thead>\n",
       "  <tbody>\n",
       "    <tr>\n",
       "      <th>0</th>\n",
       "      <td>0.031503</td>\n",
       "      <td>1</td>\n",
       "      <td>0</td>\n",
       "      <td>1</td>\n",
       "      <td>0</td>\n",
       "      <td>0.5</td>\n",
       "      <td>0.367860</td>\n",
       "      <td>0.273629</td>\n",
       "      <td>0.457817</td>\n",
       "      <td>0.055684</td>\n",
       "    </tr>\n",
       "    <tr>\n",
       "      <th>1</th>\n",
       "      <td>0.330376</td>\n",
       "      <td>0</td>\n",
       "      <td>0</td>\n",
       "      <td>1</td>\n",
       "      <td>1</td>\n",
       "      <td>0.5</td>\n",
       "      <td>0.752486</td>\n",
       "      <td>0.522642</td>\n",
       "      <td>0.242301</td>\n",
       "      <td>0.186991</td>\n",
       "    </tr>\n",
       "    <tr>\n",
       "      <th>2</th>\n",
       "      <td>0.816102</td>\n",
       "      <td>1</td>\n",
       "      <td>0</td>\n",
       "      <td>1</td>\n",
       "      <td>1</td>\n",
       "      <td>0.5</td>\n",
       "      <td>0.943613</td>\n",
       "      <td>0.270461</td>\n",
       "      <td>0.945698</td>\n",
       "      <td>0.617912</td>\n",
       "    </tr>\n",
       "    <tr>\n",
       "      <th>3</th>\n",
       "      <td>0.772912</td>\n",
       "      <td>0</td>\n",
       "      <td>0</td>\n",
       "      <td>1</td>\n",
       "      <td>0</td>\n",
       "      <td>0.5</td>\n",
       "      <td>0.131177</td>\n",
       "      <td>0.759346</td>\n",
       "      <td>0.026439</td>\n",
       "      <td>0.173356</td>\n",
       "    </tr>\n",
       "    <tr>\n",
       "      <th>4</th>\n",
       "      <td>0.195755</td>\n",
       "      <td>1</td>\n",
       "      <td>0</td>\n",
       "      <td>1</td>\n",
       "      <td>0</td>\n",
       "      <td>0.5</td>\n",
       "      <td>0.251555</td>\n",
       "      <td>0.021309</td>\n",
       "      <td>0.804953</td>\n",
       "      <td>0.146512</td>\n",
       "    </tr>\n",
       "  </tbody>\n",
       "</table>\n",
       "</div>"
      ],
      "text/plain": [
       "     reward  shared_good a1_good a2_good  chosen  prob  a1_bad_0  a2_bad_0  \\\n",
       "0  0.031503            1       0       1       0   0.5  0.367860  0.273629   \n",
       "1  0.330376            0       0       1       1   0.5  0.752486  0.522642   \n",
       "2  0.816102            1       0       1       1   0.5  0.943613  0.270461   \n",
       "3  0.772912            0       0       1       0   0.5  0.131177  0.759346   \n",
       "4  0.195755            1       0       1       0   0.5  0.251555  0.021309   \n",
       "\n",
       "   a1_bad_1  a2_bad_1  \n",
       "0  0.457817  0.055684  \n",
       "1  0.242301  0.186991  \n",
       "2  0.945698  0.617912  \n",
       "3  0.026439  0.173356  \n",
       "4  0.804953  0.146512  "
      ]
     },
     "execution_count": 3,
     "metadata": {},
     "output_type": "execute_result"
    }
   ],
   "source": [
    "sim = Simulation(n=100, swap_after=50, variance = 0.1, bad = 2)\n",
    "sim.get().head()"
   ]
  },
  {
   "cell_type": "code",
   "execution_count": 4,
   "metadata": {},
   "outputs": [
    {
     "data": {
      "application/vnd.jupyter.widget-view+json": {
       "model_id": "983eb5e0be284a8497cbf662c4a240b4",
       "version_major": 2,
       "version_minor": 0
      },
      "image/png": "[encoded data removed]",
      "text/plain": [
       "Canvas(toolbar=Toolbar(toolitems=[('Home', 'Reset original view', 'home', 'home'), ('Back', 'Back to previous …"
      ]
     },
     "metadata": {},
     "output_type": "display_data"
    },
    {
     "data": {
      "application/vnd.jupyter.widget-view+json": {
       "model_id": "97034c341e704440b775b32f567c5233",
       "version_major": 2,
       "version_minor": 0
      },
      "image/png": "[encoded data removed]",
      "text/plain": [
       "Canvas(toolbar=Toolbar(toolitems=[('Home', 'Reset original view', 'home', 'home'), ('Back', 'Back to previous …"
      ]
     },
     "metadata": {},
     "output_type": "display_data"
    }
   ],
   "source": [
    "Simulation(n=10000, swap_after=5000, variance = 0, bad = 2).visualize(window=50)"
   ]
  },
  {
   "cell_type": "code",
   "execution_count": 5,
   "metadata": {},
   "outputs": [
    {
     "data": {
      "text/plain": [
       "{'_label_cost': -0.19999999999999998,\n",
       " '_label_probability': 0.5,\n",
       " '_label_Action': 1,\n",
       " '_labelIndex': 0,\n",
       " 'a': [1, 2],\n",
       " 'c': {'shared': {'f': '1'},\n",
       "  '_multi': [{'a': {'f': '0', 'constant': 1},\n",
       "    'b': {'a1_bad_0': 0.4589753999954702, 'a1_bad_1': 0.17646001504350428}},\n",
       "   {'a': {'f': '1'},\n",
       "    'b': {'a2_bad_0': 0.4589753999954702, 'a2_bad_1': 0.17646001504350428}}]},\n",
       " 'p': [0.5, 0.5]}"
      ]
     },
     "execution_count": 5,
     "metadata": {},
     "output_type": "execute_result"
    }
   ],
   "source": [
    "json.loads(next(Simulation(n=10000, swap_after=5000, variance = 0, bad = 2).to_dsjson()))"
   ]
  },
  {
   "cell_type": "markdown",
   "metadata": {
    "tags": []
   },
   "source": [
    "# Interact"
   ]
  },
  {
   "cell_type": "code",
   "execution_count": 6,
   "metadata": {},
   "outputs": [
    {
     "data": {
      "application/vnd.jupyter.widget-view+json": {
       "model_id": "8b9869d7c786430d916902b2a56625a4",
       "version_major": 2,
       "version_minor": 0
      },
      "text/plain": [
       "VBox(children=(HBox(children=(IntSlider(value=10000, description='n', max=20000, min=1000, step=1000), IntSlid…"
      ]
     },
     "metadata": {},
     "output_type": "display_data"
    },
    {
     "data": {
      "application/vnd.jupyter.widget-view+json": {
       "model_id": "b76b8e8196c94026ad26bd8862fa913f",
       "version_major": 2,
       "version_minor": 0
      },
      "image/png": "[encoded data removed]",
      "text/plain": [
       "Canvas(toolbar=Toolbar(toolitems=[('Home', 'Reset original view', 'home', 'home'), ('Back', 'Back to previous …"
      ]
     },
     "metadata": {},
     "output_type": "display_data"
    }
   ],
   "source": [
    "from ipywidgets import *\n",
    "\n",
    "fig, ax = plt.subplots(2, 2, figsize=(12,7))\n",
    "\n",
    "widget = interactive(\n",
    "    generate_and_learn,\n",
    "    n=IntSlider(min=1000, max=20000, step=1000, value=10000),\n",
    "    swap_after=IntSlider(min=1000, max=20000, step=1000, value=5000),\n",
    "    variance=FloatSlider(min=0, max=2, step=0.1, value=0),\n",
    "    bad_log=IntSlider(min=0, max=10, step=1, value = 0),\n",
    "    window=IntSlider(min=1, max=1000, step=10, value = 1),\n",
    "    learning_rate=IntSlider(min=-20,max=10, step=1, value=-20),\n",
    "    coin=Checkbox(),\n",
    "    l1=IntSlider(min=-20,max=10, step=1, value=-20),\n",
    "    cb_type=['ips', 'mtr'],\n",
    "    interactions=['', '-q sa', '-q ab', '-q sb', '-q ::'],\n",
    "    ignore=['', '--ignore b'],\n",
    "    ignore_linear=['', '--ignore_linear sab'],\n",
    "    marginals=['', '--marginal a'],\n",
    "    ax=fixed(ax),\n",
    "    fig=fixed(fig))\n",
    "\n",
    "data_controls = HBox(widget.children[:4])\n",
    "visualization_controls = HBox(widget.children[4:5])\n",
    "learning_controls = HBox(widget.children[5:-5])\n",
    "extra = HBox(widget.children[-5:-1])\n",
    "output = widget.children[-1]\n",
    "display(VBox([data_controls, visualization_controls, learning_controls, extra, output]))"
   ]
  },
  {
   "cell_type": "code",
   "execution_count": null,
   "metadata": {},
   "outputs": [],
   "source": [
    "import itertools\n",
    "def powerset(iterable):\n",
    "    s = list(iterable)\n",
    "    return chain.from_iterable(itertools.combinations(s, r) for r in range(len(s)+1))\n",
    "\n",
    "from vw_executor.vw import Vw\n",
    "from vw_executor.vw_opts import product, dimension\n",
    "import pandas as pd\n",
    "\n",
    "vw = Vw('vw', '.vw_cache')\n",
    "\n",
    "step1 = pd.DataFrame(product(\n",
    "    dimension('#base', ['--cb_explore_adf -P 1000 --preserve_performance_counters --save_resume --dsjson --power_t 0']),\n",
    "    dimension('--learning_rate', [1e-6, 1e-5, 1e-4, 1e-3, 1e-2, 1e-1, 1, 10]),\n",
    "    dimension('--l1', [1e-9, 1e-6, 1e-3]),\n",
    "    dimension('--cb_type', ['ips', 'mtr']),\n",
    "    dimension('#marginal', ['', '--marginal a'])\n",
    "    ))\n",
    "\n",
    "step2 = pd.DataFrame(\n",
    "    dimension('#interactions', [f'-q {\" \".join([t[0] + t[1] for t in c])}'\n",
    "                                for c in powerset((itertools.product(['s', 'a', 'b'], ['s', 'a', 'b'])))]))\n",
    "inputs = ['small.json']\n",
    "\n",
    "\n",
    "first_step_best = vw.train(inputs, step1).sort_values('!Loss').head(1)\n",
    "second_step_best = vw.train(inputs, pd.DataFrame(product(first_step_best, step2))).sort_values('!Loss').head(1)\n",
    "third_step_best = vw.train(inputs, pd.DataFrame(product(second_step_best, step1))).sort_values('!Loss').head(1)"
   ]
  },
  {
   "cell_type": "code",
   "execution_count": null,
   "metadata": {},
   "outputs": [],
   "source": []
  }
 ],
 "metadata": {
  "interpreter": {
   "hash": "b8f4a58adc17b056f67bda23a8d2f1daa157665278cb2abc3190e1c7319c7b72"
  },
  "kernelspec": {
   "display_name": "Python 3 (ipykernel)",
   "language": "python",
   "name": "python3"
  },
  "language_info": {
   "codemirror_mode": {
    "name": "ipython",
    "version": 3
   },
   "file_extension": ".py",
   "mimetype": "text/x-python",
   "name": "python",
   "nbconvert_exporter": "python",
   "pygments_lexer": "ipython3",
   "version": "3.9.5"
  }
 },
 "nbformat": 4,
 "nbformat_minor": 4
}
