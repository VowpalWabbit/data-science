{
 "cells": [
  {
   "cell_type": "code",
   "execution_count": null,
   "metadata": {},
   "outputs": [],
   "source": [
    "from ccb.dsjson.processor import Processor\n",
    "from ccb.dsjson.predictions import Predictor\n",
    "#from azure import azure_blob_logs\n",
    "from pipeline.utils import Mapper\n",
    "from pipeline.core import MultilineFiles, PickleFiles, CsvFiles\n",
    "\n",
    "from ccb.vw.predictions import VwPredicionsFiles\n",
    "\n",
    "from pathlib import Path"
   ]
  },
  {
   "cell_type": "code",
   "execution_count": null,
   "metadata": {},
   "outputs": [],
   "source": [
    "local_data_root = Path('/Users/alextaim/data/ccb')\n",
    "vw_cache_folder = Path('/Users/alextaim/data/.vw_cache')\n",
    "\n",
    "raw_folder = local_data_root.joinpath('raw')\n",
    "slim_folder = local_data_root.joinpath('slim')\n",
    "sample_folder = local_data_root.joinpath('sample')\n",
    "predict_folder = local_data_root.joinpath('predict.pickle')\n",
    "baseline_predict_folder = local_data_root.joinpath('baseline.predict')\n",
    "baseline_estimate_folder = local_data_root.joinpath('baseline.estimate')\n",
    "baseline_old_estimate_folder = local_data_root.joinpath('baseline.old.estimate')\n",
    "cfe_estimate_folder = local_data_root.joinpath('cfe.estimate')"
   ]
  },
  {
   "cell_type": "code",
   "execution_count": null,
   "metadata": {},
   "outputs": [],
   "source": [
    "files = ['/Users/alextaim/data/ccb/raw/01.json',\n",
    "    '/Users/alextaim/data/ccb/raw/02.json']\n",
    "\n",
    "raw = MultilineFiles(files)"
   ]
  },
  {
   "cell_type": "markdown",
   "metadata": {},
   "source": [
    "# Generate predictions"
   ]
  },
  {
   "cell_type": "code",
   "execution_count": null,
   "metadata": {},
   "outputs": [],
   "source": [
    "from vw_pipeline.handlers import WidgetHandler\n",
    "from vw_pipeline.vw_cache import VwCache\n",
    "from vw_pipeline.vw import Vw\n",
    "from vw_pipeline.vw_opts import dimension, product\n",
    "import pandas as pd\n",
    "\n",
    "#your vw path\n",
    "vw_path = r'vw'\n",
    "\n",
    "cache = VwCache(vw_cache_folder)\n",
    "vw = Vw(\n",
    "    vw_path,\n",
    "    cache,\n",
    "    handlers=[WidgetHandler()],\n",
    "    )\n",
    "\n",
    "opts = pd.DataFrame(product(\n",
    "    dimension('#base', ['--ccb_explore_adf --dsjson   -P 1 --preserve_performance_counters --save_resume']),\n",
    "    dimension('#learning', ['--coin']),\n",
    "))\n",
    "preds = vw.train(files, opts, ['-p'])\n",
    "prediction_files = {preds.iloc[0]['!Job'].name: preds.iloc[0]['!Outputs']['-p']}\n",
    "prediction_files"
   ]
  },
  {
   "cell_type": "markdown",
   "metadata": {},
   "source": [
    "# Generate slim dsjson"
   ]
  },
  {
   "cell_type": "code",
   "execution_count": null,
   "metadata": {},
   "outputs": [],
   "source": [
    "from ccb.dsjson.processor import Processor\n",
    "\n",
    "processor = Processor()\n",
    "slim = MultilineFiles().init(raw.process(processor.process, path_gen=Mapper(raw_folder, slim_folder), process=True), procs=2)"
   ]
  },
  {
   "cell_type": "markdown",
   "metadata": {},
   "source": [
    "# Sample"
   ]
  },
  {
   "cell_type": "code",
   "execution_count": null,
   "metadata": {},
   "outputs": [],
   "source": [
    "\n",
    "from pipeline.filters import UniformSampler\n",
    "from ccb.dsjson.processor import Processor\n",
    "\n",
    "sampler = UniformSampler(0.5)\n",
    "processor = Processor(filters=[lambda l: sampler.do(l)])\n",
    "sample = MultilineFiles().init(raw.process(processor.process, path_gen=Mapper(raw_folder, sample_folder), process=True), procs=2)"
   ]
  },
  {
   "cell_type": "markdown",
   "metadata": {},
   "source": [
    "# Predict"
   ]
  },
  {
   "cell_type": "code",
   "execution_count": null,
   "metadata": {},
   "outputs": [],
   "source": [
    "from ccb.dsjson.predictions import Predictor\n",
    "\n",
    "predictor = Predictor(filters=[lambda l: True])\n",
    "baseline_preds = PickleFiles().init(raw.process(predictor.predict_df, path_gen=Mapper(raw_folder, baseline_predict_folder), process=True), procs=2)"
   ]
  },
  {
   "cell_type": "markdown",
   "metadata": {},
   "source": [
    "# Estimate"
   ]
  },
  {
   "cell_type": "code",
   "execution_count": null,
   "metadata": {},
   "outputs": [],
   "source": [
    "from pipeline.estimator import Estimator\n",
    "from ccb.estimators import cb_estimator\n",
    "from cb.estimators import ips_snips\n",
    "import json\n",
    "\n",
    "ips = lambda: cb_estimator(ips_snips)\n",
    "\n",
    "estimators = {\n",
    "    'baseline1_old': {'ips_snips' : ips },\n",
    "    'random': {'ips_snips': ips } }\n",
    "online_estimator = ips\n",
    "    \n",
    "estimator = Estimator(\n",
    "    estimators = estimators, \n",
    "    online_estimator = online_estimator,\n",
    "    window='1min')\n",
    "\n",
    "baseline_estimates = PickleFiles().init(\n",
    "    baseline_preds.process(\n",
    "        estimator.estimate,\n",
    "        path_gen=Mapper(baseline_predict_folder, baseline_estimate_folder),\n",
    "        process=True),\n",
    "    procs=1)\n"
   ]
  },
  {
   "cell_type": "markdown",
   "metadata": {},
   "source": [
    "# Evaluate"
   ]
  },
  {
   "cell_type": "code",
   "execution_count": null,
   "metadata": {},
   "outputs": [],
   "source": [
    "df = baseline_estimates.open().resample('2min').sum()\n",
    "df"
   ]
  },
  {
   "cell_type": "code",
   "execution_count": null,
   "metadata": {},
   "outputs": [],
   "source": [
    "first_only = lambda i,s: int(i == 0)\n",
    "df['online'] = df.apply(lambda r: r['online'].get(weights=first_only, type='ips'), axis = 1)\n",
    "#df[('random', 'l')] = df.apply(lambda r: r[\"('random', 'ips_snips')\"].get(slots=[0], type='gaussian')['l'], axis = 1)\n",
    "#df[('random', 'u')] = df.apply(lambda r: r[\"('random', 'ips_snips')\"].get(slots=[0], type='gaussian')['u'], axis = 1)\n",
    "df[('random', 'e')] = df.apply(lambda r: r[\"('random', 'ips_snips')\"].get(weights=first_only, type='ips'), axis = 1)"
   ]
  },
  {
   "cell_type": "code",
   "execution_count": null,
   "metadata": {},
   "outputs": [],
   "source": [
    "from pandas.plotting import register_matplotlib_converters\n",
    "import matplotlib.pyplot as plt\n",
    "\n",
    "\n",
    "register_matplotlib_converters()\n",
    "fig, ax = plt.subplots(dpi=100, figsize=[16, 6])\n",
    "\n",
    "ax.plot(df.index, df['online'], label='online')\n",
    "#ax.fill_between(df.index, df[('random', 'l')], df[('random', 'u')], alpha = .1)"
   ]
  },
  {
   "cell_type": "markdown",
   "metadata": {},
   "source": [
    "\n",
    "# Evaluate predictions from vw"
   ]
  },
  {
   "cell_type": "code",
   "execution_count": null,
   "metadata": {},
   "outputs": [],
   "source": [
    "policy_name = '--coin'\n",
    "coin_predictions = prediction_files[policy_name]"
   ]
  },
  {
   "cell_type": "code",
   "execution_count": null,
   "metadata": {},
   "outputs": [],
   "source": [
    "estimator = Estimator(factory = ccb.estimators.create, estimators = {policy_name: ['ccb|ips_snips|0']}, window='1min')\n",
    "coin_preestimates = PickleFiles().init(VwPredicionsFiles(coin_predictions, baseline_preds, policy_name).process(estimator.preestimate, path_gen=Mapper(vw_cache_folder, cfe_estimate_folder), process=True))"
   ]
  },
  {
   "cell_type": "code",
   "execution_count": null,
   "metadata": {},
   "outputs": [],
   "source": [
    "coin_preestimates.open().resample('2min').sum()"
   ]
  },
  {
   "cell_type": "code",
   "execution_count": null,
   "metadata": {},
   "outputs": [],
   "source": [
    "baseline_preestimates = pd.concat([estimator.read_preestimate(p) for p in preestimates])\n",
    "cfe_stats = evaluate(baseline_preestimates.resample('1min').sum())\n",
    "cfe_stats"
   ]
  },
  {
   "cell_type": "markdown",
   "metadata": {},
   "source": [
    "# Merge evaluations"
   ]
  },
  {
   "cell_type": "code",
   "execution_count": null,
   "metadata": {
    "scrolled": true
   },
   "outputs": [],
   "source": [
    "all_stats = baseline_stats.join(cfe_stats)"
   ]
  }
 ],
 "metadata": {
  "kernelspec": {
   "name": "python38564bitfd59076926044bd899f4541e1d3f6749",
   "display_name": "Python 3.8.6 64-bit"
  },
  "language_info": {
   "codemirror_mode": {
    "name": "ipython",
    "version": 3
   },
   "file_extension": ".py",
   "mimetype": "text/x-python",
   "name": "python",
   "nbconvert_exporter": "python",
   "pygments_lexer": "ipython3",
   "version": "3.8.6"
  },
  "metadata": {
   "interpreter": {
    "hash": "aee8b7b246df8f9039afb4144a1f6fd8d2ca17a180786b69acc140d282b71a49"
   }
  }
 },
 "nbformat": 4,
 "nbformat_minor": 2
}